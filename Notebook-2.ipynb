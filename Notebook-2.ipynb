{
    "metadata": {
        "kernelspec": {
            "name": "SQL",
            "display_name": "SQL",
            "language": "sql"
        },
        "language_info": {
            "name": "sql",
            "version": ""
        }
    },
    "nbformat_minor": 2,
    "nbformat": 4,
    "cells": [
        {
            "cell_type": "markdown",
            "source": [
                "Számítsa ki, hogy átlagosan hány napig tartottak a foglalások szállásonként, illetve ügyfelenként (külön<span style=\"color: #d4d4d4;\">-</span>külön)!\n",
                "\n",
                "A szállás, illetve az ügyfél esetén elég az azonosítójukat megadni."
            ],
            "metadata": {
                "azdata_cell_guid": "c6d7399b-ba85-4e5d-a21f-dde499079d3c"
            },
            "attachments": {}
        },
        {
            "cell_type": "code",
            "source": [
                "SELECT sz.szallas_fk, f.UGYFEL_FK, AVG(DATEDIFF(day, f.mettol,f.meddig))\r\n",
                " --hany napig tartott--\r\n",
                "FROM foglalas f join szoba sz on f.szoba_fk =sz.szoba_id\r\n",
                "group by -- ide kell grouping sets--\r\n",
                "GROUPING SETS(sz.szallas_fk,f.UGYFEL_FK)"
            ],
            "metadata": {
                "azdata_cell_guid": "4373cfab-6e99-434e-a177-e1c9df5d6a1b",
                "language": "sql"
            },
            "outputs": [
                {
                    "output_type": "display_data",
                    "data": {
                        "text/html": "(207 rows affected)"
                    },
                    "metadata": {}
                },
                {
                    "output_type": "display_data",
                    "data": {
                        "text/html": "Total execution time: 00:00:00.290"
                    },
                    "metadata": {}
                },
                {
                    "output_type": "execute_result",
                    "metadata": {},
                    "execution_count": 2,
                    "data": {
                        "application/vnd.dataresource+json": {
                            "schema": {
                                "fields": [
                                    {
                                        "name": "szallas_fk"
                                    },
                                    {
                                        "name": "UGYFEL_FK"
                                    },
                                    {
                                        "name": "(No column name)"
                                    }
                                ]
                            },
                            "data": [
                                {
                                    "szallas_fk": "NULL",
                                    "UGYFEL_FK": "adam1",
                                    "(No column name)": "5"
                                },
                                {
                                    "szallas_fk": "NULL",
                                    "UGYFEL_FK": "adam3",
                                    "(No column name)": "4"
                                },
                                {
                                    "szallas_fk": "NULL",
                                    "UGYFEL_FK": "adam4",
                                    "(No column name)": "4"
                                },
                                {
                                    "szallas_fk": "NULL",
                                    "UGYFEL_FK": "agnes",
                                    "(No column name)": "5"
                                },
                                {
                                    "szallas_fk": "NULL",
                                    "UGYFEL_FK": "agnes3",
                                    "(No column name)": "4"
                                },
                                {
                                    "szallas_fk": "NULL",
                                    "UGYFEL_FK": "AGNESH",
                                    "(No column name)": "4"
                                },
                                {
                                    "szallas_fk": "NULL",
                                    "UGYFEL_FK": "AGNESK",
                                    "(No column name)": "2"
                                },
                                {
                                    "szallas_fk": "NULL",
                                    "UGYFEL_FK": "akos",
                                    "(No column name)": "4"
                                },
                                {
                                    "szallas_fk": "NULL",
                                    "UGYFEL_FK": "aladar",
                                    "(No column name)": "4"
                                },
                                {
                                    "szallas_fk": "NULL",
                                    "UGYFEL_FK": "alexandra",
                                    "(No column name)": "4"
                                },
                                {
                                    "szallas_fk": "NULL",
                                    "UGYFEL_FK": "andi",
                                    "(No column name)": "3"
                                },
                                {
                                    "szallas_fk": "NULL",
                                    "UGYFEL_FK": "andras2",
                                    "(No column name)": "3"
                                },
                                {
                                    "szallas_fk": "NULL",
                                    "UGYFEL_FK": "andras21",
                                    "(No column name)": "3"
                                },
                                {
                                    "szallas_fk": "NULL",
                                    "UGYFEL_FK": "andras3",
                                    "(No column name)": "3"
                                },
                                {
                                    "szallas_fk": "NULL",
                                    "UGYFEL_FK": "andras4",
                                    "(No column name)": "2"
                                },
                                {
                                    "szallas_fk": "NULL",
                                    "UGYFEL_FK": "andras41",
                                    "(No column name)": "4"
                                },
                                {
                                    "szallas_fk": "NULL",
                                    "UGYFEL_FK": "ANDRASE",
                                    "(No column name)": "4"
                                },
                                {
                                    "szallas_fk": "NULL",
                                    "UGYFEL_FK": "ANDRASN",
                                    "(No column name)": "6"
                                },
                                {
                                    "szallas_fk": "NULL",
                                    "UGYFEL_FK": "andrea",
                                    "(No column name)": "3"
                                },
                                {
                                    "szallas_fk": "NULL",
                                    "UGYFEL_FK": "andrea3",
                                    "(No column name)": "2"
                                },
                                {
                                    "szallas_fk": "NULL",
                                    "UGYFEL_FK": "andrea4",
                                    "(No column name)": "5"
                                },
                                {
                                    "szallas_fk": "NULL",
                                    "UGYFEL_FK": "ANDREAT",
                                    "(No column name)": "3"
                                },
                                {
                                    "szallas_fk": "NULL",
                                    "UGYFEL_FK": "anett3",
                                    "(No column name)": "5"
                                },
                                {
                                    "szallas_fk": "NULL",
                                    "UGYFEL_FK": "aniko",
                                    "(No column name)": "2"
                                },
                                {
                                    "szallas_fk": "NULL",
                                    "UGYFEL_FK": "aniko4",
                                    "(No column name)": "3"
                                },
                                {
                                    "szallas_fk": "NULL",
                                    "UGYFEL_FK": "ANIKOS",
                                    "(No column name)": "5"
                                },
                                {
                                    "szallas_fk": "NULL",
                                    "UGYFEL_FK": "anita",
                                    "(No column name)": "3"
                                },
                                {
                                    "szallas_fk": "NULL",
                                    "UGYFEL_FK": "annamaria1",
                                    "(No column name)": "1"
                                },
                                {
                                    "szallas_fk": "NULL",
                                    "UGYFEL_FK": "ANNAMARIAR",
                                    "(No column name)": "2"
                                },
                                {
                                    "szallas_fk": "NULL",
                                    "UGYFEL_FK": "aron2",
                                    "(No column name)": "2"
                                },
                                {
                                    "szallas_fk": "NULL",
                                    "UGYFEL_FK": "ARONK",
                                    "(No column name)": "4"
                                },
                                {
                                    "szallas_fk": "NULL",
                                    "UGYFEL_FK": "arpad2",
                                    "(No column name)": "2"
                                },
                                {
                                    "szallas_fk": "NULL",
                                    "UGYFEL_FK": "ARPADH",
                                    "(No column name)": "4"
                                },
                                {
                                    "szallas_fk": "NULL",
                                    "UGYFEL_FK": "ARPADM",
                                    "(No column name)": "3"
                                },
                                {
                                    "szallas_fk": "NULL",
                                    "UGYFEL_FK": "attila",
                                    "(No column name)": "5"
                                },
                                {
                                    "szallas_fk": "NULL",
                                    "UGYFEL_FK": "attila1",
                                    "(No column name)": "4"
                                },
                                {
                                    "szallas_fk": "NULL",
                                    "UGYFEL_FK": "attila4",
                                    "(No column name)": "4"
                                },
                                {
                                    "szallas_fk": "NULL",
                                    "UGYFEL_FK": "ATTILAO",
                                    "(No column name)": "4"
                                },
                                {
                                    "szallas_fk": "NULL",
                                    "UGYFEL_FK": "balazs1",
                                    "(No column name)": "3"
                                },
                                {
                                    "szallas_fk": "NULL",
                                    "UGYFEL_FK": "balazs2",
                                    "(No column name)": "4"
                                },
                                {
                                    "szallas_fk": "NULL",
                                    "UGYFEL_FK": "balazs3",
                                    "(No column name)": "3"
                                },
                                {
                                    "szallas_fk": "NULL",
                                    "UGYFEL_FK": "balint",
                                    "(No column name)": "4"
                                },
                                {
                                    "szallas_fk": "NULL",
                                    "UGYFEL_FK": "balint1",
                                    "(No column name)": "3"
                                },
                                {
                                    "szallas_fk": "NULL",
                                    "UGYFEL_FK": "balint2",
                                    "(No column name)": "3"
                                },
                                {
                                    "szallas_fk": "NULL",
                                    "UGYFEL_FK": "balu",
                                    "(No column name)": "2"
                                },
                                {
                                    "szallas_fk": "NULL",
                                    "UGYFEL_FK": "beata4",
                                    "(No column name)": "2"
                                },
                                {
                                    "szallas_fk": "NULL",
                                    "UGYFEL_FK": "BEATRIXK",
                                    "(No column name)": "3"
                                },
                                {
                                    "szallas_fk": "NULL",
                                    "UGYFEL_FK": "BEATRIXS",
                                    "(No column name)": "3"
                                },
                                {
                                    "szallas_fk": "NULL",
                                    "UGYFEL_FK": "BELAF",
                                    "(No column name)": "3"
                                },
                                {
                                    "szallas_fk": "NULL",
                                    "UGYFEL_FK": "bence",
                                    "(No column name)": "3"
                                },
                                {
                                    "szallas_fk": "NULL",
                                    "UGYFEL_FK": "BENCEB",
                                    "(No column name)": "4"
                                },
                                {
                                    "szallas_fk": "NULL",
                                    "UGYFEL_FK": "bernadett1",
                                    "(No column name)": "4"
                                },
                                {
                                    "szallas_fk": "NULL",
                                    "UGYFEL_FK": "bernadett2",
                                    "(No column name)": "4"
                                },
                                {
                                    "szallas_fk": "NULL",
                                    "UGYFEL_FK": "BERNADETTO",
                                    "(No column name)": "4"
                                },
                                {
                                    "szallas_fk": "NULL",
                                    "UGYFEL_FK": "bertalan",
                                    "(No column name)": "4"
                                },
                                {
                                    "szallas_fk": "NULL",
                                    "UGYFEL_FK": "brigitta",
                                    "(No column name)": "5"
                                },
                                {
                                    "szallas_fk": "NULL",
                                    "UGYFEL_FK": "brigitta3",
                                    "(No column name)": "5"
                                },
                                {
                                    "szallas_fk": "NULL",
                                    "UGYFEL_FK": "csongor3",
                                    "(No column name)": "4"
                                },
                                {
                                    "szallas_fk": "NULL",
                                    "UGYFEL_FK": "dani",
                                    "(No column name)": "3"
                                },
                                {
                                    "szallas_fk": "NULL",
                                    "UGYFEL_FK": "daniel",
                                    "(No column name)": "2"
                                },
                                {
                                    "szallas_fk": "NULL",
                                    "UGYFEL_FK": "daniel1",
                                    "(No column name)": "3"
                                },
                                {
                                    "szallas_fk": "NULL",
                                    "UGYFEL_FK": "david",
                                    "(No column name)": "4"
                                },
                                {
                                    "szallas_fk": "NULL",
                                    "UGYFEL_FK": "david1",
                                    "(No column name)": "2"
                                },
                                {
                                    "szallas_fk": "NULL",
                                    "UGYFEL_FK": "david4",
                                    "(No column name)": "3"
                                },
                                {
                                    "szallas_fk": "NULL",
                                    "UGYFEL_FK": "debora",
                                    "(No column name)": "3"
                                },
                                {
                                    "szallas_fk": "NULL",
                                    "UGYFEL_FK": "denes",
                                    "(No column name)": "5"
                                },
                                {
                                    "szallas_fk": "NULL",
                                    "UGYFEL_FK": "dora3",
                                    "(No column name)": "4"
                                },
                                {
                                    "szallas_fk": "NULL",
                                    "UGYFEL_FK": "edit",
                                    "(No column name)": "4"
                                },
                                {
                                    "szallas_fk": "NULL",
                                    "UGYFEL_FK": "emese",
                                    "(No column name)": "2"
                                },
                                {
                                    "szallas_fk": "NULL",
                                    "UGYFEL_FK": "eszter",
                                    "(No column name)": "5"
                                },
                                {
                                    "szallas_fk": "NULL",
                                    "UGYFEL_FK": "eszter2",
                                    "(No column name)": "8"
                                },
                                {
                                    "szallas_fk": "NULL",
                                    "UGYFEL_FK": "eszter4",
                                    "(No column name)": "4"
                                },
                                {
                                    "szallas_fk": "NULL",
                                    "UGYFEL_FK": "ESZTERE",
                                    "(No column name)": "4"
                                },
                                {
                                    "szallas_fk": "NULL",
                                    "UGYFEL_FK": "eva",
                                    "(No column name)": "2"
                                },
                                {
                                    "szallas_fk": "NULL",
                                    "UGYFEL_FK": "eva2",
                                    "(No column name)": "4"
                                },
                                {
                                    "szallas_fk": "NULL",
                                    "UGYFEL_FK": "EVAV",
                                    "(No column name)": "5"
                                },
                                {
                                    "szallas_fk": "NULL",
                                    "UGYFEL_FK": "ferenc1",
                                    "(No column name)": "2"
                                },
                                {
                                    "szallas_fk": "NULL",
                                    "UGYFEL_FK": "fruzsina4",
                                    "(No column name)": "3"
                                },
                                {
                                    "szallas_fk": "NULL",
                                    "UGYFEL_FK": "gabor1",
                                    "(No column name)": "2"
                                },
                                {
                                    "szallas_fk": "NULL",
                                    "UGYFEL_FK": "gabor4",
                                    "(No column name)": "5"
                                },
                                {
                                    "szallas_fk": "NULL",
                                    "UGYFEL_FK": "gabriella1",
                                    "(No column name)": "4"
                                },
                                {
                                    "szallas_fk": "NULL",
                                    "UGYFEL_FK": "gabriella10",
                                    "(No column name)": "5"
                                },
                                {
                                    "szallas_fk": "NULL",
                                    "UGYFEL_FK": "georgij",
                                    "(No column name)": "5"
                                },
                                {
                                    "szallas_fk": "NULL",
                                    "UGYFEL_FK": "gusztav",
                                    "(No column name)": "5"
                                },
                                {
                                    "szallas_fk": "NULL",
                                    "UGYFEL_FK": "GYONGYIK",
                                    "(No column name)": "5"
                                },
                                {
                                    "szallas_fk": "NULL",
                                    "UGYFEL_FK": "GYORGYO",
                                    "(No column name)": "3"
                                },
                                {
                                    "szallas_fk": "NULL",
                                    "UGYFEL_FK": "henrik3",
                                    "(No column name)": "3"
                                },
                                {
                                    "szallas_fk": "NULL",
                                    "UGYFEL_FK": "IBOLYAA",
                                    "(No column name)": "4"
                                },
                                {
                                    "szallas_fk": "NULL",
                                    "UGYFEL_FK": "ilona3",
                                    "(No column name)": "4"
                                },
                                {
                                    "szallas_fk": "NULL",
                                    "UGYFEL_FK": "imre",
                                    "(No column name)": "1"
                                },
                                {
                                    "szallas_fk": "NULL",
                                    "UGYFEL_FK": "imre1",
                                    "(No column name)": "2"
                                },
                                {
                                    "szallas_fk": "NULL",
                                    "UGYFEL_FK": "istvan",
                                    "(No column name)": "2"
                                },
                                {
                                    "szallas_fk": "NULL",
                                    "UGYFEL_FK": "istvan1",
                                    "(No column name)": "4"
                                },
                                {
                                    "szallas_fk": "NULL",
                                    "UGYFEL_FK": "ISTVANV",
                                    "(No column name)": "2"
                                },
                                {
                                    "szallas_fk": "NULL",
                                    "UGYFEL_FK": "janos3",
                                    "(No column name)": "2"
                                },
                                {
                                    "szallas_fk": "NULL",
                                    "UGYFEL_FK": "JANOSG",
                                    "(No column name)": "5"
                                },
                                {
                                    "szallas_fk": "NULL",
                                    "UGYFEL_FK": "JANOSP",
                                    "(No column name)": "4"
                                },
                                {
                                    "szallas_fk": "NULL",
                                    "UGYFEL_FK": "jozsef",
                                    "(No column name)": "3"
                                },
                                {
                                    "szallas_fk": "NULL",
                                    "UGYFEL_FK": "jozsef2",
                                    "(No column name)": "5"
                                },
                                {
                                    "szallas_fk": "NULL",
                                    "UGYFEL_FK": "JOZSEFG",
                                    "(No column name)": "4"
                                },
                                {
                                    "szallas_fk": "NULL",
                                    "UGYFEL_FK": "JUDITH",
                                    "(No column name)": "4"
                                },
                                {
                                    "szallas_fk": "NULL",
                                    "UGYFEL_FK": "julia",
                                    "(No column name)": "4"
                                },
                                {
                                    "szallas_fk": "NULL",
                                    "UGYFEL_FK": "julia4",
                                    "(No column name)": "6"
                                },
                                {
                                    "szallas_fk": "NULL",
                                    "UGYFEL_FK": "julianna4",
                                    "(No column name)": "4"
                                },
                                {
                                    "szallas_fk": "NULL",
                                    "UGYFEL_FK": "kata",
                                    "(No column name)": "3"
                                },
                                {
                                    "szallas_fk": "NULL",
                                    "UGYFEL_FK": "katalin",
                                    "(No column name)": "4"
                                },
                                {
                                    "szallas_fk": "NULL",
                                    "UGYFEL_FK": "katalin4",
                                    "(No column name)": "4"
                                },
                                {
                                    "szallas_fk": "NULL",
                                    "UGYFEL_FK": "kati",
                                    "(No column name)": "4"
                                },
                                {
                                    "szallas_fk": "NULL",
                                    "UGYFEL_FK": "katka",
                                    "(No column name)": "3"
                                },
                                {
                                    "szallas_fk": "NULL",
                                    "UGYFEL_FK": "klaudia2",
                                    "(No column name)": "2"
                                },
                                {
                                    "szallas_fk": "NULL",
                                    "UGYFEL_FK": "kornel4",
                                    "(No column name)": "4"
                                },
                                {
                                    "szallas_fk": "NULL",
                                    "UGYFEL_FK": "kristof4",
                                    "(No column name)": "5"
                                },
                                {
                                    "szallas_fk": "NULL",
                                    "UGYFEL_FK": "kriszti",
                                    "(No column name)": "3"
                                },
                                {
                                    "szallas_fk": "NULL",
                                    "UGYFEL_FK": "krisztian4",
                                    "(No column name)": "4"
                                },
                                {
                                    "szallas_fk": "NULL",
                                    "UGYFEL_FK": "KRISZTIANM",
                                    "(No column name)": "5"
                                },
                                {
                                    "szallas_fk": "NULL",
                                    "UGYFEL_FK": "krisztina",
                                    "(No column name)": "4"
                                },
                                {
                                    "szallas_fk": "NULL",
                                    "UGYFEL_FK": "krisztina1",
                                    "(No column name)": "3"
                                },
                                {
                                    "szallas_fk": "NULL",
                                    "UGYFEL_FK": "KRISZTINAG",
                                    "(No column name)": "4"
                                },
                                {
                                    "szallas_fk": "NULL",
                                    "UGYFEL_FK": "lajos",
                                    "(No column name)": "2"
                                },
                                {
                                    "szallas_fk": "NULL",
                                    "UGYFEL_FK": "lala",
                                    "(No column name)": "2"
                                },
                                {
                                    "szallas_fk": "NULL",
                                    "UGYFEL_FK": "laszlo1",
                                    "(No column name)": "7"
                                },
                                {
                                    "szallas_fk": "NULL",
                                    "UGYFEL_FK": "laszlo2",
                                    "(No column name)": "2"
                                },
                                {
                                    "szallas_fk": "NULL",
                                    "UGYFEL_FK": "LASZLOA",
                                    "(No column name)": "4"
                                },
                                {
                                    "szallas_fk": "NULL",
                                    "UGYFEL_FK": "LASZLON",
                                    "(No column name)": "4"
                                },
                                {
                                    "szallas_fk": "NULL",
                                    "UGYFEL_FK": "maria1",
                                    "(No column name)": "4"
                                },
                                {
                                    "szallas_fk": "NULL",
                                    "UGYFEL_FK": "mark",
                                    "(No column name)": "5"
                                },
                                {
                                    "szallas_fk": "NULL",
                                    "UGYFEL_FK": "MARKH",
                                    "(No column name)": "5"
                                },
                                {
                                    "szallas_fk": "NULL",
                                    "UGYFEL_FK": "marton",
                                    "(No column name)": "4"
                                },
                                {
                                    "szallas_fk": "NULL",
                                    "UGYFEL_FK": "MATEK",
                                    "(No column name)": "4"
                                },
                                {
                                    "szallas_fk": "NULL",
                                    "UGYFEL_FK": "matyas2",
                                    "(No column name)": "3"
                                },
                                {
                                    "szallas_fk": "NULL",
                                    "UGYFEL_FK": "MATYASS",
                                    "(No column name)": "5"
                                },
                                {
                                    "szallas_fk": "NULL",
                                    "UGYFEL_FK": "MIHALYJ",
                                    "(No column name)": "4"
                                },
                                {
                                    "szallas_fk": "NULL",
                                    "UGYFEL_FK": "miklos2",
                                    "(No column name)": "1"
                                },
                                {
                                    "szallas_fk": "NULL",
                                    "UGYFEL_FK": "MIKLOSB",
                                    "(No column name)": "4"
                                },
                                {
                                    "szallas_fk": "NULL",
                                    "UGYFEL_FK": "MONIKAM",
                                    "(No column name)": "4"
                                },
                                {
                                    "szallas_fk": "NULL",
                                    "UGYFEL_FK": "NANDORF",
                                    "(No column name)": "2"
                                },
                                {
                                    "szallas_fk": "NULL",
                                    "UGYFEL_FK": "nikolett3",
                                    "(No column name)": "5"
                                },
                                {
                                    "szallas_fk": "NULL",
                                    "UGYFEL_FK": "nikoletta4",
                                    "(No column name)": "4"
                                },
                                {
                                    "szallas_fk": "NULL",
                                    "UGYFEL_FK": "NIKOLETTAT",
                                    "(No column name)": "2"
                                },
                                {
                                    "szallas_fk": "NULL",
                                    "UGYFEL_FK": "norbert",
                                    "(No column name)": "4"
                                },
                                {
                                    "szallas_fk": "NULL",
                                    "UGYFEL_FK": "norbert2",
                                    "(No column name)": "4"
                                },
                                {
                                    "szallas_fk": "NULL",
                                    "UGYFEL_FK": "norbert4",
                                    "(No column name)": "3"
                                },
                                {
                                    "szallas_fk": "NULL",
                                    "UGYFEL_FK": "norbert5",
                                    "(No column name)": "2"
                                },
                                {
                                    "szallas_fk": "NULL",
                                    "UGYFEL_FK": "pal",
                                    "(No column name)": "4"
                                },
                                {
                                    "szallas_fk": "NULL",
                                    "UGYFEL_FK": "peter1",
                                    "(No column name)": "4"
                                },
                                {
                                    "szallas_fk": "NULL",
                                    "UGYFEL_FK": "peter2",
                                    "(No column name)": "4"
                                },
                                {
                                    "szallas_fk": "NULL",
                                    "UGYFEL_FK": "peter3",
                                    "(No column name)": "4"
                                },
                                {
                                    "szallas_fk": "NULL",
                                    "UGYFEL_FK": "peter4",
                                    "(No column name)": "4"
                                },
                                {
                                    "szallas_fk": "NULL",
                                    "UGYFEL_FK": "PETERB",
                                    "(No column name)": "3"
                                },
                                {
                                    "szallas_fk": "NULL",
                                    "UGYFEL_FK": "polla",
                                    "(No column name)": "4"
                                },
                                {
                                    "szallas_fk": "NULL",
                                    "UGYFEL_FK": "rajmond4",
                                    "(No column name)": "2"
                                },
                                {
                                    "szallas_fk": "NULL",
                                    "UGYFEL_FK": "reka4",
                                    "(No column name)": "4"
                                },
                                {
                                    "szallas_fk": "NULL",
                                    "UGYFEL_FK": "RENATAK",
                                    "(No column name)": "3"
                                },
                                {
                                    "szallas_fk": "NULL",
                                    "UGYFEL_FK": "RENATAS",
                                    "(No column name)": "5"
                                },
                                {
                                    "szallas_fk": "NULL",
                                    "UGYFEL_FK": "robert2",
                                    "(No column name)": "5"
                                },
                                {
                                    "szallas_fk": "NULL",
                                    "UGYFEL_FK": "ROBERTI",
                                    "(No column name)": "4"
                                },
                                {
                                    "szallas_fk": "NULL",
                                    "UGYFEL_FK": "ROBERTP",
                                    "(No column name)": "4"
                                },
                                {
                                    "szallas_fk": "NULL",
                                    "UGYFEL_FK": "roland",
                                    "(No column name)": "2"
                                },
                                {
                                    "szallas_fk": "NULL",
                                    "UGYFEL_FK": "roland1",
                                    "(No column name)": "4"
                                },
                                {
                                    "szallas_fk": "NULL",
                                    "UGYFEL_FK": "roza2",
                                    "(No column name)": "4"
                                },
                                {
                                    "szallas_fk": "NULL",
                                    "UGYFEL_FK": "sandor",
                                    "(No column name)": "5"
                                },
                                {
                                    "szallas_fk": "NULL",
                                    "UGYFEL_FK": "sandor3",
                                    "(No column name)": "4"
                                },
                                {
                                    "szallas_fk": "NULL",
                                    "UGYFEL_FK": "sandor4",
                                    "(No column name)": "4"
                                },
                                {
                                    "szallas_fk": "NULL",
                                    "UGYFEL_FK": "sara",
                                    "(No column name)": "3"
                                },
                                {
                                    "szallas_fk": "NULL",
                                    "UGYFEL_FK": "SEBASTIANF",
                                    "(No column name)": "4"
                                },
                                {
                                    "szallas_fk": "NULL",
                                    "UGYFEL_FK": "sebestyen",
                                    "(No column name)": "5"
                                },
                                {
                                    "szallas_fk": "NULL",
                                    "UGYFEL_FK": "szabolcs",
                                    "(No column name)": "2"
                                },
                                {
                                    "szallas_fk": "NULL",
                                    "UGYFEL_FK": "SZABOLCSM",
                                    "(No column name)": "2"
                                },
                                {
                                    "szallas_fk": "NULL",
                                    "UGYFEL_FK": "SZILARDS",
                                    "(No column name)": "5"
                                },
                                {
                                    "szallas_fk": "NULL",
                                    "UGYFEL_FK": "szilvia1",
                                    "(No column name)": "4"
                                },
                                {
                                    "szallas_fk": "NULL",
                                    "UGYFEL_FK": "tamara2",
                                    "(No column name)": "3"
                                },
                                {
                                    "szallas_fk": "NULL",
                                    "UGYFEL_FK": "tamas",
                                    "(No column name)": "5"
                                },
                                {
                                    "szallas_fk": "NULL",
                                    "UGYFEL_FK": "TAMASF",
                                    "(No column name)": "4"
                                },
                                {
                                    "szallas_fk": "NULL",
                                    "UGYFEL_FK": "tibor",
                                    "(No column name)": "4"
                                },
                                {
                                    "szallas_fk": "NULL",
                                    "UGYFEL_FK": "tibor2",
                                    "(No column name)": "5"
                                },
                                {
                                    "szallas_fk": "NULL",
                                    "UGYFEL_FK": "tihamer",
                                    "(No column name)": "4"
                                },
                                {
                                    "szallas_fk": "NULL",
                                    "UGYFEL_FK": "timea",
                                    "(No column name)": "1"
                                },
                                {
                                    "szallas_fk": "NULL",
                                    "UGYFEL_FK": "timea2",
                                    "(No column name)": "2"
                                },
                                {
                                    "szallas_fk": "NULL",
                                    "UGYFEL_FK": "tunde",
                                    "(No column name)": "4"
                                },
                                {
                                    "szallas_fk": "NULL",
                                    "UGYFEL_FK": "valentin",
                                    "(No column name)": "5"
                                },
                                {
                                    "szallas_fk": "NULL",
                                    "UGYFEL_FK": "veronika4",
                                    "(No column name)": "5"
                                },
                                {
                                    "szallas_fk": "NULL",
                                    "UGYFEL_FK": "VIKTORIAU",
                                    "(No column name)": "3"
                                },
                                {
                                    "szallas_fk": "NULL",
                                    "UGYFEL_FK": "VIKTORK",
                                    "(No column name)": "1"
                                },
                                {
                                    "szallas_fk": "NULL",
                                    "UGYFEL_FK": "vivien3",
                                    "(No column name)": "3"
                                },
                                {
                                    "szallas_fk": "NULL",
                                    "UGYFEL_FK": "zoltan",
                                    "(No column name)": "5"
                                },
                                {
                                    "szallas_fk": "NULL",
                                    "UGYFEL_FK": "zoltan4",
                                    "(No column name)": "4"
                                },
                                {
                                    "szallas_fk": "NULL",
                                    "UGYFEL_FK": "ZOLTANP",
                                    "(No column name)": "3"
                                },
                                {
                                    "szallas_fk": "NULL",
                                    "UGYFEL_FK": "ZOLTANT",
                                    "(No column name)": "2"
                                },
                                {
                                    "szallas_fk": "NULL",
                                    "UGYFEL_FK": "zsofi1",
                                    "(No column name)": "1"
                                },
                                {
                                    "szallas_fk": "NULL",
                                    "UGYFEL_FK": "zsolt1",
                                    "(No column name)": "2"
                                },
                                {
                                    "szallas_fk": "NULL",
                                    "UGYFEL_FK": "ZSOLTJ",
                                    "(No column name)": "3"
                                },
                                {
                                    "szallas_fk": "NULL",
                                    "UGYFEL_FK": "zsuzsa",
                                    "(No column name)": "3"
                                },
                                {
                                    "szallas_fk": "NULL",
                                    "UGYFEL_FK": "zsuzsa3",
                                    "(No column name)": "4"
                                },
                                {
                                    "szallas_fk": "NULL",
                                    "UGYFEL_FK": "zsuzsanna",
                                    "(No column name)": "5"
                                },
                                {
                                    "szallas_fk": "NULL",
                                    "UGYFEL_FK": "ZSUZSAV",
                                    "(No column name)": "3"
                                },
                                {
                                    "szallas_fk": "9",
                                    "UGYFEL_FK": "NULL",
                                    "(No column name)": "4"
                                },
                                {
                                    "szallas_fk": "3",
                                    "UGYFEL_FK": "NULL",
                                    "(No column name)": "3"
                                },
                                {
                                    "szallas_fk": "12",
                                    "UGYFEL_FK": "NULL",
                                    "(No column name)": "4"
                                },
                                {
                                    "szallas_fk": "6",
                                    "UGYFEL_FK": "NULL",
                                    "(No column name)": "4"
                                },
                                {
                                    "szallas_fk": "7",
                                    "UGYFEL_FK": "NULL",
                                    "(No column name)": "3"
                                },
                                {
                                    "szallas_fk": "1",
                                    "UGYFEL_FK": "NULL",
                                    "(No column name)": "4"
                                },
                                {
                                    "szallas_fk": "10",
                                    "UGYFEL_FK": "NULL",
                                    "(No column name)": "3"
                                },
                                {
                                    "szallas_fk": "4",
                                    "UGYFEL_FK": "NULL",
                                    "(No column name)": "4"
                                },
                                {
                                    "szallas_fk": "5",
                                    "UGYFEL_FK": "NULL",
                                    "(No column name)": "4"
                                },
                                {
                                    "szallas_fk": "2",
                                    "UGYFEL_FK": "NULL",
                                    "(No column name)": "3"
                                },
                                {
                                    "szallas_fk": "11",
                                    "UGYFEL_FK": "NULL",
                                    "(No column name)": "3"
                                },
                                {
                                    "szallas_fk": "8",
                                    "UGYFEL_FK": "NULL",
                                    "(No column name)": "3"
                                }
                            ]
                        },
                        "text/html": [
                            "<table>",
                            "<tr><th>szallas_fk</th><th>UGYFEL_FK</th><th>(No column name)</th></tr>",
                            "<tr><td>NULL</td><td>adam1</td><td>5</td></tr>",
                            "<tr><td>NULL</td><td>adam3</td><td>4</td></tr>",
                            "<tr><td>NULL</td><td>adam4</td><td>4</td></tr>",
                            "<tr><td>NULL</td><td>agnes</td><td>5</td></tr>",
                            "<tr><td>NULL</td><td>agnes3</td><td>4</td></tr>",
                            "<tr><td>NULL</td><td>AGNESH</td><td>4</td></tr>",
                            "<tr><td>NULL</td><td>AGNESK</td><td>2</td></tr>",
                            "<tr><td>NULL</td><td>akos</td><td>4</td></tr>",
                            "<tr><td>NULL</td><td>aladar</td><td>4</td></tr>",
                            "<tr><td>NULL</td><td>alexandra</td><td>4</td></tr>",
                            "<tr><td>NULL</td><td>andi</td><td>3</td></tr>",
                            "<tr><td>NULL</td><td>andras2</td><td>3</td></tr>",
                            "<tr><td>NULL</td><td>andras21</td><td>3</td></tr>",
                            "<tr><td>NULL</td><td>andras3</td><td>3</td></tr>",
                            "<tr><td>NULL</td><td>andras4</td><td>2</td></tr>",
                            "<tr><td>NULL</td><td>andras41</td><td>4</td></tr>",
                            "<tr><td>NULL</td><td>ANDRASE</td><td>4</td></tr>",
                            "<tr><td>NULL</td><td>ANDRASN</td><td>6</td></tr>",
                            "<tr><td>NULL</td><td>andrea</td><td>3</td></tr>",
                            "<tr><td>NULL</td><td>andrea3</td><td>2</td></tr>",
                            "<tr><td>NULL</td><td>andrea4</td><td>5</td></tr>",
                            "<tr><td>NULL</td><td>ANDREAT</td><td>3</td></tr>",
                            "<tr><td>NULL</td><td>anett3</td><td>5</td></tr>",
                            "<tr><td>NULL</td><td>aniko</td><td>2</td></tr>",
                            "<tr><td>NULL</td><td>aniko4</td><td>3</td></tr>",
                            "<tr><td>NULL</td><td>ANIKOS</td><td>5</td></tr>",
                            "<tr><td>NULL</td><td>anita</td><td>3</td></tr>",
                            "<tr><td>NULL</td><td>annamaria1</td><td>1</td></tr>",
                            "<tr><td>NULL</td><td>ANNAMARIAR</td><td>2</td></tr>",
                            "<tr><td>NULL</td><td>aron2</td><td>2</td></tr>",
                            "<tr><td>NULL</td><td>ARONK</td><td>4</td></tr>",
                            "<tr><td>NULL</td><td>arpad2</td><td>2</td></tr>",
                            "<tr><td>NULL</td><td>ARPADH</td><td>4</td></tr>",
                            "<tr><td>NULL</td><td>ARPADM</td><td>3</td></tr>",
                            "<tr><td>NULL</td><td>attila</td><td>5</td></tr>",
                            "<tr><td>NULL</td><td>attila1</td><td>4</td></tr>",
                            "<tr><td>NULL</td><td>attila4</td><td>4</td></tr>",
                            "<tr><td>NULL</td><td>ATTILAO</td><td>4</td></tr>",
                            "<tr><td>NULL</td><td>balazs1</td><td>3</td></tr>",
                            "<tr><td>NULL</td><td>balazs2</td><td>4</td></tr>",
                            "<tr><td>NULL</td><td>balazs3</td><td>3</td></tr>",
                            "<tr><td>NULL</td><td>balint</td><td>4</td></tr>",
                            "<tr><td>NULL</td><td>balint1</td><td>3</td></tr>",
                            "<tr><td>NULL</td><td>balint2</td><td>3</td></tr>",
                            "<tr><td>NULL</td><td>balu</td><td>2</td></tr>",
                            "<tr><td>NULL</td><td>beata4</td><td>2</td></tr>",
                            "<tr><td>NULL</td><td>BEATRIXK</td><td>3</td></tr>",
                            "<tr><td>NULL</td><td>BEATRIXS</td><td>3</td></tr>",
                            "<tr><td>NULL</td><td>BELAF</td><td>3</td></tr>",
                            "<tr><td>NULL</td><td>bence</td><td>3</td></tr>",
                            "<tr><td>NULL</td><td>BENCEB</td><td>4</td></tr>",
                            "<tr><td>NULL</td><td>bernadett1</td><td>4</td></tr>",
                            "<tr><td>NULL</td><td>bernadett2</td><td>4</td></tr>",
                            "<tr><td>NULL</td><td>BERNADETTO</td><td>4</td></tr>",
                            "<tr><td>NULL</td><td>bertalan</td><td>4</td></tr>",
                            "<tr><td>NULL</td><td>brigitta</td><td>5</td></tr>",
                            "<tr><td>NULL</td><td>brigitta3</td><td>5</td></tr>",
                            "<tr><td>NULL</td><td>csongor3</td><td>4</td></tr>",
                            "<tr><td>NULL</td><td>dani</td><td>3</td></tr>",
                            "<tr><td>NULL</td><td>daniel</td><td>2</td></tr>",
                            "<tr><td>NULL</td><td>daniel1</td><td>3</td></tr>",
                            "<tr><td>NULL</td><td>david</td><td>4</td></tr>",
                            "<tr><td>NULL</td><td>david1</td><td>2</td></tr>",
                            "<tr><td>NULL</td><td>david4</td><td>3</td></tr>",
                            "<tr><td>NULL</td><td>debora</td><td>3</td></tr>",
                            "<tr><td>NULL</td><td>denes</td><td>5</td></tr>",
                            "<tr><td>NULL</td><td>dora3</td><td>4</td></tr>",
                            "<tr><td>NULL</td><td>edit</td><td>4</td></tr>",
                            "<tr><td>NULL</td><td>emese</td><td>2</td></tr>",
                            "<tr><td>NULL</td><td>eszter</td><td>5</td></tr>",
                            "<tr><td>NULL</td><td>eszter2</td><td>8</td></tr>",
                            "<tr><td>NULL</td><td>eszter4</td><td>4</td></tr>",
                            "<tr><td>NULL</td><td>ESZTERE</td><td>4</td></tr>",
                            "<tr><td>NULL</td><td>eva</td><td>2</td></tr>",
                            "<tr><td>NULL</td><td>eva2</td><td>4</td></tr>",
                            "<tr><td>NULL</td><td>EVAV</td><td>5</td></tr>",
                            "<tr><td>NULL</td><td>ferenc1</td><td>2</td></tr>",
                            "<tr><td>NULL</td><td>fruzsina4</td><td>3</td></tr>",
                            "<tr><td>NULL</td><td>gabor1</td><td>2</td></tr>",
                            "<tr><td>NULL</td><td>gabor4</td><td>5</td></tr>",
                            "<tr><td>NULL</td><td>gabriella1</td><td>4</td></tr>",
                            "<tr><td>NULL</td><td>gabriella10</td><td>5</td></tr>",
                            "<tr><td>NULL</td><td>georgij</td><td>5</td></tr>",
                            "<tr><td>NULL</td><td>gusztav</td><td>5</td></tr>",
                            "<tr><td>NULL</td><td>GYONGYIK</td><td>5</td></tr>",
                            "<tr><td>NULL</td><td>GYORGYO</td><td>3</td></tr>",
                            "<tr><td>NULL</td><td>henrik3</td><td>3</td></tr>",
                            "<tr><td>NULL</td><td>IBOLYAA</td><td>4</td></tr>",
                            "<tr><td>NULL</td><td>ilona3</td><td>4</td></tr>",
                            "<tr><td>NULL</td><td>imre</td><td>1</td></tr>",
                            "<tr><td>NULL</td><td>imre1</td><td>2</td></tr>",
                            "<tr><td>NULL</td><td>istvan</td><td>2</td></tr>",
                            "<tr><td>NULL</td><td>istvan1</td><td>4</td></tr>",
                            "<tr><td>NULL</td><td>ISTVANV</td><td>2</td></tr>",
                            "<tr><td>NULL</td><td>janos3</td><td>2</td></tr>",
                            "<tr><td>NULL</td><td>JANOSG</td><td>5</td></tr>",
                            "<tr><td>NULL</td><td>JANOSP</td><td>4</td></tr>",
                            "<tr><td>NULL</td><td>jozsef</td><td>3</td></tr>",
                            "<tr><td>NULL</td><td>jozsef2</td><td>5</td></tr>",
                            "<tr><td>NULL</td><td>JOZSEFG</td><td>4</td></tr>",
                            "<tr><td>NULL</td><td>JUDITH</td><td>4</td></tr>",
                            "<tr><td>NULL</td><td>julia</td><td>4</td></tr>",
                            "<tr><td>NULL</td><td>julia4</td><td>6</td></tr>",
                            "<tr><td>NULL</td><td>julianna4</td><td>4</td></tr>",
                            "<tr><td>NULL</td><td>kata</td><td>3</td></tr>",
                            "<tr><td>NULL</td><td>katalin</td><td>4</td></tr>",
                            "<tr><td>NULL</td><td>katalin4</td><td>4</td></tr>",
                            "<tr><td>NULL</td><td>kati</td><td>4</td></tr>",
                            "<tr><td>NULL</td><td>katka</td><td>3</td></tr>",
                            "<tr><td>NULL</td><td>klaudia2</td><td>2</td></tr>",
                            "<tr><td>NULL</td><td>kornel4</td><td>4</td></tr>",
                            "<tr><td>NULL</td><td>kristof4</td><td>5</td></tr>",
                            "<tr><td>NULL</td><td>kriszti</td><td>3</td></tr>",
                            "<tr><td>NULL</td><td>krisztian4</td><td>4</td></tr>",
                            "<tr><td>NULL</td><td>KRISZTIANM</td><td>5</td></tr>",
                            "<tr><td>NULL</td><td>krisztina</td><td>4</td></tr>",
                            "<tr><td>NULL</td><td>krisztina1</td><td>3</td></tr>",
                            "<tr><td>NULL</td><td>KRISZTINAG</td><td>4</td></tr>",
                            "<tr><td>NULL</td><td>lajos</td><td>2</td></tr>",
                            "<tr><td>NULL</td><td>lala</td><td>2</td></tr>",
                            "<tr><td>NULL</td><td>laszlo1</td><td>7</td></tr>",
                            "<tr><td>NULL</td><td>laszlo2</td><td>2</td></tr>",
                            "<tr><td>NULL</td><td>LASZLOA</td><td>4</td></tr>",
                            "<tr><td>NULL</td><td>LASZLON</td><td>4</td></tr>",
                            "<tr><td>NULL</td><td>maria1</td><td>4</td></tr>",
                            "<tr><td>NULL</td><td>mark</td><td>5</td></tr>",
                            "<tr><td>NULL</td><td>MARKH</td><td>5</td></tr>",
                            "<tr><td>NULL</td><td>marton</td><td>4</td></tr>",
                            "<tr><td>NULL</td><td>MATEK</td><td>4</td></tr>",
                            "<tr><td>NULL</td><td>matyas2</td><td>3</td></tr>",
                            "<tr><td>NULL</td><td>MATYASS</td><td>5</td></tr>",
                            "<tr><td>NULL</td><td>MIHALYJ</td><td>4</td></tr>",
                            "<tr><td>NULL</td><td>miklos2</td><td>1</td></tr>",
                            "<tr><td>NULL</td><td>MIKLOSB</td><td>4</td></tr>",
                            "<tr><td>NULL</td><td>MONIKAM</td><td>4</td></tr>",
                            "<tr><td>NULL</td><td>NANDORF</td><td>2</td></tr>",
                            "<tr><td>NULL</td><td>nikolett3</td><td>5</td></tr>",
                            "<tr><td>NULL</td><td>nikoletta4</td><td>4</td></tr>",
                            "<tr><td>NULL</td><td>NIKOLETTAT</td><td>2</td></tr>",
                            "<tr><td>NULL</td><td>norbert</td><td>4</td></tr>",
                            "<tr><td>NULL</td><td>norbert2</td><td>4</td></tr>",
                            "<tr><td>NULL</td><td>norbert4</td><td>3</td></tr>",
                            "<tr><td>NULL</td><td>norbert5</td><td>2</td></tr>",
                            "<tr><td>NULL</td><td>pal</td><td>4</td></tr>",
                            "<tr><td>NULL</td><td>peter1</td><td>4</td></tr>",
                            "<tr><td>NULL</td><td>peter2</td><td>4</td></tr>",
                            "<tr><td>NULL</td><td>peter3</td><td>4</td></tr>",
                            "<tr><td>NULL</td><td>peter4</td><td>4</td></tr>",
                            "<tr><td>NULL</td><td>PETERB</td><td>3</td></tr>",
                            "<tr><td>NULL</td><td>polla</td><td>4</td></tr>",
                            "<tr><td>NULL</td><td>rajmond4</td><td>2</td></tr>",
                            "<tr><td>NULL</td><td>reka4</td><td>4</td></tr>",
                            "<tr><td>NULL</td><td>RENATAK</td><td>3</td></tr>",
                            "<tr><td>NULL</td><td>RENATAS</td><td>5</td></tr>",
                            "<tr><td>NULL</td><td>robert2</td><td>5</td></tr>",
                            "<tr><td>NULL</td><td>ROBERTI</td><td>4</td></tr>",
                            "<tr><td>NULL</td><td>ROBERTP</td><td>4</td></tr>",
                            "<tr><td>NULL</td><td>roland</td><td>2</td></tr>",
                            "<tr><td>NULL</td><td>roland1</td><td>4</td></tr>",
                            "<tr><td>NULL</td><td>roza2</td><td>4</td></tr>",
                            "<tr><td>NULL</td><td>sandor</td><td>5</td></tr>",
                            "<tr><td>NULL</td><td>sandor3</td><td>4</td></tr>",
                            "<tr><td>NULL</td><td>sandor4</td><td>4</td></tr>",
                            "<tr><td>NULL</td><td>sara</td><td>3</td></tr>",
                            "<tr><td>NULL</td><td>SEBASTIANF</td><td>4</td></tr>",
                            "<tr><td>NULL</td><td>sebestyen</td><td>5</td></tr>",
                            "<tr><td>NULL</td><td>szabolcs</td><td>2</td></tr>",
                            "<tr><td>NULL</td><td>SZABOLCSM</td><td>2</td></tr>",
                            "<tr><td>NULL</td><td>SZILARDS</td><td>5</td></tr>",
                            "<tr><td>NULL</td><td>szilvia1</td><td>4</td></tr>",
                            "<tr><td>NULL</td><td>tamara2</td><td>3</td></tr>",
                            "<tr><td>NULL</td><td>tamas</td><td>5</td></tr>",
                            "<tr><td>NULL</td><td>TAMASF</td><td>4</td></tr>",
                            "<tr><td>NULL</td><td>tibor</td><td>4</td></tr>",
                            "<tr><td>NULL</td><td>tibor2</td><td>5</td></tr>",
                            "<tr><td>NULL</td><td>tihamer</td><td>4</td></tr>",
                            "<tr><td>NULL</td><td>timea</td><td>1</td></tr>",
                            "<tr><td>NULL</td><td>timea2</td><td>2</td></tr>",
                            "<tr><td>NULL</td><td>tunde</td><td>4</td></tr>",
                            "<tr><td>NULL</td><td>valentin</td><td>5</td></tr>",
                            "<tr><td>NULL</td><td>veronika4</td><td>5</td></tr>",
                            "<tr><td>NULL</td><td>VIKTORIAU</td><td>3</td></tr>",
                            "<tr><td>NULL</td><td>VIKTORK</td><td>1</td></tr>",
                            "<tr><td>NULL</td><td>vivien3</td><td>3</td></tr>",
                            "<tr><td>NULL</td><td>zoltan</td><td>5</td></tr>",
                            "<tr><td>NULL</td><td>zoltan4</td><td>4</td></tr>",
                            "<tr><td>NULL</td><td>ZOLTANP</td><td>3</td></tr>",
                            "<tr><td>NULL</td><td>ZOLTANT</td><td>2</td></tr>",
                            "<tr><td>NULL</td><td>zsofi1</td><td>1</td></tr>",
                            "<tr><td>NULL</td><td>zsolt1</td><td>2</td></tr>",
                            "<tr><td>NULL</td><td>ZSOLTJ</td><td>3</td></tr>",
                            "<tr><td>NULL</td><td>zsuzsa</td><td>3</td></tr>",
                            "<tr><td>NULL</td><td>zsuzsa3</td><td>4</td></tr>",
                            "<tr><td>NULL</td><td>zsuzsanna</td><td>5</td></tr>",
                            "<tr><td>NULL</td><td>ZSUZSAV</td><td>3</td></tr>",
                            "<tr><td>9</td><td>NULL</td><td>4</td></tr>",
                            "<tr><td>3</td><td>NULL</td><td>3</td></tr>",
                            "<tr><td>12</td><td>NULL</td><td>4</td></tr>",
                            "<tr><td>6</td><td>NULL</td><td>4</td></tr>",
                            "<tr><td>7</td><td>NULL</td><td>3</td></tr>",
                            "<tr><td>1</td><td>NULL</td><td>4</td></tr>",
                            "<tr><td>10</td><td>NULL</td><td>3</td></tr>",
                            "<tr><td>4</td><td>NULL</td><td>4</td></tr>",
                            "<tr><td>5</td><td>NULL</td><td>4</td></tr>",
                            "<tr><td>2</td><td>NULL</td><td>3</td></tr>",
                            "<tr><td>11</td><td>NULL</td><td>3</td></tr>",
                            "<tr><td>8</td><td>NULL</td><td>3</td></tr>",
                            "</table>"
                        ]
                    }
                }
            ],
            "execution_count": 2
        }
    ]
}