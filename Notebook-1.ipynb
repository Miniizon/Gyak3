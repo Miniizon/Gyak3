{
    "metadata": {
        "kernelspec": {
            "name": "SQL",
            "display_name": "SQL",
            "language": "sql"
        },
        "language_info": {
            "name": "sql",
            "version": ""
        }
    },
    "nbformat_minor": 2,
    "nbformat": 4,
    "cells": [
        {
            "cell_type": "code",
            "source": [
                "Készítsünk sorszámozott listát a szálláshelyek adatairól! \r\n",
                "\r\n",
                "a. A lista legyen a szálláshely típusa szerint, azon belül hely szerint, majd a neve szerint növekvően rendezve! \r\n",
                "\r\n",
                "b. A számozás típusonként kezdődjön újra!"
            ],
            "metadata": {
                "azdata_cell_guid": "82eb2c38-6146-455b-b004-3205ee7c611c",
                "language": "sql"
            },
            "outputs": [],
            "execution_count": null
        },
        {
            "cell_type": "code",
            "source": [
                "SELECT * ,ROW_NUMBER() over (partition by tipus order BY hely, szallas_nev) FROM szallashely"
            ],
            "metadata": {
                "language": "sql",
                "azdata_cell_guid": "c596506b-b46a-413e-a693-1582e23128af"
            },
            "outputs": [
                {
                    "output_type": "display_data",
                    "data": {
                        "text/html": "(21 rows affected)"
                    },
                    "metadata": {}
                },
                {
                    "output_type": "display_data",
                    "data": {
                        "text/html": "Total execution time: 00:00:00.112"
                    },
                    "metadata": {}
                },
                {
                    "output_type": "execute_result",
                    "metadata": {},
                    "execution_count": 28,
                    "data": {
                        "application/vnd.dataresource+json": {
                            "schema": {
                                "fields": [
                                    {
                                        "name": "SZALLAS_ID"
                                    },
                                    {
                                        "name": "SZALLAS_NEV"
                                    },
                                    {
                                        "name": "HELY"
                                    },
                                    {
                                        "name": "CSILLAGOK_SZAMA"
                                    },
                                    {
                                        "name": "TIPUS"
                                    },
                                    {
                                        "name": "ROGZITETTE"
                                    },
                                    {
                                        "name": "ROGZ_IDO"
                                    },
                                    {
                                        "name": "CIM"
                                    },
                                    {
                                        "name": "(No column name)"
                                    }
                                ]
                            },
                            "data": [
                                {
                                    "SZALLAS_ID": "7",
                                    "SZALLAS_NEV": "Szieszta Apartmanház",
                                    "HELY": "Balaton-dél",
                                    "CSILLAGOK_SZAMA": "0",
                                    "TIPUS": "Apartman",
                                    "ROGZITETTE": "Mari",
                                    "ROGZ_IDO": "2016-03-11",
                                    "CIM": "8630 Balatonboglár, Dózsa György utca 108",
                                    "(No column name)": "1"
                                },
                                {
                                    "SZALLAS_ID": "18",
                                    "SZALLAS_NEV": "Fortuna Apartman",
                                    "HELY": "Dél-Somogy",
                                    "CSILLAGOK_SZAMA": "0",
                                    "TIPUS": "Apartman",
                                    "ROGZITETTE": "Béla",
                                    "ROGZ_IDO": "2016-04-07",
                                    "CIM": "7570 Barcs, Kossuth u. 13.",
                                    "(No column name)": "2"
                                },
                                {
                                    "SZALLAS_ID": "3",
                                    "SZALLAS_NEV": "Fortuna Apartman",
                                    "HELY": "Hajdúbihar megye",
                                    "CSILLAGOK_SZAMA": "0",
                                    "TIPUS": "Apartman",
                                    "ROGZITETTE": "Sára",
                                    "ROGZ_IDO": "2016-03-06",
                                    "CIM": "4200 Hajdúszoboszló, Wesselényi utca 56.",
                                    "(No column name)": "3"
                                },
                                {
                                    "SZALLAS_ID": "20",
                                    "SZALLAS_NEV": "Kollégium",
                                    "HELY": "Budapest",
                                    "CSILLAGOK_SZAMA": "0",
                                    "TIPUS": "Diákszálló",
                                    "ROGZITETTE": "Sára",
                                    "ROGZ_IDO": "2016-04-07",
                                    "CIM": "1146 Budapest, Ajtósi Dürer sor 23.",
                                    "(No column name)": "1"
                                },
                                {
                                    "SZALLAS_ID": "8",
                                    "SZALLAS_NEV": "Hotel Három Hattyú",
                                    "HELY": "Balaton-dél",
                                    "CSILLAGOK_SZAMA": "4",
                                    "TIPUS": "Hotel",
                                    "ROGZITETTE": "Béla",
                                    "ROGZ_IDO": "2016-03-13",
                                    "CIM": "8623 Balatonföldvár, Rákóczi Ferenc út 45.",
                                    "(No column name)": "1"
                                },
                                {
                                    "SZALLAS_ID": "6",
                                    "SZALLAS_NEV": "Kentaur Hotel",
                                    "HELY": "Balaton-dél",
                                    "CSILLAGOK_SZAMA": "3",
                                    "TIPUS": "Hotel",
                                    "ROGZITETTE": "Béla",
                                    "ROGZ_IDO": "2016-03-08",
                                    "CIM": "8600 Siófok (Széplak), Akácfa utca 1",
                                    "(No column name)": "2"
                                },
                                {
                                    "SZALLAS_ID": "12",
                                    "SZALLAS_NEV": "Gold Hotel",
                                    "HELY": "Budapest",
                                    "CSILLAGOK_SZAMA": "3",
                                    "TIPUS": "Hotel",
                                    "ROGZITETTE": "Béla",
                                    "ROGZ_IDO": "2016-03-24",
                                    "CIM": "1016 Budapest, Hegyalja út 12",
                                    "(No column name)": "3"
                                },
                                {
                                    "SZALLAS_ID": "10",
                                    "SZALLAS_NEV": "Lagúna Hotel",
                                    "HELY": "Budapest",
                                    "CSILLAGOK_SZAMA": "4",
                                    "TIPUS": "Hotel",
                                    "ROGZITETTE": "Sára",
                                    "ROGZ_IDO": "2016-03-20",
                                    "CIM": "1097 Budapest, Albert Flórián út 3",
                                    "(No column name)": "4"
                                },
                                {
                                    "SZALLAS_ID": "16",
                                    "SZALLAS_NEV": "Bagoly Hotel",
                                    "HELY": "Pest megye",
                                    "CSILLAGOK_SZAMA": "3",
                                    "TIPUS": "Hotel",
                                    "ROGZITETTE": "Mari",
                                    "ROGZ_IDO": "2016-04-01",
                                    "CIM": "2230 Gyömrő, Bergszász u. 5.",
                                    "(No column name)": "5"
                                },
                                {
                                    "SZALLAS_ID": "17",
                                    "SZALLAS_NEV": "Szarvas Hotel",
                                    "HELY": "Tolna megye",
                                    "CSILLAGOK_SZAMA": "4",
                                    "TIPUS": "Hotel",
                                    "ROGZITETTE": "Béla",
                                    "ROGZ_IDO": "2016-04-04",
                                    "CIM": "7121 Szálka, Petőfi Sándor u.",
                                    "(No column name)": "6"
                                },
                                {
                                    "SZALLAS_ID": "9",
                                    "SZALLAS_NEV": "Jáde panzió",
                                    "HELY": "Balaton-dél",
                                    "CSILLAGOK_SZAMA": "3",
                                    "TIPUS": "panzió",
                                    "ROGZITETTE": "Mari",
                                    "ROGZ_IDO": "2016-03-16",
                                    "CIM": "8624 Balatonföldvár, Kiss u.2.",
                                    "(No column name)": "1"
                                },
                                {
                                    "SZALLAS_ID": "15",
                                    "SZALLAS_NEV": "Tímárház Panzió",
                                    "HELY": "Balaton-dél",
                                    "CSILLAGOK_SZAMA": "3",
                                    "TIPUS": "panzió",
                                    "ROGZITETTE": "Béla",
                                    "ROGZ_IDO": "2016-03-29",
                                    "CIM": "8600 Siófok, Virág utca 1",
                                    "(No column name)": "2"
                                },
                                {
                                    "SZALLAS_ID": "5",
                                    "SZALLAS_NEV": "Fortuna Panzió",
                                    "HELY": "Békés megye",
                                    "CSILLAGOK_SZAMA": "3",
                                    "TIPUS": "panzió",
                                    "ROGZITETTE": "Sára",
                                    "ROGZ_IDO": "2016-03-08",
                                    "CIM": "5900 Orosháza, Gyopárosfürdő Tópart utca 3.",
                                    "(No column name)": "3"
                                },
                                {
                                    "SZALLAS_ID": "4",
                                    "SZALLAS_NEV": "Fortuna panzió",
                                    "HELY": "Budapest",
                                    "CSILLAGOK_SZAMA": "3",
                                    "TIPUS": "panzió",
                                    "ROGZITETTE": "Béla",
                                    "ROGZ_IDO": "2016-03-07",
                                    "CIM": "1019 Budapest XIV. Cinkotai út 86.",
                                    "(No column name)": "4"
                                },
                                {
                                    "SZALLAS_ID": "13",
                                    "SZALLAS_NEV": "Riviéra Panzió",
                                    "HELY": "Csongrád megye",
                                    "CSILLAGOK_SZAMA": "3",
                                    "TIPUS": "panzió",
                                    "ROGZITETTE": "Sára",
                                    "ROGZ_IDO": "2016-03-27",
                                    "CIM": "6722 Szeged, Petőfi Sándor út 3.",
                                    "(No column name)": "5"
                                },
                                {
                                    "SZALLAS_ID": "2",
                                    "SZALLAS_NEV": "Családi Ház",
                                    "HELY": "Balaton-dél",
                                    "CSILLAGOK_SZAMA": "0",
                                    "TIPUS": "vendégház",
                                    "ROGZITETTE": "Béla",
                                    "ROGZ_IDO": "2016-03-02",
                                    "CIM": "8630 Balatonboglár, József Attila utca 25",
                                    "(No column name)": "1"
                                },
                                {
                                    "SZALLAS_ID": "1",
                                    "SZALLAS_NEV": "Sába-Ház",
                                    "HELY": "Balaton-dél",
                                    "CSILLAGOK_SZAMA": "0",
                                    "TIPUS": "vendégház",
                                    "ROGZITETTE": "Béla",
                                    "ROGZ_IDO": "2016-02-28",
                                    "CIM": "8630 Balatonboglár, Radnóti Miklós utca 8",
                                    "(No column name)": "2"
                                },
                                {
                                    "SZALLAS_ID": "11",
                                    "SZALLAS_NEV": "Partiszél Vendégház",
                                    "HELY": "Balaton-észak",
                                    "CSILLAGOK_SZAMA": "0",
                                    "TIPUS": "vendégház",
                                    "ROGZITETTE": "Béla",
                                    "ROGZ_IDO": "2016-03-22",
                                    "CIM": "8220 Balatonalmádi Neptun u. 23.",
                                    "(No column name)": "3"
                                },
                                {
                                    "SZALLAS_ID": "14",
                                    "SZALLAS_NEV": "Nyárfás Vendégház",
                                    "HELY": "Csongrád megye",
                                    "CSILLAGOK_SZAMA": "0",
                                    "TIPUS": "vendégház",
                                    "ROGZITETTE": "Béla",
                                    "ROGZ_IDO": "2016-03-27",
                                    "CIM": "6723 Szeged, Nagy u. 12.",
                                    "(No column name)": "4"
                                },
                                {
                                    "SZALLAS_ID": "21",
                                    "SZALLAS_NEV": "Müller Vendégház",
                                    "HELY": "Dél-Somogy",
                                    "CSILLAGOK_SZAMA": "0",
                                    "TIPUS": "vendégház",
                                    "ROGZITETTE": "Béla",
                                    "ROGZ_IDO": "2016-04-07",
                                    "CIM": "7570 Barcs, Magyar u. 10.",
                                    "(No column name)": "5"
                                },
                                {
                                    "SZALLAS_ID": "19",
                                    "SZALLAS_NEV": "Nyárfás Vendégház",
                                    "HELY": "Dél-Somogy",
                                    "CSILLAGOK_SZAMA": "0",
                                    "TIPUS": "vendégház",
                                    "ROGZITETTE": "Sára",
                                    "ROGZ_IDO": "2016-04-07",
                                    "CIM": "7570 Barcs, Bajcsy-Zs. u. 53",
                                    "(No column name)": "6"
                                }
                            ]
                        },
                        "text/html": [
                            "<table>",
                            "<tr><th>SZALLAS_ID</th><th>SZALLAS_NEV</th><th>HELY</th><th>CSILLAGOK_SZAMA</th><th>TIPUS</th><th>ROGZITETTE</th><th>ROGZ_IDO</th><th>CIM</th><th>(No column name)</th></tr>",
                            "<tr><td>7</td><td>Szieszta Apartmanház</td><td>Balaton-dél</td><td>0</td><td>Apartman</td><td>Mari</td><td>2016-03-11</td><td>8630 Balatonboglár, Dózsa György utca 108</td><td>1</td></tr>",
                            "<tr><td>18</td><td>Fortuna Apartman</td><td>Dél-Somogy</td><td>0</td><td>Apartman</td><td>Béla</td><td>2016-04-07</td><td>7570 Barcs, Kossuth u. 13.</td><td>2</td></tr>",
                            "<tr><td>3</td><td>Fortuna Apartman</td><td>Hajdúbihar megye</td><td>0</td><td>Apartman</td><td>Sára</td><td>2016-03-06</td><td>4200 Hajdúszoboszló, Wesselényi utca 56.</td><td>3</td></tr>",
                            "<tr><td>20</td><td>Kollégium</td><td>Budapest</td><td>0</td><td>Diákszálló</td><td>Sára</td><td>2016-04-07</td><td>1146 Budapest, Ajtósi Dürer sor 23.</td><td>1</td></tr>",
                            "<tr><td>8</td><td>Hotel Három Hattyú</td><td>Balaton-dél</td><td>4</td><td>Hotel</td><td>Béla</td><td>2016-03-13</td><td>8623 Balatonföldvár, Rákóczi Ferenc út 45.</td><td>1</td></tr>",
                            "<tr><td>6</td><td>Kentaur Hotel</td><td>Balaton-dél</td><td>3</td><td>Hotel</td><td>Béla</td><td>2016-03-08</td><td>8600 Siófok (Széplak), Akácfa utca 1</td><td>2</td></tr>",
                            "<tr><td>12</td><td>Gold Hotel</td><td>Budapest</td><td>3</td><td>Hotel</td><td>Béla</td><td>2016-03-24</td><td>1016 Budapest, Hegyalja út 12</td><td>3</td></tr>",
                            "<tr><td>10</td><td>Lagúna Hotel</td><td>Budapest</td><td>4</td><td>Hotel</td><td>Sára</td><td>2016-03-20</td><td>1097 Budapest, Albert Flórián út 3</td><td>4</td></tr>",
                            "<tr><td>16</td><td>Bagoly Hotel</td><td>Pest megye</td><td>3</td><td>Hotel</td><td>Mari</td><td>2016-04-01</td><td>2230 Gyömrő, Bergszász u. 5.</td><td>5</td></tr>",
                            "<tr><td>17</td><td>Szarvas Hotel</td><td>Tolna megye</td><td>4</td><td>Hotel</td><td>Béla</td><td>2016-04-04</td><td>7121 Szálka, Petőfi Sándor u.</td><td>6</td></tr>",
                            "<tr><td>9</td><td>Jáde panzió</td><td>Balaton-dél</td><td>3</td><td>panzió</td><td>Mari</td><td>2016-03-16</td><td>8624 Balatonföldvár, Kiss u.2.</td><td>1</td></tr>",
                            "<tr><td>15</td><td>Tímárház Panzió</td><td>Balaton-dél</td><td>3</td><td>panzió</td><td>Béla</td><td>2016-03-29</td><td>8600 Siófok, Virág utca 1</td><td>2</td></tr>",
                            "<tr><td>5</td><td>Fortuna Panzió</td><td>Békés megye</td><td>3</td><td>panzió</td><td>Sára</td><td>2016-03-08</td><td>5900 Orosháza, Gyopárosfürdő Tópart utca 3.</td><td>3</td></tr>",
                            "<tr><td>4</td><td>Fortuna panzió</td><td>Budapest</td><td>3</td><td>panzió</td><td>Béla</td><td>2016-03-07</td><td>1019 Budapest XIV. Cinkotai út 86.</td><td>4</td></tr>",
                            "<tr><td>13</td><td>Riviéra Panzió</td><td>Csongrád megye</td><td>3</td><td>panzió</td><td>Sára</td><td>2016-03-27</td><td>6722 Szeged, Petőfi Sándor út 3.</td><td>5</td></tr>",
                            "<tr><td>2</td><td>Családi Ház</td><td>Balaton-dél</td><td>0</td><td>vendégház</td><td>Béla</td><td>2016-03-02</td><td>8630 Balatonboglár, József Attila utca 25</td><td>1</td></tr>",
                            "<tr><td>1</td><td>Sába-Ház</td><td>Balaton-dél</td><td>0</td><td>vendégház</td><td>Béla</td><td>2016-02-28</td><td>8630 Balatonboglár, Radnóti Miklós utca 8</td><td>2</td></tr>",
                            "<tr><td>11</td><td>Partiszél Vendégház</td><td>Balaton-észak</td><td>0</td><td>vendégház</td><td>Béla</td><td>2016-03-22</td><td>8220 Balatonalmádi Neptun u. 23.</td><td>3</td></tr>",
                            "<tr><td>14</td><td>Nyárfás Vendégház</td><td>Csongrád megye</td><td>0</td><td>vendégház</td><td>Béla</td><td>2016-03-27</td><td>6723 Szeged, Nagy u. 12.</td><td>4</td></tr>",
                            "<tr><td>21</td><td>Müller Vendégház</td><td>Dél-Somogy</td><td>0</td><td>vendégház</td><td>Béla</td><td>2016-04-07</td><td>7570 Barcs, Magyar u. 10.</td><td>5</td></tr>",
                            "<tr><td>19</td><td>Nyárfás Vendégház</td><td>Dél-Somogy</td><td>0</td><td>vendégház</td><td>Sára</td><td>2016-04-07</td><td>7570 Barcs, Bajcsy-Zs. u. 53</td><td>6</td></tr>",
                            "</table>"
                        ]
                    }
                }
            ],
            "execution_count": 28
        },
        {
            "cell_type": "code",
            "source": [
                "Készítsük listát, amely megjeleníti az ügyfelek azonosítóját, nevét és a foglalásainak kezdő- és befejező dátumát, valamint azt, hogy a foglalás összesen hány főre történt! \r\n",
                "\r\n",
                "a. Egy új oszlopban jelenítsük meg azt is, hogy az ügyfél előző három foglalása összesen hány főre történt!"
            ],
            "metadata": {
                "language": "sql",
                "azdata_cell_guid": "6f00a1a0-0b2d-41e5-bc5b-4c2fda8ead72"
            },
            "outputs": [],
            "execution_count": null
        },
        {
            "cell_type": "code",
            "source": [
                "SELECT u.[LOGIN],u.NEV, f.mettol, f.meddig, f.FELNOTT_SZAM+f.GYERMEK_SZAM, \r\n",
                "    --uj oszlop elozo harom foglalas--\r\n",
                "    SUM(f.FELNOTT_SZAM+f.GYERMEK_SZAM) Over(partition by u.[LOGIN],f.mettol order by f.mettol rows between 3 preceding and 1 preceding)\r\n",
                "from Foglalas f join Ugyfel u on f.UGYFEL_FK=u.[LOGIN]"
            ],
            "metadata": {
                "language": "sql",
                "azdata_cell_guid": "7f33c6bc-1aa9-480f-ae73-caac69f75121"
            },
            "outputs": [
                {
                    "output_type": "display_data",
                    "data": {
                        "text/html": "(1027 rows affected)"
                    },
                    "metadata": {}
                },
                {
                    "output_type": "display_data",
                    "data": {
                        "text/html": "Total execution time: 00:00:00.059"
                    },
                    "metadata": {}
                },
                {
                    "output_type": "execute_result",
                    "metadata": {},
                    "execution_count": 32,
                    "data": {
                        "application/vnd.dataresource+json": {
                            "schema": {
                                "fields": [
                                    {
                                        "name": "LOGIN"
                                    },
                                    {
                                        "name": "NEV"
                                    },
                                    {
                                        "name": "mettol"
                                    },
                                    {
                                        "name": "meddig"
                                    },
                                    {
                                        "name": "(No column name)"
                                    },
                                    {
                                        "name": "(No column name)"
                                    }
                                ]
                            },
                            "data": [
                                {
                                    "LOGIN": "adam1",
                                    "NEV": "Kiss Ádám",
                                    "mettol": "2016-05-28",
                                    "meddig": "2016-06-03",
                                    "(No column name)": "NULL"
                                },
                                {
                                    "LOGIN": "adam1",
                                    "NEV": "Kiss Ádám",
                                    "mettol": "2016-08-20",
                                    "meddig": "2016-08-24",
                                    "(No column name)": "NULL"
                                },
                                {
                                    "LOGIN": "adam1",
                                    "NEV": "Kiss Ádám",
                                    "mettol": "2016-10-19",
                                    "meddig": "2016-10-24",
                                    "(No column name)": "NULL"
                                },
                                {
                                    "LOGIN": "adam3",
                                    "NEV": "Barkóci Ádám",
                                    "mettol": "2016-09-12",
                                    "meddig": "2016-09-16",
                                    "(No column name)": "NULL"
                                },
                                {
                                    "LOGIN": "adam3",
                                    "NEV": "Barkóci Ádám",
                                    "mettol": "2017-02-06",
                                    "meddig": "2017-02-10",
                                    "(No column name)": "NULL"
                                },
                                {
                                    "LOGIN": "adam4",
                                    "NEV": "Bieniek Ádám",
                                    "mettol": "2016-08-28",
                                    "meddig": "2016-08-30",
                                    "(No column name)": "NULL"
                                },
                                {
                                    "LOGIN": "adam4",
                                    "NEV": "Bieniek Ádám",
                                    "mettol": "2016-10-27",
                                    "meddig": "2016-11-02",
                                    "(No column name)": "NULL"
                                },
                                {
                                    "LOGIN": "adam4",
                                    "NEV": "Bieniek Ádám",
                                    "mettol": "2016-11-15",
                                    "meddig": "2016-11-18",
                                    "(No column name)": "NULL"
                                },
                                {
                                    "LOGIN": "adam4",
                                    "NEV": "Bieniek Ádám",
                                    "mettol": "2016-12-06",
                                    "meddig": "2016-12-09",
                                    "(No column name)": "NULL"
                                },
                                {
                                    "LOGIN": "adam4",
                                    "NEV": "Bieniek Ádám",
                                    "mettol": "2017-01-12",
                                    "meddig": "2017-01-19",
                                    "(No column name)": "NULL"
                                },
                                {
                                    "LOGIN": "adam4",
                                    "NEV": "Bieniek Ádám",
                                    "mettol": "2017-02-23",
                                    "meddig": "2017-02-27",
                                    "(No column name)": "NULL"
                                },
                                {
                                    "LOGIN": "agnes",
                                    "NEV": "Lengyel Ágnes",
                                    "mettol": "2016-05-09",
                                    "meddig": "2016-05-11",
                                    "(No column name)": "NULL"
                                },
                                {
                                    "LOGIN": "agnes",
                                    "NEV": "Lengyel Ágnes",
                                    "mettol": "2016-05-25",
                                    "meddig": "2016-05-30",
                                    "(No column name)": "NULL"
                                },
                                {
                                    "LOGIN": "agnes",
                                    "NEV": "Lengyel Ágnes",
                                    "mettol": "2016-07-13",
                                    "meddig": "2016-07-19",
                                    "(No column name)": "NULL"
                                },
                                {
                                    "LOGIN": "agnes",
                                    "NEV": "Lengyel Ágnes",
                                    "mettol": "2016-07-30",
                                    "meddig": "2016-08-06",
                                    "(No column name)": "NULL"
                                },
                                {
                                    "LOGIN": "agnes",
                                    "NEV": "Lengyel Ágnes",
                                    "mettol": "2016-11-07",
                                    "meddig": "2016-11-13",
                                    "(No column name)": "NULL"
                                },
                                {
                                    "LOGIN": "agnes3",
                                    "NEV": "Hartyánszky Ágnes",
                                    "mettol": "2016-08-04",
                                    "meddig": "2016-08-10",
                                    "(No column name)": "NULL"
                                },
                                {
                                    "LOGIN": "agnes3",
                                    "NEV": "Hartyánszky Ágnes",
                                    "mettol": "2016-10-22",
                                    "meddig": "2016-10-23",
                                    "(No column name)": "NULL"
                                },
                                {
                                    "LOGIN": "agnes3",
                                    "NEV": "Hartyánszky Ágnes",
                                    "mettol": "2017-02-16",
                                    "meddig": "2017-02-21",
                                    "(No column name)": "NULL"
                                },
                                {
                                    "LOGIN": "AGNESH",
                                    "NEV": "Horváth Ágnes",
                                    "mettol": "2016-04-10",
                                    "meddig": "2016-04-12",
                                    "(No column name)": "NULL"
                                },
                                {
                                    "LOGIN": "AGNESH",
                                    "NEV": "Horváth Ágnes",
                                    "mettol": "2016-04-27",
                                    "meddig": "2016-04-28",
                                    "(No column name)": "NULL"
                                },
                                {
                                    "LOGIN": "AGNESH",
                                    "NEV": "Horváth Ágnes",
                                    "mettol": "2016-06-23",
                                    "meddig": "2016-06-26",
                                    "(No column name)": "NULL"
                                },
                                {
                                    "LOGIN": "AGNESH",
                                    "NEV": "Horváth Ágnes",
                                    "mettol": "2016-10-30",
                                    "meddig": "2016-11-04",
                                    "(No column name)": "NULL"
                                },
                                {
                                    "LOGIN": "AGNESH",
                                    "NEV": "Horváth Ágnes",
                                    "mettol": "2017-01-03",
                                    "meddig": "2017-01-10",
                                    "(No column name)": "NULL"
                                },
                                {
                                    "LOGIN": "AGNESH",
                                    "NEV": "Horváth Ágnes",
                                    "mettol": "2017-01-16",
                                    "meddig": "2017-01-23",
                                    "(No column name)": "NULL"
                                },
                                {
                                    "LOGIN": "AGNESK",
                                    "NEV": "Kovács Ágnes",
                                    "mettol": "2016-07-29",
                                    "meddig": "2016-08-01",
                                    "(No column name)": "NULL"
                                },
                                {
                                    "LOGIN": "AGNESK",
                                    "NEV": "Kovács Ágnes",
                                    "mettol": "2016-10-17",
                                    "meddig": "2016-10-19",
                                    "(No column name)": "NULL"
                                },
                                {
                                    "LOGIN": "AGNESK",
                                    "NEV": "Kovács Ágnes",
                                    "mettol": "2016-12-17",
                                    "meddig": "2016-12-18",
                                    "(No column name)": "NULL"
                                },
                                {
                                    "LOGIN": "akos",
                                    "NEV": "Bíró Ákos",
                                    "mettol": "2016-05-18",
                                    "meddig": "2016-05-19",
                                    "(No column name)": "NULL"
                                },
                                {
                                    "LOGIN": "akos",
                                    "NEV": "Bíró Ákos",
                                    "mettol": "2016-07-14",
                                    "meddig": "2016-07-19",
                                    "(No column name)": "NULL"
                                },
                                {
                                    "LOGIN": "akos",
                                    "NEV": "Bíró Ákos",
                                    "mettol": "2016-07-16",
                                    "meddig": "2016-07-18",
                                    "(No column name)": "NULL"
                                },
                                {
                                    "LOGIN": "akos",
                                    "NEV": "Bíró Ákos",
                                    "mettol": "2016-07-22",
                                    "meddig": "2016-07-26",
                                    "(No column name)": "NULL"
                                },
                                {
                                    "LOGIN": "akos",
                                    "NEV": "Bíró Ákos",
                                    "mettol": "2016-09-06",
                                    "meddig": "2016-09-12",
                                    "(No column name)": "NULL"
                                },
                                {
                                    "LOGIN": "akos",
                                    "NEV": "Bíró Ákos",
                                    "mettol": "2016-10-05",
                                    "meddig": "2016-10-09",
                                    "(No column name)": "NULL"
                                },
                                {
                                    "LOGIN": "akos",
                                    "NEV": "Bíró Ákos",
                                    "mettol": "2016-10-18",
                                    "meddig": "2016-10-23",
                                    "(No column name)": "NULL"
                                },
                                {
                                    "LOGIN": "akos",
                                    "NEV": "Bíró Ákos",
                                    "mettol": "2016-11-21",
                                    "meddig": "2016-11-27",
                                    "(No column name)": "NULL"
                                },
                                {
                                    "LOGIN": "akos",
                                    "NEV": "Bíró Ákos",
                                    "mettol": "2016-12-15",
                                    "meddig": "2016-12-21",
                                    "(No column name)": "NULL"
                                },
                                {
                                    "LOGIN": "akos",
                                    "NEV": "Bíró Ákos",
                                    "mettol": "2016-12-29",
                                    "meddig": "2016-12-30",
                                    "(No column name)": "NULL"
                                },
                                {
                                    "LOGIN": "aladar",
                                    "NEV": "Dunai Aladár",
                                    "mettol": "2016-05-17",
                                    "meddig": "2016-05-24",
                                    "(No column name)": "NULL"
                                },
                                {
                                    "LOGIN": "aladar",
                                    "NEV": "Dunai Aladár",
                                    "mettol": "2016-09-24",
                                    "meddig": "2016-09-28",
                                    "(No column name)": "NULL"
                                },
                                {
                                    "LOGIN": "aladar",
                                    "NEV": "Dunai Aladár",
                                    "mettol": "2016-11-22",
                                    "meddig": "2016-11-23",
                                    "(No column name)": "NULL"
                                },
                                {
                                    "LOGIN": "alexandra",
                                    "NEV": "Bagóczki Alexandra",
                                    "mettol": "2016-05-21",
                                    "meddig": "2016-05-27",
                                    "(No column name)": "NULL"
                                },
                                {
                                    "LOGIN": "alexandra",
                                    "NEV": "Bagóczki Alexandra",
                                    "mettol": "2016-06-08",
                                    "meddig": "2016-06-11",
                                    "(No column name)": "NULL"
                                },
                                {
                                    "LOGIN": "alexandra",
                                    "NEV": "Bagóczki Alexandra",
                                    "mettol": "2016-07-27",
                                    "meddig": "2016-07-30",
                                    "(No column name)": "NULL"
                                },
                                {
                                    "LOGIN": "alexandra",
                                    "NEV": "Bagóczki Alexandra",
                                    "mettol": "2016-10-21",
                                    "meddig": "2016-10-25",
                                    "(No column name)": "NULL"
                                },
                                {
                                    "LOGIN": "alexandra",
                                    "NEV": "Bagóczki Alexandra",
                                    "mettol": "2016-11-29",
                                    "meddig": "2016-12-05",
                                    "(No column name)": "NULL"
                                },
                                {
                                    "LOGIN": "alexandra",
                                    "NEV": "Bagóczki Alexandra",
                                    "mettol": "2017-01-13",
                                    "meddig": "2017-01-14",
                                    "(No column name)": "NULL"
                                },
                                {
                                    "LOGIN": "alexandra",
                                    "NEV": "Bagóczki Alexandra",
                                    "mettol": "2017-01-19",
                                    "meddig": "2017-01-26",
                                    "(No column name)": "NULL"
                                },
                                {
                                    "LOGIN": "andi",
                                    "NEV": "Maródi Andrea",
                                    "mettol": "2016-05-08",
                                    "meddig": "2016-05-14",
                                    "(No column name)": "NULL"
                                },
                                {
                                    "LOGIN": "andi",
                                    "NEV": "Maródi Andrea",
                                    "mettol": "2016-06-13",
                                    "meddig": "2016-06-14",
                                    "(No column name)": "NULL"
                                },
                                {
                                    "LOGIN": "andi",
                                    "NEV": "Maródi Andrea",
                                    "mettol": "2016-09-13",
                                    "meddig": "2016-09-16",
                                    "(No column name)": "NULL"
                                },
                                {
                                    "LOGIN": "andi",
                                    "NEV": "Maródi Andrea",
                                    "mettol": "2016-11-16",
                                    "meddig": "2016-11-17",
                                    "(No column name)": "NULL"
                                },
                                {
                                    "LOGIN": "andi",
                                    "NEV": "Maródi Andrea",
                                    "mettol": "2017-01-13",
                                    "meddig": "2017-01-17",
                                    "(No column name)": "NULL"
                                },
                                {
                                    "LOGIN": "andras2",
                                    "NEV": "Tóth András",
                                    "mettol": "2016-05-30",
                                    "meddig": "2016-06-04",
                                    "(No column name)": "NULL"
                                },
                                {
                                    "LOGIN": "andras2",
                                    "NEV": "Tóth András",
                                    "mettol": "2016-07-20",
                                    "meddig": "2016-07-22",
                                    "(No column name)": "NULL"
                                },
                                {
                                    "LOGIN": "andras2",
                                    "NEV": "Tóth András",
                                    "mettol": "2016-09-30",
                                    "meddig": "2016-10-03",
                                    "(No column name)": "NULL"
                                },
                                {
                                    "LOGIN": "andras2",
                                    "NEV": "Tóth András",
                                    "mettol": "2016-10-07",
                                    "meddig": "2016-10-10",
                                    "(No column name)": "NULL"
                                },
                                {
                                    "LOGIN": "andras2",
                                    "NEV": "Tóth András",
                                    "mettol": "2017-02-08",
                                    "meddig": "2017-02-10",
                                    "(No column name)": "NULL"
                                },
                                {
                                    "LOGIN": "andras21",
                                    "NEV": "Molnár András",
                                    "mettol": "2016-06-21",
                                    "meddig": "2016-06-26",
                                    "(No column name)": "NULL"
                                },
                                {
                                    "LOGIN": "andras21",
                                    "NEV": "Molnár András",
                                    "mettol": "2016-07-04",
                                    "meddig": "2016-07-05",
                                    "(No column name)": "NULL"
                                },
                                {
                                    "LOGIN": "andras21",
                                    "NEV": "Molnár András",
                                    "mettol": "2016-07-20",
                                    "meddig": "2016-07-22",
                                    "(No column name)": "NULL"
                                },
                                {
                                    "LOGIN": "andras21",
                                    "NEV": "Molnár András",
                                    "mettol": "2016-10-01",
                                    "meddig": "2016-10-06",
                                    "(No column name)": "NULL"
                                },
                                {
                                    "LOGIN": "andras21",
                                    "NEV": "Molnár András",
                                    "mettol": "2016-10-04",
                                    "meddig": "2016-10-11",
                                    "(No column name)": "NULL"
                                },
                                {
                                    "LOGIN": "andras21",
                                    "NEV": "Molnár András",
                                    "mettol": "2016-11-23",
                                    "meddig": "2016-11-24",
                                    "(No column name)": "NULL"
                                },
                                {
                                    "LOGIN": "andras21",
                                    "NEV": "Molnár András",
                                    "mettol": "2017-01-28",
                                    "meddig": "2017-02-01",
                                    "(No column name)": "NULL"
                                },
                                {
                                    "LOGIN": "andras3",
                                    "NEV": "Vígh András",
                                    "mettol": "2016-05-01",
                                    "meddig": "2016-05-06",
                                    "(No column name)": "NULL"
                                },
                                {
                                    "LOGIN": "andras3",
                                    "NEV": "Vígh András",
                                    "mettol": "2016-05-30",
                                    "meddig": "2016-06-03",
                                    "(No column name)": "NULL"
                                },
                                {
                                    "LOGIN": "andras3",
                                    "NEV": "Vígh András",
                                    "mettol": "2016-06-10",
                                    "meddig": "2016-06-11",
                                    "(No column name)": "NULL"
                                },
                                {
                                    "LOGIN": "andras3",
                                    "NEV": "Vígh András",
                                    "mettol": "2016-07-15",
                                    "meddig": "2016-07-19",
                                    "(No column name)": "NULL"
                                },
                                {
                                    "LOGIN": "andras3",
                                    "NEV": "Vígh András",
                                    "mettol": "2016-07-21",
                                    "meddig": "2016-07-23",
                                    "(No column name)": "NULL"
                                },
                                {
                                    "LOGIN": "andras3",
                                    "NEV": "Vígh András",
                                    "mettol": "2016-08-29",
                                    "meddig": "2016-09-02",
                                    "(No column name)": "NULL"
                                },
                                {
                                    "LOGIN": "andras3",
                                    "NEV": "Vígh András",
                                    "mettol": "2016-11-28",
                                    "meddig": "2016-12-02",
                                    "(No column name)": "NULL"
                                },
                                {
                                    "LOGIN": "andras3",
                                    "NEV": "Vígh András",
                                    "mettol": "2017-02-02",
                                    "meddig": "2017-02-08",
                                    "(No column name)": "NULL"
                                },
                                {
                                    "LOGIN": "andras4",
                                    "NEV": "Back András",
                                    "mettol": "2016-09-17",
                                    "meddig": "2016-09-20",
                                    "(No column name)": "NULL"
                                },
                                {
                                    "LOGIN": "andras4",
                                    "NEV": "Back András",
                                    "mettol": "2016-11-25",
                                    "meddig": "2016-11-28",
                                    "(No column name)": "NULL"
                                },
                                {
                                    "LOGIN": "andras4",
                                    "NEV": "Back András",
                                    "mettol": "2017-01-09",
                                    "meddig": "2017-01-10",
                                    "(No column name)": "NULL"
                                },
                                {
                                    "LOGIN": "andras41",
                                    "NEV": "Komjáti András",
                                    "mettol": "2016-05-14",
                                    "meddig": "2016-05-16",
                                    "(No column name)": "NULL"
                                },
                                {
                                    "LOGIN": "andras41",
                                    "NEV": "Komjáti András",
                                    "mettol": "2016-05-21",
                                    "meddig": "2016-05-23",
                                    "(No column name)": "NULL"
                                },
                                {
                                    "LOGIN": "andras41",
                                    "NEV": "Komjáti András",
                                    "mettol": "2016-06-07",
                                    "meddig": "2016-06-11",
                                    "(No column name)": "NULL"
                                },
                                {
                                    "LOGIN": "andras41",
                                    "NEV": "Komjáti András",
                                    "mettol": "2016-06-23",
                                    "meddig": "2016-06-29",
                                    "(No column name)": "NULL"
                                },
                                {
                                    "LOGIN": "andras41",
                                    "NEV": "Komjáti András",
                                    "mettol": "2016-07-28",
                                    "meddig": "2016-08-03",
                                    "(No column name)": "NULL"
                                },
                                {
                                    "LOGIN": "andras41",
                                    "NEV": "Komjáti András",
                                    "mettol": "2016-08-17",
                                    "meddig": "2016-08-21",
                                    "(No column name)": "NULL"
                                },
                                {
                                    "LOGIN": "andras41",
                                    "NEV": "Komjáti András",
                                    "mettol": "2016-08-19",
                                    "meddig": "2016-08-23",
                                    "(No column name)": "NULL"
                                },
                                {
                                    "LOGIN": "andras41",
                                    "NEV": "Komjáti András",
                                    "mettol": "2016-09-22",
                                    "meddig": "2016-09-29",
                                    "(No column name)": "NULL"
                                },
                                {
                                    "LOGIN": "andras41",
                                    "NEV": "Komjáti András",
                                    "mettol": "2016-09-30",
                                    "meddig": "2016-10-05",
                                    "(No column name)": "NULL"
                                },
                                {
                                    "LOGIN": "andras41",
                                    "NEV": "Komjáti András",
                                    "mettol": "2016-10-09",
                                    "meddig": "2016-10-13",
                                    "(No column name)": "NULL"
                                },
                                {
                                    "LOGIN": "andras41",
                                    "NEV": "Komjáti András",
                                    "mettol": "2016-10-15",
                                    "meddig": "2016-10-18",
                                    "(No column name)": "NULL"
                                },
                                {
                                    "LOGIN": "andras41",
                                    "NEV": "Komjáti András",
                                    "mettol": "2016-11-20",
                                    "meddig": "2016-11-24",
                                    "(No column name)": "NULL"
                                },
                                {
                                    "LOGIN": "andras41",
                                    "NEV": "Komjáti András",
                                    "mettol": "2016-11-23",
                                    "meddig": "2016-11-24",
                                    "(No column name)": "NULL"
                                },
                                {
                                    "LOGIN": "ANDRASE",
                                    "NEV": "Erdei András",
                                    "mettol": "2016-04-24",
                                    "meddig": "2016-05-01",
                                    "(No column name)": "NULL"
                                },
                                {
                                    "LOGIN": "ANDRASE",
                                    "NEV": "Erdei András",
                                    "mettol": "2016-07-06",
                                    "meddig": "2016-07-07",
                                    "(No column name)": "NULL"
                                },
                                {
                                    "LOGIN": "ANDRASE",
                                    "NEV": "Erdei András",
                                    "mettol": "2016-08-16",
                                    "meddig": "2016-08-20",
                                    "(No column name)": "NULL"
                                },
                                {
                                    "LOGIN": "ANDRASE",
                                    "NEV": "Erdei András",
                                    "mettol": "2016-11-19",
                                    "meddig": "2016-11-20",
                                    "(No column name)": "NULL"
                                },
                                {
                                    "LOGIN": "ANDRASE",
                                    "NEV": "Erdei András",
                                    "mettol": "2016-11-29",
                                    "meddig": "2016-12-06",
                                    "(No column name)": "NULL"
                                },
                                {
                                    "LOGIN": "ANDRASN",
                                    "NEV": "Nagy András",
                                    "mettol": "2016-11-25",
                                    "meddig": "2016-12-01",
                                    "(No column name)": "NULL"
                                },
                                {
                                    "LOGIN": "andrea",
                                    "NEV": "Kiss Andrea",
                                    "mettol": "2016-07-27",
                                    "meddig": "2016-07-28",
                                    "(No column name)": "NULL"
                                },
                                {
                                    "LOGIN": "andrea",
                                    "NEV": "Kiss Andrea",
                                    "mettol": "2016-08-01",
                                    "meddig": "2016-08-02",
                                    "(No column name)": "NULL"
                                },
                                {
                                    "LOGIN": "andrea",
                                    "NEV": "Kiss Andrea",
                                    "mettol": "2016-08-23",
                                    "meddig": "2016-08-26",
                                    "(No column name)": "NULL"
                                },
                                {
                                    "LOGIN": "andrea",
                                    "NEV": "Kiss Andrea",
                                    "mettol": "2016-08-26",
                                    "meddig": "2016-08-30",
                                    "(No column name)": "NULL"
                                },
                                {
                                    "LOGIN": "andrea",
                                    "NEV": "Kiss Andrea",
                                    "mettol": "2016-10-21",
                                    "meddig": "2016-10-27",
                                    "(No column name)": "NULL"
                                },
                                {
                                    "LOGIN": "andrea",
                                    "NEV": "Kiss Andrea",
                                    "mettol": "2017-02-09",
                                    "meddig": "2017-02-14",
                                    "(No column name)": "NULL"
                                },
                                {
                                    "LOGIN": "andrea3",
                                    "NEV": "Szomor Andrea",
                                    "mettol": "2016-11-19",
                                    "meddig": "2016-11-21",
                                    "(No column name)": "NULL"
                                },
                                {
                                    "LOGIN": "andrea4",
                                    "NEV": "Neizer Andrea",
                                    "mettol": "2016-05-27",
                                    "meddig": "2016-05-29",
                                    "(No column name)": "NULL"
                                },
                                {
                                    "LOGIN": "andrea4",
                                    "NEV": "Neizer Andrea",
                                    "mettol": "2016-09-13",
                                    "meddig": "2016-09-17",
                                    "(No column name)": "NULL"
                                },
                                {
                                    "LOGIN": "andrea4",
                                    "NEV": "Neizer Andrea",
                                    "mettol": "2016-10-30",
                                    "meddig": "2016-11-06",
                                    "(No column name)": "NULL"
                                },
                                {
                                    "LOGIN": "andrea4",
                                    "NEV": "Neizer Andrea",
                                    "mettol": "2017-01-22",
                                    "meddig": "2017-01-29",
                                    "(No column name)": "NULL"
                                },
                                {
                                    "LOGIN": "ANDREAT",
                                    "NEV": "Tornyos Andrea",
                                    "mettol": "2016-07-27",
                                    "meddig": "2016-08-01",
                                    "(No column name)": "NULL"
                                },
                                {
                                    "LOGIN": "ANDREAT",
                                    "NEV": "Tornyos Andrea",
                                    "mettol": "2016-09-15",
                                    "meddig": "2016-09-16",
                                    "(No column name)": "NULL"
                                },
                                {
                                    "LOGIN": "ANDREAT",
                                    "NEV": "Tornyos Andrea",
                                    "mettol": "2016-10-08",
                                    "meddig": "2016-10-12",
                                    "(No column name)": "NULL"
                                },
                                {
                                    "LOGIN": "anett3",
                                    "NEV": "Pivarcsi Anett",
                                    "mettol": "2016-04-10",
                                    "meddig": "2016-04-17",
                                    "(No column name)": "NULL"
                                },
                                {
                                    "LOGIN": "anett3",
                                    "NEV": "Pivarcsi Anett",
                                    "mettol": "2016-04-13",
                                    "meddig": "2016-04-19",
                                    "(No column name)": "NULL"
                                },
                                {
                                    "LOGIN": "anett3",
                                    "NEV": "Pivarcsi Anett",
                                    "mettol": "2016-04-15",
                                    "meddig": "2016-04-19",
                                    "(No column name)": "NULL"
                                },
                                {
                                    "LOGIN": "anett3",
                                    "NEV": "Pivarcsi Anett",
                                    "mettol": "2016-04-28",
                                    "meddig": "2016-05-02",
                                    "(No column name)": "NULL"
                                },
                                {
                                    "LOGIN": "anett3",
                                    "NEV": "Pivarcsi Anett",
                                    "mettol": "2016-08-15",
                                    "meddig": "2016-08-16",
                                    "(No column name)": "NULL"
                                },
                                {
                                    "LOGIN": "anett3",
                                    "NEV": "Pivarcsi Anett",
                                    "mettol": "2016-08-17",
                                    "meddig": "2016-08-23",
                                    "(No column name)": "NULL"
                                },
                                {
                                    "LOGIN": "anett3",
                                    "NEV": "Pivarcsi Anett",
                                    "mettol": "2016-10-12",
                                    "meddig": "2016-10-19",
                                    "(No column name)": "NULL"
                                },
                                {
                                    "LOGIN": "anett3",
                                    "NEV": "Pivarcsi Anett",
                                    "mettol": "2016-10-16",
                                    "meddig": "2016-10-21",
                                    "(No column name)": "NULL"
                                },
                                {
                                    "LOGIN": "aniko",
                                    "NEV": "Tóth Anikó",
                                    "mettol": "2016-06-25",
                                    "meddig": "2016-06-30",
                                    "(No column name)": "NULL"
                                },
                                {
                                    "LOGIN": "aniko",
                                    "NEV": "Tóth Anikó",
                                    "mettol": "2017-02-12",
                                    "meddig": "2017-02-14",
                                    "(No column name)": "NULL"
                                },
                                {
                                    "LOGIN": "aniko",
                                    "NEV": "Tóth Anikó",
                                    "mettol": "2017-02-23",
                                    "meddig": "2017-02-24",
                                    "(No column name)": "NULL"
                                },
                                {
                                    "LOGIN": "aniko4",
                                    "NEV": "Böröcz Anikó",
                                    "mettol": "2016-07-02",
                                    "meddig": "2016-07-09",
                                    "(No column name)": "NULL"
                                },
                                {
                                    "LOGIN": "aniko4",
                                    "NEV": "Böröcz Anikó",
                                    "mettol": "2016-07-22",
                                    "meddig": "2016-07-25",
                                    "(No column name)": "NULL"
                                },
                                {
                                    "LOGIN": "aniko4",
                                    "NEV": "Böröcz Anikó",
                                    "mettol": "2016-09-05",
                                    "meddig": "2016-09-07",
                                    "(No column name)": "NULL"
                                },
                                {
                                    "LOGIN": "aniko4",
                                    "NEV": "Böröcz Anikó",
                                    "mettol": "2016-10-16",
                                    "meddig": "2016-10-18",
                                    "(No column name)": "NULL"
                                },
                                {
                                    "LOGIN": "ANIKOS",
                                    "NEV": "Simon Anikó",
                                    "mettol": "2016-04-19",
                                    "meddig": "2016-04-24",
                                    "(No column name)": "NULL"
                                },
                                {
                                    "LOGIN": "ANIKOS",
                                    "NEV": "Simon Anikó",
                                    "mettol": "2016-05-24",
                                    "meddig": "2016-05-25",
                                    "(No column name)": "NULL"
                                },
                                {
                                    "LOGIN": "ANIKOS",
                                    "NEV": "Simon Anikó",
                                    "mettol": "2016-06-16",
                                    "meddig": "2016-06-23",
                                    "(No column name)": "NULL"
                                },
                                {
                                    "LOGIN": "ANIKOS",
                                    "NEV": "Simon Anikó",
                                    "mettol": "2016-06-27",
                                    "meddig": "2016-06-30",
                                    "(No column name)": "NULL"
                                },
                                {
                                    "LOGIN": "ANIKOS",
                                    "NEV": "Simon Anikó",
                                    "mettol": "2016-07-17",
                                    "meddig": "2016-07-22",
                                    "(No column name)": "NULL"
                                },
                                {
                                    "LOGIN": "ANIKOS",
                                    "NEV": "Simon Anikó",
                                    "mettol": "2016-08-26",
                                    "meddig": "2016-09-02",
                                    "(No column name)": "NULL"
                                },
                                {
                                    "LOGIN": "ANIKOS",
                                    "NEV": "Simon Anikó",
                                    "mettol": "2016-10-08",
                                    "meddig": "2016-10-14",
                                    "(No column name)": "NULL"
                                },
                                {
                                    "LOGIN": "ANIKOS",
                                    "NEV": "Simon Anikó",
                                    "mettol": "2016-10-29",
                                    "meddig": "2016-11-05",
                                    "(No column name)": "NULL"
                                },
                                {
                                    "LOGIN": "ANIKOS",
                                    "NEV": "Simon Anikó",
                                    "mettol": "2016-11-10",
                                    "meddig": "2016-11-15",
                                    "(No column name)": "NULL"
                                },
                                {
                                    "LOGIN": "anita",
                                    "NEV": "Hamvay-Kovács Anita",
                                    "mettol": "2016-09-28",
                                    "meddig": "2016-10-02",
                                    "(No column name)": "NULL"
                                },
                                {
                                    "LOGIN": "anita",
                                    "NEV": "Hamvay-Kovács Anita",
                                    "mettol": "2016-10-01",
                                    "meddig": "2016-10-04",
                                    "(No column name)": "NULL"
                                },
                                {
                                    "LOGIN": "anita",
                                    "NEV": "Hamvay-Kovács Anita",
                                    "mettol": "2017-02-19",
                                    "meddig": "2017-02-22",
                                    "(No column name)": "NULL"
                                },
                                {
                                    "LOGIN": "anita",
                                    "NEV": "Hamvay-Kovács Anita",
                                    "mettol": "2017-02-20",
                                    "meddig": "2017-02-25",
                                    "(No column name)": "NULL"
                                },
                                {
                                    "LOGIN": "annamaria1",
                                    "NEV": "Szűcs Annamária",
                                    "mettol": "2016-06-06",
                                    "meddig": "2016-06-07",
                                    "(No column name)": "NULL"
                                },
                                {
                                    "LOGIN": "annamaria1",
                                    "NEV": "Szűcs Annamária",
                                    "mettol": "2017-01-30",
                                    "meddig": "2017-01-31",
                                    "(No column name)": "NULL"
                                },
                                {
                                    "LOGIN": "ANNAMARIAR",
                                    "NEV": "Regős Annamária",
                                    "mettol": "2016-06-08",
                                    "meddig": "2016-06-11",
                                    "(No column name)": "NULL"
                                },
                                {
                                    "LOGIN": "ANNAMARIAR",
                                    "NEV": "Regős Annamária",
                                    "mettol": "2016-07-18",
                                    "meddig": "2016-07-21",
                                    "(No column name)": "NULL"
                                },
                                {
                                    "LOGIN": "ANNAMARIAR",
                                    "NEV": "Regős Annamária",
                                    "mettol": "2016-09-23",
                                    "meddig": "2016-09-27",
                                    "(No column name)": "NULL"
                                },
                                {
                                    "LOGIN": "ANNAMARIAR",
                                    "NEV": "Regős Annamária",
                                    "mettol": "2016-11-11",
                                    "meddig": "2016-11-12",
                                    "(No column name)": "NULL"
                                },
                                {
                                    "LOGIN": "ANNAMARIAR",
                                    "NEV": "Regős Annamária",
                                    "mettol": "2017-01-10",
                                    "meddig": "2017-01-13",
                                    "(No column name)": "NULL"
                                },
                                {
                                    "LOGIN": "ANNAMARIAR",
                                    "NEV": "Regős Annamária",
                                    "mettol": "2017-02-16",
                                    "meddig": "2017-02-18",
                                    "(No column name)": "NULL"
                                },
                                {
                                    "LOGIN": "aron2",
                                    "NEV": "Jakab Áron",
                                    "mettol": "2016-04-11",
                                    "meddig": "2016-04-12",
                                    "(No column name)": "NULL"
                                },
                                {
                                    "LOGIN": "aron2",
                                    "NEV": "Jakab Áron",
                                    "mettol": "2016-07-04",
                                    "meddig": "2016-07-06",
                                    "(No column name)": "NULL"
                                },
                                {
                                    "LOGIN": "aron2",
                                    "NEV": "Jakab Áron",
                                    "mettol": "2016-10-23",
                                    "meddig": "2016-10-27",
                                    "(No column name)": "NULL"
                                },
                                {
                                    "LOGIN": "aron2",
                                    "NEV": "Jakab Áron",
                                    "mettol": "2016-11-05",
                                    "meddig": "2016-11-09",
                                    "(No column name)": "NULL"
                                },
                                {
                                    "LOGIN": "aron2",
                                    "NEV": "Jakab Áron",
                                    "mettol": "2017-01-17",
                                    "meddig": "2017-01-18",
                                    "(No column name)": "NULL"
                                },
                                {
                                    "LOGIN": "aron2",
                                    "NEV": "Jakab Áron",
                                    "mettol": "2017-02-26",
                                    "meddig": "2017-02-27",
                                    "(No column name)": "NULL"
                                },
                                {
                                    "LOGIN": "ARONK",
                                    "NEV": "Kelemen Áron",
                                    "mettol": "2016-04-06",
                                    "meddig": "2016-04-08",
                                    "(No column name)": "NULL"
                                },
                                {
                                    "LOGIN": "ARONK",
                                    "NEV": "Kelemen Áron",
                                    "mettol": "2016-05-14",
                                    "meddig": "2016-05-20",
                                    "(No column name)": "NULL"
                                },
                                {
                                    "LOGIN": "ARONK",
                                    "NEV": "Kelemen Áron",
                                    "mettol": "2016-06-04",
                                    "meddig": "2016-06-09",
                                    "(No column name)": "NULL"
                                },
                                {
                                    "LOGIN": "ARONK",
                                    "NEV": "Kelemen Áron",
                                    "mettol": "2016-06-07",
                                    "meddig": "2016-06-13",
                                    "(No column name)": "NULL"
                                },
                                {
                                    "LOGIN": "ARONK",
                                    "NEV": "Kelemen Áron",
                                    "mettol": "2016-07-03",
                                    "meddig": "2016-07-07",
                                    "(No column name)": "NULL"
                                },
                                {
                                    "LOGIN": "ARONK",
                                    "NEV": "Kelemen Áron",
                                    "mettol": "2016-08-05",
                                    "meddig": "2016-08-08",
                                    "(No column name)": "NULL"
                                },
                                {
                                    "LOGIN": "ARONK",
                                    "NEV": "Kelemen Áron",
                                    "mettol": "2016-09-08",
                                    "meddig": "2016-09-15",
                                    "(No column name)": "NULL"
                                },
                                {
                                    "LOGIN": "ARONK",
                                    "NEV": "Kelemen Áron",
                                    "mettol": "2016-11-03",
                                    "meddig": "2016-11-10",
                                    "(No column name)": "NULL"
                                },
                                {
                                    "LOGIN": "ARONK",
                                    "NEV": "Kelemen Áron",
                                    "mettol": "2016-11-05",
                                    "meddig": "2016-11-07",
                                    "(No column name)": "NULL"
                                },
                                {
                                    "LOGIN": "ARONK",
                                    "NEV": "Kelemen Áron",
                                    "mettol": "2016-12-07",
                                    "meddig": "2016-12-12",
                                    "(No column name)": "NULL"
                                },
                                {
                                    "LOGIN": "ARONK",
                                    "NEV": "Kelemen Áron",
                                    "mettol": "2017-01-01",
                                    "meddig": "2017-01-03",
                                    "(No column name)": "NULL"
                                },
                                {
                                    "LOGIN": "ARONK",
                                    "NEV": "Kelemen Áron",
                                    "mettol": "2017-01-30",
                                    "meddig": "2017-02-03",
                                    "(No column name)": "NULL"
                                },
                                {
                                    "LOGIN": "ARONK",
                                    "NEV": "Kelemen Áron",
                                    "mettol": "2017-02-21",
                                    "meddig": "2017-02-23",
                                    "(No column name)": "NULL"
                                },
                                {
                                    "LOGIN": "arpad2",
                                    "NEV": "Ötvös Árpád",
                                    "mettol": "2016-06-05",
                                    "meddig": "2016-06-07",
                                    "(No column name)": "NULL"
                                },
                                {
                                    "LOGIN": "arpad2",
                                    "NEV": "Ötvös Árpád",
                                    "mettol": "2016-08-23",
                                    "meddig": "2016-08-25",
                                    "(No column name)": "NULL"
                                },
                                {
                                    "LOGIN": "arpad2",
                                    "NEV": "Ötvös Árpád",
                                    "mettol": "2016-09-28",
                                    "meddig": "2016-09-30",
                                    "(No column name)": "NULL"
                                },
                                {
                                    "LOGIN": "arpad2",
                                    "NEV": "Ötvös Árpád",
                                    "mettol": "2016-10-13",
                                    "meddig": "2016-10-19",
                                    "(No column name)": "NULL"
                                },
                                {
                                    "LOGIN": "arpad2",
                                    "NEV": "Ötvös Árpád",
                                    "mettol": "2016-11-06",
                                    "meddig": "2016-11-10",
                                    "(No column name)": "NULL"
                                },
                                {
                                    "LOGIN": "arpad2",
                                    "NEV": "Ötvös Árpád",
                                    "mettol": "2016-12-24",
                                    "meddig": "2016-12-27",
                                    "(No column name)": "NULL"
                                },
                                {
                                    "LOGIN": "arpad2",
                                    "NEV": "Ötvös Árpád",
                                    "mettol": "2017-02-18",
                                    "meddig": "2017-02-19",
                                    "(No column name)": "NULL"
                                },
                                {
                                    "LOGIN": "ARPADH",
                                    "NEV": "Horváth Árpád",
                                    "mettol": "2016-06-06",
                                    "meddig": "2016-06-07",
                                    "(No column name)": "NULL"
                                },
                                {
                                    "LOGIN": "ARPADH",
                                    "NEV": "Horváth Árpád",
                                    "mettol": "2016-07-14",
                                    "meddig": "2016-07-18",
                                    "(No column name)": "NULL"
                                },
                                {
                                    "LOGIN": "ARPADH",
                                    "NEV": "Horváth Árpád",
                                    "mettol": "2016-09-16",
                                    "meddig": "2016-09-23",
                                    "(No column name)": "NULL"
                                },
                                {
                                    "LOGIN": "ARPADH",
                                    "NEV": "Horváth Árpád",
                                    "mettol": "2016-09-18",
                                    "meddig": "2016-09-25",
                                    "(No column name)": "NULL"
                                },
                                {
                                    "LOGIN": "ARPADH",
                                    "NEV": "Horváth Árpád",
                                    "mettol": "2016-12-04",
                                    "meddig": "2016-12-10",
                                    "(No column name)": "NULL"
                                },
                                {
                                    "LOGIN": "ARPADH",
                                    "NEV": "Horváth Árpád",
                                    "mettol": "2016-12-18",
                                    "meddig": "2016-12-19",
                                    "(No column name)": "NULL"
                                },
                                {
                                    "LOGIN": "ARPADH",
                                    "NEV": "Horváth Árpád",
                                    "mettol": "2017-02-16",
                                    "meddig": "2017-02-18",
                                    "(No column name)": "NULL"
                                },
                                {
                                    "LOGIN": "ARPADM",
                                    "NEV": "Móricz Árpád",
                                    "mettol": "2016-05-29",
                                    "meddig": "2016-06-01",
                                    "(No column name)": "NULL"
                                },
                                {
                                    "LOGIN": "ARPADM",
                                    "NEV": "Móricz Árpád",
                                    "mettol": "2016-08-12",
                                    "meddig": "2016-08-16",
                                    "(No column name)": "NULL"
                                },
                                {
                                    "LOGIN": "ARPADM",
                                    "NEV": "Móricz Árpád",
                                    "mettol": "2016-11-09",
                                    "meddig": "2016-11-11",
                                    "(No column name)": "NULL"
                                },
                                {
                                    "LOGIN": "ARPADM",
                                    "NEV": "Móricz Árpád",
                                    "mettol": "2016-12-14",
                                    "meddig": "2016-12-17",
                                    "(No column name)": "NULL"
                                },
                                {
                                    "LOGIN": "ARPADM",
                                    "NEV": "Móricz Árpád",
                                    "mettol": "2017-01-05",
                                    "meddig": "2017-01-10",
                                    "(No column name)": "NULL"
                                },
                                {
                                    "LOGIN": "ARPADM",
                                    "NEV": "Móricz Árpád",
                                    "mettol": "2017-02-12",
                                    "meddig": "2017-02-14",
                                    "(No column name)": "NULL"
                                },
                                {
                                    "LOGIN": "attila",
                                    "NEV": "Csóti Attila",
                                    "mettol": "2016-09-30",
                                    "meddig": "2016-10-07",
                                    "(No column name)": "NULL"
                                },
                                {
                                    "LOGIN": "attila",
                                    "NEV": "Csóti Attila",
                                    "mettol": "2016-10-15",
                                    "meddig": "2016-10-19",
                                    "(No column name)": "NULL"
                                },
                                {
                                    "LOGIN": "attila",
                                    "NEV": "Csóti Attila",
                                    "mettol": "2016-12-22",
                                    "meddig": "2016-12-26",
                                    "(No column name)": "NULL"
                                },
                                {
                                    "LOGIN": "attila1",
                                    "NEV": "Gulyás Attila",
                                    "mettol": "2016-05-20",
                                    "meddig": "2016-05-26",
                                    "(No column name)": "NULL"
                                },
                                {
                                    "LOGIN": "attila1",
                                    "NEV": "Gulyás Attila",
                                    "mettol": "2016-10-09",
                                    "meddig": "2016-10-12",
                                    "(No column name)": "NULL"
                                },
                                {
                                    "LOGIN": "attila1",
                                    "NEV": "Gulyás Attila",
                                    "mettol": "2016-10-15",
                                    "meddig": "2016-10-16",
                                    "(No column name)": "NULL"
                                },
                                {
                                    "LOGIN": "attila1",
                                    "NEV": "Gulyás Attila",
                                    "mettol": "2016-10-30",
                                    "meddig": "2016-11-05",
                                    "(No column name)": "NULL"
                                },
                                {
                                    "LOGIN": "attila1",
                                    "NEV": "Gulyás Attila",
                                    "mettol": "2016-11-10",
                                    "meddig": "2016-11-14",
                                    "(No column name)": "NULL"
                                },
                                {
                                    "LOGIN": "attila1",
                                    "NEV": "Gulyás Attila",
                                    "mettol": "2017-01-23",
                                    "meddig": "2017-01-30",
                                    "(No column name)": "NULL"
                                },
                                {
                                    "LOGIN": "attila4",
                                    "NEV": "Baróti Attila",
                                    "mettol": "2016-08-18",
                                    "meddig": "2016-08-23",
                                    "(No column name)": "NULL"
                                },
                                {
                                    "LOGIN": "attila4",
                                    "NEV": "Baróti Attila",
                                    "mettol": "2016-12-31",
                                    "meddig": "2017-01-01",
                                    "(No column name)": "NULL"
                                },
                                {
                                    "LOGIN": "attila4",
                                    "NEV": "Baróti Attila",
                                    "mettol": "2017-02-15",
                                    "meddig": "2017-02-22",
                                    "(No column name)": "NULL"
                                },
                                {
                                    "LOGIN": "ATTILAO",
                                    "NEV": "Opra Attila",
                                    "mettol": "2016-05-21",
                                    "meddig": "2016-05-26",
                                    "(No column name)": "NULL"
                                },
                                {
                                    "LOGIN": "ATTILAO",
                                    "NEV": "Opra Attila",
                                    "mettol": "2016-06-04",
                                    "meddig": "2016-06-11",
                                    "(No column name)": "NULL"
                                },
                                {
                                    "LOGIN": "ATTILAO",
                                    "NEV": "Opra Attila",
                                    "mettol": "2016-10-30",
                                    "meddig": "2016-11-03",
                                    "(No column name)": "NULL"
                                },
                                {
                                    "LOGIN": "ATTILAO",
                                    "NEV": "Opra Attila",
                                    "mettol": "2017-02-22",
                                    "meddig": "2017-02-25",
                                    "(No column name)": "NULL"
                                },
                                {
                                    "LOGIN": "balazs1",
                                    "NEV": "Bozsik Balázs",
                                    "mettol": "2016-05-07",
                                    "meddig": "2016-05-14",
                                    "(No column name)": "NULL"
                                },
                                {
                                    "LOGIN": "balazs1",
                                    "NEV": "Bozsik Balázs",
                                    "mettol": "2016-07-22",
                                    "meddig": "2016-07-26",
                                    "(No column name)": "NULL"
                                },
                                {
                                    "LOGIN": "balazs1",
                                    "NEV": "Bozsik Balázs",
                                    "mettol": "2016-12-26",
                                    "meddig": "2016-12-28",
                                    "(No column name)": "NULL"
                                },
                                {
                                    "LOGIN": "balazs1",
                                    "NEV": "Bozsik Balázs",
                                    "mettol": "2017-01-01",
                                    "meddig": "2017-01-05",
                                    "(No column name)": "NULL"
                                },
                                {
                                    "LOGIN": "balazs1",
                                    "NEV": "Bozsik Balázs",
                                    "mettol": "2017-02-10",
                                    "meddig": "2017-02-14",
                                    "(No column name)": "NULL"
                                },
                                {
                                    "LOGIN": "balazs1",
                                    "NEV": "Bozsik Balázs",
                                    "mettol": "2017-02-12",
                                    "meddig": "2017-02-14",
                                    "(No column name)": "NULL"
                                },
                                {
                                    "LOGIN": "balazs2",
                                    "NEV": "Szűcs Balázs",
                                    "mettol": "2016-04-16",
                                    "meddig": "2016-04-19",
                                    "(No column name)": "NULL"
                                },
                                {
                                    "LOGIN": "balazs2",
                                    "NEV": "Szűcs Balázs",
                                    "mettol": "2016-05-22",
                                    "meddig": "2016-05-29",
                                    "(No column name)": "NULL"
                                },
                                {
                                    "LOGIN": "balazs2",
                                    "NEV": "Szűcs Balázs",
                                    "mettol": "2016-05-28",
                                    "meddig": "2016-06-01",
                                    "(No column name)": "NULL"
                                },
                                {
                                    "LOGIN": "balazs2",
                                    "NEV": "Szűcs Balázs",
                                    "mettol": "2016-07-08",
                                    "meddig": "2016-07-12",
                                    "(No column name)": "NULL"
                                },
                                {
                                    "LOGIN": "balazs2",
                                    "NEV": "Szűcs Balázs",
                                    "mettol": "2016-07-10",
                                    "meddig": "2016-07-17",
                                    "(No column name)": "NULL"
                                },
                                {
                                    "LOGIN": "balazs2",
                                    "NEV": "Szűcs Balázs",
                                    "mettol": "2016-07-20",
                                    "meddig": "2016-07-25",
                                    "(No column name)": "NULL"
                                },
                                {
                                    "LOGIN": "balazs2",
                                    "NEV": "Szűcs Balázs",
                                    "mettol": "2016-08-21",
                                    "meddig": "2016-08-22",
                                    "(No column name)": "NULL"
                                },
                                {
                                    "LOGIN": "balazs2",
                                    "NEV": "Szűcs Balázs",
                                    "mettol": "2016-09-12",
                                    "meddig": "2016-09-14",
                                    "(No column name)": "NULL"
                                },
                                {
                                    "LOGIN": "balazs2",
                                    "NEV": "Szűcs Balázs",
                                    "mettol": "2016-11-03",
                                    "meddig": "2016-11-05",
                                    "(No column name)": "NULL"
                                },
                                {
                                    "LOGIN": "balazs2",
                                    "NEV": "Szűcs Balázs",
                                    "mettol": "2017-02-27",
                                    "meddig": "2017-03-06",
                                    "(No column name)": "NULL"
                                },
                                {
                                    "LOGIN": "balazs3",
                                    "NEV": "Bakódy Balázs",
                                    "mettol": "2016-07-17",
                                    "meddig": "2016-07-21",
                                    "(No column name)": "NULL"
                                },
                                {
                                    "LOGIN": "balazs3",
                                    "NEV": "Bakódy Balázs",
                                    "mettol": "2016-07-27",
                                    "meddig": "2016-07-31",
                                    "(No column name)": "NULL"
                                },
                                {
                                    "LOGIN": "balazs3",
                                    "NEV": "Bakódy Balázs",
                                    "mettol": "2016-08-24",
                                    "meddig": "2016-08-28",
                                    "(No column name)": "NULL"
                                },
                                {
                                    "LOGIN": "balazs3",
                                    "NEV": "Bakódy Balázs",
                                    "mettol": "2016-09-15",
                                    "meddig": "2016-09-16",
                                    "(No column name)": "NULL"
                                },
                                {
                                    "LOGIN": "balazs3",
                                    "NEV": "Bakódy Balázs",
                                    "mettol": "2016-12-05",
                                    "meddig": "2016-12-11",
                                    "(No column name)": "NULL"
                                },
                                {
                                    "LOGIN": "balazs3",
                                    "NEV": "Bakódy Balázs",
                                    "mettol": "2017-01-20",
                                    "meddig": "2017-01-22",
                                    "(No column name)": "NULL"
                                },
                                {
                                    "LOGIN": "balint",
                                    "NEV": "Horváth Bálint",
                                    "mettol": "2016-04-22",
                                    "meddig": "2016-04-29",
                                    "(No column name)": "NULL"
                                },
                                {
                                    "LOGIN": "balint",
                                    "NEV": "Horváth Bálint",
                                    "mettol": "2016-10-09",
                                    "meddig": "2016-10-11",
                                    "(No column name)": "NULL"
                                },
                                {
                                    "LOGIN": "balint",
                                    "NEV": "Horváth Bálint",
                                    "mettol": "2016-11-24",
                                    "meddig": "2016-11-29",
                                    "(No column name)": "NULL"
                                },
                                {
                                    "LOGIN": "balint1",
                                    "NEV": "Molnár Bálint",
                                    "mettol": "2016-06-07",
                                    "meddig": "2016-06-11",
                                    "(No column name)": "NULL"
                                },
                                {
                                    "LOGIN": "balint1",
                                    "NEV": "Molnár Bálint",
                                    "mettol": "2016-06-07",
                                    "meddig": "2016-06-12",
                                    "(No column name)": "3"
                                },
                                {
                                    "LOGIN": "balint1",
                                    "NEV": "Molnár Bálint",
                                    "mettol": "2016-06-10",
                                    "meddig": "2016-06-12",
                                    "(No column name)": "NULL"
                                },
                                {
                                    "LOGIN": "balint1",
                                    "NEV": "Molnár Bálint",
                                    "mettol": "2016-07-26",
                                    "meddig": "2016-07-28",
                                    "(No column name)": "NULL"
                                },
                                {
                                    "LOGIN": "balint1",
                                    "NEV": "Molnár Bálint",
                                    "mettol": "2016-08-03",
                                    "meddig": "2016-08-08",
                                    "(No column name)": "NULL"
                                },
                                {
                                    "LOGIN": "balint1",
                                    "NEV": "Molnár Bálint",
                                    "mettol": "2016-09-16",
                                    "meddig": "2016-09-21",
                                    "(No column name)": "NULL"
                                },
                                {
                                    "LOGIN": "balint1",
                                    "NEV": "Molnár Bálint",
                                    "mettol": "2016-11-07",
                                    "meddig": "2016-11-10",
                                    "(No column name)": "NULL"
                                },
                                {
                                    "LOGIN": "balint1",
                                    "NEV": "Molnár Bálint",
                                    "mettol": "2016-12-17",
                                    "meddig": "2016-12-22",
                                    "(No column name)": "NULL"
                                },
                                {
                                    "LOGIN": "balint1",
                                    "NEV": "Molnár Bálint",
                                    "mettol": "2016-12-29",
                                    "meddig": "2016-12-31",
                                    "(No column name)": "NULL"
                                },
                                {
                                    "LOGIN": "balint1",
                                    "NEV": "Molnár Bálint",
                                    "mettol": "2017-01-03",
                                    "meddig": "2017-01-08",
                                    "(No column name)": "NULL"
                                },
                                {
                                    "LOGIN": "balint2",
                                    "NEV": "Vukasinovity Bálint",
                                    "mettol": "2016-07-21",
                                    "meddig": "2016-07-26",
                                    "(No column name)": "NULL"
                                },
                                {
                                    "LOGIN": "balint2",
                                    "NEV": "Vukasinovity Bálint",
                                    "mettol": "2016-12-04",
                                    "meddig": "2016-12-06",
                                    "(No column name)": "NULL"
                                },
                                {
                                    "LOGIN": "balu",
                                    "NEV": "Endresz Bálint",
                                    "mettol": "2016-08-06",
                                    "meddig": "2016-08-10",
                                    "(No column name)": "NULL"
                                },
                                {
                                    "LOGIN": "balu",
                                    "NEV": "Endresz Bálint",
                                    "mettol": "2016-12-22",
                                    "meddig": "2016-12-23",
                                    "(No column name)": "NULL"
                                },
                                {
                                    "LOGIN": "beata4",
                                    "NEV": "Bagi Beáta",
                                    "mettol": "2016-04-20",
                                    "meddig": "2016-04-21",
                                    "(No column name)": "NULL"
                                },
                                {
                                    "LOGIN": "beata4",
                                    "NEV": "Bagi Beáta",
                                    "mettol": "2016-06-03",
                                    "meddig": "2016-06-04",
                                    "(No column name)": "NULL"
                                },
                                {
                                    "LOGIN": "beata4",
                                    "NEV": "Bagi Beáta",
                                    "mettol": "2016-07-03",
                                    "meddig": "2016-07-06",
                                    "(No column name)": "NULL"
                                },
                                {
                                    "LOGIN": "beata4",
                                    "NEV": "Bagi Beáta",
                                    "mettol": "2016-08-25",
                                    "meddig": "2016-08-27",
                                    "(No column name)": "NULL"
                                },
                                {
                                    "LOGIN": "beata4",
                                    "NEV": "Bagi Beáta",
                                    "mettol": "2016-10-01",
                                    "meddig": "2016-10-05",
                                    "(No column name)": "NULL"
                                },
                                {
                                    "LOGIN": "beata4",
                                    "NEV": "Bagi Beáta",
                                    "mettol": "2016-10-03",
                                    "meddig": "2016-10-06",
                                    "(No column name)": "NULL"
                                },
                                {
                                    "LOGIN": "BEATRIXK",
                                    "NEV": "Kerényi Beatrix",
                                    "mettol": "2016-06-10",
                                    "meddig": "2016-06-11",
                                    "(No column name)": "NULL"
                                },
                                {
                                    "LOGIN": "BEATRIXK",
                                    "NEV": "Kerényi Beatrix",
                                    "mettol": "2016-06-10",
                                    "meddig": "2016-06-14",
                                    "(No column name)": "2"
                                },
                                {
                                    "LOGIN": "BEATRIXK",
                                    "NEV": "Kerényi Beatrix",
                                    "mettol": "2016-06-19",
                                    "meddig": "2016-06-21",
                                    "(No column name)": "NULL"
                                },
                                {
                                    "LOGIN": "BEATRIXK",
                                    "NEV": "Kerényi Beatrix",
                                    "mettol": "2016-08-12",
                                    "meddig": "2016-08-18",
                                    "(No column name)": "NULL"
                                },
                                {
                                    "LOGIN": "BEATRIXK",
                                    "NEV": "Kerényi Beatrix",
                                    "mettol": "2016-10-23",
                                    "meddig": "2016-10-28",
                                    "(No column name)": "NULL"
                                },
                                {
                                    "LOGIN": "BEATRIXK",
                                    "NEV": "Kerényi Beatrix",
                                    "mettol": "2016-11-14",
                                    "meddig": "2016-11-19",
                                    "(No column name)": "NULL"
                                },
                                {
                                    "LOGIN": "BEATRIXK",
                                    "NEV": "Kerényi Beatrix",
                                    "mettol": "2016-12-12",
                                    "meddig": "2016-12-14",
                                    "(No column name)": "NULL"
                                },
                                {
                                    "LOGIN": "BEATRIXK",
                                    "NEV": "Kerényi Beatrix",
                                    "mettol": "2016-12-17",
                                    "meddig": "2016-12-22",
                                    "(No column name)": "NULL"
                                },
                                {
                                    "LOGIN": "BEATRIXK",
                                    "NEV": "Kerényi Beatrix",
                                    "mettol": "2017-02-08",
                                    "meddig": "2017-02-09",
                                    "(No column name)": "NULL"
                                },
                                {
                                    "LOGIN": "BEATRIXS",
                                    "NEV": "Szekendi Beatrix",
                                    "mettol": "2016-04-18",
                                    "meddig": "2016-04-24",
                                    "(No column name)": "NULL"
                                },
                                {
                                    "LOGIN": "BEATRIXS",
                                    "NEV": "Szekendi Beatrix",
                                    "mettol": "2016-06-11",
                                    "meddig": "2016-06-14",
                                    "(No column name)": "NULL"
                                },
                                {
                                    "LOGIN": "BEATRIXS",
                                    "NEV": "Szekendi Beatrix",
                                    "mettol": "2016-10-01",
                                    "meddig": "2016-10-03",
                                    "(No column name)": "NULL"
                                },
                                {
                                    "LOGIN": "BEATRIXS",
                                    "NEV": "Szekendi Beatrix",
                                    "mettol": "2016-10-01",
                                    "meddig": "2016-10-05",
                                    "(No column name)": "3"
                                },
                                {
                                    "LOGIN": "BEATRIXS",
                                    "NEV": "Szekendi Beatrix",
                                    "mettol": "2016-12-21",
                                    "meddig": "2016-12-27",
                                    "(No column name)": "NULL"
                                },
                                {
                                    "LOGIN": "BEATRIXS",
                                    "NEV": "Szekendi Beatrix",
                                    "mettol": "2017-02-03",
                                    "meddig": "2017-02-04",
                                    "(No column name)": "NULL"
                                },
                                {
                                    "LOGIN": "BELAF",
                                    "NEV": "Farkas Béla",
                                    "mettol": "2016-07-27",
                                    "meddig": "2016-07-30",
                                    "(No column name)": "NULL"
                                },
                                {
                                    "LOGIN": "BELAF",
                                    "NEV": "Farkas Béla",
                                    "mettol": "2016-07-29",
                                    "meddig": "2016-07-31",
                                    "(No column name)": "NULL"
                                },
                                {
                                    "LOGIN": "BELAF",
                                    "NEV": "Farkas Béla",
                                    "mettol": "2016-08-29",
                                    "meddig": "2016-08-31",
                                    "(No column name)": "NULL"
                                },
                                {
                                    "LOGIN": "BELAF",
                                    "NEV": "Farkas Béla",
                                    "mettol": "2016-11-03",
                                    "meddig": "2016-11-09",
                                    "(No column name)": "NULL"
                                },
                                {
                                    "LOGIN": "BELAF",
                                    "NEV": "Farkas Béla",
                                    "mettol": "2016-12-02",
                                    "meddig": "2016-12-04",
                                    "(No column name)": "NULL"
                                },
                                {
                                    "LOGIN": "BELAF",
                                    "NEV": "Farkas Béla",
                                    "mettol": "2016-12-06",
                                    "meddig": "2016-12-09",
                                    "(No column name)": "NULL"
                                },
                                {
                                    "LOGIN": "bence",
                                    "NEV": "Győrffy Bence",
                                    "mettol": "2016-05-08",
                                    "meddig": "2016-05-11",
                                    "(No column name)": "NULL"
                                },
                                {
                                    "LOGIN": "bence",
                                    "NEV": "Győrffy Bence",
                                    "mettol": "2016-05-29",
                                    "meddig": "2016-06-03",
                                    "(No column name)": "NULL"
                                },
                                {
                                    "LOGIN": "bence",
                                    "NEV": "Győrffy Bence",
                                    "mettol": "2016-07-24",
                                    "meddig": "2016-07-30",
                                    "(No column name)": "NULL"
                                },
                                {
                                    "LOGIN": "bence",
                                    "NEV": "Győrffy Bence",
                                    "mettol": "2016-07-25",
                                    "meddig": "2016-08-01",
                                    "(No column name)": "NULL"
                                },
                                {
                                    "LOGIN": "bence",
                                    "NEV": "Győrffy Bence",
                                    "mettol": "2016-09-03",
                                    "meddig": "2016-09-06",
                                    "(No column name)": "NULL"
                                },
                                {
                                    "LOGIN": "bence",
                                    "NEV": "Győrffy Bence",
                                    "mettol": "2016-10-30",
                                    "meddig": "2016-11-02",
                                    "(No column name)": "NULL"
                                },
                                {
                                    "LOGIN": "bence",
                                    "NEV": "Győrffy Bence",
                                    "mettol": "2016-12-17",
                                    "meddig": "2016-12-18",
                                    "(No column name)": "NULL"
                                },
                                {
                                    "LOGIN": "bence",
                                    "NEV": "Győrffy Bence",
                                    "mettol": "2016-12-26",
                                    "meddig": "2016-12-27",
                                    "(No column name)": "NULL"
                                },
                                {
                                    "LOGIN": "bence",
                                    "NEV": "Győrffy Bence",
                                    "mettol": "2017-02-05",
                                    "meddig": "2017-02-09",
                                    "(No column name)": "NULL"
                                },
                                {
                                    "LOGIN": "BENCEB",
                                    "NEV": "Bajusz Bence",
                                    "mettol": "2016-05-14",
                                    "meddig": "2016-05-17",
                                    "(No column name)": "NULL"
                                },
                                {
                                    "LOGIN": "BENCEB",
                                    "NEV": "Bajusz Bence",
                                    "mettol": "2016-06-03",
                                    "meddig": "2016-06-09",
                                    "(No column name)": "NULL"
                                },
                                {
                                    "LOGIN": "BENCEB",
                                    "NEV": "Bajusz Bence",
                                    "mettol": "2016-08-01",
                                    "meddig": "2016-08-02",
                                    "(No column name)": "NULL"
                                },
                                {
                                    "LOGIN": "BENCEB",
                                    "NEV": "Bajusz Bence",
                                    "mettol": "2016-10-22",
                                    "meddig": "2016-10-29",
                                    "(No column name)": "NULL"
                                },
                                {
                                    "LOGIN": "BENCEB",
                                    "NEV": "Bajusz Bence",
                                    "mettol": "2016-11-28",
                                    "meddig": "2016-12-02",
                                    "(No column name)": "NULL"
                                },
                                {
                                    "LOGIN": "BENCEB",
                                    "NEV": "Bajusz Bence",
                                    "mettol": "2017-02-12",
                                    "meddig": "2017-02-19",
                                    "(No column name)": "NULL"
                                },
                                {
                                    "LOGIN": "bernadett1",
                                    "NEV": "Simon Bernadett",
                                    "mettol": "2016-06-12",
                                    "meddig": "2016-06-17",
                                    "(No column name)": "NULL"
                                },
                                {
                                    "LOGIN": "bernadett1",
                                    "NEV": "Simon Bernadett",
                                    "mettol": "2016-10-08",
                                    "meddig": "2016-10-09",
                                    "(No column name)": "NULL"
                                },
                                {
                                    "LOGIN": "bernadett1",
                                    "NEV": "Simon Bernadett",
                                    "mettol": "2016-10-15",
                                    "meddig": "2016-10-22",
                                    "(No column name)": "NULL"
                                },
                                {
                                    "LOGIN": "bernadett1",
                                    "NEV": "Simon Bernadett",
                                    "mettol": "2016-10-26",
                                    "meddig": "2016-11-02",
                                    "(No column name)": "NULL"
                                },
                                {
                                    "LOGIN": "bernadett1",
                                    "NEV": "Simon Bernadett",
                                    "mettol": "2016-10-28",
                                    "meddig": "2016-11-01",
                                    "(No column name)": "NULL"
                                },
                                {
                                    "LOGIN": "bernadett1",
                                    "NEV": "Simon Bernadett",
                                    "mettol": "2017-02-14",
                                    "meddig": "2017-02-15",
                                    "(No column name)": "NULL"
                                },
                                {
                                    "LOGIN": "bernadett1",
                                    "NEV": "Simon Bernadett",
                                    "mettol": "2017-02-24",
                                    "meddig": "2017-03-03",
                                    "(No column name)": "NULL"
                                },
                                {
                                    "LOGIN": "bernadett2",
                                    "NEV": "Kovács Bernadett",
                                    "mettol": "2016-05-01",
                                    "meddig": "2016-05-03",
                                    "(No column name)": "NULL"
                                },
                                {
                                    "LOGIN": "bernadett2",
                                    "NEV": "Kovács Bernadett",
                                    "mettol": "2016-06-17",
                                    "meddig": "2016-06-23",
                                    "(No column name)": "NULL"
                                },
                                {
                                    "LOGIN": "bernadett2",
                                    "NEV": "Kovács Bernadett",
                                    "mettol": "2016-08-23",
                                    "meddig": "2016-08-29",
                                    "(No column name)": "NULL"
                                },
                                {
                                    "LOGIN": "bernadett2",
                                    "NEV": "Kovács Bernadett",
                                    "mettol": "2016-08-25",
                                    "meddig": "2016-08-27",
                                    "(No column name)": "NULL"
                                },
                                {
                                    "LOGIN": "bernadett2",
                                    "NEV": "Kovács Bernadett",
                                    "mettol": "2016-09-07",
                                    "meddig": "2016-09-13",
                                    "(No column name)": "NULL"
                                },
                                {
                                    "LOGIN": "bernadett2",
                                    "NEV": "Kovács Bernadett",
                                    "mettol": "2016-10-30",
                                    "meddig": "2016-11-06",
                                    "(No column name)": "NULL"
                                },
                                {
                                    "LOGIN": "bernadett2",
                                    "NEV": "Kovács Bernadett",
                                    "mettol": "2016-12-17",
                                    "meddig": "2016-12-20",
                                    "(No column name)": "NULL"
                                },
                                {
                                    "LOGIN": "bernadett2",
                                    "NEV": "Kovács Bernadett",
                                    "mettol": "2017-01-24",
                                    "meddig": "2017-01-30",
                                    "(No column name)": "NULL"
                                },
                                {
                                    "LOGIN": "BERNADETTO",
                                    "NEV": "Orbán Bernadett",
                                    "mettol": "2016-04-10",
                                    "meddig": "2016-04-17",
                                    "(No column name)": "NULL"
                                },
                                {
                                    "LOGIN": "BERNADETTO",
                                    "NEV": "Orbán Bernadett",
                                    "mettol": "2016-04-17",
                                    "meddig": "2016-04-19",
                                    "(No column name)": "NULL"
                                },
                                {
                                    "LOGIN": "BERNADETTO",
                                    "NEV": "Orbán Bernadett",
                                    "mettol": "2016-06-07",
                                    "meddig": "2016-06-13",
                                    "(No column name)": "NULL"
                                },
                                {
                                    "LOGIN": "BERNADETTO",
                                    "NEV": "Orbán Bernadett",
                                    "mettol": "2016-06-10",
                                    "meddig": "2016-06-16",
                                    "(No column name)": "NULL"
                                },
                                {
                                    "LOGIN": "BERNADETTO",
                                    "NEV": "Orbán Bernadett",
                                    "mettol": "2016-10-04",
                                    "meddig": "2016-10-05",
                                    "(No column name)": "NULL"
                                },
                                {
                                    "LOGIN": "BERNADETTO",
                                    "NEV": "Orbán Bernadett",
                                    "mettol": "2017-01-01",
                                    "meddig": "2017-01-02",
                                    "(No column name)": "NULL"
                                },
                                {
                                    "LOGIN": "BERNADETTO",
                                    "NEV": "Orbán Bernadett",
                                    "mettol": "2017-01-28",
                                    "meddig": "2017-02-03",
                                    "(No column name)": "NULL"
                                },
                                {
                                    "LOGIN": "bertalan",
                                    "NEV": "Csiger Bertalan",
                                    "mettol": "2016-05-18",
                                    "meddig": "2016-05-23",
                                    "(No column name)": "NULL"
                                },
                                {
                                    "LOGIN": "bertalan",
                                    "NEV": "Csiger Bertalan",
                                    "mettol": "2016-06-20",
                                    "meddig": "2016-06-21",
                                    "(No column name)": "NULL"
                                },
                                {
                                    "LOGIN": "bertalan",
                                    "NEV": "Csiger Bertalan",
                                    "mettol": "2016-11-03",
                                    "meddig": "2016-11-10",
                                    "(No column name)": "NULL"
                                },
                                {
                                    "LOGIN": "bertalan",
                                    "NEV": "Csiger Bertalan",
                                    "mettol": "2016-11-26",
                                    "meddig": "2016-11-29",
                                    "(No column name)": "NULL"
                                },
                                {
                                    "LOGIN": "bertalan",
                                    "NEV": "Csiger Bertalan",
                                    "mettol": "2017-02-16",
                                    "meddig": "2017-02-22",
                                    "(No column name)": "NULL"
                                },
                                {
                                    "LOGIN": "bertalan",
                                    "NEV": "Csiger Bertalan",
                                    "mettol": "2017-02-20",
                                    "meddig": "2017-02-24",
                                    "(No column name)": "NULL"
                                },
                                {
                                    "LOGIN": "brigitta",
                                    "NEV": "Székely Brigitta",
                                    "mettol": "2016-05-30",
                                    "meddig": "2016-06-06",
                                    "(No column name)": "NULL"
                                },
                                {
                                    "LOGIN": "brigitta",
                                    "NEV": "Székely Brigitta",
                                    "mettol": "2016-08-28",
                                    "meddig": "2016-09-01",
                                    "(No column name)": "NULL"
                                },
                                {
                                    "LOGIN": "brigitta",
                                    "NEV": "Székely Brigitta",
                                    "mettol": "2016-10-21",
                                    "meddig": "2016-10-28",
                                    "(No column name)": "NULL"
                                },
                                {
                                    "LOGIN": "brigitta",
                                    "NEV": "Székely Brigitta",
                                    "mettol": "2016-12-17",
                                    "meddig": "2016-12-22",
                                    "(No column name)": "NULL"
                                },
                                {
                                    "LOGIN": "brigitta",
                                    "NEV": "Székely Brigitta",
                                    "mettol": "2017-01-23",
                                    "meddig": "2017-01-25",
                                    "(No column name)": "NULL"
                                },
                                {
                                    "LOGIN": "brigitta3",
                                    "NEV": "Pataki Brigitta",
                                    "mettol": "2016-06-01",
                                    "meddig": "2016-06-05",
                                    "(No column name)": "NULL"
                                },
                                {
                                    "LOGIN": "brigitta3",
                                    "NEV": "Pataki Brigitta",
                                    "mettol": "2016-06-13",
                                    "meddig": "2016-06-17",
                                    "(No column name)": "NULL"
                                },
                                {
                                    "LOGIN": "brigitta3",
                                    "NEV": "Pataki Brigitta",
                                    "mettol": "2016-10-10",
                                    "meddig": "2016-10-14",
                                    "(No column name)": "NULL"
                                },
                                {
                                    "LOGIN": "brigitta3",
                                    "NEV": "Pataki Brigitta",
                                    "mettol": "2016-11-03",
                                    "meddig": "2016-11-09",
                                    "(No column name)": "NULL"
                                },
                                {
                                    "LOGIN": "brigitta3",
                                    "NEV": "Pataki Brigitta",
                                    "mettol": "2017-02-09",
                                    "meddig": "2017-02-16",
                                    "(No column name)": "NULL"
                                },
                                {
                                    "LOGIN": "csongor3",
                                    "NEV": "Nagymihály Csongor",
                                    "mettol": "2016-05-01",
                                    "meddig": "2016-05-04",
                                    "(No column name)": "NULL"
                                },
                                {
                                    "LOGIN": "csongor3",
                                    "NEV": "Nagymihály Csongor",
                                    "mettol": "2016-05-08",
                                    "meddig": "2016-05-15",
                                    "(No column name)": "NULL"
                                },
                                {
                                    "LOGIN": "csongor3",
                                    "NEV": "Nagymihály Csongor",
                                    "mettol": "2016-06-04",
                                    "meddig": "2016-06-05",
                                    "(No column name)": "NULL"
                                },
                                {
                                    "LOGIN": "csongor3",
                                    "NEV": "Nagymihály Csongor",
                                    "mettol": "2016-06-10",
                                    "meddig": "2016-06-17",
                                    "(No column name)": "NULL"
                                },
                                {
                                    "LOGIN": "csongor3",
                                    "NEV": "Nagymihály Csongor",
                                    "mettol": "2016-06-11",
                                    "meddig": "2016-06-14",
                                    "(No column name)": "NULL"
                                },
                                {
                                    "LOGIN": "csongor3",
                                    "NEV": "Nagymihály Csongor",
                                    "mettol": "2016-07-09",
                                    "meddig": "2016-07-10",
                                    "(No column name)": "NULL"
                                },
                                {
                                    "LOGIN": "csongor3",
                                    "NEV": "Nagymihály Csongor",
                                    "mettol": "2016-11-12",
                                    "meddig": "2016-11-17",
                                    "(No column name)": "NULL"
                                },
                                {
                                    "LOGIN": "csongor3",
                                    "NEV": "Nagymihály Csongor",
                                    "mettol": "2017-02-13",
                                    "meddig": "2017-02-19",
                                    "(No column name)": "NULL"
                                },
                                {
                                    "LOGIN": "dani",
                                    "NEV": "Vörös Dániel",
                                    "mettol": "2016-06-06",
                                    "meddig": "2016-06-10",
                                    "(No column name)": "NULL"
                                },
                                {
                                    "LOGIN": "dani",
                                    "NEV": "Vörös Dániel",
                                    "mettol": "2016-07-11",
                                    "meddig": "2016-07-12",
                                    "(No column name)": "NULL"
                                },
                                {
                                    "LOGIN": "dani",
                                    "NEV": "Vörös Dániel",
                                    "mettol": "2016-08-06",
                                    "meddig": "2016-08-09",
                                    "(No column name)": "NULL"
                                },
                                {
                                    "LOGIN": "dani",
                                    "NEV": "Vörös Dániel",
                                    "mettol": "2016-09-19",
                                    "meddig": "2016-09-25",
                                    "(No column name)": "NULL"
                                },
                                {
                                    "LOGIN": "dani",
                                    "NEV": "Vörös Dániel",
                                    "mettol": "2016-10-01",
                                    "meddig": "2016-10-02",
                                    "(No column name)": "NULL"
                                },
                                {
                                    "LOGIN": "dani",
                                    "NEV": "Vörös Dániel",
                                    "mettol": "2016-11-22",
                                    "meddig": "2016-11-24",
                                    "(No column name)": "NULL"
                                },
                                {
                                    "LOGIN": "dani",
                                    "NEV": "Vörös Dániel",
                                    "mettol": "2017-01-17",
                                    "meddig": "2017-01-23",
                                    "(No column name)": "NULL"
                                },
                                {
                                    "LOGIN": "dani",
                                    "NEV": "Vörös Dániel",
                                    "mettol": "2017-01-22",
                                    "meddig": "2017-01-29",
                                    "(No column name)": "NULL"
                                },
                                {
                                    "LOGIN": "dani",
                                    "NEV": "Vörös Dániel",
                                    "mettol": "2017-02-25",
                                    "meddig": "2017-03-01",
                                    "(No column name)": "NULL"
                                },
                                {
                                    "LOGIN": "daniel",
                                    "NEV": "Rácz Dániel",
                                    "mettol": "2016-04-10",
                                    "meddig": "2016-04-11",
                                    "(No column name)": "NULL"
                                },
                                {
                                    "LOGIN": "daniel",
                                    "NEV": "Rácz Dániel",
                                    "mettol": "2016-04-22",
                                    "meddig": "2016-04-25",
                                    "(No column name)": "NULL"
                                },
                                {
                                    "LOGIN": "daniel",
                                    "NEV": "Rácz Dániel",
                                    "mettol": "2016-05-09",
                                    "meddig": "2016-05-13",
                                    "(No column name)": "NULL"
                                },
                                {
                                    "LOGIN": "daniel",
                                    "NEV": "Rácz Dániel",
                                    "mettol": "2016-09-08",
                                    "meddig": "2016-09-10",
                                    "(No column name)": "NULL"
                                },
                                {
                                    "LOGIN": "daniel",
                                    "NEV": "Rácz Dániel",
                                    "mettol": "2016-11-13",
                                    "meddig": "2016-11-19",
                                    "(No column name)": "NULL"
                                },
                                {
                                    "LOGIN": "daniel",
                                    "NEV": "Rácz Dániel",
                                    "mettol": "2016-12-25",
                                    "meddig": "2016-12-26",
                                    "(No column name)": "NULL"
                                },
                                {
                                    "LOGIN": "daniel",
                                    "NEV": "Rácz Dániel",
                                    "mettol": "2017-01-09",
                                    "meddig": "2017-01-11",
                                    "(No column name)": "NULL"
                                },
                                {
                                    "LOGIN": "daniel",
                                    "NEV": "Rácz Dániel",
                                    "mettol": "2017-02-12",
                                    "meddig": "2017-02-13",
                                    "(No column name)": "NULL"
                                },
                                {
                                    "LOGIN": "daniel",
                                    "NEV": "Rácz Dániel",
                                    "mettol": "2017-02-20",
                                    "meddig": "2017-02-23",
                                    "(No column name)": "NULL"
                                },
                                {
                                    "LOGIN": "daniel1",
                                    "NEV": "Keszler Dániel",
                                    "mettol": "2016-04-10",
                                    "meddig": "2016-04-15",
                                    "(No column name)": "NULL"
                                },
                                {
                                    "LOGIN": "daniel1",
                                    "NEV": "Keszler Dániel",
                                    "mettol": "2016-05-10",
                                    "meddig": "2016-05-13",
                                    "(No column name)": "NULL"
                                },
                                {
                                    "LOGIN": "daniel1",
                                    "NEV": "Keszler Dániel",
                                    "mettol": "2016-05-26",
                                    "meddig": "2016-05-27",
                                    "(No column name)": "NULL"
                                },
                                {
                                    "LOGIN": "daniel1",
                                    "NEV": "Keszler Dániel",
                                    "mettol": "2016-11-09",
                                    "meddig": "2016-11-11",
                                    "(No column name)": "NULL"
                                },
                                {
                                    "LOGIN": "daniel1",
                                    "NEV": "Keszler Dániel",
                                    "mettol": "2016-11-23",
                                    "meddig": "2016-11-25",
                                    "(No column name)": "NULL"
                                },
                                {
                                    "LOGIN": "daniel1",
                                    "NEV": "Keszler Dániel",
                                    "mettol": "2017-01-05",
                                    "meddig": "2017-01-08",
                                    "(No column name)": "NULL"
                                },
                                {
                                    "LOGIN": "daniel1",
                                    "NEV": "Keszler Dániel",
                                    "mettol": "2017-03-01",
                                    "meddig": "2017-03-06",
                                    "(No column name)": "NULL"
                                },
                                {
                                    "LOGIN": "david",
                                    "NEV": "Ambrus Dávid",
                                    "mettol": "2016-05-18",
                                    "meddig": "2016-05-25",
                                    "(No column name)": "NULL"
                                },
                                {
                                    "LOGIN": "david",
                                    "NEV": "Ambrus Dávid",
                                    "mettol": "2016-06-09",
                                    "meddig": "2016-06-10",
                                    "(No column name)": "NULL"
                                },
                                {
                                    "LOGIN": "david",
                                    "NEV": "Ambrus Dávid",
                                    "mettol": "2016-06-30",
                                    "meddig": "2016-07-07",
                                    "(No column name)": "NULL"
                                },
                                {
                                    "LOGIN": "david",
                                    "NEV": "Ambrus Dávid",
                                    "mettol": "2016-07-18",
                                    "meddig": "2016-07-21",
                                    "(No column name)": "NULL"
                                },
                                {
                                    "LOGIN": "david",
                                    "NEV": "Ambrus Dávid",
                                    "mettol": "2016-08-05",
                                    "meddig": "2016-08-12",
                                    "(No column name)": "NULL"
                                },
                                {
                                    "LOGIN": "david",
                                    "NEV": "Ambrus Dávid",
                                    "mettol": "2016-08-20",
                                    "meddig": "2016-08-25",
                                    "(No column name)": "NULL"
                                },
                                {
                                    "LOGIN": "david",
                                    "NEV": "Ambrus Dávid",
                                    "mettol": "2016-08-22",
                                    "meddig": "2016-08-24",
                                    "(No column name)": "NULL"
                                },
                                {
                                    "LOGIN": "david",
                                    "NEV": "Ambrus Dávid",
                                    "mettol": "2016-10-30",
                                    "meddig": "2016-11-04",
                                    "(No column name)": "NULL"
                                },
                                {
                                    "LOGIN": "david",
                                    "NEV": "Ambrus Dávid",
                                    "mettol": "2017-01-18",
                                    "meddig": "2017-01-19",
                                    "(No column name)": "NULL"
                                },
                                {
                                    "LOGIN": "david1",
                                    "NEV": "Sobják Dávid",
                                    "mettol": "2016-09-20",
                                    "meddig": "2016-09-21",
                                    "(No column name)": "NULL"
                                },
                                {
                                    "LOGIN": "david1",
                                    "NEV": "Sobják Dávid",
                                    "mettol": "2016-10-01",
                                    "meddig": "2016-10-02",
                                    "(No column name)": "NULL"
                                },
                                {
                                    "LOGIN": "david1",
                                    "NEV": "Sobják Dávid",
                                    "mettol": "2016-11-19",
                                    "meddig": "2016-11-22",
                                    "(No column name)": "NULL"
                                },
                                {
                                    "LOGIN": "david1",
                                    "NEV": "Sobják Dávid",
                                    "mettol": "2016-12-30",
                                    "meddig": "2017-01-06",
                                    "(No column name)": "NULL"
                                },
                                {
                                    "LOGIN": "david1",
                                    "NEV": "Sobják Dávid",
                                    "mettol": "2017-02-17",
                                    "meddig": "2017-02-20",
                                    "(No column name)": "NULL"
                                },
                                {
                                    "LOGIN": "david1",
                                    "NEV": "Sobják Dávid",
                                    "mettol": "2017-02-25",
                                    "meddig": "2017-02-27",
                                    "(No column name)": "NULL"
                                },
                                {
                                    "LOGIN": "david4",
                                    "NEV": "Berta Dávid",
                                    "mettol": "2017-02-16",
                                    "meddig": "2017-02-19",
                                    "(No column name)": "NULL"
                                },
                                {
                                    "LOGIN": "debora",
                                    "NEV": "Barna Debóra",
                                    "mettol": "2016-06-22",
                                    "meddig": "2016-06-24",
                                    "(No column name)": "NULL"
                                },
                                {
                                    "LOGIN": "debora",
                                    "NEV": "Barna Debóra",
                                    "mettol": "2016-10-29",
                                    "meddig": "2016-11-03",
                                    "(No column name)": "NULL"
                                },
                                {
                                    "LOGIN": "debora",
                                    "NEV": "Barna Debóra",
                                    "mettol": "2017-01-23",
                                    "meddig": "2017-01-28",
                                    "(No column name)": "NULL"
                                },
                                {
                                    "LOGIN": "debora",
                                    "NEV": "Barna Debóra",
                                    "mettol": "2017-02-04",
                                    "meddig": "2017-02-06",
                                    "(No column name)": "NULL"
                                },
                                {
                                    "LOGIN": "denes",
                                    "NEV": "Tömböly Dénes",
                                    "mettol": "2016-05-27",
                                    "meddig": "2016-05-31",
                                    "(No column name)": "NULL"
                                },
                                {
                                    "LOGIN": "denes",
                                    "NEV": "Tömböly Dénes",
                                    "mettol": "2016-07-19",
                                    "meddig": "2016-07-23",
                                    "(No column name)": "NULL"
                                },
                                {
                                    "LOGIN": "denes",
                                    "NEV": "Tömböly Dénes",
                                    "mettol": "2016-08-01",
                                    "meddig": "2016-08-08",
                                    "(No column name)": "NULL"
                                },
                                {
                                    "LOGIN": "denes",
                                    "NEV": "Tömböly Dénes",
                                    "mettol": "2016-08-16",
                                    "meddig": "2016-08-23",
                                    "(No column name)": "NULL"
                                },
                                {
                                    "LOGIN": "denes",
                                    "NEV": "Tömböly Dénes",
                                    "mettol": "2016-08-20",
                                    "meddig": "2016-08-27",
                                    "(No column name)": "NULL"
                                },
                                {
                                    "LOGIN": "denes",
                                    "NEV": "Tömböly Dénes",
                                    "mettol": "2016-11-06",
                                    "meddig": "2016-11-10",
                                    "(No column name)": "NULL"
                                },
                                {
                                    "LOGIN": "dora3",
                                    "NEV": "Sarodi Dóra",
                                    "mettol": "2016-08-16",
                                    "meddig": "2016-08-19",
                                    "(No column name)": "NULL"
                                },
                                {
                                    "LOGIN": "dora3",
                                    "NEV": "Sarodi Dóra",
                                    "mettol": "2016-08-25",
                                    "meddig": "2016-08-29",
                                    "(No column name)": "NULL"
                                },
                                {
                                    "LOGIN": "dora3",
                                    "NEV": "Sarodi Dóra",
                                    "mettol": "2016-10-09",
                                    "meddig": "2016-10-12",
                                    "(No column name)": "NULL"
                                },
                                {
                                    "LOGIN": "dora3",
                                    "NEV": "Sarodi Dóra",
                                    "mettol": "2016-10-29",
                                    "meddig": "2016-11-02",
                                    "(No column name)": "NULL"
                                },
                                {
                                    "LOGIN": "dora3",
                                    "NEV": "Sarodi Dóra",
                                    "mettol": "2016-11-22",
                                    "meddig": "2016-11-29",
                                    "(No column name)": "NULL"
                                },
                                {
                                    "LOGIN": "edit",
                                    "NEV": "Bittmann Edit",
                                    "mettol": "2016-07-14",
                                    "meddig": "2016-07-17",
                                    "(No column name)": "NULL"
                                },
                                {
                                    "LOGIN": "edit",
                                    "NEV": "Bittmann Edit",
                                    "mettol": "2016-08-03",
                                    "meddig": "2016-08-09",
                                    "(No column name)": "NULL"
                                },
                                {
                                    "LOGIN": "edit",
                                    "NEV": "Bittmann Edit",
                                    "mettol": "2016-08-12",
                                    "meddig": "2016-08-14",
                                    "(No column name)": "NULL"
                                },
                                {
                                    "LOGIN": "edit",
                                    "NEV": "Bittmann Edit",
                                    "mettol": "2016-09-17",
                                    "meddig": "2016-09-24",
                                    "(No column name)": "NULL"
                                },
                                {
                                    "LOGIN": "edit",
                                    "NEV": "Bittmann Edit",
                                    "mettol": "2016-09-18",
                                    "meddig": "2016-09-21",
                                    "(No column name)": "NULL"
                                },
                                {
                                    "LOGIN": "edit",
                                    "NEV": "Bittmann Edit",
                                    "mettol": "2017-01-15",
                                    "meddig": "2017-01-18",
                                    "(No column name)": "NULL"
                                },
                                {
                                    "LOGIN": "edit",
                                    "NEV": "Bittmann Edit",
                                    "mettol": "2017-02-08",
                                    "meddig": "2017-02-14",
                                    "(No column name)": "NULL"
                                },
                                {
                                    "LOGIN": "emese",
                                    "NEV": "Kuruc Emese",
                                    "mettol": "2016-07-22",
                                    "meddig": "2016-07-24",
                                    "(No column name)": "NULL"
                                },
                                {
                                    "LOGIN": "emese",
                                    "NEV": "Kuruc Emese",
                                    "mettol": "2016-08-09",
                                    "meddig": "2016-08-12",
                                    "(No column name)": "NULL"
                                },
                                {
                                    "LOGIN": "emese",
                                    "NEV": "Kuruc Emese",
                                    "mettol": "2016-09-27",
                                    "meddig": "2016-09-28",
                                    "(No column name)": "NULL"
                                },
                                {
                                    "LOGIN": "emese",
                                    "NEV": "Kuruc Emese",
                                    "mettol": "2016-11-05",
                                    "meddig": "2016-11-09",
                                    "(No column name)": "NULL"
                                },
                                {
                                    "LOGIN": "emese",
                                    "NEV": "Kuruc Emese",
                                    "mettol": "2016-11-23",
                                    "meddig": "2016-11-27",
                                    "(No column name)": "NULL"
                                },
                                {
                                    "LOGIN": "emese",
                                    "NEV": "Kuruc Emese",
                                    "mettol": "2016-12-07",
                                    "meddig": "2016-12-08",
                                    "(No column name)": "NULL"
                                },
                                {
                                    "LOGIN": "emese",
                                    "NEV": "Kuruc Emese",
                                    "mettol": "2017-01-30",
                                    "meddig": "2017-01-31",
                                    "(No column name)": "NULL"
                                },
                                {
                                    "LOGIN": "eszter",
                                    "NEV": "Molnár Eszter",
                                    "mettol": "2016-08-12",
                                    "meddig": "2016-08-18",
                                    "(No column name)": "NULL"
                                },
                                {
                                    "LOGIN": "eszter",
                                    "NEV": "Molnár Eszter",
                                    "mettol": "2016-10-04",
                                    "meddig": "2016-10-10",
                                    "(No column name)": "NULL"
                                },
                                {
                                    "LOGIN": "eszter",
                                    "NEV": "Molnár Eszter",
                                    "mettol": "2016-10-26",
                                    "meddig": "2016-11-01",
                                    "(No column name)": "NULL"
                                },
                                {
                                    "LOGIN": "eszter",
                                    "NEV": "Molnár Eszter",
                                    "mettol": "2016-12-23",
                                    "meddig": "2016-12-28",
                                    "(No column name)": "NULL"
                                },
                                {
                                    "LOGIN": "eszter2",
                                    "NEV": "Balogh Eszter",
                                    "mettol": "2016-06-30",
                                    "meddig": "2016-07-07",
                                    "(No column name)": "NULL"
                                },
                                {
                                    "LOGIN": "eszter2",
                                    "NEV": "Balogh Eszter",
                                    "mettol": "2016-07-08",
                                    "meddig": "2016-07-09",
                                    "(No column name)": "NULL"
                                },
                                {
                                    "LOGIN": "eszter2",
                                    "NEV": "Balogh Eszter",
                                    "mettol": "2016-10-01",
                                    "meddig": "2016-10-05",
                                    "(No column name)": "NULL"
                                },
                                {
                                    "LOGIN": "eszter2",
                                    "NEV": "Balogh Eszter",
                                    "mettol": "2016-10-01",
                                    "meddig": "2016-10-06",
                                    "(No column name)": "3"
                                },
                                {
                                    "LOGIN": "eszter2",
                                    "NEV": "Balogh Eszter",
                                    "mettol": "2016-10-20",
                                    "meddig": "2016-10-25",
                                    "(No column name)": "NULL"
                                },
                                {
                                    "LOGIN": "eszter2",
                                    "NEV": "Balogh Eszter",
                                    "mettol": "2016-10-23",
                                    "meddig": "2016-10-30",
                                    "(No column name)": "NULL"
                                },
                                {
                                    "LOGIN": "eszter2",
                                    "NEV": "Balogh Eszter",
                                    "mettol": "2016-11-05",
                                    "meddig": "2016-11-12",
                                    "(No column name)": "NULL"
                                },
                                {
                                    "LOGIN": "eszter2",
                                    "NEV": "Balogh Eszter",
                                    "mettol": "2016-12-02",
                                    "meddig": "2016-12-07",
                                    "(No column name)": "NULL"
                                },
                                {
                                    "LOGIN": "eszter2",
                                    "NEV": "Balogh Eszter",
                                    "mettol": "2016-12-05",
                                    "meddig": "2016-12-08",
                                    "(No column name)": "NULL"
                                },
                                {
                                    "LOGIN": "eszter2",
                                    "NEV": "Balogh Eszter",
                                    "mettol": "2016-12-29",
                                    "meddig": "2017-02-04",
                                    "(No column name)": "NULL"
                                },
                                {
                                    "LOGIN": "eszter4",
                                    "NEV": "Fülöp Eszter",
                                    "mettol": "2017-01-05",
                                    "meddig": "2017-01-10",
                                    "(No column name)": "NULL"
                                },
                                {
                                    "LOGIN": "eszter4",
                                    "NEV": "Fülöp Eszter",
                                    "mettol": "2017-01-26",
                                    "meddig": "2017-02-02",
                                    "(No column name)": "NULL"
                                },
                                {
                                    "LOGIN": "eszter4",
                                    "NEV": "Fülöp Eszter",
                                    "mettol": "2017-02-26",
                                    "meddig": "2017-02-27",
                                    "(No column name)": "NULL"
                                },
                                {
                                    "LOGIN": "ESZTERE",
                                    "NEV": "Érsek Eszter",
                                    "mettol": "2016-05-30",
                                    "meddig": "2016-06-05",
                                    "(No column name)": "NULL"
                                },
                                {
                                    "LOGIN": "ESZTERE",
                                    "NEV": "Érsek Eszter",
                                    "mettol": "2016-07-19",
                                    "meddig": "2016-07-21",
                                    "(No column name)": "NULL"
                                },
                                {
                                    "LOGIN": "ESZTERE",
                                    "NEV": "Érsek Eszter",
                                    "mettol": "2016-11-01",
                                    "meddig": "2016-11-08",
                                    "(No column name)": "NULL"
                                },
                                {
                                    "LOGIN": "ESZTERE",
                                    "NEV": "Érsek Eszter",
                                    "mettol": "2017-02-10",
                                    "meddig": "2017-02-14",
                                    "(No column name)": "NULL"
                                },
                                {
                                    "LOGIN": "eva",
                                    "NEV": "Enyedi Éva",
                                    "mettol": "2016-10-06",
                                    "meddig": "2016-10-09",
                                    "(No column name)": "NULL"
                                },
                                {
                                    "LOGIN": "eva",
                                    "NEV": "Enyedi Éva",
                                    "mettol": "2017-01-14",
                                    "meddig": "2017-01-16",
                                    "(No column name)": "NULL"
                                },
                                {
                                    "LOGIN": "eva2",
                                    "NEV": "Perlinger Éva",
                                    "mettol": "2016-09-02",
                                    "meddig": "2016-09-03",
                                    "(No column name)": "NULL"
                                },
                                {
                                    "LOGIN": "eva2",
                                    "NEV": "Perlinger Éva",
                                    "mettol": "2016-11-06",
                                    "meddig": "2016-11-13",
                                    "(No column name)": "NULL"
                                },
                                {
                                    "LOGIN": "eva2",
                                    "NEV": "Perlinger Éva",
                                    "mettol": "2016-12-06",
                                    "meddig": "2016-12-11",
                                    "(No column name)": "NULL"
                                },
                                {
                                    "LOGIN": "eva2",
                                    "NEV": "Perlinger Éva",
                                    "mettol": "2017-01-06",
                                    "meddig": "2017-01-09",
                                    "(No column name)": "NULL"
                                },
                                {
                                    "LOGIN": "EVAV",
                                    "NEV": "Viktor Éva",
                                    "mettol": "2016-05-01",
                                    "meddig": "2016-05-05",
                                    "(No column name)": "NULL"
                                },
                                {
                                    "LOGIN": "EVAV",
                                    "NEV": "Viktor Éva",
                                    "mettol": "2016-08-31",
                                    "meddig": "2016-09-04",
                                    "(No column name)": "NULL"
                                },
                                {
                                    "LOGIN": "EVAV",
                                    "NEV": "Viktor Éva",
                                    "mettol": "2016-10-15",
                                    "meddig": "2016-10-21",
                                    "(No column name)": "NULL"
                                },
                                {
                                    "LOGIN": "EVAV",
                                    "NEV": "Viktor Éva",
                                    "mettol": "2016-10-16",
                                    "meddig": "2016-10-23",
                                    "(No column name)": "NULL"
                                },
                                {
                                    "LOGIN": "EVAV",
                                    "NEV": "Viktor Éva",
                                    "mettol": "2017-02-04",
                                    "meddig": "2017-02-11",
                                    "(No column name)": "NULL"
                                },
                                {
                                    "LOGIN": "ferenc1",
                                    "NEV": "Orosz Ferenc",
                                    "mettol": "2016-05-08",
                                    "meddig": "2016-05-11",
                                    "(No column name)": "NULL"
                                },
                                {
                                    "LOGIN": "ferenc1",
                                    "NEV": "Orosz Ferenc",
                                    "mettol": "2016-06-16",
                                    "meddig": "2016-06-22",
                                    "(No column name)": "NULL"
                                },
                                {
                                    "LOGIN": "ferenc1",
                                    "NEV": "Orosz Ferenc",
                                    "mettol": "2016-10-08",
                                    "meddig": "2016-10-09",
                                    "(No column name)": "NULL"
                                },
                                {
                                    "LOGIN": "ferenc1",
                                    "NEV": "Orosz Ferenc",
                                    "mettol": "2016-11-07",
                                    "meddig": "2016-11-08",
                                    "(No column name)": "NULL"
                                },
                                {
                                    "LOGIN": "fruzsina4",
                                    "NEV": "Frank Fruzsina",
                                    "mettol": "2016-06-02",
                                    "meddig": "2016-06-04",
                                    "(No column name)": "NULL"
                                },
                                {
                                    "LOGIN": "fruzsina4",
                                    "NEV": "Frank Fruzsina",
                                    "mettol": "2016-07-01",
                                    "meddig": "2016-07-04",
                                    "(No column name)": "NULL"
                                },
                                {
                                    "LOGIN": "fruzsina4",
                                    "NEV": "Frank Fruzsina",
                                    "mettol": "2016-07-13",
                                    "meddig": "2016-07-19",
                                    "(No column name)": "NULL"
                                },
                                {
                                    "LOGIN": "fruzsina4",
                                    "NEV": "Frank Fruzsina",
                                    "mettol": "2016-08-27",
                                    "meddig": "2016-08-30",
                                    "(No column name)": "NULL"
                                },
                                {
                                    "LOGIN": "fruzsina4",
                                    "NEV": "Frank Fruzsina",
                                    "mettol": "2016-09-29",
                                    "meddig": "2016-10-01",
                                    "(No column name)": "NULL"
                                },
                                {
                                    "LOGIN": "fruzsina4",
                                    "NEV": "Frank Fruzsina",
                                    "mettol": "2016-11-22",
                                    "meddig": "2016-11-24",
                                    "(No column name)": "NULL"
                                },
                                {
                                    "LOGIN": "fruzsina4",
                                    "NEV": "Frank Fruzsina",
                                    "mettol": "2016-12-16",
                                    "meddig": "2016-12-21",
                                    "(No column name)": "NULL"
                                },
                                {
                                    "LOGIN": "fruzsina4",
                                    "NEV": "Frank Fruzsina",
                                    "mettol": "2017-01-22",
                                    "meddig": "2017-01-25",
                                    "(No column name)": "NULL"
                                },
                                {
                                    "LOGIN": "gabor1",
                                    "NEV": "Köves Gábor",
                                    "mettol": "2016-06-20",
                                    "meddig": "2016-06-21",
                                    "(No column name)": "NULL"
                                },
                                {
                                    "LOGIN": "gabor1",
                                    "NEV": "Köves Gábor",
                                    "mettol": "2016-07-12",
                                    "meddig": "2016-07-15",
                                    "(No column name)": "NULL"
                                },
                                {
                                    "LOGIN": "gabor1",
                                    "NEV": "Köves Gábor",
                                    "mettol": "2016-07-28",
                                    "meddig": "2016-07-30",
                                    "(No column name)": "NULL"
                                },
                                {
                                    "LOGIN": "gabor1",
                                    "NEV": "Köves Gábor",
                                    "mettol": "2016-09-02",
                                    "meddig": "2016-09-03",
                                    "(No column name)": "NULL"
                                },
                                {
                                    "LOGIN": "gabor1",
                                    "NEV": "Köves Gábor",
                                    "mettol": "2016-10-20",
                                    "meddig": "2016-10-24",
                                    "(No column name)": "NULL"
                                },
                                {
                                    "LOGIN": "gabor1",
                                    "NEV": "Köves Gábor",
                                    "mettol": "2016-11-19",
                                    "meddig": "2016-11-22",
                                    "(No column name)": "NULL"
                                },
                                {
                                    "LOGIN": "gabor4",
                                    "NEV": "Telek Gábor",
                                    "mettol": "2016-04-26",
                                    "meddig": "2016-04-29",
                                    "(No column name)": "NULL"
                                },
                                {
                                    "LOGIN": "gabor4",
                                    "NEV": "Telek Gábor",
                                    "mettol": "2016-05-30",
                                    "meddig": "2016-06-05",
                                    "(No column name)": "NULL"
                                },
                                {
                                    "LOGIN": "gabor4",
                                    "NEV": "Telek Gábor",
                                    "mettol": "2016-08-31",
                                    "meddig": "2016-09-06",
                                    "(No column name)": "NULL"
                                },
                                {
                                    "LOGIN": "gabor4",
                                    "NEV": "Telek Gábor",
                                    "mettol": "2016-11-07",
                                    "meddig": "2016-11-13",
                                    "(No column name)": "NULL"
                                },
                                {
                                    "LOGIN": "gabriella1",
                                    "NEV": "Nagy Gabriella",
                                    "mettol": "2016-04-21",
                                    "meddig": "2016-04-24",
                                    "(No column name)": "NULL"
                                },
                                {
                                    "LOGIN": "gabriella1",
                                    "NEV": "Nagy Gabriella",
                                    "mettol": "2016-07-10",
                                    "meddig": "2016-07-11",
                                    "(No column name)": "NULL"
                                },
                                {
                                    "LOGIN": "gabriella1",
                                    "NEV": "Nagy Gabriella",
                                    "mettol": "2016-07-24",
                                    "meddig": "2016-07-31",
                                    "(No column name)": "NULL"
                                },
                                {
                                    "LOGIN": "gabriella1",
                                    "NEV": "Nagy Gabriella",
                                    "mettol": "2017-02-04",
                                    "meddig": "2017-02-11",
                                    "(No column name)": "NULL"
                                },
                                {
                                    "LOGIN": "gabriella1",
                                    "NEV": "Nagy Gabriella",
                                    "mettol": "2017-02-12",
                                    "meddig": "2017-02-13",
                                    "(No column name)": "NULL"
                                },
                                {
                                    "LOGIN": "gabriella1",
                                    "NEV": "Nagy Gabriella",
                                    "mettol": "2017-02-21",
                                    "meddig": "2017-02-27",
                                    "(No column name)": "NULL"
                                },
                                {
                                    "LOGIN": "gabriella10",
                                    "NEV": "Vida Gabriella",
                                    "mettol": "2016-10-01",
                                    "meddig": "2016-10-06",
                                    "(No column name)": "NULL"
                                },
                                {
                                    "LOGIN": "georgij",
                                    "NEV": "Nyíri Georgij",
                                    "mettol": "2016-06-16",
                                    "meddig": "2016-06-20",
                                    "(No column name)": "NULL"
                                },
                                {
                                    "LOGIN": "georgij",
                                    "NEV": "Nyíri Georgij",
                                    "mettol": "2016-08-16",
                                    "meddig": "2016-08-22",
                                    "(No column name)": "NULL"
                                },
                                {
                                    "LOGIN": "georgij",
                                    "NEV": "Nyíri Georgij",
                                    "mettol": "2016-08-28",
                                    "meddig": "2016-09-04",
                                    "(No column name)": "NULL"
                                },
                                {
                                    "LOGIN": "georgij",
                                    "NEV": "Nyíri Georgij",
                                    "mettol": "2016-09-18",
                                    "meddig": "2016-09-24",
                                    "(No column name)": "NULL"
                                },
                                {
                                    "LOGIN": "gusztav",
                                    "NEV": "Bárci Gusztáv",
                                    "mettol": "2016-05-06",
                                    "meddig": "2016-05-13",
                                    "(No column name)": "NULL"
                                },
                                {
                                    "LOGIN": "gusztav",
                                    "NEV": "Bárci Gusztáv",
                                    "mettol": "2016-08-05",
                                    "meddig": "2016-08-11",
                                    "(No column name)": "NULL"
                                },
                                {
                                    "LOGIN": "gusztav",
                                    "NEV": "Bárci Gusztáv",
                                    "mettol": "2016-10-01",
                                    "meddig": "2016-10-03",
                                    "(No column name)": "NULL"
                                },
                                {
                                    "LOGIN": "gusztav",
                                    "NEV": "Bárci Gusztáv",
                                    "mettol": "2017-02-03",
                                    "meddig": "2017-02-09",
                                    "(No column name)": "NULL"
                                },
                                {
                                    "LOGIN": "gusztav",
                                    "NEV": "Bárci Gusztáv",
                                    "mettol": "2017-02-23",
                                    "meddig": "2017-03-01",
                                    "(No column name)": "NULL"
                                },
                                {
                                    "LOGIN": "GYONGYIK",
                                    "NEV": "Kornseé Gyöngyi",
                                    "mettol": "2016-06-02",
                                    "meddig": "2016-06-05",
                                    "(No column name)": "NULL"
                                },
                                {
                                    "LOGIN": "GYONGYIK",
                                    "NEV": "Kornseé Gyöngyi",
                                    "mettol": "2016-06-10",
                                    "meddig": "2016-06-17",
                                    "(No column name)": "NULL"
                                },
                                {
                                    "LOGIN": "GYONGYIK",
                                    "NEV": "Kornseé Gyöngyi",
                                    "mettol": "2016-07-01",
                                    "meddig": "2016-07-05",
                                    "(No column name)": "NULL"
                                },
                                {
                                    "LOGIN": "GYONGYIK",
                                    "NEV": "Kornseé Gyöngyi",
                                    "mettol": "2016-08-17",
                                    "meddig": "2016-08-21",
                                    "(No column name)": "NULL"
                                },
                                {
                                    "LOGIN": "GYONGYIK",
                                    "NEV": "Kornseé Gyöngyi",
                                    "mettol": "2016-11-08",
                                    "meddig": "2016-11-13",
                                    "(No column name)": "NULL"
                                },
                                {
                                    "LOGIN": "GYONGYIK",
                                    "NEV": "Kornseé Gyöngyi",
                                    "mettol": "2016-12-01",
                                    "meddig": "2016-12-08",
                                    "(No column name)": "NULL"
                                },
                                {
                                    "LOGIN": "GYONGYIK",
                                    "NEV": "Kornseé Gyöngyi",
                                    "mettol": "2017-01-22",
                                    "meddig": "2017-01-29",
                                    "(No column name)": "NULL"
                                },
                                {
                                    "LOGIN": "GYORGYO",
                                    "NEV": "Oroszi György",
                                    "mettol": "2016-05-27",
                                    "meddig": "2016-05-28",
                                    "(No column name)": "NULL"
                                },
                                {
                                    "LOGIN": "GYORGYO",
                                    "NEV": "Oroszi György",
                                    "mettol": "2016-06-01",
                                    "meddig": "2016-06-07",
                                    "(No column name)": "NULL"
                                },
                                {
                                    "LOGIN": "GYORGYO",
                                    "NEV": "Oroszi György",
                                    "mettol": "2016-06-10",
                                    "meddig": "2016-06-15",
                                    "(No column name)": "NULL"
                                },
                                {
                                    "LOGIN": "GYORGYO",
                                    "NEV": "Oroszi György",
                                    "mettol": "2016-07-18",
                                    "meddig": "2016-07-25",
                                    "(No column name)": "NULL"
                                },
                                {
                                    "LOGIN": "GYORGYO",
                                    "NEV": "Oroszi György",
                                    "mettol": "2016-07-28",
                                    "meddig": "2016-08-03",
                                    "(No column name)": "NULL"
                                },
                                {
                                    "LOGIN": "GYORGYO",
                                    "NEV": "Oroszi György",
                                    "mettol": "2016-10-28",
                                    "meddig": "2016-10-31",
                                    "(No column name)": "NULL"
                                },
                                {
                                    "LOGIN": "GYORGYO",
                                    "NEV": "Oroszi György",
                                    "mettol": "2017-02-13",
                                    "meddig": "2017-02-15",
                                    "(No column name)": "NULL"
                                },
                                {
                                    "LOGIN": "GYORGYO",
                                    "NEV": "Oroszi György",
                                    "mettol": "2017-02-24",
                                    "meddig": "2017-02-25",
                                    "(No column name)": "NULL"
                                },
                                {
                                    "LOGIN": "henrik3",
                                    "NEV": "Nádudvari Henrik",
                                    "mettol": "2016-08-24",
                                    "meddig": "2016-08-28",
                                    "(No column name)": "NULL"
                                },
                                {
                                    "LOGIN": "henrik3",
                                    "NEV": "Nádudvari Henrik",
                                    "mettol": "2016-12-29",
                                    "meddig": "2017-01-03",
                                    "(No column name)": "NULL"
                                },
                                {
                                    "LOGIN": "henrik3",
                                    "NEV": "Nádudvari Henrik",
                                    "mettol": "2017-01-27",
                                    "meddig": "2017-01-28",
                                    "(No column name)": "NULL"
                                },
                                {
                                    "LOGIN": "IBOLYAA",
                                    "NEV": "Andor Ibolya",
                                    "mettol": "2016-08-29",
                                    "meddig": "2016-08-31",
                                    "(No column name)": "NULL"
                                },
                                {
                                    "LOGIN": "IBOLYAA",
                                    "NEV": "Andor Ibolya",
                                    "mettol": "2016-10-23",
                                    "meddig": "2016-10-28",
                                    "(No column name)": "NULL"
                                },
                                {
                                    "LOGIN": "IBOLYAA",
                                    "NEV": "Andor Ibolya",
                                    "mettol": "2017-01-17",
                                    "meddig": "2017-01-23",
                                    "(No column name)": "NULL"
                                },
                                {
                                    "LOGIN": "ilona3",
                                    "NEV": "Bosnyák Ilona",
                                    "mettol": "2016-07-31",
                                    "meddig": "2016-08-06",
                                    "(No column name)": "NULL"
                                },
                                {
                                    "LOGIN": "ilona3",
                                    "NEV": "Bosnyák Ilona",
                                    "mettol": "2016-08-04",
                                    "meddig": "2016-08-08",
                                    "(No column name)": "NULL"
                                },
                                {
                                    "LOGIN": "ilona3",
                                    "NEV": "Bosnyák Ilona",
                                    "mettol": "2016-11-04",
                                    "meddig": "2016-11-06",
                                    "(No column name)": "NULL"
                                },
                                {
                                    "LOGIN": "ilona3",
                                    "NEV": "Bosnyák Ilona",
                                    "mettol": "2016-12-25",
                                    "meddig": "2016-12-31",
                                    "(No column name)": "NULL"
                                },
                                {
                                    "LOGIN": "imre",
                                    "NEV": "Búza Imre",
                                    "mettol": "2016-09-17",
                                    "meddig": "2016-09-19",
                                    "(No column name)": "NULL"
                                },
                                {
                                    "LOGIN": "imre",
                                    "NEV": "Búza Imre",
                                    "mettol": "2016-10-28",
                                    "meddig": "2016-10-29",
                                    "(No column name)": "NULL"
                                },
                                {
                                    "LOGIN": "imre1",
                                    "NEV": "Papp Imre",
                                    "mettol": "2016-06-23",
                                    "meddig": "2016-06-26",
                                    "(No column name)": "NULL"
                                },
                                {
                                    "LOGIN": "imre1",
                                    "NEV": "Papp Imre",
                                    "mettol": "2016-06-27",
                                    "meddig": "2016-06-28",
                                    "(No column name)": "NULL"
                                },
                                {
                                    "LOGIN": "imre1",
                                    "NEV": "Papp Imre",
                                    "mettol": "2016-08-21",
                                    "meddig": "2016-08-27",
                                    "(No column name)": "NULL"
                                },
                                {
                                    "LOGIN": "imre1",
                                    "NEV": "Papp Imre",
                                    "mettol": "2016-08-23",
                                    "meddig": "2016-08-25",
                                    "(No column name)": "NULL"
                                },
                                {
                                    "LOGIN": "imre1",
                                    "NEV": "Papp Imre",
                                    "mettol": "2016-08-29",
                                    "meddig": "2016-08-31",
                                    "(No column name)": "NULL"
                                },
                                {
                                    "LOGIN": "imre1",
                                    "NEV": "Papp Imre",
                                    "mettol": "2017-02-01",
                                    "meddig": "2017-02-04",
                                    "(No column name)": "NULL"
                                },
                                {
                                    "LOGIN": "imre1",
                                    "NEV": "Papp Imre",
                                    "mettol": "2017-02-05",
                                    "meddig": "2017-02-07",
                                    "(No column name)": "NULL"
                                },
                                {
                                    "LOGIN": "istvan",
                                    "NEV": "Soós István",
                                    "mettol": "2016-10-07",
                                    "meddig": "2016-10-10",
                                    "(No column name)": "NULL"
                                },
                                {
                                    "LOGIN": "istvan",
                                    "NEV": "Soós István",
                                    "mettol": "2016-11-22",
                                    "meddig": "2016-11-24",
                                    "(No column name)": "NULL"
                                },
                                {
                                    "LOGIN": "istvan",
                                    "NEV": "Soós István",
                                    "mettol": "2017-01-02",
                                    "meddig": "2017-01-05",
                                    "(No column name)": "NULL"
                                },
                                {
                                    "LOGIN": "istvan1",
                                    "NEV": "Vizi István",
                                    "mettol": "2016-04-16",
                                    "meddig": "2016-04-22",
                                    "(No column name)": "NULL"
                                },
                                {
                                    "LOGIN": "istvan1",
                                    "NEV": "Vizi István",
                                    "mettol": "2016-04-24",
                                    "meddig": "2016-04-28",
                                    "(No column name)": "NULL"
                                },
                                {
                                    "LOGIN": "istvan1",
                                    "NEV": "Vizi István",
                                    "mettol": "2016-07-19",
                                    "meddig": "2016-07-24",
                                    "(No column name)": "NULL"
                                },
                                {
                                    "LOGIN": "istvan1",
                                    "NEV": "Vizi István",
                                    "mettol": "2017-02-07",
                                    "meddig": "2017-02-10",
                                    "(No column name)": "NULL"
                                },
                                {
                                    "LOGIN": "ISTVANV",
                                    "NEV": "Varga István",
                                    "mettol": "2016-07-01",
                                    "meddig": "2016-07-04",
                                    "(No column name)": "NULL"
                                },
                                {
                                    "LOGIN": "ISTVANV",
                                    "NEV": "Varga István",
                                    "mettol": "2016-09-29",
                                    "meddig": "2016-10-01",
                                    "(No column name)": "NULL"
                                },
                                {
                                    "LOGIN": "janos3",
                                    "NEV": "Harangozó János",
                                    "mettol": "2016-06-04",
                                    "meddig": "2016-06-06",
                                    "(No column name)": "NULL"
                                },
                                {
                                    "LOGIN": "janos3",
                                    "NEV": "Harangozó János",
                                    "mettol": "2016-08-24",
                                    "meddig": "2016-08-25",
                                    "(No column name)": "NULL"
                                },
                                {
                                    "LOGIN": "janos3",
                                    "NEV": "Harangozó János",
                                    "mettol": "2016-10-03",
                                    "meddig": "2016-10-08",
                                    "(No column name)": "NULL"
                                },
                                {
                                    "LOGIN": "janos3",
                                    "NEV": "Harangozó János",
                                    "mettol": "2016-10-22",
                                    "meddig": "2016-10-23",
                                    "(No column name)": "NULL"
                                },
                                {
                                    "LOGIN": "janos3",
                                    "NEV": "Harangozó János",
                                    "mettol": "2017-02-12",
                                    "meddig": "2017-02-14",
                                    "(No column name)": "NULL"
                                },
                                {
                                    "LOGIN": "JANOSG",
                                    "NEV": "Giliga János",
                                    "mettol": "2016-05-09",
                                    "meddig": "2016-05-15",
                                    "(No column name)": "NULL"
                                },
                                {
                                    "LOGIN": "JANOSG",
                                    "NEV": "Giliga János",
                                    "mettol": "2016-08-16",
                                    "meddig": "2016-08-23",
                                    "(No column name)": "NULL"
                                },
                                {
                                    "LOGIN": "JANOSG",
                                    "NEV": "Giliga János",
                                    "mettol": "2016-08-30",
                                    "meddig": "2016-09-03",
                                    "(No column name)": "NULL"
                                },
                                {
                                    "LOGIN": "JANOSG",
                                    "NEV": "Giliga János",
                                    "mettol": "2016-11-07",
                                    "meddig": "2016-11-14",
                                    "(No column name)": "NULL"
                                },
                                {
                                    "LOGIN": "JANOSG",
                                    "NEV": "Giliga János",
                                    "mettol": "2016-12-28",
                                    "meddig": "2016-12-30",
                                    "(No column name)": "NULL"
                                },
                                {
                                    "LOGIN": "JANOSG",
                                    "NEV": "Giliga János",
                                    "mettol": "2017-01-10",
                                    "meddig": "2017-01-15",
                                    "(No column name)": "NULL"
                                },
                                {
                                    "LOGIN": "JANOSG",
                                    "NEV": "Giliga János",
                                    "mettol": "2017-01-31",
                                    "meddig": "2017-02-05",
                                    "(No column name)": "NULL"
                                },
                                {
                                    "LOGIN": "JANOSP",
                                    "NEV": "Pálinkás János",
                                    "mettol": "2016-07-04",
                                    "meddig": "2016-07-11",
                                    "(No column name)": "NULL"
                                },
                                {
                                    "LOGIN": "JANOSP",
                                    "NEV": "Pálinkás János",
                                    "mettol": "2016-11-23",
                                    "meddig": "2016-11-28",
                                    "(No column name)": "NULL"
                                },
                                {
                                    "LOGIN": "JANOSP",
                                    "NEV": "Pálinkás János",
                                    "mettol": "2016-11-25",
                                    "meddig": "2016-11-27",
                                    "(No column name)": "NULL"
                                },
                                {
                                    "LOGIN": "JANOSP",
                                    "NEV": "Pálinkás János",
                                    "mettol": "2016-12-18",
                                    "meddig": "2016-12-21",
                                    "(No column name)": "NULL"
                                },
                                {
                                    "LOGIN": "jozsef",
                                    "NEV": "Gergely József",
                                    "mettol": "2016-09-13",
                                    "meddig": "2016-09-19",
                                    "(No column name)": "NULL"
                                },
                                {
                                    "LOGIN": "jozsef",
                                    "NEV": "Gergely József",
                                    "mettol": "2016-10-08",
                                    "meddig": "2016-10-10",
                                    "(No column name)": "NULL"
                                },
                                {
                                    "LOGIN": "jozsef",
                                    "NEV": "Gergely József",
                                    "mettol": "2016-12-06",
                                    "meddig": "2016-12-07",
                                    "(No column name)": "NULL"
                                },
                                {
                                    "LOGIN": "jozsef2",
                                    "NEV": "Vajda József",
                                    "mettol": "2016-07-06",
                                    "meddig": "2016-07-11",
                                    "(No column name)": "NULL"
                                },
                                {
                                    "LOGIN": "jozsef2",
                                    "NEV": "Vajda József",
                                    "mettol": "2016-07-16",
                                    "meddig": "2016-07-20",
                                    "(No column name)": "NULL"
                                },
                                {
                                    "LOGIN": "jozsef2",
                                    "NEV": "Vajda József",
                                    "mettol": "2016-09-09",
                                    "meddig": "2016-09-15",
                                    "(No column name)": "NULL"
                                },
                                {
                                    "LOGIN": "jozsef2",
                                    "NEV": "Vajda József",
                                    "mettol": "2016-11-23",
                                    "meddig": "2016-11-29",
                                    "(No column name)": "NULL"
                                },
                                {
                                    "LOGIN": "jozsef2",
                                    "NEV": "Vajda József",
                                    "mettol": "2016-11-25",
                                    "meddig": "2016-11-29",
                                    "(No column name)": "NULL"
                                },
                                {
                                    "LOGIN": "JOZSEFG",
                                    "NEV": "Gyuris József",
                                    "mettol": "2016-05-02",
                                    "meddig": "2016-05-06",
                                    "(No column name)": "NULL"
                                },
                                {
                                    "LOGIN": "JOZSEFG",
                                    "NEV": "Gyuris József",
                                    "mettol": "2016-05-23",
                                    "meddig": "2016-05-25",
                                    "(No column name)": "NULL"
                                },
                                {
                                    "LOGIN": "JOZSEFG",
                                    "NEV": "Gyuris József",
                                    "mettol": "2016-06-04",
                                    "meddig": "2016-06-09",
                                    "(No column name)": "NULL"
                                },
                                {
                                    "LOGIN": "JOZSEFG",
                                    "NEV": "Gyuris József",
                                    "mettol": "2016-08-24",
                                    "meddig": "2016-08-27",
                                    "(No column name)": "NULL"
                                },
                                {
                                    "LOGIN": "JOZSEFG",
                                    "NEV": "Gyuris József",
                                    "mettol": "2017-01-09",
                                    "meddig": "2017-01-13",
                                    "(No column name)": "NULL"
                                },
                                {
                                    "LOGIN": "JOZSEFG",
                                    "NEV": "Gyuris József",
                                    "mettol": "2017-01-22",
                                    "meddig": "2017-01-26",
                                    "(No column name)": "NULL"
                                },
                                {
                                    "LOGIN": "JOZSEFG",
                                    "NEV": "Gyuris József",
                                    "mettol": "2017-02-24",
                                    "meddig": "2017-03-03",
                                    "(No column name)": "NULL"
                                },
                                {
                                    "LOGIN": "JUDITH",
                                    "NEV": "Hídasi Judit",
                                    "mettol": "2016-06-06",
                                    "meddig": "2016-06-10",
                                    "(No column name)": "NULL"
                                },
                                {
                                    "LOGIN": "JUDITH",
                                    "NEV": "Hídasi Judit",
                                    "mettol": "2016-07-28",
                                    "meddig": "2016-07-30",
                                    "(No column name)": "NULL"
                                },
                                {
                                    "LOGIN": "JUDITH",
                                    "NEV": "Hídasi Judit",
                                    "mettol": "2016-12-19",
                                    "meddig": "2016-12-26",
                                    "(No column name)": "NULL"
                                },
                                {
                                    "LOGIN": "julia",
                                    "NEV": "Tóth Júlia",
                                    "mettol": "2016-04-21",
                                    "meddig": "2016-04-26",
                                    "(No column name)": "NULL"
                                },
                                {
                                    "LOGIN": "julia",
                                    "NEV": "Tóth Júlia",
                                    "mettol": "2016-05-12",
                                    "meddig": "2016-05-17",
                                    "(No column name)": "NULL"
                                },
                                {
                                    "LOGIN": "julia",
                                    "NEV": "Tóth Júlia",
                                    "mettol": "2016-06-07",
                                    "meddig": "2016-06-08",
                                    "(No column name)": "NULL"
                                },
                                {
                                    "LOGIN": "julia",
                                    "NEV": "Tóth Júlia",
                                    "mettol": "2016-07-20",
                                    "meddig": "2016-07-22",
                                    "(No column name)": "NULL"
                                },
                                {
                                    "LOGIN": "julia",
                                    "NEV": "Tóth Júlia",
                                    "mettol": "2017-02-27",
                                    "meddig": "2017-03-06",
                                    "(No column name)": "NULL"
                                },
                                {
                                    "LOGIN": "julia4",
                                    "NEV": "Nagy Júlia",
                                    "mettol": "2016-11-07",
                                    "meddig": "2016-11-12",
                                    "(No column name)": "NULL"
                                },
                                {
                                    "LOGIN": "julia4",
                                    "NEV": "Nagy Júlia",
                                    "mettol": "2017-02-04",
                                    "meddig": "2017-02-11",
                                    "(No column name)": "NULL"
                                },
                                {
                                    "LOGIN": "julianna4",
                                    "NEV": "Szabó Julianna",
                                    "mettol": "2016-07-20",
                                    "meddig": "2016-07-26",
                                    "(No column name)": "NULL"
                                },
                                {
                                    "LOGIN": "julianna4",
                                    "NEV": "Szabó Julianna",
                                    "mettol": "2016-10-29",
                                    "meddig": "2016-10-31",
                                    "(No column name)": "NULL"
                                },
                                {
                                    "LOGIN": "julianna4",
                                    "NEV": "Szabó Julianna",
                                    "mettol": "2016-11-03",
                                    "meddig": "2016-11-04",
                                    "(No column name)": "NULL"
                                },
                                {
                                    "LOGIN": "julianna4",
                                    "NEV": "Szabó Julianna",
                                    "mettol": "2016-11-27",
                                    "meddig": "2016-12-04",
                                    "(No column name)": "NULL"
                                },
                                {
                                    "LOGIN": "kata",
                                    "NEV": "Gondos Katalin",
                                    "mettol": "2016-04-10",
                                    "meddig": "2016-04-11",
                                    "(No column name)": "NULL"
                                },
                                {
                                    "LOGIN": "kata",
                                    "NEV": "Gondos Katalin",
                                    "mettol": "2016-04-25",
                                    "meddig": "2016-05-01",
                                    "(No column name)": "NULL"
                                },
                                {
                                    "LOGIN": "kata",
                                    "NEV": "Gondos Katalin",
                                    "mettol": "2016-05-31",
                                    "meddig": "2016-06-01",
                                    "(No column name)": "NULL"
                                },
                                {
                                    "LOGIN": "kata",
                                    "NEV": "Gondos Katalin",
                                    "mettol": "2016-06-07",
                                    "meddig": "2016-06-12",
                                    "(No column name)": "NULL"
                                },
                                {
                                    "LOGIN": "kata",
                                    "NEV": "Gondos Katalin",
                                    "mettol": "2016-07-01",
                                    "meddig": "2016-07-07",
                                    "(No column name)": "NULL"
                                },
                                {
                                    "LOGIN": "kata",
                                    "NEV": "Gondos Katalin",
                                    "mettol": "2016-07-03",
                                    "meddig": "2016-07-06",
                                    "(No column name)": "NULL"
                                },
                                {
                                    "LOGIN": "kata",
                                    "NEV": "Gondos Katalin",
                                    "mettol": "2016-07-07",
                                    "meddig": "2016-07-09",
                                    "(No column name)": "NULL"
                                },
                                {
                                    "LOGIN": "kata",
                                    "NEV": "Gondos Katalin",
                                    "mettol": "2016-08-24",
                                    "meddig": "2016-08-27",
                                    "(No column name)": "NULL"
                                },
                                {
                                    "LOGIN": "kata",
                                    "NEV": "Gondos Katalin",
                                    "mettol": "2016-09-19",
                                    "meddig": "2016-09-20",
                                    "(No column name)": "NULL"
                                },
                                {
                                    "LOGIN": "kata",
                                    "NEV": "Gondos Katalin",
                                    "mettol": "2017-01-15",
                                    "meddig": "2017-01-21",
                                    "(No column name)": "NULL"
                                },
                                {
                                    "LOGIN": "katalin",
                                    "NEV": "Horváth Katalin",
                                    "mettol": "2016-04-10",
                                    "meddig": "2016-04-17",
                                    "(No column name)": "NULL"
                                },
                                {
                                    "LOGIN": "katalin",
                                    "NEV": "Horváth Katalin",
                                    "mettol": "2016-05-21",
                                    "meddig": "2016-05-26",
                                    "(No column name)": "NULL"
                                },
                                {
                                    "LOGIN": "katalin",
                                    "NEV": "Horváth Katalin",
                                    "mettol": "2016-07-06",
                                    "meddig": "2016-07-11",
                                    "(No column name)": "NULL"
                                },
                                {
                                    "LOGIN": "katalin",
                                    "NEV": "Horváth Katalin",
                                    "mettol": "2016-07-28",
                                    "meddig": "2016-07-29",
                                    "(No column name)": "NULL"
                                },
                                {
                                    "LOGIN": "katalin",
                                    "NEV": "Horváth Katalin",
                                    "mettol": "2016-10-26",
                                    "meddig": "2016-10-30",
                                    "(No column name)": "NULL"
                                },
                                {
                                    "LOGIN": "katalin",
                                    "NEV": "Horváth Katalin",
                                    "mettol": "2016-12-13",
                                    "meddig": "2016-12-19",
                                    "(No column name)": "NULL"
                                },
                                {
                                    "LOGIN": "katalin",
                                    "NEV": "Horváth Katalin",
                                    "mettol": "2016-12-17",
                                    "meddig": "2016-12-24",
                                    "(No column name)": "NULL"
                                },
                                {
                                    "LOGIN": "katalin",
                                    "NEV": "Horváth Katalin",
                                    "mettol": "2016-12-24",
                                    "meddig": "2016-12-27",
                                    "(No column name)": "NULL"
                                },
                                {
                                    "LOGIN": "katalin",
                                    "NEV": "Horváth Katalin",
                                    "mettol": "2017-02-24",
                                    "meddig": "2017-02-27",
                                    "(No column name)": "NULL"
                                },
                                {
                                    "LOGIN": "katalin4",
                                    "NEV": "Kertész Katalin",
                                    "mettol": "2016-07-01",
                                    "meddig": "2016-07-07",
                                    "(No column name)": "NULL"
                                },
                                {
                                    "LOGIN": "katalin4",
                                    "NEV": "Kertész Katalin",
                                    "mettol": "2016-07-03",
                                    "meddig": "2016-07-04",
                                    "(No column name)": "NULL"
                                },
                                {
                                    "LOGIN": "katalin4",
                                    "NEV": "Kertész Katalin",
                                    "mettol": "2016-11-27",
                                    "meddig": "2016-12-04",
                                    "(No column name)": "NULL"
                                },
                                {
                                    "LOGIN": "katalin4",
                                    "NEV": "Kertész Katalin",
                                    "mettol": "2016-12-04",
                                    "meddig": "2016-12-09",
                                    "(No column name)": "NULL"
                                },
                                {
                                    "LOGIN": "katalin4",
                                    "NEV": "Kertész Katalin",
                                    "mettol": "2017-01-18",
                                    "meddig": "2017-01-20",
                                    "(No column name)": "NULL"
                                },
                                {
                                    "LOGIN": "katalin4",
                                    "NEV": "Kertész Katalin",
                                    "mettol": "2017-01-24",
                                    "meddig": "2017-01-31",
                                    "(No column name)": "NULL"
                                },
                                {
                                    "LOGIN": "kati",
                                    "NEV": "Zatykó Katalin",
                                    "mettol": "2016-06-06",
                                    "meddig": "2016-06-10",
                                    "(No column name)": "NULL"
                                },
                                {
                                    "LOGIN": "kati",
                                    "NEV": "Zatykó Katalin",
                                    "mettol": "2016-06-06",
                                    "meddig": "2016-06-11",
                                    "(No column name)": "2"
                                },
                                {
                                    "LOGIN": "kati",
                                    "NEV": "Zatykó Katalin",
                                    "mettol": "2016-07-13",
                                    "meddig": "2016-07-20",
                                    "(No column name)": "NULL"
                                },
                                {
                                    "LOGIN": "kati",
                                    "NEV": "Zatykó Katalin",
                                    "mettol": "2016-07-27",
                                    "meddig": "2016-08-03",
                                    "(No column name)": "NULL"
                                },
                                {
                                    "LOGIN": "kati",
                                    "NEV": "Zatykó Katalin",
                                    "mettol": "2016-08-03",
                                    "meddig": "2016-08-07",
                                    "(No column name)": "NULL"
                                },
                                {
                                    "LOGIN": "kati",
                                    "NEV": "Zatykó Katalin",
                                    "mettol": "2016-10-26",
                                    "meddig": "2016-10-28",
                                    "(No column name)": "NULL"
                                },
                                {
                                    "LOGIN": "kati",
                                    "NEV": "Zatykó Katalin",
                                    "mettol": "2016-10-30",
                                    "meddig": "2016-11-01",
                                    "(No column name)": "NULL"
                                },
                                {
                                    "LOGIN": "katka",
                                    "NEV": "Kovács Katalin",
                                    "mettol": "2016-04-10",
                                    "meddig": "2016-04-12",
                                    "(No column name)": "NULL"
                                },
                                {
                                    "LOGIN": "katka",
                                    "NEV": "Kovács Katalin",
                                    "mettol": "2016-05-09",
                                    "meddig": "2016-05-15",
                                    "(No column name)": "NULL"
                                },
                                {
                                    "LOGIN": "katka",
                                    "NEV": "Kovács Katalin",
                                    "mettol": "2016-06-13",
                                    "meddig": "2016-06-18",
                                    "(No column name)": "NULL"
                                },
                                {
                                    "LOGIN": "katka",
                                    "NEV": "Kovács Katalin",
                                    "mettol": "2016-06-13",
                                    "meddig": "2016-06-19",
                                    "(No column name)": "1"
                                },
                                {
                                    "LOGIN": "katka",
                                    "NEV": "Kovács Katalin",
                                    "mettol": "2016-08-24",
                                    "meddig": "2016-08-26",
                                    "(No column name)": "NULL"
                                },
                                {
                                    "LOGIN": "katka",
                                    "NEV": "Kovács Katalin",
                                    "mettol": "2016-09-05",
                                    "meddig": "2016-09-10",
                                    "(No column name)": "NULL"
                                },
                                {
                                    "LOGIN": "katka",
                                    "NEV": "Kovács Katalin",
                                    "mettol": "2016-11-05",
                                    "meddig": "2016-11-08",
                                    "(No column name)": "NULL"
                                },
                                {
                                    "LOGIN": "katka",
                                    "NEV": "Kovács Katalin",
                                    "mettol": "2017-01-02",
                                    "meddig": "2017-01-05",
                                    "(No column name)": "NULL"
                                },
                                {
                                    "LOGIN": "katka",
                                    "NEV": "Kovács Katalin",
                                    "mettol": "2017-01-19",
                                    "meddig": "2017-01-20",
                                    "(No column name)": "NULL"
                                },
                                {
                                    "LOGIN": "klaudia2",
                                    "NEV": "Bakó Klaudia",
                                    "mettol": "2016-06-06",
                                    "meddig": "2016-06-08",
                                    "(No column name)": "NULL"
                                },
                                {
                                    "LOGIN": "klaudia2",
                                    "NEV": "Bakó Klaudia",
                                    "mettol": "2016-10-01",
                                    "meddig": "2016-10-02",
                                    "(No column name)": "NULL"
                                },
                                {
                                    "LOGIN": "klaudia2",
                                    "NEV": "Bakó Klaudia",
                                    "mettol": "2016-10-02",
                                    "meddig": "2016-10-05",
                                    "(No column name)": "NULL"
                                },
                                {
                                    "LOGIN": "kornel4",
                                    "NEV": "Lukács Kornél",
                                    "mettol": "2016-05-08",
                                    "meddig": "2016-05-14",
                                    "(No column name)": "NULL"
                                },
                                {
                                    "LOGIN": "kornel4",
                                    "NEV": "Lukács Kornél",
                                    "mettol": "2016-06-02",
                                    "meddig": "2016-06-09",
                                    "(No column name)": "NULL"
                                },
                                {
                                    "LOGIN": "kornel4",
                                    "NEV": "Lukács Kornél",
                                    "mettol": "2016-09-23",
                                    "meddig": "2016-09-24",
                                    "(No column name)": "NULL"
                                },
                                {
                                    "LOGIN": "kristof4",
                                    "NEV": "Poprádi Kristóf",
                                    "mettol": "2016-04-08",
                                    "meddig": "2016-04-14",
                                    "(No column name)": "NULL"
                                },
                                {
                                    "LOGIN": "kristof4",
                                    "NEV": "Poprádi Kristóf",
                                    "mettol": "2016-09-30",
                                    "meddig": "2016-10-04",
                                    "(No column name)": "NULL"
                                },
                                {
                                    "LOGIN": "kriszti",
                                    "NEV": "Horváth Krisztina",
                                    "mettol": "2016-05-19",
                                    "meddig": "2016-05-26",
                                    "(No column name)": "NULL"
                                },
                                {
                                    "LOGIN": "kriszti",
                                    "NEV": "Horváth Krisztina",
                                    "mettol": "2016-08-24",
                                    "meddig": "2016-08-25",
                                    "(No column name)": "NULL"
                                },
                                {
                                    "LOGIN": "kriszti",
                                    "NEV": "Horváth Krisztina",
                                    "mettol": "2016-09-30",
                                    "meddig": "2016-10-05",
                                    "(No column name)": "NULL"
                                },
                                {
                                    "LOGIN": "kriszti",
                                    "NEV": "Horváth Krisztina",
                                    "mettol": "2016-10-01",
                                    "meddig": "2016-10-02",
                                    "(No column name)": "NULL"
                                },
                                {
                                    "LOGIN": "kriszti",
                                    "NEV": "Horváth Krisztina",
                                    "mettol": "2017-02-04",
                                    "meddig": "2017-02-11",
                                    "(No column name)": "NULL"
                                },
                                {
                                    "LOGIN": "kriszti",
                                    "NEV": "Horváth Krisztina",
                                    "mettol": "2017-03-03",
                                    "meddig": "2017-03-04",
                                    "(No column name)": "NULL"
                                },
                                {
                                    "LOGIN": "krisztian4",
                                    "NEV": "Czérna Krisztián",
                                    "mettol": "2016-06-03",
                                    "meddig": "2016-06-04",
                                    "(No column name)": "NULL"
                                },
                                {
                                    "LOGIN": "krisztian4",
                                    "NEV": "Czérna Krisztián",
                                    "mettol": "2016-06-07",
                                    "meddig": "2016-06-09",
                                    "(No column name)": "NULL"
                                },
                                {
                                    "LOGIN": "krisztian4",
                                    "NEV": "Czérna Krisztián",
                                    "mettol": "2016-07-28",
                                    "meddig": "2016-08-01",
                                    "(No column name)": "NULL"
                                },
                                {
                                    "LOGIN": "krisztian4",
                                    "NEV": "Czérna Krisztián",
                                    "mettol": "2016-08-01",
                                    "meddig": "2016-08-04",
                                    "(No column name)": "NULL"
                                },
                                {
                                    "LOGIN": "krisztian4",
                                    "NEV": "Czérna Krisztián",
                                    "mettol": "2016-08-16",
                                    "meddig": "2016-08-19",
                                    "(No column name)": "NULL"
                                },
                                {
                                    "LOGIN": "krisztian4",
                                    "NEV": "Czérna Krisztián",
                                    "mettol": "2016-08-29",
                                    "meddig": "2016-09-03",
                                    "(No column name)": "NULL"
                                },
                                {
                                    "LOGIN": "krisztian4",
                                    "NEV": "Czérna Krisztián",
                                    "mettol": "2016-10-17",
                                    "meddig": "2016-10-22",
                                    "(No column name)": "NULL"
                                },
                                {
                                    "LOGIN": "krisztian4",
                                    "NEV": "Czérna Krisztián",
                                    "mettol": "2016-11-02",
                                    "meddig": "2016-11-03",
                                    "(No column name)": "NULL"
                                },
                                {
                                    "LOGIN": "krisztian4",
                                    "NEV": "Czérna Krisztián",
                                    "mettol": "2016-12-11",
                                    "meddig": "2016-12-18",
                                    "(No column name)": "NULL"
                                },
                                {
                                    "LOGIN": "krisztian4",
                                    "NEV": "Czérna Krisztián",
                                    "mettol": "2017-01-06",
                                    "meddig": "2017-01-09",
                                    "(No column name)": "NULL"
                                },
                                {
                                    "LOGIN": "krisztian4",
                                    "NEV": "Czérna Krisztián",
                                    "mettol": "2017-01-16",
                                    "meddig": "2017-01-23",
                                    "(No column name)": "NULL"
                                },
                                {
                                    "LOGIN": "krisztian4",
                                    "NEV": "Czérna Krisztián",
                                    "mettol": "2017-02-23",
                                    "meddig": "2017-03-02",
                                    "(No column name)": "NULL"
                                },
                                {
                                    "LOGIN": "KRISZTIANM",
                                    "NEV": "Mogyródi Krisztián",
                                    "mettol": "2016-04-09",
                                    "meddig": "2016-04-15",
                                    "(No column name)": "NULL"
                                },
                                {
                                    "LOGIN": "KRISZTIANM",
                                    "NEV": "Mogyródi Krisztián",
                                    "mettol": "2016-06-04",
                                    "meddig": "2016-06-08",
                                    "(No column name)": "NULL"
                                },
                                {
                                    "LOGIN": "KRISZTIANM",
                                    "NEV": "Mogyródi Krisztián",
                                    "mettol": "2016-07-09",
                                    "meddig": "2016-07-14",
                                    "(No column name)": "NULL"
                                },
                                {
                                    "LOGIN": "KRISZTIANM",
                                    "NEV": "Mogyródi Krisztián",
                                    "mettol": "2016-08-02",
                                    "meddig": "2016-08-08",
                                    "(No column name)": "NULL"
                                },
                                {
                                    "LOGIN": "KRISZTIANM",
                                    "NEV": "Mogyródi Krisztián",
                                    "mettol": "2016-12-25",
                                    "meddig": "2016-12-31",
                                    "(No column name)": "NULL"
                                },
                                {
                                    "LOGIN": "KRISZTIANM",
                                    "NEV": "Mogyródi Krisztián",
                                    "mettol": "2017-01-16",
                                    "meddig": "2017-01-23",
                                    "(No column name)": "NULL"
                                },
                                {
                                    "LOGIN": "krisztina",
                                    "NEV": "Szedlár Krisztina",
                                    "mettol": "2016-05-21",
                                    "meddig": "2016-05-27",
                                    "(No column name)": "NULL"
                                },
                                {
                                    "LOGIN": "krisztina",
                                    "NEV": "Szedlár Krisztina",
                                    "mettol": "2016-07-05",
                                    "meddig": "2016-07-12",
                                    "(No column name)": "NULL"
                                },
                                {
                                    "LOGIN": "krisztina",
                                    "NEV": "Szedlár Krisztina",
                                    "mettol": "2016-09-13",
                                    "meddig": "2016-09-16",
                                    "(No column name)": "NULL"
                                },
                                {
                                    "LOGIN": "krisztina",
                                    "NEV": "Szedlár Krisztina",
                                    "mettol": "2016-09-19",
                                    "meddig": "2016-09-26",
                                    "(No column name)": "NULL"
                                },
                                {
                                    "LOGIN": "krisztina",
                                    "NEV": "Szedlár Krisztina",
                                    "mettol": "2016-11-08",
                                    "meddig": "2016-11-12",
                                    "(No column name)": "NULL"
                                },
                                {
                                    "LOGIN": "krisztina",
                                    "NEV": "Szedlár Krisztina",
                                    "mettol": "2016-11-22",
                                    "meddig": "2016-11-25",
                                    "(No column name)": "NULL"
                                },
                                {
                                    "LOGIN": "krisztina",
                                    "NEV": "Szedlár Krisztina",
                                    "mettol": "2017-02-05",
                                    "meddig": "2017-02-07",
                                    "(No column name)": "NULL"
                                },
                                {
                                    "LOGIN": "krisztina",
                                    "NEV": "Szedlár Krisztina",
                                    "mettol": "2017-02-16",
                                    "meddig": "2017-02-20",
                                    "(No column name)": "NULL"
                                },
                                {
                                    "LOGIN": "krisztina1",
                                    "NEV": "Bori Krisztina",
                                    "mettol": "2016-04-28",
                                    "meddig": "2016-04-30",
                                    "(No column name)": "NULL"
                                },
                                {
                                    "LOGIN": "krisztina1",
                                    "NEV": "Bori Krisztina",
                                    "mettol": "2016-05-16",
                                    "meddig": "2016-05-20",
                                    "(No column name)": "NULL"
                                },
                                {
                                    "LOGIN": "krisztina1",
                                    "NEV": "Bori Krisztina",
                                    "mettol": "2016-06-16",
                                    "meddig": "2016-06-22",
                                    "(No column name)": "NULL"
                                },
                                {
                                    "LOGIN": "krisztina1",
                                    "NEV": "Bori Krisztina",
                                    "mettol": "2016-09-15",
                                    "meddig": "2016-09-20",
                                    "(No column name)": "NULL"
                                },
                                {
                                    "LOGIN": "krisztina1",
                                    "NEV": "Bori Krisztina",
                                    "mettol": "2016-10-29",
                                    "meddig": "2016-10-30",
                                    "(No column name)": "NULL"
                                },
                                {
                                    "LOGIN": "krisztina1",
                                    "NEV": "Bori Krisztina",
                                    "mettol": "2017-01-21",
                                    "meddig": "2017-01-24",
                                    "(No column name)": "NULL"
                                },
                                {
                                    "LOGIN": "KRISZTINAG",
                                    "NEV": "Gyárfás Krisztina",
                                    "mettol": "2016-04-23",
                                    "meddig": "2016-04-24",
                                    "(No column name)": "NULL"
                                },
                                {
                                    "LOGIN": "KRISZTINAG",
                                    "NEV": "Gyárfás Krisztina",
                                    "mettol": "2016-05-24",
                                    "meddig": "2016-05-31",
                                    "(No column name)": "NULL"
                                },
                                {
                                    "LOGIN": "KRISZTINAG",
                                    "NEV": "Gyárfás Krisztina",
                                    "mettol": "2016-06-08",
                                    "meddig": "2016-06-12",
                                    "(No column name)": "NULL"
                                },
                                {
                                    "LOGIN": "KRISZTINAG",
                                    "NEV": "Gyárfás Krisztina",
                                    "mettol": "2016-08-08",
                                    "meddig": "2016-08-12",
                                    "(No column name)": "NULL"
                                },
                                {
                                    "LOGIN": "KRISZTINAG",
                                    "NEV": "Gyárfás Krisztina",
                                    "mettol": "2017-01-25",
                                    "meddig": "2017-01-30",
                                    "(No column name)": "NULL"
                                },
                                {
                                    "LOGIN": "lajos",
                                    "NEV": "Kiss Lajos",
                                    "mettol": "2016-07-18",
                                    "meddig": "2016-07-21",
                                    "(No column name)": "NULL"
                                },
                                {
                                    "LOGIN": "lajos",
                                    "NEV": "Kiss Lajos",
                                    "mettol": "2016-12-25",
                                    "meddig": "2016-12-28",
                                    "(No column name)": "NULL"
                                },
                                {
                                    "LOGIN": "lajos",
                                    "NEV": "Kiss Lajos",
                                    "mettol": "2017-02-12",
                                    "meddig": "2017-02-13",
                                    "(No column name)": "NULL"
                                },
                                {
                                    "LOGIN": "lala",
                                    "NEV": "Nagymihály Lajos",
                                    "mettol": "2016-06-16",
                                    "meddig": "2016-06-22",
                                    "(No column name)": "NULL"
                                },
                                {
                                    "LOGIN": "lala",
                                    "NEV": "Nagymihály Lajos",
                                    "mettol": "2016-07-20",
                                    "meddig": "2016-07-21",
                                    "(No column name)": "NULL"
                                },
                                {
                                    "LOGIN": "lala",
                                    "NEV": "Nagymihály Lajos",
                                    "mettol": "2016-07-26",
                                    "meddig": "2016-07-27",
                                    "(No column name)": "NULL"
                                },
                                {
                                    "LOGIN": "lala",
                                    "NEV": "Nagymihály Lajos",
                                    "mettol": "2016-10-30",
                                    "meddig": "2016-10-31",
                                    "(No column name)": "NULL"
                                },
                                {
                                    "LOGIN": "lala",
                                    "NEV": "Nagymihály Lajos",
                                    "mettol": "2017-01-08",
                                    "meddig": "2017-01-10",
                                    "(No column name)": "NULL"
                                },
                                {
                                    "LOGIN": "lala",
                                    "NEV": "Nagymihály Lajos",
                                    "mettol": "2017-01-17",
                                    "meddig": "2017-01-19",
                                    "(No column name)": "NULL"
                                },
                                {
                                    "LOGIN": "laszlo1",
                                    "NEV": "Farkas László",
                                    "mettol": "2016-09-23",
                                    "meddig": "2016-09-30",
                                    "(No column name)": "NULL"
                                },
                                {
                                    "LOGIN": "laszlo2",
                                    "NEV": "Móra László",
                                    "mettol": "2016-04-06",
                                    "meddig": "2016-04-10",
                                    "(No column name)": "NULL"
                                },
                                {
                                    "LOGIN": "laszlo2",
                                    "NEV": "Móra László",
                                    "mettol": "2016-04-27",
                                    "meddig": "2016-04-29",
                                    "(No column name)": "NULL"
                                },
                                {
                                    "LOGIN": "laszlo2",
                                    "NEV": "Móra László",
                                    "mettol": "2016-08-14",
                                    "meddig": "2016-08-15",
                                    "(No column name)": "NULL"
                                },
                                {
                                    "LOGIN": "laszlo2",
                                    "NEV": "Móra László",
                                    "mettol": "2016-09-05",
                                    "meddig": "2016-09-10",
                                    "(No column name)": "NULL"
                                },
                                {
                                    "LOGIN": "laszlo2",
                                    "NEV": "Móra László",
                                    "mettol": "2016-11-25",
                                    "meddig": "2016-11-26",
                                    "(No column name)": "NULL"
                                },
                                {
                                    "LOGIN": "LASZLOA",
                                    "NEV": "Antal László",
                                    "mettol": "2016-06-03",
                                    "meddig": "2016-06-09",
                                    "(No column name)": "NULL"
                                },
                                {
                                    "LOGIN": "LASZLOA",
                                    "NEV": "Antal László",
                                    "mettol": "2016-06-07",
                                    "meddig": "2016-06-11",
                                    "(No column name)": "NULL"
                                },
                                {
                                    "LOGIN": "LASZLOA",
                                    "NEV": "Antal László",
                                    "mettol": "2016-06-10",
                                    "meddig": "2016-06-13",
                                    "(No column name)": "NULL"
                                },
                                {
                                    "LOGIN": "LASZLOA",
                                    "NEV": "Antal László",
                                    "mettol": "2017-02-08",
                                    "meddig": "2017-02-14",
                                    "(No column name)": "NULL"
                                },
                                {
                                    "LOGIN": "LASZLON",
                                    "NEV": "Nagy László",
                                    "mettol": "2016-06-03",
                                    "meddig": "2016-06-06",
                                    "(No column name)": "NULL"
                                },
                                {
                                    "LOGIN": "LASZLON",
                                    "NEV": "Nagy László",
                                    "mettol": "2016-06-08",
                                    "meddig": "2016-06-09",
                                    "(No column name)": "NULL"
                                },
                                {
                                    "LOGIN": "LASZLON",
                                    "NEV": "Nagy László",
                                    "mettol": "2016-10-01",
                                    "meddig": "2016-10-04",
                                    "(No column name)": "NULL"
                                },
                                {
                                    "LOGIN": "LASZLON",
                                    "NEV": "Nagy László",
                                    "mettol": "2016-10-09",
                                    "meddig": "2016-10-14",
                                    "(No column name)": "NULL"
                                },
                                {
                                    "LOGIN": "LASZLON",
                                    "NEV": "Nagy László",
                                    "mettol": "2016-11-29",
                                    "meddig": "2016-12-04",
                                    "(No column name)": "NULL"
                                },
                                {
                                    "LOGIN": "LASZLON",
                                    "NEV": "Nagy László",
                                    "mettol": "2017-02-18",
                                    "meddig": "2017-02-25",
                                    "(No column name)": "NULL"
                                },
                                {
                                    "LOGIN": "maria1",
                                    "NEV": "Baráth Mária",
                                    "mettol": "2016-05-13",
                                    "meddig": "2016-05-18",
                                    "(No column name)": "NULL"
                                },
                                {
                                    "LOGIN": "maria1",
                                    "NEV": "Baráth Mária",
                                    "mettol": "2016-05-18",
                                    "meddig": "2016-05-19",
                                    "(No column name)": "NULL"
                                },
                                {
                                    "LOGIN": "maria1",
                                    "NEV": "Baráth Mária",
                                    "mettol": "2016-05-28",
                                    "meddig": "2016-06-03",
                                    "(No column name)": "NULL"
                                },
                                {
                                    "LOGIN": "maria1",
                                    "NEV": "Baráth Mária",
                                    "mettol": "2016-06-23",
                                    "meddig": "2016-06-27",
                                    "(No column name)": "NULL"
                                },
                                {
                                    "LOGIN": "maria1",
                                    "NEV": "Baráth Mária",
                                    "mettol": "2016-08-11",
                                    "meddig": "2016-08-14",
                                    "(No column name)": "NULL"
                                },
                                {
                                    "LOGIN": "maria1",
                                    "NEV": "Baráth Mária",
                                    "mettol": "2016-09-02",
                                    "meddig": "2016-09-05",
                                    "(No column name)": "NULL"
                                },
                                {
                                    "LOGIN": "maria1",
                                    "NEV": "Baráth Mária",
                                    "mettol": "2016-11-08",
                                    "meddig": "2016-11-12",
                                    "(No column name)": "NULL"
                                },
                                {
                                    "LOGIN": "maria1",
                                    "NEV": "Baráth Mária",
                                    "mettol": "2017-02-24",
                                    "meddig": "2017-03-02",
                                    "(No column name)": "NULL"
                                },
                                {
                                    "LOGIN": "mark",
                                    "NEV": "Kispál Márk",
                                    "mettol": "2016-04-19",
                                    "meddig": "2016-04-26",
                                    "(No column name)": "NULL"
                                },
                                {
                                    "LOGIN": "mark",
                                    "NEV": "Kispál Márk",
                                    "mettol": "2016-06-13",
                                    "meddig": "2016-06-18",
                                    "(No column name)": "NULL"
                                },
                                {
                                    "LOGIN": "mark",
                                    "NEV": "Kispál Márk",
                                    "mettol": "2016-08-09",
                                    "meddig": "2016-08-16",
                                    "(No column name)": "NULL"
                                },
                                {
                                    "LOGIN": "mark",
                                    "NEV": "Kispál Márk",
                                    "mettol": "2016-10-20",
                                    "meddig": "2016-10-27",
                                    "(No column name)": "NULL"
                                },
                                {
                                    "LOGIN": "mark",
                                    "NEV": "Kispál Márk",
                                    "mettol": "2016-11-19",
                                    "meddig": "2016-11-22",
                                    "(No column name)": "NULL"
                                },
                                {
                                    "LOGIN": "MARKH",
                                    "NEV": "Horváth Márk",
                                    "mettol": "2016-09-14",
                                    "meddig": "2016-09-17",
                                    "(No column name)": "NULL"
                                },
                                {
                                    "LOGIN": "MARKH",
                                    "NEV": "Horváth Márk",
                                    "mettol": "2016-09-23",
                                    "meddig": "2016-09-30",
                                    "(No column name)": "NULL"
                                },
                                {
                                    "LOGIN": "MARKH",
                                    "NEV": "Horváth Márk",
                                    "mettol": "2016-09-26",
                                    "meddig": "2016-10-01",
                                    "(No column name)": "NULL"
                                },
                                {
                                    "LOGIN": "MARKH",
                                    "NEV": "Horváth Márk",
                                    "mettol": "2017-01-22",
                                    "meddig": "2017-01-29",
                                    "(No column name)": "NULL"
                                },
                                {
                                    "LOGIN": "marton",
                                    "NEV": "Kalacsi Márton",
                                    "mettol": "2016-04-27",
                                    "meddig": "2016-05-04",
                                    "(No column name)": "NULL"
                                },
                                {
                                    "LOGIN": "marton",
                                    "NEV": "Kalacsi Márton",
                                    "mettol": "2016-05-05",
                                    "meddig": "2016-05-10",
                                    "(No column name)": "NULL"
                                },
                                {
                                    "LOGIN": "marton",
                                    "NEV": "Kalacsi Márton",
                                    "mettol": "2016-06-06",
                                    "meddig": "2016-06-08",
                                    "(No column name)": "NULL"
                                },
                                {
                                    "LOGIN": "marton",
                                    "NEV": "Kalacsi Márton",
                                    "mettol": "2016-06-22",
                                    "meddig": "2016-06-29",
                                    "(No column name)": "NULL"
                                },
                                {
                                    "LOGIN": "marton",
                                    "NEV": "Kalacsi Márton",
                                    "mettol": "2016-08-12",
                                    "meddig": "2016-08-17",
                                    "(No column name)": "NULL"
                                },
                                {
                                    "LOGIN": "marton",
                                    "NEV": "Kalacsi Márton",
                                    "mettol": "2016-09-10",
                                    "meddig": "2016-09-12",
                                    "(No column name)": "NULL"
                                },
                                {
                                    "LOGIN": "marton",
                                    "NEV": "Kalacsi Márton",
                                    "mettol": "2017-03-02",
                                    "meddig": "2017-03-03",
                                    "(No column name)": "NULL"
                                },
                                {
                                    "LOGIN": "MATEK",
                                    "NEV": "Koza Máté",
                                    "mettol": "2016-08-17",
                                    "meddig": "2016-08-21",
                                    "(No column name)": "NULL"
                                },
                                {
                                    "LOGIN": "MATEK",
                                    "NEV": "Koza Máté",
                                    "mettol": "2016-10-01",
                                    "meddig": "2016-10-04",
                                    "(No column name)": "NULL"
                                },
                                {
                                    "LOGIN": "MATEK",
                                    "NEV": "Koza Máté",
                                    "mettol": "2017-01-16",
                                    "meddig": "2017-01-22",
                                    "(No column name)": "NULL"
                                },
                                {
                                    "LOGIN": "matyas2",
                                    "NEV": "Botka Mátyás",
                                    "mettol": "2016-07-13",
                                    "meddig": "2016-07-16",
                                    "(No column name)": "NULL"
                                },
                                {
                                    "LOGIN": "matyas2",
                                    "NEV": "Botka Mátyás",
                                    "mettol": "2016-12-09",
                                    "meddig": "2016-12-13",
                                    "(No column name)": "NULL"
                                },
                                {
                                    "LOGIN": "MATYASS",
                                    "NEV": "Szilágyi Mátyás",
                                    "mettol": "2016-05-10",
                                    "meddig": "2016-05-16",
                                    "(No column name)": "NULL"
                                },
                                {
                                    "LOGIN": "MATYASS",
                                    "NEV": "Szilágyi Mátyás",
                                    "mettol": "2016-06-02",
                                    "meddig": "2016-06-08",
                                    "(No column name)": "NULL"
                                },
                                {
                                    "LOGIN": "MATYASS",
                                    "NEV": "Szilágyi Mátyás",
                                    "mettol": "2016-07-23",
                                    "meddig": "2016-07-25",
                                    "(No column name)": "NULL"
                                },
                                {
                                    "LOGIN": "MATYASS",
                                    "NEV": "Szilágyi Mátyás",
                                    "mettol": "2016-10-09",
                                    "meddig": "2016-10-15",
                                    "(No column name)": "NULL"
                                },
                                {
                                    "LOGIN": "MATYASS",
                                    "NEV": "Szilágyi Mátyás",
                                    "mettol": "2016-10-24",
                                    "meddig": "2016-10-31",
                                    "(No column name)": "NULL"
                                },
                                {
                                    "LOGIN": "MATYASS",
                                    "NEV": "Szilágyi Mátyás",
                                    "mettol": "2016-10-30",
                                    "meddig": "2016-11-04",
                                    "(No column name)": "NULL"
                                },
                                {
                                    "LOGIN": "MATYASS",
                                    "NEV": "Szilágyi Mátyás",
                                    "mettol": "2016-12-20",
                                    "meddig": "2016-12-25",
                                    "(No column name)": "NULL"
                                },
                                {
                                    "LOGIN": "MATYASS",
                                    "NEV": "Szilágyi Mátyás",
                                    "mettol": "2017-01-09",
                                    "meddig": "2017-01-13",
                                    "(No column name)": "NULL"
                                },
                                {
                                    "LOGIN": "MIHALYJ",
                                    "NEV": "Juhász Mihály",
                                    "mettol": "2016-05-30",
                                    "meddig": "2016-06-01",
                                    "(No column name)": "NULL"
                                },
                                {
                                    "LOGIN": "MIHALYJ",
                                    "NEV": "Juhász Mihály",
                                    "mettol": "2016-06-27",
                                    "meddig": "2016-07-01",
                                    "(No column name)": "NULL"
                                },
                                {
                                    "LOGIN": "MIHALYJ",
                                    "NEV": "Juhász Mihály",
                                    "mettol": "2016-08-29",
                                    "meddig": "2016-09-03",
                                    "(No column name)": "NULL"
                                },
                                {
                                    "LOGIN": "MIHALYJ",
                                    "NEV": "Juhász Mihály",
                                    "mettol": "2016-11-01",
                                    "meddig": "2016-11-04",
                                    "(No column name)": "NULL"
                                },
                                {
                                    "LOGIN": "MIHALYJ",
                                    "NEV": "Juhász Mihály",
                                    "mettol": "2017-02-06",
                                    "meddig": "2017-02-12",
                                    "(No column name)": "NULL"
                                },
                                {
                                    "LOGIN": "miklos2",
                                    "NEV": "Gondos Miklós",
                                    "mettol": "2016-04-19",
                                    "meddig": "2016-04-21",
                                    "(No column name)": "NULL"
                                },
                                {
                                    "LOGIN": "miklos2",
                                    "NEV": "Gondos Miklós",
                                    "mettol": "2016-10-08",
                                    "meddig": "2016-10-09",
                                    "(No column name)": "NULL"
                                },
                                {
                                    "LOGIN": "miklos2",
                                    "NEV": "Gondos Miklós",
                                    "mettol": "2016-11-16",
                                    "meddig": "2016-11-18",
                                    "(No column name)": "NULL"
                                },
                                {
                                    "LOGIN": "MIKLOSB",
                                    "NEV": "Balla Miklós",
                                    "mettol": "2016-06-26",
                                    "meddig": "2016-06-30",
                                    "(No column name)": "NULL"
                                },
                                {
                                    "LOGIN": "MIKLOSB",
                                    "NEV": "Balla Miklós",
                                    "mettol": "2016-07-18",
                                    "meddig": "2016-07-21",
                                    "(No column name)": "NULL"
                                },
                                {
                                    "LOGIN": "MIKLOSB",
                                    "NEV": "Balla Miklós",
                                    "mettol": "2016-12-05",
                                    "meddig": "2016-12-10",
                                    "(No column name)": "NULL"
                                },
                                {
                                    "LOGIN": "MONIKAM",
                                    "NEV": "Mohos Mónika",
                                    "mettol": "2016-04-29",
                                    "meddig": "2016-05-01",
                                    "(No column name)": "NULL"
                                },
                                {
                                    "LOGIN": "MONIKAM",
                                    "NEV": "Mohos Mónika",
                                    "mettol": "2016-07-23",
                                    "meddig": "2016-07-30",
                                    "(No column name)": "NULL"
                                },
                                {
                                    "LOGIN": "MONIKAM",
                                    "NEV": "Mohos Mónika",
                                    "mettol": "2016-11-09",
                                    "meddig": "2016-11-16",
                                    "(No column name)": "NULL"
                                },
                                {
                                    "LOGIN": "MONIKAM",
                                    "NEV": "Mohos Mónika",
                                    "mettol": "2017-01-17",
                                    "meddig": "2017-01-24",
                                    "(No column name)": "NULL"
                                },
                                {
                                    "LOGIN": "MONIKAM",
                                    "NEV": "Mohos Mónika",
                                    "mettol": "2017-02-06",
                                    "meddig": "2017-02-09",
                                    "(No column name)": "NULL"
                                },
                                {
                                    "LOGIN": "MONIKAM",
                                    "NEV": "Mohos Mónika",
                                    "mettol": "2017-02-23",
                                    "meddig": "2017-02-26",
                                    "(No column name)": "NULL"
                                },
                                {
                                    "LOGIN": "NANDORF",
                                    "NEV": "Fő Nándor",
                                    "mettol": "2016-04-06",
                                    "meddig": "2016-04-10",
                                    "(No column name)": "NULL"
                                },
                                {
                                    "LOGIN": "NANDORF",
                                    "NEV": "Fő Nándor",
                                    "mettol": "2016-11-03",
                                    "meddig": "2016-11-04",
                                    "(No column name)": "NULL"
                                },
                                {
                                    "LOGIN": "NANDORF",
                                    "NEV": "Fő Nándor",
                                    "mettol": "2017-02-05",
                                    "meddig": "2017-02-08",
                                    "(No column name)": "NULL"
                                },
                                {
                                    "LOGIN": "nikolett3",
                                    "NEV": "Horváth Nikolett",
                                    "mettol": "2016-05-24",
                                    "meddig": "2016-05-29",
                                    "(No column name)": "NULL"
                                },
                                {
                                    "LOGIN": "nikolett3",
                                    "NEV": "Horváth Nikolett",
                                    "mettol": "2016-06-03",
                                    "meddig": "2016-06-09",
                                    "(No column name)": "NULL"
                                },
                                {
                                    "LOGIN": "nikolett3",
                                    "NEV": "Horváth Nikolett",
                                    "mettol": "2016-06-22",
                                    "meddig": "2016-06-24",
                                    "(No column name)": "NULL"
                                },
                                {
                                    "LOGIN": "nikolett3",
                                    "NEV": "Horváth Nikolett",
                                    "mettol": "2016-10-22",
                                    "meddig": "2016-10-29",
                                    "(No column name)": "NULL"
                                },
                                {
                                    "LOGIN": "nikoletta4",
                                    "NEV": "Kő Nikoletta",
                                    "mettol": "2016-04-08",
                                    "meddig": "2016-04-10",
                                    "(No column name)": "NULL"
                                },
                                {
                                    "LOGIN": "nikoletta4",
                                    "NEV": "Kő Nikoletta",
                                    "mettol": "2016-05-09",
                                    "meddig": "2016-05-15",
                                    "(No column name)": "NULL"
                                },
                                {
                                    "LOGIN": "nikoletta4",
                                    "NEV": "Kő Nikoletta",
                                    "mettol": "2016-05-30",
                                    "meddig": "2016-06-03",
                                    "(No column name)": "NULL"
                                },
                                {
                                    "LOGIN": "nikoletta4",
                                    "NEV": "Kő Nikoletta",
                                    "mettol": "2016-06-29",
                                    "meddig": "2016-07-06",
                                    "(No column name)": "NULL"
                                },
                                {
                                    "LOGIN": "nikoletta4",
                                    "NEV": "Kő Nikoletta",
                                    "mettol": "2016-08-13",
                                    "meddig": "2016-08-17",
                                    "(No column name)": "NULL"
                                },
                                {
                                    "LOGIN": "nikoletta4",
                                    "NEV": "Kő Nikoletta",
                                    "mettol": "2016-12-08",
                                    "meddig": "2016-12-10",
                                    "(No column name)": "NULL"
                                },
                                {
                                    "LOGIN": "nikoletta4",
                                    "NEV": "Kő Nikoletta",
                                    "mettol": "2017-02-01",
                                    "meddig": "2017-02-04",
                                    "(No column name)": "NULL"
                                },
                                {
                                    "LOGIN": "NIKOLETTAT",
                                    "NEV": "Tatár Nikoletta",
                                    "mettol": "2016-05-22",
                                    "meddig": "2016-05-23",
                                    "(No column name)": "NULL"
                                },
                                {
                                    "LOGIN": "NIKOLETTAT",
                                    "NEV": "Tatár Nikoletta",
                                    "mettol": "2016-06-07",
                                    "meddig": "2016-06-09",
                                    "(No column name)": "NULL"
                                },
                                {
                                    "LOGIN": "NIKOLETTAT",
                                    "NEV": "Tatár Nikoletta",
                                    "mettol": "2016-07-27",
                                    "meddig": "2016-07-29",
                                    "(No column name)": "NULL"
                                },
                                {
                                    "LOGIN": "NIKOLETTAT",
                                    "NEV": "Tatár Nikoletta",
                                    "mettol": "2016-09-21",
                                    "meddig": "2016-09-26",
                                    "(No column name)": "NULL"
                                },
                                {
                                    "LOGIN": "norbert",
                                    "NEV": "Szűcs Norbert",
                                    "mettol": "2016-07-08",
                                    "meddig": "2016-07-13",
                                    "(No column name)": "NULL"
                                },
                                {
                                    "LOGIN": "norbert",
                                    "NEV": "Szűcs Norbert",
                                    "mettol": "2016-11-16",
                                    "meddig": "2016-11-23",
                                    "(No column name)": "NULL"
                                },
                                {
                                    "LOGIN": "norbert",
                                    "NEV": "Szűcs Norbert",
                                    "mettol": "2016-12-15",
                                    "meddig": "2016-12-18",
                                    "(No column name)": "NULL"
                                },
                                {
                                    "LOGIN": "norbert",
                                    "NEV": "Szűcs Norbert",
                                    "mettol": "2017-02-13",
                                    "meddig": "2017-02-15",
                                    "(No column name)": "NULL"
                                },
                                {
                                    "LOGIN": "norbert",
                                    "NEV": "Szűcs Norbert",
                                    "mettol": "2017-02-26",
                                    "meddig": "2017-03-01",
                                    "(No column name)": "NULL"
                                },
                                {
                                    "LOGIN": "norbert2",
                                    "NEV": "Hegedűs Norbert",
                                    "mettol": "2016-04-19",
                                    "meddig": "2016-04-26",
                                    "(No column name)": "NULL"
                                },
                                {
                                    "LOGIN": "norbert2",
                                    "NEV": "Hegedűs Norbert",
                                    "mettol": "2016-05-09",
                                    "meddig": "2016-05-10",
                                    "(No column name)": "NULL"
                                },
                                {
                                    "LOGIN": "norbert2",
                                    "NEV": "Hegedűs Norbert",
                                    "mettol": "2016-07-13",
                                    "meddig": "2016-07-15",
                                    "(No column name)": "NULL"
                                },
                                {
                                    "LOGIN": "norbert2",
                                    "NEV": "Hegedűs Norbert",
                                    "mettol": "2016-07-27",
                                    "meddig": "2016-08-02",
                                    "(No column name)": "NULL"
                                },
                                {
                                    "LOGIN": "norbert2",
                                    "NEV": "Hegedűs Norbert",
                                    "mettol": "2016-08-16",
                                    "meddig": "2016-08-19",
                                    "(No column name)": "NULL"
                                },
                                {
                                    "LOGIN": "norbert2",
                                    "NEV": "Hegedűs Norbert",
                                    "mettol": "2016-10-31",
                                    "meddig": "2016-11-07",
                                    "(No column name)": "NULL"
                                },
                                {
                                    "LOGIN": "norbert2",
                                    "NEV": "Hegedűs Norbert",
                                    "mettol": "2017-01-29",
                                    "meddig": "2017-02-05",
                                    "(No column name)": "NULL"
                                },
                                {
                                    "LOGIN": "norbert4",
                                    "NEV": "Mile Norbert",
                                    "mettol": "2016-04-10",
                                    "meddig": "2016-04-13",
                                    "(No column name)": "NULL"
                                },
                                {
                                    "LOGIN": "norbert4",
                                    "NEV": "Mile Norbert",
                                    "mettol": "2016-05-29",
                                    "meddig": "2016-06-03",
                                    "(No column name)": "NULL"
                                },
                                {
                                    "LOGIN": "norbert4",
                                    "NEV": "Mile Norbert",
                                    "mettol": "2016-06-16",
                                    "meddig": "2016-06-17",
                                    "(No column name)": "NULL"
                                },
                                {
                                    "LOGIN": "norbert4",
                                    "NEV": "Mile Norbert",
                                    "mettol": "2016-06-16",
                                    "meddig": "2016-06-21",
                                    "(No column name)": "4"
                                },
                                {
                                    "LOGIN": "norbert4",
                                    "NEV": "Mile Norbert",
                                    "mettol": "2016-10-05",
                                    "meddig": "2016-10-10",
                                    "(No column name)": "NULL"
                                },
                                {
                                    "LOGIN": "norbert4",
                                    "NEV": "Mile Norbert",
                                    "mettol": "2016-10-28",
                                    "meddig": "2016-10-31",
                                    "(No column name)": "NULL"
                                },
                                {
                                    "LOGIN": "norbert4",
                                    "NEV": "Mile Norbert",
                                    "mettol": "2016-11-30",
                                    "meddig": "2016-12-06",
                                    "(No column name)": "NULL"
                                },
                                {
                                    "LOGIN": "norbert4",
                                    "NEV": "Mile Norbert",
                                    "mettol": "2017-02-16",
                                    "meddig": "2017-02-17",
                                    "(No column name)": "NULL"
                                },
                                {
                                    "LOGIN": "norbert4",
                                    "NEV": "Mile Norbert",
                                    "mettol": "2017-03-03",
                                    "meddig": "2017-03-07",
                                    "(No column name)": "NULL"
                                },
                                {
                                    "LOGIN": "norbert5",
                                    "NEV": "Béres Norbert",
                                    "mettol": "2016-06-24",
                                    "meddig": "2016-06-28",
                                    "(No column name)": "NULL"
                                },
                                {
                                    "LOGIN": "norbert5",
                                    "NEV": "Béres Norbert",
                                    "mettol": "2016-08-10",
                                    "meddig": "2016-08-11",
                                    "(No column name)": "NULL"
                                },
                                {
                                    "LOGIN": "norbert5",
                                    "NEV": "Béres Norbert",
                                    "mettol": "2016-11-05",
                                    "meddig": "2016-11-07",
                                    "(No column name)": "NULL"
                                },
                                {
                                    "LOGIN": "pal",
                                    "NEV": "Barabás Pál",
                                    "mettol": "2016-08-14",
                                    "meddig": "2016-08-18",
                                    "(No column name)": "NULL"
                                },
                                {
                                    "LOGIN": "pal",
                                    "NEV": "Barabás Pál",
                                    "mettol": "2016-09-16",
                                    "meddig": "2016-09-19",
                                    "(No column name)": "NULL"
                                },
                                {
                                    "LOGIN": "pal",
                                    "NEV": "Barabás Pál",
                                    "mettol": "2016-12-17",
                                    "meddig": "2016-12-23",
                                    "(No column name)": "NULL"
                                },
                                {
                                    "LOGIN": "pal",
                                    "NEV": "Barabás Pál",
                                    "mettol": "2017-02-13",
                                    "meddig": "2017-02-19",
                                    "(No column name)": "NULL"
                                },
                                {
                                    "LOGIN": "pal",
                                    "NEV": "Barabás Pál",
                                    "mettol": "2017-02-20",
                                    "meddig": "2017-02-22",
                                    "(No column name)": "NULL"
                                },
                                {
                                    "LOGIN": "peter1",
                                    "NEV": "Kozma Péter",
                                    "mettol": "2016-07-14",
                                    "meddig": "2016-07-18",
                                    "(No column name)": "NULL"
                                },
                                {
                                    "LOGIN": "peter1",
                                    "NEV": "Kozma Péter",
                                    "mettol": "2016-10-26",
                                    "meddig": "2016-11-01",
                                    "(No column name)": "NULL"
                                },
                                {
                                    "LOGIN": "peter1",
                                    "NEV": "Kozma Péter",
                                    "mettol": "2017-02-23",
                                    "meddig": "2017-02-26",
                                    "(No column name)": "NULL"
                                },
                                {
                                    "LOGIN": "peter1",
                                    "NEV": "Kozma Péter",
                                    "mettol": "2017-02-28",
                                    "meddig": "2017-03-05",
                                    "(No column name)": "NULL"
                                },
                                {
                                    "LOGIN": "peter2",
                                    "NEV": "Bozsó Péter",
                                    "mettol": "2016-07-03",
                                    "meddig": "2016-07-08",
                                    "(No column name)": "NULL"
                                },
                                {
                                    "LOGIN": "peter2",
                                    "NEV": "Bozsó Péter",
                                    "mettol": "2016-10-10",
                                    "meddig": "2016-10-16",
                                    "(No column name)": "NULL"
                                },
                                {
                                    "LOGIN": "peter2",
                                    "NEV": "Bozsó Péter",
                                    "mettol": "2016-11-01",
                                    "meddig": "2016-11-02",
                                    "(No column name)": "NULL"
                                },
                                {
                                    "LOGIN": "peter2",
                                    "NEV": "Bozsó Péter",
                                    "mettol": "2016-11-15",
                                    "meddig": "2016-11-21",
                                    "(No column name)": "NULL"
                                },
                                {
                                    "LOGIN": "peter3",
                                    "NEV": "Szalai Péter",
                                    "mettol": "2016-06-30",
                                    "meddig": "2016-07-05",
                                    "(No column name)": "NULL"
                                },
                                {
                                    "LOGIN": "peter3",
                                    "NEV": "Szalai Péter",
                                    "mettol": "2016-07-27",
                                    "meddig": "2016-07-31",
                                    "(No column name)": "NULL"
                                },
                                {
                                    "LOGIN": "peter3",
                                    "NEV": "Szalai Péter",
                                    "mettol": "2016-10-30",
                                    "meddig": "2016-11-06",
                                    "(No column name)": "NULL"
                                },
                                {
                                    "LOGIN": "peter3",
                                    "NEV": "Szalai Péter",
                                    "mettol": "2016-12-25",
                                    "meddig": "2016-12-28",
                                    "(No column name)": "NULL"
                                },
                                {
                                    "LOGIN": "peter3",
                                    "NEV": "Szalai Péter",
                                    "mettol": "2017-01-12",
                                    "meddig": "2017-01-17",
                                    "(No column name)": "NULL"
                                },
                                {
                                    "LOGIN": "peter3",
                                    "NEV": "Szalai Péter",
                                    "mettol": "2017-02-21",
                                    "meddig": "2017-02-24",
                                    "(No column name)": "NULL"
                                },
                                {
                                    "LOGIN": "peter4",
                                    "NEV": "Bíró Péter",
                                    "mettol": "2016-04-12",
                                    "meddig": "2016-04-15",
                                    "(No column name)": "NULL"
                                },
                                {
                                    "LOGIN": "peter4",
                                    "NEV": "Bíró Péter",
                                    "mettol": "2016-08-06",
                                    "meddig": "2016-08-13",
                                    "(No column name)": "NULL"
                                },
                                {
                                    "LOGIN": "peter4",
                                    "NEV": "Bíró Péter",
                                    "mettol": "2016-08-24",
                                    "meddig": "2016-08-25",
                                    "(No column name)": "NULL"
                                },
                                {
                                    "LOGIN": "peter4",
                                    "NEV": "Bíró Péter",
                                    "mettol": "2016-09-11",
                                    "meddig": "2016-09-17",
                                    "(No column name)": "NULL"
                                },
                                {
                                    "LOGIN": "peter4",
                                    "NEV": "Bíró Péter",
                                    "mettol": "2016-09-25",
                                    "meddig": "2016-09-26",
                                    "(No column name)": "NULL"
                                },
                                {
                                    "LOGIN": "peter4",
                                    "NEV": "Bíró Péter",
                                    "mettol": "2016-09-30",
                                    "meddig": "2016-10-06",
                                    "(No column name)": "NULL"
                                },
                                {
                                    "LOGIN": "peter4",
                                    "NEV": "Bíró Péter",
                                    "mettol": "2016-10-09",
                                    "meddig": "2016-10-16",
                                    "(No column name)": "NULL"
                                },
                                {
                                    "LOGIN": "peter4",
                                    "NEV": "Bíró Péter",
                                    "mettol": "2016-10-24",
                                    "meddig": "2016-10-25",
                                    "(No column name)": "NULL"
                                },
                                {
                                    "LOGIN": "peter4",
                                    "NEV": "Bíró Péter",
                                    "mettol": "2016-10-30",
                                    "meddig": "2016-11-01",
                                    "(No column name)": "NULL"
                                },
                                {
                                    "LOGIN": "peter4",
                                    "NEV": "Bíró Péter",
                                    "mettol": "2016-11-10",
                                    "meddig": "2016-11-17",
                                    "(No column name)": "NULL"
                                },
                                {
                                    "LOGIN": "peter4",
                                    "NEV": "Bíró Péter",
                                    "mettol": "2016-11-25",
                                    "meddig": "2016-11-30",
                                    "(No column name)": "NULL"
                                },
                                {
                                    "LOGIN": "peter4",
                                    "NEV": "Bíró Péter",
                                    "mettol": "2017-02-05",
                                    "meddig": "2017-02-09",
                                    "(No column name)": "NULL"
                                },
                                {
                                    "LOGIN": "PETERB",
                                    "NEV": "Berendi Péter",
                                    "mettol": "2016-04-06",
                                    "meddig": "2016-04-10",
                                    "(No column name)": "NULL"
                                },
                                {
                                    "LOGIN": "PETERB",
                                    "NEV": "Berendi Péter",
                                    "mettol": "2016-07-20",
                                    "meddig": "2016-07-24",
                                    "(No column name)": "NULL"
                                },
                                {
                                    "LOGIN": "PETERB",
                                    "NEV": "Berendi Péter",
                                    "mettol": "2016-08-16",
                                    "meddig": "2016-08-23",
                                    "(No column name)": "NULL"
                                },
                                {
                                    "LOGIN": "PETERB",
                                    "NEV": "Berendi Péter",
                                    "mettol": "2016-10-19",
                                    "meddig": "2016-10-20",
                                    "(No column name)": "NULL"
                                },
                                {
                                    "LOGIN": "PETERB",
                                    "NEV": "Berendi Péter",
                                    "mettol": "2016-11-17",
                                    "meddig": "2016-11-20",
                                    "(No column name)": "NULL"
                                },
                                {
                                    "LOGIN": "polla",
                                    "NEV": "Palágyi Polla",
                                    "mettol": "2016-04-17",
                                    "meddig": "2016-04-22",
                                    "(No column name)": "NULL"
                                },
                                {
                                    "LOGIN": "polla",
                                    "NEV": "Palágyi Polla",
                                    "mettol": "2016-05-28",
                                    "meddig": "2016-06-04",
                                    "(No column name)": "NULL"
                                },
                                {
                                    "LOGIN": "polla",
                                    "NEV": "Palágyi Polla",
                                    "mettol": "2016-08-14",
                                    "meddig": "2016-08-17",
                                    "(No column name)": "NULL"
                                },
                                {
                                    "LOGIN": "polla",
                                    "NEV": "Palágyi Polla",
                                    "mettol": "2016-08-16",
                                    "meddig": "2016-08-19",
                                    "(No column name)": "NULL"
                                },
                                {
                                    "LOGIN": "polla",
                                    "NEV": "Palágyi Polla",
                                    "mettol": "2017-01-29",
                                    "meddig": "2017-02-01",
                                    "(No column name)": "NULL"
                                },
                                {
                                    "LOGIN": "polla",
                                    "NEV": "Palágyi Polla",
                                    "mettol": "2017-02-11",
                                    "meddig": "2017-02-16",
                                    "(No column name)": "NULL"
                                },
                                {
                                    "LOGIN": "rajmond4",
                                    "NEV": "Rácz Rajmond",
                                    "mettol": "2016-09-05",
                                    "meddig": "2016-09-07",
                                    "(No column name)": "NULL"
                                },
                                {
                                    "LOGIN": "rajmond4",
                                    "NEV": "Rácz Rajmond",
                                    "mettol": "2016-10-03",
                                    "meddig": "2016-10-04",
                                    "(No column name)": "NULL"
                                },
                                {
                                    "LOGIN": "rajmond4",
                                    "NEV": "Rácz Rajmond",
                                    "mettol": "2016-11-08",
                                    "meddig": "2016-11-09",
                                    "(No column name)": "NULL"
                                },
                                {
                                    "LOGIN": "rajmond4",
                                    "NEV": "Rácz Rajmond",
                                    "mettol": "2016-11-16",
                                    "meddig": "2016-11-20",
                                    "(No column name)": "NULL"
                                },
                                {
                                    "LOGIN": "reka4",
                                    "NEV": "Szikszai Réka",
                                    "mettol": "2016-07-27",
                                    "meddig": "2016-07-31",
                                    "(No column name)": "NULL"
                                },
                                {
                                    "LOGIN": "reka4",
                                    "NEV": "Szikszai Réka",
                                    "mettol": "2016-08-02",
                                    "meddig": "2016-08-04",
                                    "(No column name)": "NULL"
                                },
                                {
                                    "LOGIN": "reka4",
                                    "NEV": "Szikszai Réka",
                                    "mettol": "2016-09-05",
                                    "meddig": "2016-09-07",
                                    "(No column name)": "NULL"
                                },
                                {
                                    "LOGIN": "reka4",
                                    "NEV": "Szikszai Réka",
                                    "mettol": "2016-09-30",
                                    "meddig": "2016-10-06",
                                    "(No column name)": "NULL"
                                },
                                {
                                    "LOGIN": "reka4",
                                    "NEV": "Szikszai Réka",
                                    "mettol": "2017-02-26",
                                    "meddig": "2017-03-04",
                                    "(No column name)": "NULL"
                                },
                                {
                                    "LOGIN": "RENATAK",
                                    "NEV": "Kardos Renáta",
                                    "mettol": "2016-10-27",
                                    "meddig": "2016-10-29",
                                    "(No column name)": "NULL"
                                },
                                {
                                    "LOGIN": "RENATAK",
                                    "NEV": "Kardos Renáta",
                                    "mettol": "2016-10-30",
                                    "meddig": "2016-10-31",
                                    "(No column name)": "NULL"
                                },
                                {
                                    "LOGIN": "RENATAK",
                                    "NEV": "Kardos Renáta",
                                    "mettol": "2016-11-23",
                                    "meddig": "2016-11-26",
                                    "(No column name)": "NULL"
                                },
                                {
                                    "LOGIN": "RENATAK",
                                    "NEV": "Kardos Renáta",
                                    "mettol": "2017-01-23",
                                    "meddig": "2017-01-24",
                                    "(No column name)": "NULL"
                                },
                                {
                                    "LOGIN": "RENATAK",
                                    "NEV": "Kardos Renáta",
                                    "mettol": "2017-02-16",
                                    "meddig": "2017-02-23",
                                    "(No column name)": "NULL"
                                },
                                {
                                    "LOGIN": "RENATAK",
                                    "NEV": "Kardos Renáta",
                                    "mettol": "2017-03-01",
                                    "meddig": "2017-03-06",
                                    "(No column name)": "NULL"
                                },
                                {
                                    "LOGIN": "RENATAS",
                                    "NEV": "Szirmai Renáta",
                                    "mettol": "2016-05-04",
                                    "meddig": "2016-05-11",
                                    "(No column name)": "NULL"
                                },
                                {
                                    "LOGIN": "RENATAS",
                                    "NEV": "Szirmai Renáta",
                                    "mettol": "2016-05-11",
                                    "meddig": "2016-05-16",
                                    "(No column name)": "NULL"
                                },
                                {
                                    "LOGIN": "RENATAS",
                                    "NEV": "Szirmai Renáta",
                                    "mettol": "2016-06-24",
                                    "meddig": "2016-06-30",
                                    "(No column name)": "NULL"
                                },
                                {
                                    "LOGIN": "RENATAS",
                                    "NEV": "Szirmai Renáta",
                                    "mettol": "2017-02-13",
                                    "meddig": "2017-02-17",
                                    "(No column name)": "NULL"
                                },
                                {
                                    "LOGIN": "RENATAS",
                                    "NEV": "Szirmai Renáta",
                                    "mettol": "2017-02-14",
                                    "meddig": "2017-02-17",
                                    "(No column name)": "NULL"
                                },
                                {
                                    "LOGIN": "robert2",
                                    "NEV": "Patay Róbert",
                                    "mettol": "2016-05-15",
                                    "meddig": "2016-05-18",
                                    "(No column name)": "NULL"
                                },
                                {
                                    "LOGIN": "robert2",
                                    "NEV": "Patay Róbert",
                                    "mettol": "2016-08-20",
                                    "meddig": "2016-08-27",
                                    "(No column name)": "NULL"
                                },
                                {
                                    "LOGIN": "robert2",
                                    "NEV": "Patay Róbert",
                                    "mettol": "2016-10-23",
                                    "meddig": "2016-10-28",
                                    "(No column name)": "NULL"
                                },
                                {
                                    "LOGIN": "robert2",
                                    "NEV": "Patay Róbert",
                                    "mettol": "2016-12-17",
                                    "meddig": "2016-12-22",
                                    "(No column name)": "NULL"
                                },
                                {
                                    "LOGIN": "ROBERTI",
                                    "NEV": "Iván Róbert",
                                    "mettol": "2016-07-12",
                                    "meddig": "2016-07-19",
                                    "(No column name)": "NULL"
                                },
                                {
                                    "LOGIN": "ROBERTI",
                                    "NEV": "Iván Róbert",
                                    "mettol": "2016-08-16",
                                    "meddig": "2016-08-21",
                                    "(No column name)": "NULL"
                                },
                                {
                                    "LOGIN": "ROBERTI",
                                    "NEV": "Iván Róbert",
                                    "mettol": "2016-08-23",
                                    "meddig": "2016-08-25",
                                    "(No column name)": "NULL"
                                },
                                {
                                    "LOGIN": "ROBERTI",
                                    "NEV": "Iván Róbert",
                                    "mettol": "2016-10-08",
                                    "meddig": "2016-10-12",
                                    "(No column name)": "NULL"
                                },
                                {
                                    "LOGIN": "ROBERTI",
                                    "NEV": "Iván Róbert",
                                    "mettol": "2016-10-09",
                                    "meddig": "2016-10-10",
                                    "(No column name)": "NULL"
                                },
                                {
                                    "LOGIN": "ROBERTI",
                                    "NEV": "Iván Róbert",
                                    "mettol": "2016-10-23",
                                    "meddig": "2016-10-29",
                                    "(No column name)": "NULL"
                                },
                                {
                                    "LOGIN": "ROBERTI",
                                    "NEV": "Iván Róbert",
                                    "mettol": "2016-10-26",
                                    "meddig": "2016-11-01",
                                    "(No column name)": "NULL"
                                },
                                {
                                    "LOGIN": "ROBERTI",
                                    "NEV": "Iván Róbert",
                                    "mettol": "2017-02-17",
                                    "meddig": "2017-02-20",
                                    "(No column name)": "NULL"
                                },
                                {
                                    "LOGIN": "ROBERTP",
                                    "NEV": "Pásztor Róbert",
                                    "mettol": "2016-07-30",
                                    "meddig": "2016-08-05",
                                    "(No column name)": "NULL"
                                },
                                {
                                    "LOGIN": "ROBERTP",
                                    "NEV": "Pásztor Róbert",
                                    "mettol": "2016-09-08",
                                    "meddig": "2016-09-11",
                                    "(No column name)": "NULL"
                                },
                                {
                                    "LOGIN": "roland",
                                    "NEV": "Tóth Roland",
                                    "mettol": "2016-06-09",
                                    "meddig": "2016-06-13",
                                    "(No column name)": "NULL"
                                },
                                {
                                    "LOGIN": "roland",
                                    "NEV": "Tóth Roland",
                                    "mettol": "2016-06-22",
                                    "meddig": "2016-06-23",
                                    "(No column name)": "NULL"
                                },
                                {
                                    "LOGIN": "roland",
                                    "NEV": "Tóth Roland",
                                    "mettol": "2016-09-04",
                                    "meddig": "2016-09-05",
                                    "(No column name)": "NULL"
                                },
                                {
                                    "LOGIN": "roland",
                                    "NEV": "Tóth Roland",
                                    "mettol": "2016-11-19",
                                    "meddig": "2016-11-24",
                                    "(No column name)": "NULL"
                                },
                                {
                                    "LOGIN": "roland1",
                                    "NEV": "Ferencz Roland",
                                    "mettol": "2016-11-05",
                                    "meddig": "2016-11-07",
                                    "(No column name)": "NULL"
                                },
                                {
                                    "LOGIN": "roland1",
                                    "NEV": "Ferencz Roland",
                                    "mettol": "2016-12-22",
                                    "meddig": "2016-12-29",
                                    "(No column name)": "NULL"
                                },
                                {
                                    "LOGIN": "roland1",
                                    "NEV": "Ferencz Roland",
                                    "mettol": "2017-01-04",
                                    "meddig": "2017-01-08",
                                    "(No column name)": "NULL"
                                },
                                {
                                    "LOGIN": "roland1",
                                    "NEV": "Ferencz Roland",
                                    "mettol": "2017-01-16",
                                    "meddig": "2017-01-22",
                                    "(No column name)": "NULL"
                                },
                                {
                                    "LOGIN": "roza2",
                                    "NEV": "Bucskó Róza",
                                    "mettol": "2016-09-10",
                                    "meddig": "2016-09-13",
                                    "(No column name)": "NULL"
                                },
                                {
                                    "LOGIN": "roza2",
                                    "NEV": "Bucskó Róza",
                                    "mettol": "2017-01-11",
                                    "meddig": "2017-01-17",
                                    "(No column name)": "NULL"
                                },
                                {
                                    "LOGIN": "roza2",
                                    "NEV": "Bucskó Róza",
                                    "mettol": "2017-02-18",
                                    "meddig": "2017-02-21",
                                    "(No column name)": "NULL"
                                },
                                {
                                    "LOGIN": "sandor",
                                    "NEV": "Karasz Sándor",
                                    "mettol": "2016-07-04",
                                    "meddig": "2016-07-06",
                                    "(No column name)": "NULL"
                                },
                                {
                                    "LOGIN": "sandor",
                                    "NEV": "Karasz Sándor",
                                    "mettol": "2016-07-18",
                                    "meddig": "2016-07-24",
                                    "(No column name)": "NULL"
                                },
                                {
                                    "LOGIN": "sandor",
                                    "NEV": "Karasz Sándor",
                                    "mettol": "2016-08-20",
                                    "meddig": "2016-08-25",
                                    "(No column name)": "NULL"
                                },
                                {
                                    "LOGIN": "sandor",
                                    "NEV": "Karasz Sándor",
                                    "mettol": "2016-09-19",
                                    "meddig": "2016-09-26",
                                    "(No column name)": "NULL"
                                },
                                {
                                    "LOGIN": "sandor3",
                                    "NEV": "Farkas Sándor",
                                    "mettol": "2016-05-12",
                                    "meddig": "2016-05-15",
                                    "(No column name)": "NULL"
                                },
                                {
                                    "LOGIN": "sandor3",
                                    "NEV": "Farkas Sándor",
                                    "mettol": "2016-05-25",
                                    "meddig": "2016-05-30",
                                    "(No column name)": "NULL"
                                },
                                {
                                    "LOGIN": "sandor3",
                                    "NEV": "Farkas Sándor",
                                    "mettol": "2016-10-09",
                                    "meddig": "2016-10-14",
                                    "(No column name)": "NULL"
                                },
                                {
                                    "LOGIN": "sandor3",
                                    "NEV": "Farkas Sándor",
                                    "mettol": "2016-10-23",
                                    "meddig": "2016-10-29",
                                    "(No column name)": "NULL"
                                },
                                {
                                    "LOGIN": "sandor3",
                                    "NEV": "Farkas Sándor",
                                    "mettol": "2016-11-10",
                                    "meddig": "2016-11-11",
                                    "(No column name)": "NULL"
                                },
                                {
                                    "LOGIN": "sandor4",
                                    "NEV": "Nagy Sándor",
                                    "mettol": "2016-10-15",
                                    "meddig": "2016-10-18",
                                    "(No column name)": "NULL"
                                },
                                {
                                    "LOGIN": "sandor4",
                                    "NEV": "Nagy Sándor",
                                    "mettol": "2016-11-29",
                                    "meddig": "2016-12-03",
                                    "(No column name)": "NULL"
                                },
                                {
                                    "LOGIN": "sandor4",
                                    "NEV": "Nagy Sándor",
                                    "mettol": "2016-12-03",
                                    "meddig": "2016-12-09",
                                    "(No column name)": "NULL"
                                },
                                {
                                    "LOGIN": "sandor4",
                                    "NEV": "Nagy Sándor",
                                    "mettol": "2017-01-22",
                                    "meddig": "2017-01-26",
                                    "(No column name)": "NULL"
                                },
                                {
                                    "LOGIN": "sara",
                                    "NEV": "Farkas Sára",
                                    "mettol": "2016-05-28",
                                    "meddig": "2016-05-30",
                                    "(No column name)": "NULL"
                                },
                                {
                                    "LOGIN": "sara",
                                    "NEV": "Farkas Sára",
                                    "mettol": "2016-05-30",
                                    "meddig": "2016-05-31",
                                    "(No column name)": "NULL"
                                },
                                {
                                    "LOGIN": "sara",
                                    "NEV": "Farkas Sára",
                                    "mettol": "2016-06-06",
                                    "meddig": "2016-06-08",
                                    "(No column name)": "NULL"
                                },
                                {
                                    "LOGIN": "sara",
                                    "NEV": "Farkas Sára",
                                    "mettol": "2016-07-15",
                                    "meddig": "2016-07-17",
                                    "(No column name)": "NULL"
                                },
                                {
                                    "LOGIN": "sara",
                                    "NEV": "Farkas Sára",
                                    "mettol": "2016-07-24",
                                    "meddig": "2016-07-27",
                                    "(No column name)": "NULL"
                                },
                                {
                                    "LOGIN": "sara",
                                    "NEV": "Farkas Sára",
                                    "mettol": "2016-10-06",
                                    "meddig": "2016-10-12",
                                    "(No column name)": "NULL"
                                },
                                {
                                    "LOGIN": "sara",
                                    "NEV": "Farkas Sára",
                                    "mettol": "2016-10-11",
                                    "meddig": "2016-10-14",
                                    "(No column name)": "NULL"
                                },
                                {
                                    "LOGIN": "sara",
                                    "NEV": "Farkas Sára",
                                    "mettol": "2016-10-28",
                                    "meddig": "2016-11-03",
                                    "(No column name)": "NULL"
                                },
                                {
                                    "LOGIN": "sara",
                                    "NEV": "Farkas Sára",
                                    "mettol": "2016-11-18",
                                    "meddig": "2016-11-21",
                                    "(No column name)": "NULL"
                                },
                                {
                                    "LOGIN": "sara",
                                    "NEV": "Farkas Sára",
                                    "mettol": "2016-11-23",
                                    "meddig": "2016-11-30",
                                    "(No column name)": "NULL"
                                },
                                {
                                    "LOGIN": "sara",
                                    "NEV": "Farkas Sára",
                                    "mettol": "2016-12-06",
                                    "meddig": "2016-12-10",
                                    "(No column name)": "NULL"
                                },
                                {
                                    "LOGIN": "sara",
                                    "NEV": "Farkas Sára",
                                    "mettol": "2016-12-25",
                                    "meddig": "2016-12-30",
                                    "(No column name)": "NULL"
                                },
                                {
                                    "LOGIN": "SEBASTIANF",
                                    "NEV": "Foltényi Sebastián",
                                    "mettol": "2016-04-06",
                                    "meddig": "2016-04-12",
                                    "(No column name)": "NULL"
                                },
                                {
                                    "LOGIN": "SEBASTIANF",
                                    "NEV": "Foltényi Sebastián",
                                    "mettol": "2016-07-17",
                                    "meddig": "2016-07-21",
                                    "(No column name)": "NULL"
                                },
                                {
                                    "LOGIN": "SEBASTIANF",
                                    "NEV": "Foltényi Sebastián",
                                    "mettol": "2016-07-30",
                                    "meddig": "2016-08-06",
                                    "(No column name)": "NULL"
                                },
                                {
                                    "LOGIN": "SEBASTIANF",
                                    "NEV": "Foltényi Sebastián",
                                    "mettol": "2016-09-14",
                                    "meddig": "2016-09-15",
                                    "(No column name)": "NULL"
                                },
                                {
                                    "LOGIN": "SEBASTIANF",
                                    "NEV": "Foltényi Sebastián",
                                    "mettol": "2016-09-17",
                                    "meddig": "2016-09-20",
                                    "(No column name)": "NULL"
                                },
                                {
                                    "LOGIN": "sebestyen",
                                    "NEV": "Rab Sebestyén",
                                    "mettol": "2016-04-07",
                                    "meddig": "2016-04-12",
                                    "(No column name)": "NULL"
                                },
                                {
                                    "LOGIN": "sebestyen",
                                    "NEV": "Rab Sebestyén",
                                    "mettol": "2016-04-26",
                                    "meddig": "2016-05-02",
                                    "(No column name)": "NULL"
                                },
                                {
                                    "LOGIN": "sebestyen",
                                    "NEV": "Rab Sebestyén",
                                    "mettol": "2016-06-09",
                                    "meddig": "2016-06-14",
                                    "(No column name)": "NULL"
                                },
                                {
                                    "LOGIN": "sebestyen",
                                    "NEV": "Rab Sebestyén",
                                    "mettol": "2016-10-26",
                                    "meddig": "2016-11-01",
                                    "(No column name)": "NULL"
                                },
                                {
                                    "LOGIN": "szabolcs",
                                    "NEV": "Bodor Szabolcs",
                                    "mettol": "2016-12-05",
                                    "meddig": "2016-12-07",
                                    "(No column name)": "NULL"
                                },
                                {
                                    "LOGIN": "SZABOLCSM",
                                    "NEV": "Miklós Szabolcs",
                                    "mettol": "2016-06-18",
                                    "meddig": "2016-06-21",
                                    "(No column name)": "NULL"
                                },
                                {
                                    "LOGIN": "SZABOLCSM",
                                    "NEV": "Miklós Szabolcs",
                                    "mettol": "2016-07-28",
                                    "meddig": "2016-08-03",
                                    "(No column name)": "NULL"
                                },
                                {
                                    "LOGIN": "SZABOLCSM",
                                    "NEV": "Miklós Szabolcs",
                                    "mettol": "2016-10-17",
                                    "meddig": "2016-10-19",
                                    "(No column name)": "NULL"
                                },
                                {
                                    "LOGIN": "SZABOLCSM",
                                    "NEV": "Miklós Szabolcs",
                                    "mettol": "2016-10-28",
                                    "meddig": "2016-11-03",
                                    "(No column name)": "NULL"
                                },
                                {
                                    "LOGIN": "SZABOLCSM",
                                    "NEV": "Miklós Szabolcs",
                                    "mettol": "2016-11-12",
                                    "meddig": "2016-11-13",
                                    "(No column name)": "NULL"
                                },
                                {
                                    "LOGIN": "SZABOLCSM",
                                    "NEV": "Miklós Szabolcs",
                                    "mettol": "2017-01-07",
                                    "meddig": "2017-01-08",
                                    "(No column name)": "NULL"
                                },
                                {
                                    "LOGIN": "SZABOLCSM",
                                    "NEV": "Miklós Szabolcs",
                                    "mettol": "2017-02-04",
                                    "meddig": "2017-02-05",
                                    "(No column name)": "NULL"
                                },
                                {
                                    "LOGIN": "SZILARDS",
                                    "NEV": "Szalai Szilárd",
                                    "mettol": "2016-04-23",
                                    "meddig": "2016-04-30",
                                    "(No column name)": "NULL"
                                },
                                {
                                    "LOGIN": "SZILARDS",
                                    "NEV": "Szalai Szilárd",
                                    "mettol": "2016-07-27",
                                    "meddig": "2016-08-03",
                                    "(No column name)": "NULL"
                                },
                                {
                                    "LOGIN": "SZILARDS",
                                    "NEV": "Szalai Szilárd",
                                    "mettol": "2016-08-28",
                                    "meddig": "2016-08-29",
                                    "(No column name)": "NULL"
                                },
                                {
                                    "LOGIN": "SZILARDS",
                                    "NEV": "Szalai Szilárd",
                                    "mettol": "2016-09-20",
                                    "meddig": "2016-09-24",
                                    "(No column name)": "NULL"
                                },
                                {
                                    "LOGIN": "SZILARDS",
                                    "NEV": "Szalai Szilárd",
                                    "mettol": "2016-10-01",
                                    "meddig": "2016-10-08",
                                    "(No column name)": "NULL"
                                },
                                {
                                    "LOGIN": "SZILARDS",
                                    "NEV": "Szalai Szilárd",
                                    "mettol": "2017-01-16",
                                    "meddig": "2017-01-19",
                                    "(No column name)": "NULL"
                                },
                                {
                                    "LOGIN": "SZILARDS",
                                    "NEV": "Szalai Szilárd",
                                    "mettol": "2017-02-08",
                                    "meddig": "2017-02-15",
                                    "(No column name)": "NULL"
                                },
                                {
                                    "LOGIN": "szilvia1",
                                    "NEV": "Tari Szilvia",
                                    "mettol": "2016-05-14",
                                    "meddig": "2016-05-21",
                                    "(No column name)": "NULL"
                                },
                                {
                                    "LOGIN": "szilvia1",
                                    "NEV": "Tari Szilvia",
                                    "mettol": "2016-05-28",
                                    "meddig": "2016-06-03",
                                    "(No column name)": "NULL"
                                },
                                {
                                    "LOGIN": "szilvia1",
                                    "NEV": "Tari Szilvia",
                                    "mettol": "2016-07-25",
                                    "meddig": "2016-07-28",
                                    "(No column name)": "NULL"
                                },
                                {
                                    "LOGIN": "szilvia1",
                                    "NEV": "Tari Szilvia",
                                    "mettol": "2016-10-09",
                                    "meddig": "2016-10-10",
                                    "(No column name)": "NULL"
                                },
                                {
                                    "LOGIN": "szilvia1",
                                    "NEV": "Tari Szilvia",
                                    "mettol": "2016-10-25",
                                    "meddig": "2016-10-31",
                                    "(No column name)": "NULL"
                                },
                                {
                                    "LOGIN": "szilvia1",
                                    "NEV": "Tari Szilvia",
                                    "mettol": "2016-10-27",
                                    "meddig": "2016-10-28",
                                    "(No column name)": "NULL"
                                },
                                {
                                    "LOGIN": "szilvia1",
                                    "NEV": "Tari Szilvia",
                                    "mettol": "2016-12-25",
                                    "meddig": "2016-12-29",
                                    "(No column name)": "NULL"
                                },
                                {
                                    "LOGIN": "szilvia1",
                                    "NEV": "Tari Szilvia",
                                    "mettol": "2016-12-27",
                                    "meddig": "2017-01-02",
                                    "(No column name)": "NULL"
                                },
                                {
                                    "LOGIN": "szilvia1",
                                    "NEV": "Tari Szilvia",
                                    "mettol": "2017-01-28",
                                    "meddig": "2017-02-03",
                                    "(No column name)": "NULL"
                                },
                                {
                                    "LOGIN": "tamara2",
                                    "NEV": "Miklós Tamara",
                                    "mettol": "2016-08-12",
                                    "meddig": "2016-08-15",
                                    "(No column name)": "NULL"
                                },
                                {
                                    "LOGIN": "tamara2",
                                    "NEV": "Miklós Tamara",
                                    "mettol": "2016-11-15",
                                    "meddig": "2016-11-18",
                                    "(No column name)": "NULL"
                                },
                                {
                                    "LOGIN": "tamas",
                                    "NEV": "Antal Tamás",
                                    "mettol": "2016-05-17",
                                    "meddig": "2016-05-22",
                                    "(No column name)": "NULL"
                                },
                                {
                                    "LOGIN": "tamas",
                                    "NEV": "Antal Tamás",
                                    "mettol": "2016-06-14",
                                    "meddig": "2016-06-21",
                                    "(No column name)": "NULL"
                                },
                                {
                                    "LOGIN": "tamas",
                                    "NEV": "Antal Tamás",
                                    "mettol": "2016-08-24",
                                    "meddig": "2016-08-27",
                                    "(No column name)": "NULL"
                                },
                                {
                                    "LOGIN": "tamas",
                                    "NEV": "Antal Tamás",
                                    "mettol": "2017-02-14",
                                    "meddig": "2017-02-19",
                                    "(No column name)": "NULL"
                                },
                                {
                                    "LOGIN": "TAMASF",
                                    "NEV": "Fényes Tamás",
                                    "mettol": "2016-05-03",
                                    "meddig": "2016-05-04",
                                    "(No column name)": "NULL"
                                },
                                {
                                    "LOGIN": "TAMASF",
                                    "NEV": "Fényes Tamás",
                                    "mettol": "2016-06-10",
                                    "meddig": "2016-06-13",
                                    "(No column name)": "NULL"
                                },
                                {
                                    "LOGIN": "TAMASF",
                                    "NEV": "Fényes Tamás",
                                    "mettol": "2016-06-28",
                                    "meddig": "2016-07-05",
                                    "(No column name)": "NULL"
                                },
                                {
                                    "LOGIN": "TAMASF",
                                    "NEV": "Fényes Tamás",
                                    "mettol": "2016-07-04",
                                    "meddig": "2016-07-10",
                                    "(No column name)": "NULL"
                                },
                                {
                                    "LOGIN": "TAMASF",
                                    "NEV": "Fényes Tamás",
                                    "mettol": "2016-09-12",
                                    "meddig": "2016-09-18",
                                    "(No column name)": "NULL"
                                },
                                {
                                    "LOGIN": "TAMASF",
                                    "NEV": "Fényes Tamás",
                                    "mettol": "2016-12-02",
                                    "meddig": "2016-12-04",
                                    "(No column name)": "NULL"
                                },
                                {
                                    "LOGIN": "TAMASF",
                                    "NEV": "Fényes Tamás",
                                    "mettol": "2016-12-10",
                                    "meddig": "2016-12-14",
                                    "(No column name)": "NULL"
                                },
                                {
                                    "LOGIN": "TAMASF",
                                    "NEV": "Fényes Tamás",
                                    "mettol": "2017-02-12",
                                    "meddig": "2017-02-17",
                                    "(No column name)": "NULL"
                                },
                                {
                                    "LOGIN": "TAMASF",
                                    "NEV": "Fényes Tamás",
                                    "mettol": "2017-02-16",
                                    "meddig": "2017-02-19",
                                    "(No column name)": "NULL"
                                },
                                {
                                    "LOGIN": "tibor",
                                    "NEV": "Gombos Tibor",
                                    "mettol": "2016-10-09",
                                    "meddig": "2016-10-13",
                                    "(No column name)": "NULL"
                                },
                                {
                                    "LOGIN": "tibor",
                                    "NEV": "Gombos Tibor",
                                    "mettol": "2016-11-05",
                                    "meddig": "2016-11-09",
                                    "(No column name)": "NULL"
                                },
                                {
                                    "LOGIN": "tibor2",
                                    "NEV": "Dániel Tibor",
                                    "mettol": "2016-10-20",
                                    "meddig": "2016-10-25",
                                    "(No column name)": "NULL"
                                },
                                {
                                    "LOGIN": "tihamer",
                                    "NEV": "Kazy Tihamér",
                                    "mettol": "2016-05-30",
                                    "meddig": "2016-06-05",
                                    "(No column name)": "NULL"
                                },
                                {
                                    "LOGIN": "tihamer",
                                    "NEV": "Kazy Tihamér",
                                    "mettol": "2016-06-03",
                                    "meddig": "2016-06-08",
                                    "(No column name)": "NULL"
                                },
                                {
                                    "LOGIN": "tihamer",
                                    "NEV": "Kazy Tihamér",
                                    "mettol": "2016-07-20",
                                    "meddig": "2016-07-24",
                                    "(No column name)": "NULL"
                                },
                                {
                                    "LOGIN": "tihamer",
                                    "NEV": "Kazy Tihamér",
                                    "mettol": "2016-08-18",
                                    "meddig": "2016-08-22",
                                    "(No column name)": "NULL"
                                },
                                {
                                    "LOGIN": "tihamer",
                                    "NEV": "Kazy Tihamér",
                                    "mettol": "2016-10-19",
                                    "meddig": "2016-10-23",
                                    "(No column name)": "NULL"
                                },
                                {
                                    "LOGIN": "tihamer",
                                    "NEV": "Kazy Tihamér",
                                    "mettol": "2016-12-25",
                                    "meddig": "2016-12-26",
                                    "(No column name)": "NULL"
                                },
                                {
                                    "LOGIN": "timea",
                                    "NEV": "Papós Tímea",
                                    "mettol": "2016-12-26",
                                    "meddig": "2016-12-27",
                                    "(No column name)": "NULL"
                                },
                                {
                                    "LOGIN": "timea2",
                                    "NEV": "Dusha Tímea",
                                    "mettol": "2016-06-06",
                                    "meddig": "2016-06-07",
                                    "(No column name)": "NULL"
                                },
                                {
                                    "LOGIN": "timea2",
                                    "NEV": "Dusha Tímea",
                                    "mettol": "2016-08-07",
                                    "meddig": "2016-08-10",
                                    "(No column name)": "NULL"
                                },
                                {
                                    "LOGIN": "timea2",
                                    "NEV": "Dusha Tímea",
                                    "mettol": "2016-10-26",
                                    "meddig": "2016-10-29",
                                    "(No column name)": "NULL"
                                },
                                {
                                    "LOGIN": "timea2",
                                    "NEV": "Dusha Tímea",
                                    "mettol": "2016-11-27",
                                    "meddig": "2016-12-01",
                                    "(No column name)": "NULL"
                                },
                                {
                                    "LOGIN": "timea2",
                                    "NEV": "Dusha Tímea",
                                    "mettol": "2016-12-14",
                                    "meddig": "2016-12-16",
                                    "(No column name)": "NULL"
                                },
                                {
                                    "LOGIN": "tunde",
                                    "NEV": "Turcsik Tünde",
                                    "mettol": "2016-06-03",
                                    "meddig": "2016-06-07",
                                    "(No column name)": "NULL"
                                },
                                {
                                    "LOGIN": "tunde",
                                    "NEV": "Turcsik Tünde",
                                    "mettol": "2016-06-06",
                                    "meddig": "2016-06-12",
                                    "(No column name)": "NULL"
                                },
                                {
                                    "LOGIN": "tunde",
                                    "NEV": "Turcsik Tünde",
                                    "mettol": "2016-07-14",
                                    "meddig": "2016-07-21",
                                    "(No column name)": "NULL"
                                },
                                {
                                    "LOGIN": "tunde",
                                    "NEV": "Turcsik Tünde",
                                    "mettol": "2016-09-05",
                                    "meddig": "2016-09-12",
                                    "(No column name)": "NULL"
                                },
                                {
                                    "LOGIN": "tunde",
                                    "NEV": "Turcsik Tünde",
                                    "mettol": "2016-10-24",
                                    "meddig": "2016-10-30",
                                    "(No column name)": "NULL"
                                },
                                {
                                    "LOGIN": "tunde",
                                    "NEV": "Turcsik Tünde",
                                    "mettol": "2016-11-19",
                                    "meddig": "2016-11-20",
                                    "(No column name)": "NULL"
                                },
                                {
                                    "LOGIN": "tunde",
                                    "NEV": "Turcsik Tünde",
                                    "mettol": "2016-12-15",
                                    "meddig": "2016-12-20",
                                    "(No column name)": "NULL"
                                },
                                {
                                    "LOGIN": "tunde",
                                    "NEV": "Turcsik Tünde",
                                    "mettol": "2017-01-03",
                                    "meddig": "2017-01-06",
                                    "(No column name)": "NULL"
                                },
                                {
                                    "LOGIN": "valentin",
                                    "NEV": "Feró Valentin",
                                    "mettol": "2016-05-24",
                                    "meddig": "2016-05-30",
                                    "(No column name)": "NULL"
                                },
                                {
                                    "LOGIN": "valentin",
                                    "NEV": "Feró Valentin",
                                    "mettol": "2016-07-24",
                                    "meddig": "2016-07-29",
                                    "(No column name)": "NULL"
                                },
                                {
                                    "LOGIN": "valentin",
                                    "NEV": "Feró Valentin",
                                    "mettol": "2016-10-26",
                                    "meddig": "2016-10-30",
                                    "(No column name)": "NULL"
                                },
                                {
                                    "LOGIN": "valentin",
                                    "NEV": "Feró Valentin",
                                    "mettol": "2016-11-11",
                                    "meddig": "2016-11-17",
                                    "(No column name)": "NULL"
                                },
                                {
                                    "LOGIN": "valentin",
                                    "NEV": "Feró Valentin",
                                    "mettol": "2016-12-01",
                                    "meddig": "2016-12-05",
                                    "(No column name)": "NULL"
                                },
                                {
                                    "LOGIN": "veronika4",
                                    "NEV": "Tankó Veronika",
                                    "mettol": "2016-05-30",
                                    "meddig": "2016-06-04",
                                    "(No column name)": "NULL"
                                },
                                {
                                    "LOGIN": "veronika4",
                                    "NEV": "Tankó Veronika",
                                    "mettol": "2016-07-20",
                                    "meddig": "2016-07-26",
                                    "(No column name)": "NULL"
                                },
                                {
                                    "LOGIN": "veronika4",
                                    "NEV": "Tankó Veronika",
                                    "mettol": "2016-08-16",
                                    "meddig": "2016-08-21",
                                    "(No column name)": "NULL"
                                },
                                {
                                    "LOGIN": "veronika4",
                                    "NEV": "Tankó Veronika",
                                    "mettol": "2016-09-26",
                                    "meddig": "2016-10-03",
                                    "(No column name)": "NULL"
                                },
                                {
                                    "LOGIN": "veronika4",
                                    "NEV": "Tankó Veronika",
                                    "mettol": "2017-01-19",
                                    "meddig": "2017-01-24",
                                    "(No column name)": "NULL"
                                },
                                {
                                    "LOGIN": "veronika4",
                                    "NEV": "Tankó Veronika",
                                    "mettol": "2017-02-03",
                                    "meddig": "2017-02-05",
                                    "(No column name)": "NULL"
                                },
                                {
                                    "LOGIN": "VIKTORIAU",
                                    "NEV": "Urbán Viktoria",
                                    "mettol": "2016-04-30",
                                    "meddig": "2016-05-03",
                                    "(No column name)": "NULL"
                                },
                                {
                                    "LOGIN": "VIKTORIAU",
                                    "NEV": "Urbán Viktoria",
                                    "mettol": "2016-08-03",
                                    "meddig": "2016-08-04",
                                    "(No column name)": "NULL"
                                },
                                {
                                    "LOGIN": "VIKTORIAU",
                                    "NEV": "Urbán Viktoria",
                                    "mettol": "2016-10-14",
                                    "meddig": "2016-10-15",
                                    "(No column name)": "NULL"
                                },
                                {
                                    "LOGIN": "VIKTORIAU",
                                    "NEV": "Urbán Viktoria",
                                    "mettol": "2016-10-26",
                                    "meddig": "2016-11-02",
                                    "(No column name)": "NULL"
                                },
                                {
                                    "LOGIN": "VIKTORK",
                                    "NEV": "Keresztúri Viktor",
                                    "mettol": "2016-05-30",
                                    "meddig": "2016-06-01",
                                    "(No column name)": "NULL"
                                },
                                {
                                    "LOGIN": "VIKTORK",
                                    "NEV": "Keresztúri Viktor",
                                    "mettol": "2016-06-06",
                                    "meddig": "2016-06-07",
                                    "(No column name)": "NULL"
                                },
                                {
                                    "LOGIN": "vivien3",
                                    "NEV": "Boros Vivien",
                                    "mettol": "2016-05-02",
                                    "meddig": "2016-05-05",
                                    "(No column name)": "NULL"
                                },
                                {
                                    "LOGIN": "vivien3",
                                    "NEV": "Boros Vivien",
                                    "mettol": "2016-08-13",
                                    "meddig": "2016-08-18",
                                    "(No column name)": "NULL"
                                },
                                {
                                    "LOGIN": "vivien3",
                                    "NEV": "Boros Vivien",
                                    "mettol": "2016-09-01",
                                    "meddig": "2016-09-05",
                                    "(No column name)": "NULL"
                                },
                                {
                                    "LOGIN": "vivien3",
                                    "NEV": "Boros Vivien",
                                    "mettol": "2016-10-01",
                                    "meddig": "2016-10-04",
                                    "(No column name)": "NULL"
                                },
                                {
                                    "LOGIN": "vivien3",
                                    "NEV": "Boros Vivien",
                                    "mettol": "2016-11-17",
                                    "meddig": "2016-11-20",
                                    "(No column name)": "NULL"
                                },
                                {
                                    "LOGIN": "vivien3",
                                    "NEV": "Boros Vivien",
                                    "mettol": "2016-12-17",
                                    "meddig": "2016-12-21",
                                    "(No column name)": "NULL"
                                },
                                {
                                    "LOGIN": "vivien3",
                                    "NEV": "Boros Vivien",
                                    "mettol": "2016-12-24",
                                    "meddig": "2016-12-26",
                                    "(No column name)": "NULL"
                                },
                                {
                                    "LOGIN": "zoltan",
                                    "NEV": "Fodor Zoltán",
                                    "mettol": "2016-08-24",
                                    "meddig": "2016-08-31",
                                    "(No column name)": "NULL"
                                },
                                {
                                    "LOGIN": "zoltan",
                                    "NEV": "Fodor Zoltán",
                                    "mettol": "2016-09-05",
                                    "meddig": "2016-09-09",
                                    "(No column name)": "NULL"
                                },
                                {
                                    "LOGIN": "zoltan4",
                                    "NEV": "Barna Zoltán",
                                    "mettol": "2016-05-12",
                                    "meddig": "2016-05-16",
                                    "(No column name)": "NULL"
                                },
                                {
                                    "LOGIN": "zoltan4",
                                    "NEV": "Barna Zoltán",
                                    "mettol": "2016-05-13",
                                    "meddig": "2016-05-16",
                                    "(No column name)": "NULL"
                                },
                                {
                                    "LOGIN": "zoltan4",
                                    "NEV": "Barna Zoltán",
                                    "mettol": "2016-06-03",
                                    "meddig": "2016-06-06",
                                    "(No column name)": "NULL"
                                },
                                {
                                    "LOGIN": "zoltan4",
                                    "NEV": "Barna Zoltán",
                                    "mettol": "2016-08-15",
                                    "meddig": "2016-08-21",
                                    "(No column name)": "NULL"
                                },
                                {
                                    "LOGIN": "zoltan4",
                                    "NEV": "Barna Zoltán",
                                    "mettol": "2016-08-16",
                                    "meddig": "2016-08-23",
                                    "(No column name)": "NULL"
                                },
                                {
                                    "LOGIN": "zoltan4",
                                    "NEV": "Barna Zoltán",
                                    "mettol": "2016-09-30",
                                    "meddig": "2016-10-07",
                                    "(No column name)": "NULL"
                                },
                                {
                                    "LOGIN": "zoltan4",
                                    "NEV": "Barna Zoltán",
                                    "mettol": "2016-10-21",
                                    "meddig": "2016-10-24",
                                    "(No column name)": "NULL"
                                },
                                {
                                    "LOGIN": "zoltan4",
                                    "NEV": "Barna Zoltán",
                                    "mettol": "2016-10-26",
                                    "meddig": "2016-10-30",
                                    "(No column name)": "NULL"
                                },
                                {
                                    "LOGIN": "zoltan4",
                                    "NEV": "Barna Zoltán",
                                    "mettol": "2016-10-30",
                                    "meddig": "2016-11-06",
                                    "(No column name)": "NULL"
                                },
                                {
                                    "LOGIN": "zoltan4",
                                    "NEV": "Barna Zoltán",
                                    "mettol": "2016-11-19",
                                    "meddig": "2016-11-21",
                                    "(No column name)": "NULL"
                                },
                                {
                                    "LOGIN": "zoltan4",
                                    "NEV": "Barna Zoltán",
                                    "mettol": "2016-12-29",
                                    "meddig": "2017-01-04",
                                    "(No column name)": "NULL"
                                },
                                {
                                    "LOGIN": "zoltan4",
                                    "NEV": "Barna Zoltán",
                                    "mettol": "2017-01-01",
                                    "meddig": "2017-01-02",
                                    "(No column name)": "NULL"
                                },
                                {
                                    "LOGIN": "ZOLTANP",
                                    "NEV": "Pintér Zoltán",
                                    "mettol": "2016-06-05",
                                    "meddig": "2016-06-08",
                                    "(No column name)": "NULL"
                                },
                                {
                                    "LOGIN": "ZOLTANP",
                                    "NEV": "Pintér Zoltán",
                                    "mettol": "2016-06-06",
                                    "meddig": "2016-06-08",
                                    "(No column name)": "NULL"
                                },
                                {
                                    "LOGIN": "ZOLTANP",
                                    "NEV": "Pintér Zoltán",
                                    "mettol": "2016-07-20",
                                    "meddig": "2016-07-25",
                                    "(No column name)": "NULL"
                                },
                                {
                                    "LOGIN": "ZOLTANP",
                                    "NEV": "Pintér Zoltán",
                                    "mettol": "2016-10-19",
                                    "meddig": "2016-10-25",
                                    "(No column name)": "NULL"
                                },
                                {
                                    "LOGIN": "ZOLTANP",
                                    "NEV": "Pintér Zoltán",
                                    "mettol": "2016-12-07",
                                    "meddig": "2016-12-10",
                                    "(No column name)": "NULL"
                                },
                                {
                                    "LOGIN": "ZOLTANP",
                                    "NEV": "Pintér Zoltán",
                                    "mettol": "2016-12-25",
                                    "meddig": "2016-12-29",
                                    "(No column name)": "NULL"
                                },
                                {
                                    "LOGIN": "ZOLTANT",
                                    "NEV": "Tóth Zoltán",
                                    "mettol": "2016-05-01",
                                    "meddig": "2016-05-04",
                                    "(No column name)": "NULL"
                                },
                                {
                                    "LOGIN": "ZOLTANT",
                                    "NEV": "Tóth Zoltán",
                                    "mettol": "2016-07-14",
                                    "meddig": "2016-07-15",
                                    "(No column name)": "NULL"
                                },
                                {
                                    "LOGIN": "ZOLTANT",
                                    "NEV": "Tóth Zoltán",
                                    "mettol": "2017-01-16",
                                    "meddig": "2017-01-20",
                                    "(No column name)": "NULL"
                                },
                                {
                                    "LOGIN": "zsofi1",
                                    "NEV": "Molnár Zsófi",
                                    "mettol": "2016-06-16",
                                    "meddig": "2016-06-17",
                                    "(No column name)": "NULL"
                                },
                                {
                                    "LOGIN": "zsofi1",
                                    "NEV": "Molnár Zsófi",
                                    "mettol": "2017-02-18",
                                    "meddig": "2017-02-19",
                                    "(No column name)": "NULL"
                                },
                                {
                                    "LOGIN": "zsolt1",
                                    "NEV": "Pulai Zsolt",
                                    "mettol": "2016-04-14",
                                    "meddig": "2016-04-17",
                                    "(No column name)": "NULL"
                                },
                                {
                                    "LOGIN": "zsolt1",
                                    "NEV": "Pulai Zsolt",
                                    "mettol": "2016-06-06",
                                    "meddig": "2016-06-08",
                                    "(No column name)": "NULL"
                                },
                                {
                                    "LOGIN": "zsolt1",
                                    "NEV": "Pulai Zsolt",
                                    "mettol": "2016-06-07",
                                    "meddig": "2016-06-10",
                                    "(No column name)": "NULL"
                                },
                                {
                                    "LOGIN": "zsolt1",
                                    "NEV": "Pulai Zsolt",
                                    "mettol": "2016-07-31",
                                    "meddig": "2016-08-02",
                                    "(No column name)": "NULL"
                                },
                                {
                                    "LOGIN": "ZSOLTJ",
                                    "NEV": "Józsa Zsolt",
                                    "mettol": "2016-04-24",
                                    "meddig": "2016-04-26",
                                    "(No column name)": "NULL"
                                },
                                {
                                    "LOGIN": "ZSOLTJ",
                                    "NEV": "Józsa Zsolt",
                                    "mettol": "2016-05-09",
                                    "meddig": "2016-05-11",
                                    "(No column name)": "NULL"
                                },
                                {
                                    "LOGIN": "ZSOLTJ",
                                    "NEV": "Józsa Zsolt",
                                    "mettol": "2016-05-28",
                                    "meddig": "2016-06-03",
                                    "(No column name)": "NULL"
                                },
                                {
                                    "LOGIN": "ZSOLTJ",
                                    "NEV": "Józsa Zsolt",
                                    "mettol": "2016-06-17",
                                    "meddig": "2016-06-19",
                                    "(No column name)": "NULL"
                                },
                                {
                                    "LOGIN": "ZSOLTJ",
                                    "NEV": "Józsa Zsolt",
                                    "mettol": "2016-07-18",
                                    "meddig": "2016-07-19",
                                    "(No column name)": "NULL"
                                },
                                {
                                    "LOGIN": "ZSOLTJ",
                                    "NEV": "Józsa Zsolt",
                                    "mettol": "2016-10-01",
                                    "meddig": "2016-10-06",
                                    "(No column name)": "NULL"
                                },
                                {
                                    "LOGIN": "zsuzsa",
                                    "NEV": "Pusztai Zsuzsanna",
                                    "mettol": "2016-07-24",
                                    "meddig": "2016-07-25",
                                    "(No column name)": "NULL"
                                },
                                {
                                    "LOGIN": "zsuzsa",
                                    "NEV": "Pusztai Zsuzsanna",
                                    "mettol": "2016-08-28",
                                    "meddig": "2016-08-30",
                                    "(No column name)": "NULL"
                                },
                                {
                                    "LOGIN": "zsuzsa",
                                    "NEV": "Pusztai Zsuzsanna",
                                    "mettol": "2016-11-28",
                                    "meddig": "2016-12-04",
                                    "(No column name)": "NULL"
                                },
                                {
                                    "LOGIN": "zsuzsa3",
                                    "NEV": "Varsányi Zsuzsa",
                                    "mettol": "2016-07-30",
                                    "meddig": "2016-08-02",
                                    "(No column name)": "NULL"
                                },
                                {
                                    "LOGIN": "zsuzsa3",
                                    "NEV": "Varsányi Zsuzsa",
                                    "mettol": "2016-09-09",
                                    "meddig": "2016-09-10",
                                    "(No column name)": "NULL"
                                },
                                {
                                    "LOGIN": "zsuzsa3",
                                    "NEV": "Varsányi Zsuzsa",
                                    "mettol": "2016-09-28",
                                    "meddig": "2016-10-03",
                                    "(No column name)": "NULL"
                                },
                                {
                                    "LOGIN": "zsuzsa3",
                                    "NEV": "Varsányi Zsuzsa",
                                    "mettol": "2016-10-27",
                                    "meddig": "2016-11-03",
                                    "(No column name)": "NULL"
                                },
                                {
                                    "LOGIN": "zsuzsanna",
                                    "NEV": "Barta Zsuzsanna",
                                    "mettol": "2016-05-17",
                                    "meddig": "2016-05-23",
                                    "(No column name)": "NULL"
                                },
                                {
                                    "LOGIN": "zsuzsanna",
                                    "NEV": "Barta Zsuzsanna",
                                    "mettol": "2016-07-12",
                                    "meddig": "2016-07-15",
                                    "(No column name)": "NULL"
                                },
                                {
                                    "LOGIN": "zsuzsanna",
                                    "NEV": "Barta Zsuzsanna",
                                    "mettol": "2017-01-09",
                                    "meddig": "2017-01-16",
                                    "(No column name)": "NULL"
                                },
                                {
                                    "LOGIN": "zsuzsanna",
                                    "NEV": "Barta Zsuzsanna",
                                    "mettol": "2017-01-16",
                                    "meddig": "2017-01-22",
                                    "(No column name)": "NULL"
                                },
                                {
                                    "LOGIN": "ZSUZSAV",
                                    "NEV": "Vajda Zsuzsa",
                                    "mettol": "2016-04-14",
                                    "meddig": "2016-04-16",
                                    "(No column name)": "NULL"
                                },
                                {
                                    "LOGIN": "ZSUZSAV",
                                    "NEV": "Vajda Zsuzsa",
                                    "mettol": "2016-05-28",
                                    "meddig": "2016-06-01",
                                    "(No column name)": "NULL"
                                },
                                {
                                    "LOGIN": "ZSUZSAV",
                                    "NEV": "Vajda Zsuzsa",
                                    "mettol": "2016-06-15",
                                    "meddig": "2016-06-21",
                                    "(No column name)": "NULL"
                                },
                                {
                                    "LOGIN": "ZSUZSAV",
                                    "NEV": "Vajda Zsuzsa",
                                    "mettol": "2016-09-18",
                                    "meddig": "2016-09-20",
                                    "(No column name)": "NULL"
                                },
                                {
                                    "LOGIN": "ZSUZSAV",
                                    "NEV": "Vajda Zsuzsa",
                                    "mettol": "2016-10-26",
                                    "meddig": "2016-10-28",
                                    "(No column name)": "NULL"
                                },
                                {
                                    "LOGIN": "ZSUZSAV",
                                    "NEV": "Vajda Zsuzsa",
                                    "mettol": "2016-11-21",
                                    "meddig": "2016-11-24",
                                    "(No column name)": "NULL"
                                }
                            ]
                        },
                        "text/html": [
                            "<table>",
                            "<tr><th>LOGIN</th><th>NEV</th><th>mettol</th><th>meddig</th><th>(No column name)</th><th>(No column name)</th></tr>",
                            "<tr><td>adam1</td><td>Kiss Ádám</td><td>2016-05-28</td><td>2016-06-03</td><td>3</td><td>NULL</td></tr>",
                            "<tr><td>adam1</td><td>Kiss Ádám</td><td>2016-08-20</td><td>2016-08-24</td><td>1</td><td>NULL</td></tr>",
                            "<tr><td>adam1</td><td>Kiss Ádám</td><td>2016-10-19</td><td>2016-10-24</td><td>2</td><td>NULL</td></tr>",
                            "<tr><td>adam3</td><td>Barkóci Ádám</td><td>2016-09-12</td><td>2016-09-16</td><td>2</td><td>NULL</td></tr>",
                            "<tr><td>adam3</td><td>Barkóci Ádám</td><td>2017-02-06</td><td>2017-02-10</td><td>1</td><td>NULL</td></tr>",
                            "<tr><td>adam4</td><td>Bieniek Ádám</td><td>2016-08-28</td><td>2016-08-30</td><td>3</td><td>NULL</td></tr>",
                            "<tr><td>adam4</td><td>Bieniek Ádám</td><td>2016-10-27</td><td>2016-11-02</td><td>3</td><td>NULL</td></tr>",
                            "<tr><td>adam4</td><td>Bieniek Ádám</td><td>2016-11-15</td><td>2016-11-18</td><td>2</td><td>NULL</td></tr>",
                            "<tr><td>adam4</td><td>Bieniek Ádám</td><td>2016-12-06</td><td>2016-12-09</td><td>3</td><td>NULL</td></tr>",
                            "<tr><td>adam4</td><td>Bieniek Ádám</td><td>2017-01-12</td><td>2017-01-19</td><td>2</td><td>NULL</td></tr>",
                            "<tr><td>adam4</td><td>Bieniek Ádám</td><td>2017-02-23</td><td>2017-02-27</td><td>3</td><td>NULL</td></tr>",
                            "<tr><td>agnes</td><td>Lengyel Ágnes</td><td>2016-05-09</td><td>2016-05-11</td><td>3</td><td>NULL</td></tr>",
                            "<tr><td>agnes</td><td>Lengyel Ágnes</td><td>2016-05-25</td><td>2016-05-30</td><td>1</td><td>NULL</td></tr>",
                            "<tr><td>agnes</td><td>Lengyel Ágnes</td><td>2016-07-13</td><td>2016-07-19</td><td>3</td><td>NULL</td></tr>",
                            "<tr><td>agnes</td><td>Lengyel Ágnes</td><td>2016-07-30</td><td>2016-08-06</td><td>3</td><td>NULL</td></tr>",
                            "<tr><td>agnes</td><td>Lengyel Ágnes</td><td>2016-11-07</td><td>2016-11-13</td><td>2</td><td>NULL</td></tr>",
                            "<tr><td>agnes3</td><td>Hartyánszky Ágnes</td><td>2016-08-04</td><td>2016-08-10</td><td>1</td><td>NULL</td></tr>",
                            "<tr><td>agnes3</td><td>Hartyánszky Ágnes</td><td>2016-10-22</td><td>2016-10-23</td><td>3</td><td>NULL</td></tr>",
                            "<tr><td>agnes3</td><td>Hartyánszky Ágnes</td><td>2017-02-16</td><td>2017-02-21</td><td>3</td><td>NULL</td></tr>",
                            "<tr><td>AGNESH</td><td>Horváth Ágnes</td><td>2016-04-10</td><td>2016-04-12</td><td>2</td><td>NULL</td></tr>",
                            "<tr><td>AGNESH</td><td>Horváth Ágnes</td><td>2016-04-27</td><td>2016-04-28</td><td>4</td><td>NULL</td></tr>",
                            "<tr><td>AGNESH</td><td>Horváth Ágnes</td><td>2016-06-23</td><td>2016-06-26</td><td>1</td><td>NULL</td></tr>",
                            "<tr><td>AGNESH</td><td>Horváth Ágnes</td><td>2016-10-30</td><td>2016-11-04</td><td>1</td><td>NULL</td></tr>",
                            "<tr><td>AGNESH</td><td>Horváth Ágnes</td><td>2017-01-03</td><td>2017-01-10</td><td>2</td><td>NULL</td></tr>",
                            "<tr><td>AGNESH</td><td>Horváth Ágnes</td><td>2017-01-16</td><td>2017-01-23</td><td>3</td><td>NULL</td></tr>",
                            "<tr><td>AGNESK</td><td>Kovács Ágnes</td><td>2016-07-29</td><td>2016-08-01</td><td>3</td><td>NULL</td></tr>",
                            "<tr><td>AGNESK</td><td>Kovács Ágnes</td><td>2016-10-17</td><td>2016-10-19</td><td>2</td><td>NULL</td></tr>",
                            "<tr><td>AGNESK</td><td>Kovács Ágnes</td><td>2016-12-17</td><td>2016-12-18</td><td>2</td><td>NULL</td></tr>",
                            "<tr><td>akos</td><td>Bíró Ákos</td><td>2016-05-18</td><td>2016-05-19</td><td>2</td><td>NULL</td></tr>",
                            "<tr><td>akos</td><td>Bíró Ákos</td><td>2016-07-14</td><td>2016-07-19</td><td>2</td><td>NULL</td></tr>",
                            "<tr><td>akos</td><td>Bíró Ákos</td><td>2016-07-16</td><td>2016-07-18</td><td>2</td><td>NULL</td></tr>",
                            "<tr><td>akos</td><td>Bíró Ákos</td><td>2016-07-22</td><td>2016-07-26</td><td>1</td><td>NULL</td></tr>",
                            "<tr><td>akos</td><td>Bíró Ákos</td><td>2016-09-06</td><td>2016-09-12</td><td>1</td><td>NULL</td></tr>",
                            "<tr><td>akos</td><td>Bíró Ákos</td><td>2016-10-05</td><td>2016-10-09</td><td>2</td><td>NULL</td></tr>",
                            "<tr><td>akos</td><td>Bíró Ákos</td><td>2016-10-18</td><td>2016-10-23</td><td>2</td><td>NULL</td></tr>",
                            "<tr><td>akos</td><td>Bíró Ákos</td><td>2016-11-21</td><td>2016-11-27</td><td>2</td><td>NULL</td></tr>",
                            "<tr><td>akos</td><td>Bíró Ákos</td><td>2016-12-15</td><td>2016-12-21</td><td>2</td><td>NULL</td></tr>",
                            "<tr><td>akos</td><td>Bíró Ákos</td><td>2016-12-29</td><td>2016-12-30</td><td>3</td><td>NULL</td></tr>",
                            "<tr><td>aladar</td><td>Dunai Aladár</td><td>2016-05-17</td><td>2016-05-24</td><td>1</td><td>NULL</td></tr>",
                            "<tr><td>aladar</td><td>Dunai Aladár</td><td>2016-09-24</td><td>2016-09-28</td><td>1</td><td>NULL</td></tr>",
                            "<tr><td>aladar</td><td>Dunai Aladár</td><td>2016-11-22</td><td>2016-11-23</td><td>2</td><td>NULL</td></tr>",
                            "<tr><td>alexandra</td><td>Bagóczki Alexandra</td><td>2016-05-21</td><td>2016-05-27</td><td>3</td><td>NULL</td></tr>",
                            "<tr><td>alexandra</td><td>Bagóczki Alexandra</td><td>2016-06-08</td><td>2016-06-11</td><td>3</td><td>NULL</td></tr>",
                            "<tr><td>alexandra</td><td>Bagóczki Alexandra</td><td>2016-07-27</td><td>2016-07-30</td><td>2</td><td>NULL</td></tr>",
                            "<tr><td>alexandra</td><td>Bagóczki Alexandra</td><td>2016-10-21</td><td>2016-10-25</td><td>2</td><td>NULL</td></tr>",
                            "<tr><td>alexandra</td><td>Bagóczki Alexandra</td><td>2016-11-29</td><td>2016-12-05</td><td>2</td><td>NULL</td></tr>",
                            "<tr><td>alexandra</td><td>Bagóczki Alexandra</td><td>2017-01-13</td><td>2017-01-14</td><td>1</td><td>NULL</td></tr>",
                            "<tr><td>alexandra</td><td>Bagóczki Alexandra</td><td>2017-01-19</td><td>2017-01-26</td><td>2</td><td>NULL</td></tr>",
                            "<tr><td>andi</td><td>Maródi Andrea</td><td>2016-05-08</td><td>2016-05-14</td><td>4</td><td>NULL</td></tr>",
                            "<tr><td>andi</td><td>Maródi Andrea</td><td>2016-06-13</td><td>2016-06-14</td><td>1</td><td>NULL</td></tr>",
                            "<tr><td>andi</td><td>Maródi Andrea</td><td>2016-09-13</td><td>2016-09-16</td><td>2</td><td>NULL</td></tr>",
                            "<tr><td>andi</td><td>Maródi Andrea</td><td>2016-11-16</td><td>2016-11-17</td><td>3</td><td>NULL</td></tr>",
                            "<tr><td>andi</td><td>Maródi Andrea</td><td>2017-01-13</td><td>2017-01-17</td><td>3</td><td>NULL</td></tr>",
                            "<tr><td>andras2</td><td>Tóth András</td><td>2016-05-30</td><td>2016-06-04</td><td>1</td><td>NULL</td></tr>",
                            "<tr><td>andras2</td><td>Tóth András</td><td>2016-07-20</td><td>2016-07-22</td><td>2</td><td>NULL</td></tr>",
                            "<tr><td>andras2</td><td>Tóth András</td><td>2016-09-30</td><td>2016-10-03</td><td>2</td><td>NULL</td></tr>",
                            "<tr><td>andras2</td><td>Tóth András</td><td>2016-10-07</td><td>2016-10-10</td><td>3</td><td>NULL</td></tr>",
                            "<tr><td>andras2</td><td>Tóth András</td><td>2017-02-08</td><td>2017-02-10</td><td>4</td><td>NULL</td></tr>",
                            "<tr><td>andras21</td><td>Molnár András</td><td>2016-06-21</td><td>2016-06-26</td><td>2</td><td>NULL</td></tr>",
                            "<tr><td>andras21</td><td>Molnár András</td><td>2016-07-04</td><td>2016-07-05</td><td>3</td><td>NULL</td></tr>",
                            "<tr><td>andras21</td><td>Molnár András</td><td>2016-07-20</td><td>2016-07-22</td><td>1</td><td>NULL</td></tr>",
                            "<tr><td>andras21</td><td>Molnár András</td><td>2016-10-01</td><td>2016-10-06</td><td>3</td><td>NULL</td></tr>",
                            "<tr><td>andras21</td><td>Molnár András</td><td>2016-10-04</td><td>2016-10-11</td><td>3</td><td>NULL</td></tr>",
                            "<tr><td>andras21</td><td>Molnár András</td><td>2016-11-23</td><td>2016-11-24</td><td>4</td><td>NULL</td></tr>",
                            "<tr><td>andras21</td><td>Molnár András</td><td>2017-01-28</td><td>2017-02-01</td><td>2</td><td>NULL</td></tr>",
                            "<tr><td>andras3</td><td>Vígh András</td><td>2016-05-01</td><td>2016-05-06</td><td>2</td><td>NULL</td></tr>",
                            "<tr><td>andras3</td><td>Vígh András</td><td>2016-05-30</td><td>2016-06-03</td><td>1</td><td>NULL</td></tr>",
                            "<tr><td>andras3</td><td>Vígh András</td><td>2016-06-10</td><td>2016-06-11</td><td>1</td><td>NULL</td></tr>",
                            "<tr><td>andras3</td><td>Vígh András</td><td>2016-07-15</td><td>2016-07-19</td><td>3</td><td>NULL</td></tr>",
                            "<tr><td>andras3</td><td>Vígh András</td><td>2016-07-21</td><td>2016-07-23</td><td>2</td><td>NULL</td></tr>",
                            "<tr><td>andras3</td><td>Vígh András</td><td>2016-08-29</td><td>2016-09-02</td><td>3</td><td>NULL</td></tr>",
                            "<tr><td>andras3</td><td>Vígh András</td><td>2016-11-28</td><td>2016-12-02</td><td>2</td><td>NULL</td></tr>",
                            "<tr><td>andras3</td><td>Vígh András</td><td>2017-02-02</td><td>2017-02-08</td><td>2</td><td>NULL</td></tr>",
                            "<tr><td>andras4</td><td>Back András</td><td>2016-09-17</td><td>2016-09-20</td><td>2</td><td>NULL</td></tr>",
                            "<tr><td>andras4</td><td>Back András</td><td>2016-11-25</td><td>2016-11-28</td><td>2</td><td>NULL</td></tr>",
                            "<tr><td>andras4</td><td>Back András</td><td>2017-01-09</td><td>2017-01-10</td><td>2</td><td>NULL</td></tr>",
                            "<tr><td>andras41</td><td>Komjáti András</td><td>2016-05-14</td><td>2016-05-16</td><td>2</td><td>NULL</td></tr>",
                            "<tr><td>andras41</td><td>Komjáti András</td><td>2016-05-21</td><td>2016-05-23</td><td>4</td><td>NULL</td></tr>",
                            "<tr><td>andras41</td><td>Komjáti András</td><td>2016-06-07</td><td>2016-06-11</td><td>3</td><td>NULL</td></tr>",
                            "<tr><td>andras41</td><td>Komjáti András</td><td>2016-06-23</td><td>2016-06-29</td><td>2</td><td>NULL</td></tr>",
                            "<tr><td>andras41</td><td>Komjáti András</td><td>2016-07-28</td><td>2016-08-03</td><td>3</td><td>NULL</td></tr>",
                            "<tr><td>andras41</td><td>Komjáti András</td><td>2016-08-17</td><td>2016-08-21</td><td>3</td><td>NULL</td></tr>",
                            "<tr><td>andras41</td><td>Komjáti András</td><td>2016-08-19</td><td>2016-08-23</td><td>1</td><td>NULL</td></tr>",
                            "<tr><td>andras41</td><td>Komjáti András</td><td>2016-09-22</td><td>2016-09-29</td><td>1</td><td>NULL</td></tr>",
                            "<tr><td>andras41</td><td>Komjáti András</td><td>2016-09-30</td><td>2016-10-05</td><td>2</td><td>NULL</td></tr>",
                            "<tr><td>andras41</td><td>Komjáti András</td><td>2016-10-09</td><td>2016-10-13</td><td>2</td><td>NULL</td></tr>",
                            "<tr><td>andras41</td><td>Komjáti András</td><td>2016-10-15</td><td>2016-10-18</td><td>3</td><td>NULL</td></tr>",
                            "<tr><td>andras41</td><td>Komjáti András</td><td>2016-11-20</td><td>2016-11-24</td><td>3</td><td>NULL</td></tr>",
                            "<tr><td>andras41</td><td>Komjáti András</td><td>2016-11-23</td><td>2016-11-24</td><td>1</td><td>NULL</td></tr>",
                            "<tr><td>ANDRASE</td><td>Erdei András</td><td>2016-04-24</td><td>2016-05-01</td><td>1</td><td>NULL</td></tr>",
                            "<tr><td>ANDRASE</td><td>Erdei András</td><td>2016-07-06</td><td>2016-07-07</td><td>2</td><td>NULL</td></tr>",
                            "<tr><td>ANDRASE</td><td>Erdei András</td><td>2016-08-16</td><td>2016-08-20</td><td>2</td><td>NULL</td></tr>",
                            "<tr><td>ANDRASE</td><td>Erdei András</td><td>2016-11-19</td><td>2016-11-20</td><td>4</td><td>NULL</td></tr>",
                            "<tr><td>ANDRASE</td><td>Erdei András</td><td>2016-11-29</td><td>2016-12-06</td><td>3</td><td>NULL</td></tr>",
                            "<tr><td>ANDRASN</td><td>Nagy András</td><td>2016-11-25</td><td>2016-12-01</td><td>2</td><td>NULL</td></tr>",
                            "<tr><td>andrea</td><td>Kiss Andrea</td><td>2016-07-27</td><td>2016-07-28</td><td>2</td><td>NULL</td></tr>",
                            "<tr><td>andrea</td><td>Kiss Andrea</td><td>2016-08-01</td><td>2016-08-02</td><td>2</td><td>NULL</td></tr>",
                            "<tr><td>andrea</td><td>Kiss Andrea</td><td>2016-08-23</td><td>2016-08-26</td><td>3</td><td>NULL</td></tr>",
                            "<tr><td>andrea</td><td>Kiss Andrea</td><td>2016-08-26</td><td>2016-08-30</td><td>2</td><td>NULL</td></tr>",
                            "<tr><td>andrea</td><td>Kiss Andrea</td><td>2016-10-21</td><td>2016-10-27</td><td>4</td><td>NULL</td></tr>",
                            "<tr><td>andrea</td><td>Kiss Andrea</td><td>2017-02-09</td><td>2017-02-14</td><td>2</td><td>NULL</td></tr>",
                            "<tr><td>andrea3</td><td>Szomor Andrea</td><td>2016-11-19</td><td>2016-11-21</td><td>3</td><td>NULL</td></tr>",
                            "<tr><td>andrea4</td><td>Neizer Andrea</td><td>2016-05-27</td><td>2016-05-29</td><td>1</td><td>NULL</td></tr>",
                            "<tr><td>andrea4</td><td>Neizer Andrea</td><td>2016-09-13</td><td>2016-09-17</td><td>2</td><td>NULL</td></tr>",
                            "<tr><td>andrea4</td><td>Neizer Andrea</td><td>2016-10-30</td><td>2016-11-06</td><td>3</td><td>NULL</td></tr>",
                            "<tr><td>andrea4</td><td>Neizer Andrea</td><td>2017-01-22</td><td>2017-01-29</td><td>2</td><td>NULL</td></tr>",
                            "<tr><td>ANDREAT</td><td>Tornyos Andrea</td><td>2016-07-27</td><td>2016-08-01</td><td>2</td><td>NULL</td></tr>",
                            "<tr><td>ANDREAT</td><td>Tornyos Andrea</td><td>2016-09-15</td><td>2016-09-16</td><td>2</td><td>NULL</td></tr>",
                            "<tr><td>ANDREAT</td><td>Tornyos Andrea</td><td>2016-10-08</td><td>2016-10-12</td><td>3</td><td>NULL</td></tr>",
                            "<tr><td>anett3</td><td>Pivarcsi Anett</td><td>2016-04-10</td><td>2016-04-17</td><td>1</td><td>NULL</td></tr>",
                            "<tr><td>anett3</td><td>Pivarcsi Anett</td><td>2016-04-13</td><td>2016-04-19</td><td>3</td><td>NULL</td></tr>",
                            "<tr><td>anett3</td><td>Pivarcsi Anett</td><td>2016-04-15</td><td>2016-04-19</td><td>3</td><td>NULL</td></tr>",
                            "<tr><td>anett3</td><td>Pivarcsi Anett</td><td>2016-04-28</td><td>2016-05-02</td><td>3</td><td>NULL</td></tr>",
                            "<tr><td>anett3</td><td>Pivarcsi Anett</td><td>2016-08-15</td><td>2016-08-16</td><td>2</td><td>NULL</td></tr>",
                            "<tr><td>anett3</td><td>Pivarcsi Anett</td><td>2016-08-17</td><td>2016-08-23</td><td>3</td><td>NULL</td></tr>",
                            "<tr><td>anett3</td><td>Pivarcsi Anett</td><td>2016-10-12</td><td>2016-10-19</td><td>3</td><td>NULL</td></tr>",
                            "<tr><td>anett3</td><td>Pivarcsi Anett</td><td>2016-10-16</td><td>2016-10-21</td><td>1</td><td>NULL</td></tr>",
                            "<tr><td>aniko</td><td>Tóth Anikó</td><td>2016-06-25</td><td>2016-06-30</td><td>3</td><td>NULL</td></tr>",
                            "<tr><td>aniko</td><td>Tóth Anikó</td><td>2017-02-12</td><td>2017-02-14</td><td>3</td><td>NULL</td></tr>",
                            "<tr><td>aniko</td><td>Tóth Anikó</td><td>2017-02-23</td><td>2017-02-24</td><td>2</td><td>NULL</td></tr>",
                            "<tr><td>aniko4</td><td>Böröcz Anikó</td><td>2016-07-02</td><td>2016-07-09</td><td>1</td><td>NULL</td></tr>",
                            "<tr><td>aniko4</td><td>Böröcz Anikó</td><td>2016-07-22</td><td>2016-07-25</td><td>3</td><td>NULL</td></tr>",
                            "<tr><td>aniko4</td><td>Böröcz Anikó</td><td>2016-09-05</td><td>2016-09-07</td><td>4</td><td>NULL</td></tr>",
                            "<tr><td>aniko4</td><td>Böröcz Anikó</td><td>2016-10-16</td><td>2016-10-18</td><td>3</td><td>NULL</td></tr>",
                            "<tr><td>ANIKOS</td><td>Simon Anikó</td><td>2016-04-19</td><td>2016-04-24</td><td>2</td><td>NULL</td></tr>",
                            "<tr><td>ANIKOS</td><td>Simon Anikó</td><td>2016-05-24</td><td>2016-05-25</td><td>3</td><td>NULL</td></tr>",
                            "<tr><td>ANIKOS</td><td>Simon Anikó</td><td>2016-06-16</td><td>2016-06-23</td><td>1</td><td>NULL</td></tr>",
                            "<tr><td>ANIKOS</td><td>Simon Anikó</td><td>2016-06-27</td><td>2016-06-30</td><td>2</td><td>NULL</td></tr>",
                            "<tr><td>ANIKOS</td><td>Simon Anikó</td><td>2016-07-17</td><td>2016-07-22</td><td>3</td><td>NULL</td></tr>",
                            "<tr><td>ANIKOS</td><td>Simon Anikó</td><td>2016-08-26</td><td>2016-09-02</td><td>2</td><td>NULL</td></tr>",
                            "<tr><td>ANIKOS</td><td>Simon Anikó</td><td>2016-10-08</td><td>2016-10-14</td><td>2</td><td>NULL</td></tr>",
                            "<tr><td>ANIKOS</td><td>Simon Anikó</td><td>2016-10-29</td><td>2016-11-05</td><td>3</td><td>NULL</td></tr>",
                            "<tr><td>ANIKOS</td><td>Simon Anikó</td><td>2016-11-10</td><td>2016-11-15</td><td>2</td><td>NULL</td></tr>",
                            "<tr><td>anita</td><td>Hamvay-Kovács Anita</td><td>2016-09-28</td><td>2016-10-02</td><td>4</td><td>NULL</td></tr>",
                            "<tr><td>anita</td><td>Hamvay-Kovács Anita</td><td>2016-10-01</td><td>2016-10-04</td><td>2</td><td>NULL</td></tr>",
                            "<tr><td>anita</td><td>Hamvay-Kovács Anita</td><td>2017-02-19</td><td>2017-02-22</td><td>2</td><td>NULL</td></tr>",
                            "<tr><td>anita</td><td>Hamvay-Kovács Anita</td><td>2017-02-20</td><td>2017-02-25</td><td>2</td><td>NULL</td></tr>",
                            "<tr><td>annamaria1</td><td>Szűcs Annamária</td><td>2016-06-06</td><td>2016-06-07</td><td>3</td><td>NULL</td></tr>",
                            "<tr><td>annamaria1</td><td>Szűcs Annamária</td><td>2017-01-30</td><td>2017-01-31</td><td>4</td><td>NULL</td></tr>",
                            "<tr><td>ANNAMARIAR</td><td>Regős Annamária</td><td>2016-06-08</td><td>2016-06-11</td><td>2</td><td>NULL</td></tr>",
                            "<tr><td>ANNAMARIAR</td><td>Regős Annamária</td><td>2016-07-18</td><td>2016-07-21</td><td>1</td><td>NULL</td></tr>",
                            "<tr><td>ANNAMARIAR</td><td>Regős Annamária</td><td>2016-09-23</td><td>2016-09-27</td><td>2</td><td>NULL</td></tr>",
                            "<tr><td>ANNAMARIAR</td><td>Regős Annamária</td><td>2016-11-11</td><td>2016-11-12</td><td>3</td><td>NULL</td></tr>",
                            "<tr><td>ANNAMARIAR</td><td>Regős Annamária</td><td>2017-01-10</td><td>2017-01-13</td><td>2</td><td>NULL</td></tr>",
                            "<tr><td>ANNAMARIAR</td><td>Regős Annamária</td><td>2017-02-16</td><td>2017-02-18</td><td>2</td><td>NULL</td></tr>",
                            "<tr><td>aron2</td><td>Jakab Áron</td><td>2016-04-11</td><td>2016-04-12</td><td>3</td><td>NULL</td></tr>",
                            "<tr><td>aron2</td><td>Jakab Áron</td><td>2016-07-04</td><td>2016-07-06</td><td>3</td><td>NULL</td></tr>",
                            "<tr><td>aron2</td><td>Jakab Áron</td><td>2016-10-23</td><td>2016-10-27</td><td>2</td><td>NULL</td></tr>",
                            "<tr><td>aron2</td><td>Jakab Áron</td><td>2016-11-05</td><td>2016-11-09</td><td>2</td><td>NULL</td></tr>",
                            "<tr><td>aron2</td><td>Jakab Áron</td><td>2017-01-17</td><td>2017-01-18</td><td>3</td><td>NULL</td></tr>",
                            "<tr><td>aron2</td><td>Jakab Áron</td><td>2017-02-26</td><td>2017-02-27</td><td>3</td><td>NULL</td></tr>",
                            "<tr><td>ARONK</td><td>Kelemen Áron</td><td>2016-04-06</td><td>2016-04-08</td><td>2</td><td>NULL</td></tr>",
                            "<tr><td>ARONK</td><td>Kelemen Áron</td><td>2016-05-14</td><td>2016-05-20</td><td>4</td><td>NULL</td></tr>",
                            "<tr><td>ARONK</td><td>Kelemen Áron</td><td>2016-06-04</td><td>2016-06-09</td><td>2</td><td>NULL</td></tr>",
                            "<tr><td>ARONK</td><td>Kelemen Áron</td><td>2016-06-07</td><td>2016-06-13</td><td>3</td><td>NULL</td></tr>",
                            "<tr><td>ARONK</td><td>Kelemen Áron</td><td>2016-07-03</td><td>2016-07-07</td><td>2</td><td>NULL</td></tr>",
                            "<tr><td>ARONK</td><td>Kelemen Áron</td><td>2016-08-05</td><td>2016-08-08</td><td>4</td><td>NULL</td></tr>",
                            "<tr><td>ARONK</td><td>Kelemen Áron</td><td>2016-09-08</td><td>2016-09-15</td><td>2</td><td>NULL</td></tr>",
                            "<tr><td>ARONK</td><td>Kelemen Áron</td><td>2016-11-03</td><td>2016-11-10</td><td>2</td><td>NULL</td></tr>",
                            "<tr><td>ARONK</td><td>Kelemen Áron</td><td>2016-11-05</td><td>2016-11-07</td><td>2</td><td>NULL</td></tr>",
                            "<tr><td>ARONK</td><td>Kelemen Áron</td><td>2016-12-07</td><td>2016-12-12</td><td>3</td><td>NULL</td></tr>",
                            "<tr><td>ARONK</td><td>Kelemen Áron</td><td>2017-01-01</td><td>2017-01-03</td><td>2</td><td>NULL</td></tr>",
                            "<tr><td>ARONK</td><td>Kelemen Áron</td><td>2017-01-30</td><td>2017-02-03</td><td>2</td><td>NULL</td></tr>",
                            "<tr><td>ARONK</td><td>Kelemen Áron</td><td>2017-02-21</td><td>2017-02-23</td><td>2</td><td>NULL</td></tr>",
                            "<tr><td>arpad2</td><td>Ötvös Árpád</td><td>2016-06-05</td><td>2016-06-07</td><td>2</td><td>NULL</td></tr>",
                            "<tr><td>arpad2</td><td>Ötvös Árpád</td><td>2016-08-23</td><td>2016-08-25</td><td>2</td><td>NULL</td></tr>",
                            "<tr><td>arpad2</td><td>Ötvös Árpád</td><td>2016-09-28</td><td>2016-09-30</td><td>2</td><td>NULL</td></tr>",
                            "<tr><td>arpad2</td><td>Ötvös Árpád</td><td>2016-10-13</td><td>2016-10-19</td><td>3</td><td>NULL</td></tr>",
                            "<tr><td>arpad2</td><td>Ötvös Árpád</td><td>2016-11-06</td><td>2016-11-10</td><td>2</td><td>NULL</td></tr>",
                            "<tr><td>arpad2</td><td>Ötvös Árpád</td><td>2016-12-24</td><td>2016-12-27</td><td>3</td><td>NULL</td></tr>",
                            "<tr><td>arpad2</td><td>Ötvös Árpád</td><td>2017-02-18</td><td>2017-02-19</td><td>4</td><td>NULL</td></tr>",
                            "<tr><td>ARPADH</td><td>Horváth Árpád</td><td>2016-06-06</td><td>2016-06-07</td><td>3</td><td>NULL</td></tr>",
                            "<tr><td>ARPADH</td><td>Horváth Árpád</td><td>2016-07-14</td><td>2016-07-18</td><td>2</td><td>NULL</td></tr>",
                            "<tr><td>ARPADH</td><td>Horváth Árpád</td><td>2016-09-16</td><td>2016-09-23</td><td>1</td><td>NULL</td></tr>",
                            "<tr><td>ARPADH</td><td>Horváth Árpád</td><td>2016-09-18</td><td>2016-09-25</td><td>1</td><td>NULL</td></tr>",
                            "<tr><td>ARPADH</td><td>Horváth Árpád</td><td>2016-12-04</td><td>2016-12-10</td><td>1</td><td>NULL</td></tr>",
                            "<tr><td>ARPADH</td><td>Horváth Árpád</td><td>2016-12-18</td><td>2016-12-19</td><td>3</td><td>NULL</td></tr>",
                            "<tr><td>ARPADH</td><td>Horváth Árpád</td><td>2017-02-16</td><td>2017-02-18</td><td>2</td><td>NULL</td></tr>",
                            "<tr><td>ARPADM</td><td>Móricz Árpád</td><td>2016-05-29</td><td>2016-06-01</td><td>2</td><td>NULL</td></tr>",
                            "<tr><td>ARPADM</td><td>Móricz Árpád</td><td>2016-08-12</td><td>2016-08-16</td><td>2</td><td>NULL</td></tr>",
                            "<tr><td>ARPADM</td><td>Móricz Árpád</td><td>2016-11-09</td><td>2016-11-11</td><td>2</td><td>NULL</td></tr>",
                            "<tr><td>ARPADM</td><td>Móricz Árpád</td><td>2016-12-14</td><td>2016-12-17</td><td>3</td><td>NULL</td></tr>",
                            "<tr><td>ARPADM</td><td>Móricz Árpád</td><td>2017-01-05</td><td>2017-01-10</td><td>1</td><td>NULL</td></tr>",
                            "<tr><td>ARPADM</td><td>Móricz Árpád</td><td>2017-02-12</td><td>2017-02-14</td><td>3</td><td>NULL</td></tr>",
                            "<tr><td>attila</td><td>Csóti Attila</td><td>2016-09-30</td><td>2016-10-07</td><td>3</td><td>NULL</td></tr>",
                            "<tr><td>attila</td><td>Csóti Attila</td><td>2016-10-15</td><td>2016-10-19</td><td>1</td><td>NULL</td></tr>",
                            "<tr><td>attila</td><td>Csóti Attila</td><td>2016-12-22</td><td>2016-12-26</td><td>2</td><td>NULL</td></tr>",
                            "<tr><td>attila1</td><td>Gulyás Attila</td><td>2016-05-20</td><td>2016-05-26</td><td>1</td><td>NULL</td></tr>",
                            "<tr><td>attila1</td><td>Gulyás Attila</td><td>2016-10-09</td><td>2016-10-12</td><td>2</td><td>NULL</td></tr>",
                            "<tr><td>attila1</td><td>Gulyás Attila</td><td>2016-10-15</td><td>2016-10-16</td><td>3</td><td>NULL</td></tr>",
                            "<tr><td>attila1</td><td>Gulyás Attila</td><td>2016-10-30</td><td>2016-11-05</td><td>2</td><td>NULL</td></tr>",
                            "<tr><td>attila1</td><td>Gulyás Attila</td><td>2016-11-10</td><td>2016-11-14</td><td>2</td><td>NULL</td></tr>",
                            "<tr><td>attila1</td><td>Gulyás Attila</td><td>2017-01-23</td><td>2017-01-30</td><td>4</td><td>NULL</td></tr>",
                            "<tr><td>attila4</td><td>Baróti Attila</td><td>2016-08-18</td><td>2016-08-23</td><td>4</td><td>NULL</td></tr>",
                            "<tr><td>attila4</td><td>Baróti Attila</td><td>2016-12-31</td><td>2017-01-01</td><td>2</td><td>NULL</td></tr>",
                            "<tr><td>attila4</td><td>Baróti Attila</td><td>2017-02-15</td><td>2017-02-22</td><td>2</td><td>NULL</td></tr>",
                            "<tr><td>ATTILAO</td><td>Opra Attila</td><td>2016-05-21</td><td>2016-05-26</td><td>3</td><td>NULL</td></tr>",
                            "<tr><td>ATTILAO</td><td>Opra Attila</td><td>2016-06-04</td><td>2016-06-11</td><td>3</td><td>NULL</td></tr>",
                            "<tr><td>ATTILAO</td><td>Opra Attila</td><td>2016-10-30</td><td>2016-11-03</td><td>2</td><td>NULL</td></tr>",
                            "<tr><td>ATTILAO</td><td>Opra Attila</td><td>2017-02-22</td><td>2017-02-25</td><td>3</td><td>NULL</td></tr>",
                            "<tr><td>balazs1</td><td>Bozsik Balázs</td><td>2016-05-07</td><td>2016-05-14</td><td>2</td><td>NULL</td></tr>",
                            "<tr><td>balazs1</td><td>Bozsik Balázs</td><td>2016-07-22</td><td>2016-07-26</td><td>4</td><td>NULL</td></tr>",
                            "<tr><td>balazs1</td><td>Bozsik Balázs</td><td>2016-12-26</td><td>2016-12-28</td><td>3</td><td>NULL</td></tr>",
                            "<tr><td>balazs1</td><td>Bozsik Balázs</td><td>2017-01-01</td><td>2017-01-05</td><td>2</td><td>NULL</td></tr>",
                            "<tr><td>balazs1</td><td>Bozsik Balázs</td><td>2017-02-10</td><td>2017-02-14</td><td>3</td><td>NULL</td></tr>",
                            "<tr><td>balazs1</td><td>Bozsik Balázs</td><td>2017-02-12</td><td>2017-02-14</td><td>2</td><td>NULL</td></tr>",
                            "<tr><td>balazs2</td><td>Szűcs Balázs</td><td>2016-04-16</td><td>2016-04-19</td><td>2</td><td>NULL</td></tr>",
                            "<tr><td>balazs2</td><td>Szűcs Balázs</td><td>2016-05-22</td><td>2016-05-29</td><td>3</td><td>NULL</td></tr>",
                            "<tr><td>balazs2</td><td>Szűcs Balázs</td><td>2016-05-28</td><td>2016-06-01</td><td>3</td><td>NULL</td></tr>",
                            "<tr><td>balazs2</td><td>Szűcs Balázs</td><td>2016-07-08</td><td>2016-07-12</td><td>3</td><td>NULL</td></tr>",
                            "<tr><td>balazs2</td><td>Szűcs Balázs</td><td>2016-07-10</td><td>2016-07-17</td><td>3</td><td>NULL</td></tr>",
                            "<tr><td>balazs2</td><td>Szűcs Balázs</td><td>2016-07-20</td><td>2016-07-25</td><td>2</td><td>NULL</td></tr>",
                            "<tr><td>balazs2</td><td>Szűcs Balázs</td><td>2016-08-21</td><td>2016-08-22</td><td>3</td><td>NULL</td></tr>",
                            "<tr><td>balazs2</td><td>Szűcs Balázs</td><td>2016-09-12</td><td>2016-09-14</td><td>3</td><td>NULL</td></tr>",
                            "<tr><td>balazs2</td><td>Szűcs Balázs</td><td>2016-11-03</td><td>2016-11-05</td><td>3</td><td>NULL</td></tr>",
                            "<tr><td>balazs2</td><td>Szűcs Balázs</td><td>2017-02-27</td><td>2017-03-06</td><td>1</td><td>NULL</td></tr>",
                            "<tr><td>balazs3</td><td>Bakódy Balázs</td><td>2016-07-17</td><td>2016-07-21</td><td>2</td><td>NULL</td></tr>",
                            "<tr><td>balazs3</td><td>Bakódy Balázs</td><td>2016-07-27</td><td>2016-07-31</td><td>4</td><td>NULL</td></tr>",
                            "<tr><td>balazs3</td><td>Bakódy Balázs</td><td>2016-08-24</td><td>2016-08-28</td><td>3</td><td>NULL</td></tr>",
                            "<tr><td>balazs3</td><td>Bakódy Balázs</td><td>2016-09-15</td><td>2016-09-16</td><td>3</td><td>NULL</td></tr>",
                            "<tr><td>balazs3</td><td>Bakódy Balázs</td><td>2016-12-05</td><td>2016-12-11</td><td>3</td><td>NULL</td></tr>",
                            "<tr><td>balazs3</td><td>Bakódy Balázs</td><td>2017-01-20</td><td>2017-01-22</td><td>2</td><td>NULL</td></tr>",
                            "<tr><td>balint</td><td>Horváth Bálint</td><td>2016-04-22</td><td>2016-04-29</td><td>2</td><td>NULL</td></tr>",
                            "<tr><td>balint</td><td>Horváth Bálint</td><td>2016-10-09</td><td>2016-10-11</td><td>2</td><td>NULL</td></tr>",
                            "<tr><td>balint</td><td>Horváth Bálint</td><td>2016-11-24</td><td>2016-11-29</td><td>3</td><td>NULL</td></tr>",
                            "<tr><td>balint1</td><td>Molnár Bálint</td><td>2016-06-07</td><td>2016-06-11</td><td>3</td><td>NULL</td></tr>",
                            "<tr><td>balint1</td><td>Molnár Bálint</td><td>2016-06-07</td><td>2016-06-12</td><td>3</td><td>3</td></tr>",
                            "<tr><td>balint1</td><td>Molnár Bálint</td><td>2016-06-10</td><td>2016-06-12</td><td>1</td><td>NULL</td></tr>",
                            "<tr><td>balint1</td><td>Molnár Bálint</td><td>2016-07-26</td><td>2016-07-28</td><td>2</td><td>NULL</td></tr>",
                            "<tr><td>balint1</td><td>Molnár Bálint</td><td>2016-08-03</td><td>2016-08-08</td><td>2</td><td>NULL</td></tr>",
                            "<tr><td>balint1</td><td>Molnár Bálint</td><td>2016-09-16</td><td>2016-09-21</td><td>1</td><td>NULL</td></tr>",
                            "<tr><td>balint1</td><td>Molnár Bálint</td><td>2016-11-07</td><td>2016-11-10</td><td>2</td><td>NULL</td></tr>",
                            "<tr><td>balint1</td><td>Molnár Bálint</td><td>2016-12-17</td><td>2016-12-22</td><td>3</td><td>NULL</td></tr>",
                            "<tr><td>balint1</td><td>Molnár Bálint</td><td>2016-12-29</td><td>2016-12-31</td><td>3</td><td>NULL</td></tr>",
                            "<tr><td>balint1</td><td>Molnár Bálint</td><td>2017-01-03</td><td>2017-01-08</td><td>2</td><td>NULL</td></tr>",
                            "<tr><td>balint2</td><td>Vukasinovity Bálint</td><td>2016-07-21</td><td>2016-07-26</td><td>1</td><td>NULL</td></tr>",
                            "<tr><td>balint2</td><td>Vukasinovity Bálint</td><td>2016-12-04</td><td>2016-12-06</td><td>3</td><td>NULL</td></tr>",
                            "<tr><td>balu</td><td>Endresz Bálint</td><td>2016-08-06</td><td>2016-08-10</td><td>2</td><td>NULL</td></tr>",
                            "<tr><td>balu</td><td>Endresz Bálint</td><td>2016-12-22</td><td>2016-12-23</td><td>2</td><td>NULL</td></tr>",
                            "<tr><td>beata4</td><td>Bagi Beáta</td><td>2016-04-20</td><td>2016-04-21</td><td>2</td><td>NULL</td></tr>",
                            "<tr><td>beata4</td><td>Bagi Beáta</td><td>2016-06-03</td><td>2016-06-04</td><td>2</td><td>NULL</td></tr>",
                            "<tr><td>beata4</td><td>Bagi Beáta</td><td>2016-07-03</td><td>2016-07-06</td><td>1</td><td>NULL</td></tr>",
                            "<tr><td>beata4</td><td>Bagi Beáta</td><td>2016-08-25</td><td>2016-08-27</td><td>3</td><td>NULL</td></tr>",
                            "<tr><td>beata4</td><td>Bagi Beáta</td><td>2016-10-01</td><td>2016-10-05</td><td>1</td><td>NULL</td></tr>",
                            "<tr><td>beata4</td><td>Bagi Beáta</td><td>2016-10-03</td><td>2016-10-06</td><td>3</td><td>NULL</td></tr>",
                            "<tr><td>BEATRIXK</td><td>Kerényi Beatrix</td><td>2016-06-10</td><td>2016-06-11</td><td>2</td><td>NULL</td></tr>",
                            "<tr><td>BEATRIXK</td><td>Kerényi Beatrix</td><td>2016-06-10</td><td>2016-06-14</td><td>2</td><td>2</td></tr>",
                            "<tr><td>BEATRIXK</td><td>Kerényi Beatrix</td><td>2016-06-19</td><td>2016-06-21</td><td>3</td><td>NULL</td></tr>",
                            "<tr><td>BEATRIXK</td><td>Kerényi Beatrix</td><td>2016-08-12</td><td>2016-08-18</td><td>4</td><td>NULL</td></tr>",
                            "<tr><td>BEATRIXK</td><td>Kerényi Beatrix</td><td>2016-10-23</td><td>2016-10-28</td><td>2</td><td>NULL</td></tr>",
                            "<tr><td>BEATRIXK</td><td>Kerényi Beatrix</td><td>2016-11-14</td><td>2016-11-19</td><td>2</td><td>NULL</td></tr>",
                            "<tr><td>BEATRIXK</td><td>Kerényi Beatrix</td><td>2016-12-12</td><td>2016-12-14</td><td>3</td><td>NULL</td></tr>",
                            "<tr><td>BEATRIXK</td><td>Kerényi Beatrix</td><td>2016-12-17</td><td>2016-12-22</td><td>4</td><td>NULL</td></tr>",
                            "<tr><td>BEATRIXK</td><td>Kerényi Beatrix</td><td>2017-02-08</td><td>2017-02-09</td><td>3</td><td>NULL</td></tr>",
                            "<tr><td>BEATRIXS</td><td>Szekendi Beatrix</td><td>2016-04-18</td><td>2016-04-24</td><td>1</td><td>NULL</td></tr>",
                            "<tr><td>BEATRIXS</td><td>Szekendi Beatrix</td><td>2016-06-11</td><td>2016-06-14</td><td>3</td><td>NULL</td></tr>",
                            "<tr><td>BEATRIXS</td><td>Szekendi Beatrix</td><td>2016-10-01</td><td>2016-10-03</td><td>3</td><td>NULL</td></tr>",
                            "<tr><td>BEATRIXS</td><td>Szekendi Beatrix</td><td>2016-10-01</td><td>2016-10-05</td><td>3</td><td>3</td></tr>",
                            "<tr><td>BEATRIXS</td><td>Szekendi Beatrix</td><td>2016-12-21</td><td>2016-12-27</td><td>2</td><td>NULL</td></tr>",
                            "<tr><td>BEATRIXS</td><td>Szekendi Beatrix</td><td>2017-02-03</td><td>2017-02-04</td><td>2</td><td>NULL</td></tr>",
                            "<tr><td>BELAF</td><td>Farkas Béla</td><td>2016-07-27</td><td>2016-07-30</td><td>3</td><td>NULL</td></tr>",
                            "<tr><td>BELAF</td><td>Farkas Béla</td><td>2016-07-29</td><td>2016-07-31</td><td>2</td><td>NULL</td></tr>",
                            "<tr><td>BELAF</td><td>Farkas Béla</td><td>2016-08-29</td><td>2016-08-31</td><td>2</td><td>NULL</td></tr>",
                            "<tr><td>BELAF</td><td>Farkas Béla</td><td>2016-11-03</td><td>2016-11-09</td><td>4</td><td>NULL</td></tr>",
                            "<tr><td>BELAF</td><td>Farkas Béla</td><td>2016-12-02</td><td>2016-12-04</td><td>3</td><td>NULL</td></tr>",
                            "<tr><td>BELAF</td><td>Farkas Béla</td><td>2016-12-06</td><td>2016-12-09</td><td>1</td><td>NULL</td></tr>",
                            "<tr><td>bence</td><td>Győrffy Bence</td><td>2016-05-08</td><td>2016-05-11</td><td>2</td><td>NULL</td></tr>",
                            "<tr><td>bence</td><td>Győrffy Bence</td><td>2016-05-29</td><td>2016-06-03</td><td>1</td><td>NULL</td></tr>",
                            "<tr><td>bence</td><td>Győrffy Bence</td><td>2016-07-24</td><td>2016-07-30</td><td>2</td><td>NULL</td></tr>",
                            "<tr><td>bence</td><td>Győrffy Bence</td><td>2016-07-25</td><td>2016-08-01</td><td>3</td><td>NULL</td></tr>",
                            "<tr><td>bence</td><td>Győrffy Bence</td><td>2016-09-03</td><td>2016-09-06</td><td>3</td><td>NULL</td></tr>",
                            "<tr><td>bence</td><td>Győrffy Bence</td><td>2016-10-30</td><td>2016-11-02</td><td>4</td><td>NULL</td></tr>",
                            "<tr><td>bence</td><td>Győrffy Bence</td><td>2016-12-17</td><td>2016-12-18</td><td>2</td><td>NULL</td></tr>",
                            "<tr><td>bence</td><td>Győrffy Bence</td><td>2016-12-26</td><td>2016-12-27</td><td>2</td><td>NULL</td></tr>",
                            "<tr><td>bence</td><td>Győrffy Bence</td><td>2017-02-05</td><td>2017-02-09</td><td>3</td><td>NULL</td></tr>",
                            "<tr><td>BENCEB</td><td>Bajusz Bence</td><td>2016-05-14</td><td>2016-05-17</td><td>3</td><td>NULL</td></tr>",
                            "<tr><td>BENCEB</td><td>Bajusz Bence</td><td>2016-06-03</td><td>2016-06-09</td><td>2</td><td>NULL</td></tr>",
                            "<tr><td>BENCEB</td><td>Bajusz Bence</td><td>2016-08-01</td><td>2016-08-02</td><td>2</td><td>NULL</td></tr>",
                            "<tr><td>BENCEB</td><td>Bajusz Bence</td><td>2016-10-22</td><td>2016-10-29</td><td>3</td><td>NULL</td></tr>",
                            "<tr><td>BENCEB</td><td>Bajusz Bence</td><td>2016-11-28</td><td>2016-12-02</td><td>2</td><td>NULL</td></tr>",
                            "<tr><td>BENCEB</td><td>Bajusz Bence</td><td>2017-02-12</td><td>2017-02-19</td><td>3</td><td>NULL</td></tr>",
                            "<tr><td>bernadett1</td><td>Simon Bernadett</td><td>2016-06-12</td><td>2016-06-17</td><td>3</td><td>NULL</td></tr>",
                            "<tr><td>bernadett1</td><td>Simon Bernadett</td><td>2016-10-08</td><td>2016-10-09</td><td>4</td><td>NULL</td></tr>",
                            "<tr><td>bernadett1</td><td>Simon Bernadett</td><td>2016-10-15</td><td>2016-10-22</td><td>3</td><td>NULL</td></tr>",
                            "<tr><td>bernadett1</td><td>Simon Bernadett</td><td>2016-10-26</td><td>2016-11-02</td><td>3</td><td>NULL</td></tr>",
                            "<tr><td>bernadett1</td><td>Simon Bernadett</td><td>2016-10-28</td><td>2016-11-01</td><td>3</td><td>NULL</td></tr>",
                            "<tr><td>bernadett1</td><td>Simon Bernadett</td><td>2017-02-14</td><td>2017-02-15</td><td>3</td><td>NULL</td></tr>",
                            "<tr><td>bernadett1</td><td>Simon Bernadett</td><td>2017-02-24</td><td>2017-03-03</td><td>1</td><td>NULL</td></tr>",
                            "<tr><td>bernadett2</td><td>Kovács Bernadett</td><td>2016-05-01</td><td>2016-05-03</td><td>2</td><td>NULL</td></tr>",
                            "<tr><td>bernadett2</td><td>Kovács Bernadett</td><td>2016-06-17</td><td>2016-06-23</td><td>3</td><td>NULL</td></tr>",
                            "<tr><td>bernadett2</td><td>Kovács Bernadett</td><td>2016-08-23</td><td>2016-08-29</td><td>2</td><td>NULL</td></tr>",
                            "<tr><td>bernadett2</td><td>Kovács Bernadett</td><td>2016-08-25</td><td>2016-08-27</td><td>3</td><td>NULL</td></tr>",
                            "<tr><td>bernadett2</td><td>Kovács Bernadett</td><td>2016-09-07</td><td>2016-09-13</td><td>3</td><td>NULL</td></tr>",
                            "<tr><td>bernadett2</td><td>Kovács Bernadett</td><td>2016-10-30</td><td>2016-11-06</td><td>3</td><td>NULL</td></tr>",
                            "<tr><td>bernadett2</td><td>Kovács Bernadett</td><td>2016-12-17</td><td>2016-12-20</td><td>1</td><td>NULL</td></tr>",
                            "<tr><td>bernadett2</td><td>Kovács Bernadett</td><td>2017-01-24</td><td>2017-01-30</td><td>3</td><td>NULL</td></tr>",
                            "<tr><td>BERNADETTO</td><td>Orbán Bernadett</td><td>2016-04-10</td><td>2016-04-17</td><td>2</td><td>NULL</td></tr>",
                            "<tr><td>BERNADETTO</td><td>Orbán Bernadett</td><td>2016-04-17</td><td>2016-04-19</td><td>2</td><td>NULL</td></tr>",
                            "<tr><td>BERNADETTO</td><td>Orbán Bernadett</td><td>2016-06-07</td><td>2016-06-13</td><td>3</td><td>NULL</td></tr>",
                            "<tr><td>BERNADETTO</td><td>Orbán Bernadett</td><td>2016-06-10</td><td>2016-06-16</td><td>4</td><td>NULL</td></tr>",
                            "<tr><td>BERNADETTO</td><td>Orbán Bernadett</td><td>2016-10-04</td><td>2016-10-05</td><td>2</td><td>NULL</td></tr>",
                            "<tr><td>BERNADETTO</td><td>Orbán Bernadett</td><td>2017-01-01</td><td>2017-01-02</td><td>3</td><td>NULL</td></tr>",
                            "<tr><td>BERNADETTO</td><td>Orbán Bernadett</td><td>2017-01-28</td><td>2017-02-03</td><td>2</td><td>NULL</td></tr>",
                            "<tr><td>bertalan</td><td>Csiger Bertalan</td><td>2016-05-18</td><td>2016-05-23</td><td>2</td><td>NULL</td></tr>",
                            "<tr><td>bertalan</td><td>Csiger Bertalan</td><td>2016-06-20</td><td>2016-06-21</td><td>1</td><td>NULL</td></tr>",
                            "<tr><td>bertalan</td><td>Csiger Bertalan</td><td>2016-11-03</td><td>2016-11-10</td><td>2</td><td>NULL</td></tr>",
                            "<tr><td>bertalan</td><td>Csiger Bertalan</td><td>2016-11-26</td><td>2016-11-29</td><td>3</td><td>NULL</td></tr>",
                            "<tr><td>bertalan</td><td>Csiger Bertalan</td><td>2017-02-16</td><td>2017-02-22</td><td>2</td><td>NULL</td></tr>",
                            "<tr><td>bertalan</td><td>Csiger Bertalan</td><td>2017-02-20</td><td>2017-02-24</td><td>4</td><td>NULL</td></tr>",
                            "<tr><td>brigitta</td><td>Székely Brigitta</td><td>2016-05-30</td><td>2016-06-06</td><td>3</td><td>NULL</td></tr>",
                            "<tr><td>brigitta</td><td>Székely Brigitta</td><td>2016-08-28</td><td>2016-09-01</td><td>3</td><td>NULL</td></tr>",
                            "<tr><td>brigitta</td><td>Székely Brigitta</td><td>2016-10-21</td><td>2016-10-28</td><td>3</td><td>NULL</td></tr>",
                            "<tr><td>brigitta</td><td>Székely Brigitta</td><td>2016-12-17</td><td>2016-12-22</td><td>2</td><td>NULL</td></tr>",
                            "<tr><td>brigitta</td><td>Székely Brigitta</td><td>2017-01-23</td><td>2017-01-25</td><td>1</td><td>NULL</td></tr>",
                            "<tr><td>brigitta3</td><td>Pataki Brigitta</td><td>2016-06-01</td><td>2016-06-05</td><td>2</td><td>NULL</td></tr>",
                            "<tr><td>brigitta3</td><td>Pataki Brigitta</td><td>2016-06-13</td><td>2016-06-17</td><td>3</td><td>NULL</td></tr>",
                            "<tr><td>brigitta3</td><td>Pataki Brigitta</td><td>2016-10-10</td><td>2016-10-14</td><td>2</td><td>NULL</td></tr>",
                            "<tr><td>brigitta3</td><td>Pataki Brigitta</td><td>2016-11-03</td><td>2016-11-09</td><td>3</td><td>NULL</td></tr>",
                            "<tr><td>brigitta3</td><td>Pataki Brigitta</td><td>2017-02-09</td><td>2017-02-16</td><td>2</td><td>NULL</td></tr>",
                            "<tr><td>csongor3</td><td>Nagymihály Csongor</td><td>2016-05-01</td><td>2016-05-04</td><td>2</td><td>NULL</td></tr>",
                            "<tr><td>csongor3</td><td>Nagymihály Csongor</td><td>2016-05-08</td><td>2016-05-15</td><td>3</td><td>NULL</td></tr>",
                            "<tr><td>csongor3</td><td>Nagymihály Csongor</td><td>2016-06-04</td><td>2016-06-05</td><td>2</td><td>NULL</td></tr>",
                            "<tr><td>csongor3</td><td>Nagymihály Csongor</td><td>2016-06-10</td><td>2016-06-17</td><td>3</td><td>NULL</td></tr>",
                            "<tr><td>csongor3</td><td>Nagymihály Csongor</td><td>2016-06-11</td><td>2016-06-14</td><td>2</td><td>NULL</td></tr>",
                            "<tr><td>csongor3</td><td>Nagymihály Csongor</td><td>2016-07-09</td><td>2016-07-10</td><td>4</td><td>NULL</td></tr>",
                            "<tr><td>csongor3</td><td>Nagymihály Csongor</td><td>2016-11-12</td><td>2016-11-17</td><td>3</td><td>NULL</td></tr>",
                            "<tr><td>csongor3</td><td>Nagymihály Csongor</td><td>2017-02-13</td><td>2017-02-19</td><td>3</td><td>NULL</td></tr>",
                            "<tr><td>dani</td><td>Vörös Dániel</td><td>2016-06-06</td><td>2016-06-10</td><td>3</td><td>NULL</td></tr>",
                            "<tr><td>dani</td><td>Vörös Dániel</td><td>2016-07-11</td><td>2016-07-12</td><td>3</td><td>NULL</td></tr>",
                            "<tr><td>dani</td><td>Vörös Dániel</td><td>2016-08-06</td><td>2016-08-09</td><td>2</td><td>NULL</td></tr>",
                            "<tr><td>dani</td><td>Vörös Dániel</td><td>2016-09-19</td><td>2016-09-25</td><td>4</td><td>NULL</td></tr>",
                            "<tr><td>dani</td><td>Vörös Dániel</td><td>2016-10-01</td><td>2016-10-02</td><td>1</td><td>NULL</td></tr>",
                            "<tr><td>dani</td><td>Vörös Dániel</td><td>2016-11-22</td><td>2016-11-24</td><td>2</td><td>NULL</td></tr>",
                            "<tr><td>dani</td><td>Vörös Dániel</td><td>2017-01-17</td><td>2017-01-23</td><td>2</td><td>NULL</td></tr>",
                            "<tr><td>dani</td><td>Vörös Dániel</td><td>2017-01-22</td><td>2017-01-29</td><td>1</td><td>NULL</td></tr>",
                            "<tr><td>dani</td><td>Vörös Dániel</td><td>2017-02-25</td><td>2017-03-01</td><td>3</td><td>NULL</td></tr>",
                            "<tr><td>daniel</td><td>Rácz Dániel</td><td>2016-04-10</td><td>2016-04-11</td><td>4</td><td>NULL</td></tr>",
                            "<tr><td>daniel</td><td>Rácz Dániel</td><td>2016-04-22</td><td>2016-04-25</td><td>2</td><td>NULL</td></tr>",
                            "<tr><td>daniel</td><td>Rácz Dániel</td><td>2016-05-09</td><td>2016-05-13</td><td>3</td><td>NULL</td></tr>",
                            "<tr><td>daniel</td><td>Rácz Dániel</td><td>2016-09-08</td><td>2016-09-10</td><td>4</td><td>NULL</td></tr>",
                            "<tr><td>daniel</td><td>Rácz Dániel</td><td>2016-11-13</td><td>2016-11-19</td><td>3</td><td>NULL</td></tr>",
                            "<tr><td>daniel</td><td>Rácz Dániel</td><td>2016-12-25</td><td>2016-12-26</td><td>3</td><td>NULL</td></tr>",
                            "<tr><td>daniel</td><td>Rácz Dániel</td><td>2017-01-09</td><td>2017-01-11</td><td>1</td><td>NULL</td></tr>",
                            "<tr><td>daniel</td><td>Rácz Dániel</td><td>2017-02-12</td><td>2017-02-13</td><td>3</td><td>NULL</td></tr>",
                            "<tr><td>daniel</td><td>Rácz Dániel</td><td>2017-02-20</td><td>2017-02-23</td><td>3</td><td>NULL</td></tr>",
                            "<tr><td>daniel1</td><td>Keszler Dániel</td><td>2016-04-10</td><td>2016-04-15</td><td>2</td><td>NULL</td></tr>",
                            "<tr><td>daniel1</td><td>Keszler Dániel</td><td>2016-05-10</td><td>2016-05-13</td><td>4</td><td>NULL</td></tr>",
                            "<tr><td>daniel1</td><td>Keszler Dániel</td><td>2016-05-26</td><td>2016-05-27</td><td>3</td><td>NULL</td></tr>",
                            "<tr><td>daniel1</td><td>Keszler Dániel</td><td>2016-11-09</td><td>2016-11-11</td><td>2</td><td>NULL</td></tr>",
                            "<tr><td>daniel1</td><td>Keszler Dániel</td><td>2016-11-23</td><td>2016-11-25</td><td>2</td><td>NULL</td></tr>",
                            "<tr><td>daniel1</td><td>Keszler Dániel</td><td>2017-01-05</td><td>2017-01-08</td><td>3</td><td>NULL</td></tr>",
                            "<tr><td>daniel1</td><td>Keszler Dániel</td><td>2017-03-01</td><td>2017-03-06</td><td>4</td><td>NULL</td></tr>",
                            "<tr><td>david</td><td>Ambrus Dávid</td><td>2016-05-18</td><td>2016-05-25</td><td>2</td><td>NULL</td></tr>",
                            "<tr><td>david</td><td>Ambrus Dávid</td><td>2016-06-09</td><td>2016-06-10</td><td>2</td><td>NULL</td></tr>",
                            "<tr><td>david</td><td>Ambrus Dávid</td><td>2016-06-30</td><td>2016-07-07</td><td>2</td><td>NULL</td></tr>",
                            "<tr><td>david</td><td>Ambrus Dávid</td><td>2016-07-18</td><td>2016-07-21</td><td>2</td><td>NULL</td></tr>",
                            "<tr><td>david</td><td>Ambrus Dávid</td><td>2016-08-05</td><td>2016-08-12</td><td>1</td><td>NULL</td></tr>",
                            "<tr><td>david</td><td>Ambrus Dávid</td><td>2016-08-20</td><td>2016-08-25</td><td>3</td><td>NULL</td></tr>",
                            "<tr><td>david</td><td>Ambrus Dávid</td><td>2016-08-22</td><td>2016-08-24</td><td>3</td><td>NULL</td></tr>",
                            "<tr><td>david</td><td>Ambrus Dávid</td><td>2016-10-30</td><td>2016-11-04</td><td>2</td><td>NULL</td></tr>",
                            "<tr><td>david</td><td>Ambrus Dávid</td><td>2017-01-18</td><td>2017-01-19</td><td>2</td><td>NULL</td></tr>",
                            "<tr><td>david1</td><td>Sobják Dávid</td><td>2016-09-20</td><td>2016-09-21</td><td>2</td><td>NULL</td></tr>",
                            "<tr><td>david1</td><td>Sobják Dávid</td><td>2016-10-01</td><td>2016-10-02</td><td>2</td><td>NULL</td></tr>",
                            "<tr><td>david1</td><td>Sobják Dávid</td><td>2016-11-19</td><td>2016-11-22</td><td>2</td><td>NULL</td></tr>",
                            "<tr><td>david1</td><td>Sobják Dávid</td><td>2016-12-30</td><td>2017-01-06</td><td>2</td><td>NULL</td></tr>",
                            "<tr><td>david1</td><td>Sobják Dávid</td><td>2017-02-17</td><td>2017-02-20</td><td>3</td><td>NULL</td></tr>",
                            "<tr><td>david1</td><td>Sobják Dávid</td><td>2017-02-25</td><td>2017-02-27</td><td>4</td><td>NULL</td></tr>",
                            "<tr><td>david4</td><td>Berta Dávid</td><td>2017-02-16</td><td>2017-02-19</td><td>3</td><td>NULL</td></tr>",
                            "<tr><td>debora</td><td>Barna Debóra</td><td>2016-06-22</td><td>2016-06-24</td><td>5</td><td>NULL</td></tr>",
                            "<tr><td>debora</td><td>Barna Debóra</td><td>2016-10-29</td><td>2016-11-03</td><td>2</td><td>NULL</td></tr>",
                            "<tr><td>debora</td><td>Barna Debóra</td><td>2017-01-23</td><td>2017-01-28</td><td>3</td><td>NULL</td></tr>",
                            "<tr><td>debora</td><td>Barna Debóra</td><td>2017-02-04</td><td>2017-02-06</td><td>3</td><td>NULL</td></tr>",
                            "<tr><td>denes</td><td>Tömböly Dénes</td><td>2016-05-27</td><td>2016-05-31</td><td>3</td><td>NULL</td></tr>",
                            "<tr><td>denes</td><td>Tömböly Dénes</td><td>2016-07-19</td><td>2016-07-23</td><td>2</td><td>NULL</td></tr>",
                            "<tr><td>denes</td><td>Tömböly Dénes</td><td>2016-08-01</td><td>2016-08-08</td><td>3</td><td>NULL</td></tr>",
                            "<tr><td>denes</td><td>Tömböly Dénes</td><td>2016-08-16</td><td>2016-08-23</td><td>2</td><td>NULL</td></tr>",
                            "<tr><td>denes</td><td>Tömböly Dénes</td><td>2016-08-20</td><td>2016-08-27</td><td>3</td><td>NULL</td></tr>",
                            "<tr><td>denes</td><td>Tömböly Dénes</td><td>2016-11-06</td><td>2016-11-10</td><td>2</td><td>NULL</td></tr>",
                            "<tr><td>dora3</td><td>Sarodi Dóra</td><td>2016-08-16</td><td>2016-08-19</td><td>4</td><td>NULL</td></tr>",
                            "<tr><td>dora3</td><td>Sarodi Dóra</td><td>2016-08-25</td><td>2016-08-29</td><td>3</td><td>NULL</td></tr>",
                            "<tr><td>dora3</td><td>Sarodi Dóra</td><td>2016-10-09</td><td>2016-10-12</td><td>3</td><td>NULL</td></tr>",
                            "<tr><td>dora3</td><td>Sarodi Dóra</td><td>2016-10-29</td><td>2016-11-02</td><td>3</td><td>NULL</td></tr>",
                            "<tr><td>dora3</td><td>Sarodi Dóra</td><td>2016-11-22</td><td>2016-11-29</td><td>3</td><td>NULL</td></tr>",
                            "<tr><td>edit</td><td>Bittmann Edit</td><td>2016-07-14</td><td>2016-07-17</td><td>3</td><td>NULL</td></tr>",
                            "<tr><td>edit</td><td>Bittmann Edit</td><td>2016-08-03</td><td>2016-08-09</td><td>4</td><td>NULL</td></tr>",
                            "<tr><td>edit</td><td>Bittmann Edit</td><td>2016-08-12</td><td>2016-08-14</td><td>2</td><td>NULL</td></tr>",
                            "<tr><td>edit</td><td>Bittmann Edit</td><td>2016-09-17</td><td>2016-09-24</td><td>2</td><td>NULL</td></tr>",
                            "<tr><td>edit</td><td>Bittmann Edit</td><td>2016-09-18</td><td>2016-09-21</td><td>3</td><td>NULL</td></tr>",
                            "<tr><td>edit</td><td>Bittmann Edit</td><td>2017-01-15</td><td>2017-01-18</td><td>4</td><td>NULL</td></tr>",
                            "<tr><td>edit</td><td>Bittmann Edit</td><td>2017-02-08</td><td>2017-02-14</td><td>3</td><td>NULL</td></tr>",
                            "<tr><td>emese</td><td>Kuruc Emese</td><td>2016-07-22</td><td>2016-07-24</td><td>2</td><td>NULL</td></tr>",
                            "<tr><td>emese</td><td>Kuruc Emese</td><td>2016-08-09</td><td>2016-08-12</td><td>2</td><td>NULL</td></tr>",
                            "<tr><td>emese</td><td>Kuruc Emese</td><td>2016-09-27</td><td>2016-09-28</td><td>3</td><td>NULL</td></tr>",
                            "<tr><td>emese</td><td>Kuruc Emese</td><td>2016-11-05</td><td>2016-11-09</td><td>1</td><td>NULL</td></tr>",
                            "<tr><td>emese</td><td>Kuruc Emese</td><td>2016-11-23</td><td>2016-11-27</td><td>4</td><td>NULL</td></tr>",
                            "<tr><td>emese</td><td>Kuruc Emese</td><td>2016-12-07</td><td>2016-12-08</td><td>3</td><td>NULL</td></tr>",
                            "<tr><td>emese</td><td>Kuruc Emese</td><td>2017-01-30</td><td>2017-01-31</td><td>2</td><td>NULL</td></tr>",
                            "<tr><td>eszter</td><td>Molnár Eszter</td><td>2016-08-12</td><td>2016-08-18</td><td>3</td><td>NULL</td></tr>",
                            "<tr><td>eszter</td><td>Molnár Eszter</td><td>2016-10-04</td><td>2016-10-10</td><td>3</td><td>NULL</td></tr>",
                            "<tr><td>eszter</td><td>Molnár Eszter</td><td>2016-10-26</td><td>2016-11-01</td><td>3</td><td>NULL</td></tr>",
                            "<tr><td>eszter</td><td>Molnár Eszter</td><td>2016-12-23</td><td>2016-12-28</td><td>2</td><td>NULL</td></tr>",
                            "<tr><td>eszter2</td><td>Balogh Eszter</td><td>2016-06-30</td><td>2016-07-07</td><td>3</td><td>NULL</td></tr>",
                            "<tr><td>eszter2</td><td>Balogh Eszter</td><td>2016-07-08</td><td>2016-07-09</td><td>1</td><td>NULL</td></tr>",
                            "<tr><td>eszter2</td><td>Balogh Eszter</td><td>2016-10-01</td><td>2016-10-05</td><td>3</td><td>NULL</td></tr>",
                            "<tr><td>eszter2</td><td>Balogh Eszter</td><td>2016-10-01</td><td>2016-10-06</td><td>1</td><td>3</td></tr>",
                            "<tr><td>eszter2</td><td>Balogh Eszter</td><td>2016-10-20</td><td>2016-10-25</td><td>1</td><td>NULL</td></tr>",
                            "<tr><td>eszter2</td><td>Balogh Eszter</td><td>2016-10-23</td><td>2016-10-30</td><td>1</td><td>NULL</td></tr>",
                            "<tr><td>eszter2</td><td>Balogh Eszter</td><td>2016-11-05</td><td>2016-11-12</td><td>4</td><td>NULL</td></tr>",
                            "<tr><td>eszter2</td><td>Balogh Eszter</td><td>2016-12-02</td><td>2016-12-07</td><td>1</td><td>NULL</td></tr>",
                            "<tr><td>eszter2</td><td>Balogh Eszter</td><td>2016-12-05</td><td>2016-12-08</td><td>2</td><td>NULL</td></tr>",
                            "<tr><td>eszter2</td><td>Balogh Eszter</td><td>2016-12-29</td><td>2017-02-04</td><td>1</td><td>NULL</td></tr>",
                            "<tr><td>eszter4</td><td>Fülöp Eszter</td><td>2017-01-05</td><td>2017-01-10</td><td>2</td><td>NULL</td></tr>",
                            "<tr><td>eszter4</td><td>Fülöp Eszter</td><td>2017-01-26</td><td>2017-02-02</td><td>2</td><td>NULL</td></tr>",
                            "<tr><td>eszter4</td><td>Fülöp Eszter</td><td>2017-02-26</td><td>2017-02-27</td><td>3</td><td>NULL</td></tr>",
                            "<tr><td>ESZTERE</td><td>Érsek Eszter</td><td>2016-05-30</td><td>2016-06-05</td><td>2</td><td>NULL</td></tr>",
                            "<tr><td>ESZTERE</td><td>Érsek Eszter</td><td>2016-07-19</td><td>2016-07-21</td><td>2</td><td>NULL</td></tr>",
                            "<tr><td>ESZTERE</td><td>Érsek Eszter</td><td>2016-11-01</td><td>2016-11-08</td><td>2</td><td>NULL</td></tr>",
                            "<tr><td>ESZTERE</td><td>Érsek Eszter</td><td>2017-02-10</td><td>2017-02-14</td><td>2</td><td>NULL</td></tr>",
                            "<tr><td>eva</td><td>Enyedi Éva</td><td>2016-10-06</td><td>2016-10-09</td><td>3</td><td>NULL</td></tr>",
                            "<tr><td>eva</td><td>Enyedi Éva</td><td>2017-01-14</td><td>2017-01-16</td><td>2</td><td>NULL</td></tr>",
                            "<tr><td>eva2</td><td>Perlinger Éva</td><td>2016-09-02</td><td>2016-09-03</td><td>1</td><td>NULL</td></tr>",
                            "<tr><td>eva2</td><td>Perlinger Éva</td><td>2016-11-06</td><td>2016-11-13</td><td>2</td><td>NULL</td></tr>",
                            "<tr><td>eva2</td><td>Perlinger Éva</td><td>2016-12-06</td><td>2016-12-11</td><td>2</td><td>NULL</td></tr>",
                            "<tr><td>eva2</td><td>Perlinger Éva</td><td>2017-01-06</td><td>2017-01-09</td><td>4</td><td>NULL</td></tr>",
                            "<tr><td>EVAV</td><td>Viktor Éva</td><td>2016-05-01</td><td>2016-05-05</td><td>3</td><td>NULL</td></tr>",
                            "<tr><td>EVAV</td><td>Viktor Éva</td><td>2016-08-31</td><td>2016-09-04</td><td>2</td><td>NULL</td></tr>",
                            "<tr><td>EVAV</td><td>Viktor Éva</td><td>2016-10-15</td><td>2016-10-21</td><td>3</td><td>NULL</td></tr>",
                            "<tr><td>EVAV</td><td>Viktor Éva</td><td>2016-10-16</td><td>2016-10-23</td><td>2</td><td>NULL</td></tr>",
                            "<tr><td>EVAV</td><td>Viktor Éva</td><td>2017-02-04</td><td>2017-02-11</td><td>5</td><td>NULL</td></tr>",
                            "<tr><td>ferenc1</td><td>Orosz Ferenc</td><td>2016-05-08</td><td>2016-05-11</td><td>2</td><td>NULL</td></tr>",
                            "<tr><td>ferenc1</td><td>Orosz Ferenc</td><td>2016-06-16</td><td>2016-06-22</td><td>2</td><td>NULL</td></tr>",
                            "<tr><td>ferenc1</td><td>Orosz Ferenc</td><td>2016-10-08</td><td>2016-10-09</td><td>2</td><td>NULL</td></tr>",
                            "<tr><td>ferenc1</td><td>Orosz Ferenc</td><td>2016-11-07</td><td>2016-11-08</td><td>3</td><td>NULL</td></tr>",
                            "<tr><td>fruzsina4</td><td>Frank Fruzsina</td><td>2016-06-02</td><td>2016-06-04</td><td>2</td><td>NULL</td></tr>",
                            "<tr><td>fruzsina4</td><td>Frank Fruzsina</td><td>2016-07-01</td><td>2016-07-04</td><td>3</td><td>NULL</td></tr>",
                            "<tr><td>fruzsina4</td><td>Frank Fruzsina</td><td>2016-07-13</td><td>2016-07-19</td><td>3</td><td>NULL</td></tr>",
                            "<tr><td>fruzsina4</td><td>Frank Fruzsina</td><td>2016-08-27</td><td>2016-08-30</td><td>4</td><td>NULL</td></tr>",
                            "<tr><td>fruzsina4</td><td>Frank Fruzsina</td><td>2016-09-29</td><td>2016-10-01</td><td>3</td><td>NULL</td></tr>",
                            "<tr><td>fruzsina4</td><td>Frank Fruzsina</td><td>2016-11-22</td><td>2016-11-24</td><td>2</td><td>NULL</td></tr>",
                            "<tr><td>fruzsina4</td><td>Frank Fruzsina</td><td>2016-12-16</td><td>2016-12-21</td><td>1</td><td>NULL</td></tr>",
                            "<tr><td>fruzsina4</td><td>Frank Fruzsina</td><td>2017-01-22</td><td>2017-01-25</td><td>4</td><td>NULL</td></tr>",
                            "<tr><td>gabor1</td><td>Köves Gábor</td><td>2016-06-20</td><td>2016-06-21</td><td>4</td><td>NULL</td></tr>",
                            "<tr><td>gabor1</td><td>Köves Gábor</td><td>2016-07-12</td><td>2016-07-15</td><td>1</td><td>NULL</td></tr>",
                            "<tr><td>gabor1</td><td>Köves Gábor</td><td>2016-07-28</td><td>2016-07-30</td><td>2</td><td>NULL</td></tr>",
                            "<tr><td>gabor1</td><td>Köves Gábor</td><td>2016-09-02</td><td>2016-09-03</td><td>3</td><td>NULL</td></tr>",
                            "<tr><td>gabor1</td><td>Köves Gábor</td><td>2016-10-20</td><td>2016-10-24</td><td>1</td><td>NULL</td></tr>",
                            "<tr><td>gabor1</td><td>Köves Gábor</td><td>2016-11-19</td><td>2016-11-22</td><td>2</td><td>NULL</td></tr>",
                            "<tr><td>gabor4</td><td>Telek Gábor</td><td>2016-04-26</td><td>2016-04-29</td><td>3</td><td>NULL</td></tr>",
                            "<tr><td>gabor4</td><td>Telek Gábor</td><td>2016-05-30</td><td>2016-06-05</td><td>1</td><td>NULL</td></tr>",
                            "<tr><td>gabor4</td><td>Telek Gábor</td><td>2016-08-31</td><td>2016-09-06</td><td>4</td><td>NULL</td></tr>",
                            "<tr><td>gabor4</td><td>Telek Gábor</td><td>2016-11-07</td><td>2016-11-13</td><td>4</td><td>NULL</td></tr>",
                            "<tr><td>gabriella1</td><td>Nagy Gabriella</td><td>2016-04-21</td><td>2016-04-24</td><td>3</td><td>NULL</td></tr>",
                            "<tr><td>gabriella1</td><td>Nagy Gabriella</td><td>2016-07-10</td><td>2016-07-11</td><td>3</td><td>NULL</td></tr>",
                            "<tr><td>gabriella1</td><td>Nagy Gabriella</td><td>2016-07-24</td><td>2016-07-31</td><td>2</td><td>NULL</td></tr>",
                            "<tr><td>gabriella1</td><td>Nagy Gabriella</td><td>2017-02-04</td><td>2017-02-11</td><td>3</td><td>NULL</td></tr>",
                            "<tr><td>gabriella1</td><td>Nagy Gabriella</td><td>2017-02-12</td><td>2017-02-13</td><td>2</td><td>NULL</td></tr>",
                            "<tr><td>gabriella1</td><td>Nagy Gabriella</td><td>2017-02-21</td><td>2017-02-27</td><td>3</td><td>NULL</td></tr>",
                            "<tr><td>gabriella10</td><td>Vida Gabriella</td><td>2016-10-01</td><td>2016-10-06</td><td>3</td><td>NULL</td></tr>",
                            "<tr><td>georgij</td><td>Nyíri Georgij</td><td>2016-06-16</td><td>2016-06-20</td><td>3</td><td>NULL</td></tr>",
                            "<tr><td>georgij</td><td>Nyíri Georgij</td><td>2016-08-16</td><td>2016-08-22</td><td>4</td><td>NULL</td></tr>",
                            "<tr><td>georgij</td><td>Nyíri Georgij</td><td>2016-08-28</td><td>2016-09-04</td><td>2</td><td>NULL</td></tr>",
                            "<tr><td>georgij</td><td>Nyíri Georgij</td><td>2016-09-18</td><td>2016-09-24</td><td>3</td><td>NULL</td></tr>",
                            "<tr><td>gusztav</td><td>Bárci Gusztáv</td><td>2016-05-06</td><td>2016-05-13</td><td>2</td><td>NULL</td></tr>",
                            "<tr><td>gusztav</td><td>Bárci Gusztáv</td><td>2016-08-05</td><td>2016-08-11</td><td>3</td><td>NULL</td></tr>",
                            "<tr><td>gusztav</td><td>Bárci Gusztáv</td><td>2016-10-01</td><td>2016-10-03</td><td>3</td><td>NULL</td></tr>",
                            "<tr><td>gusztav</td><td>Bárci Gusztáv</td><td>2017-02-03</td><td>2017-02-09</td><td>2</td><td>NULL</td></tr>",
                            "<tr><td>gusztav</td><td>Bárci Gusztáv</td><td>2017-02-23</td><td>2017-03-01</td><td>4</td><td>NULL</td></tr>",
                            "<tr><td>GYONGYIK</td><td>Kornseé Gyöngyi</td><td>2016-06-02</td><td>2016-06-05</td><td>3</td><td>NULL</td></tr>",
                            "<tr><td>GYONGYIK</td><td>Kornseé Gyöngyi</td><td>2016-06-10</td><td>2016-06-17</td><td>1</td><td>NULL</td></tr>",
                            "<tr><td>GYONGYIK</td><td>Kornseé Gyöngyi</td><td>2016-07-01</td><td>2016-07-05</td><td>2</td><td>NULL</td></tr>",
                            "<tr><td>GYONGYIK</td><td>Kornseé Gyöngyi</td><td>2016-08-17</td><td>2016-08-21</td><td>3</td><td>NULL</td></tr>",
                            "<tr><td>GYONGYIK</td><td>Kornseé Gyöngyi</td><td>2016-11-08</td><td>2016-11-13</td><td>2</td><td>NULL</td></tr>",
                            "<tr><td>GYONGYIK</td><td>Kornseé Gyöngyi</td><td>2016-12-01</td><td>2016-12-08</td><td>2</td><td>NULL</td></tr>",
                            "<tr><td>GYONGYIK</td><td>Kornseé Gyöngyi</td><td>2017-01-22</td><td>2017-01-29</td><td>3</td><td>NULL</td></tr>",
                            "<tr><td>GYORGYO</td><td>Oroszi György</td><td>2016-05-27</td><td>2016-05-28</td><td>3</td><td>NULL</td></tr>",
                            "<tr><td>GYORGYO</td><td>Oroszi György</td><td>2016-06-01</td><td>2016-06-07</td><td>2</td><td>NULL</td></tr>",
                            "<tr><td>GYORGYO</td><td>Oroszi György</td><td>2016-06-10</td><td>2016-06-15</td><td>2</td><td>NULL</td></tr>",
                            "<tr><td>GYORGYO</td><td>Oroszi György</td><td>2016-07-18</td><td>2016-07-25</td><td>2</td><td>NULL</td></tr>",
                            "<tr><td>GYORGYO</td><td>Oroszi György</td><td>2016-07-28</td><td>2016-08-03</td><td>3</td><td>NULL</td></tr>",
                            "<tr><td>GYORGYO</td><td>Oroszi György</td><td>2016-10-28</td><td>2016-10-31</td><td>1</td><td>NULL</td></tr>",
                            "<tr><td>GYORGYO</td><td>Oroszi György</td><td>2017-02-13</td><td>2017-02-15</td><td>2</td><td>NULL</td></tr>",
                            "<tr><td>GYORGYO</td><td>Oroszi György</td><td>2017-02-24</td><td>2017-02-25</td><td>3</td><td>NULL</td></tr>",
                            "<tr><td>henrik3</td><td>Nádudvari Henrik</td><td>2016-08-24</td><td>2016-08-28</td><td>1</td><td>NULL</td></tr>",
                            "<tr><td>henrik3</td><td>Nádudvari Henrik</td><td>2016-12-29</td><td>2017-01-03</td><td>3</td><td>NULL</td></tr>",
                            "<tr><td>henrik3</td><td>Nádudvari Henrik</td><td>2017-01-27</td><td>2017-01-28</td><td>3</td><td>NULL</td></tr>",
                            "<tr><td>IBOLYAA</td><td>Andor Ibolya</td><td>2016-08-29</td><td>2016-08-31</td><td>5</td><td>NULL</td></tr>",
                            "<tr><td>IBOLYAA</td><td>Andor Ibolya</td><td>2016-10-23</td><td>2016-10-28</td><td>2</td><td>NULL</td></tr>",
                            "<tr><td>IBOLYAA</td><td>Andor Ibolya</td><td>2017-01-17</td><td>2017-01-23</td><td>3</td><td>NULL</td></tr>",
                            "<tr><td>ilona3</td><td>Bosnyák Ilona</td><td>2016-07-31</td><td>2016-08-06</td><td>2</td><td>NULL</td></tr>",
                            "<tr><td>ilona3</td><td>Bosnyák Ilona</td><td>2016-08-04</td><td>2016-08-08</td><td>3</td><td>NULL</td></tr>",
                            "<tr><td>ilona3</td><td>Bosnyák Ilona</td><td>2016-11-04</td><td>2016-11-06</td><td>4</td><td>NULL</td></tr>",
                            "<tr><td>ilona3</td><td>Bosnyák Ilona</td><td>2016-12-25</td><td>2016-12-31</td><td>3</td><td>NULL</td></tr>",
                            "<tr><td>imre</td><td>Búza Imre</td><td>2016-09-17</td><td>2016-09-19</td><td>3</td><td>NULL</td></tr>",
                            "<tr><td>imre</td><td>Búza Imre</td><td>2016-10-28</td><td>2016-10-29</td><td>4</td><td>NULL</td></tr>",
                            "<tr><td>imre1</td><td>Papp Imre</td><td>2016-06-23</td><td>2016-06-26</td><td>4</td><td>NULL</td></tr>",
                            "<tr><td>imre1</td><td>Papp Imre</td><td>2016-06-27</td><td>2016-06-28</td><td>2</td><td>NULL</td></tr>",
                            "<tr><td>imre1</td><td>Papp Imre</td><td>2016-08-21</td><td>2016-08-27</td><td>2</td><td>NULL</td></tr>",
                            "<tr><td>imre1</td><td>Papp Imre</td><td>2016-08-23</td><td>2016-08-25</td><td>3</td><td>NULL</td></tr>",
                            "<tr><td>imre1</td><td>Papp Imre</td><td>2016-08-29</td><td>2016-08-31</td><td>2</td><td>NULL</td></tr>",
                            "<tr><td>imre1</td><td>Papp Imre</td><td>2017-02-01</td><td>2017-02-04</td><td>2</td><td>NULL</td></tr>",
                            "<tr><td>imre1</td><td>Papp Imre</td><td>2017-02-05</td><td>2017-02-07</td><td>4</td><td>NULL</td></tr>",
                            "<tr><td>istvan</td><td>Soós István</td><td>2016-10-07</td><td>2016-10-10</td><td>2</td><td>NULL</td></tr>",
                            "<tr><td>istvan</td><td>Soós István</td><td>2016-11-22</td><td>2016-11-24</td><td>3</td><td>NULL</td></tr>",
                            "<tr><td>istvan</td><td>Soós István</td><td>2017-01-02</td><td>2017-01-05</td><td>2</td><td>NULL</td></tr>",
                            "<tr><td>istvan1</td><td>Vizi István</td><td>2016-04-16</td><td>2016-04-22</td><td>3</td><td>NULL</td></tr>",
                            "<tr><td>istvan1</td><td>Vizi István</td><td>2016-04-24</td><td>2016-04-28</td><td>3</td><td>NULL</td></tr>",
                            "<tr><td>istvan1</td><td>Vizi István</td><td>2016-07-19</td><td>2016-07-24</td><td>1</td><td>NULL</td></tr>",
                            "<tr><td>istvan1</td><td>Vizi István</td><td>2017-02-07</td><td>2017-02-10</td><td>3</td><td>NULL</td></tr>",
                            "<tr><td>ISTVANV</td><td>Varga István</td><td>2016-07-01</td><td>2016-07-04</td><td>4</td><td>NULL</td></tr>",
                            "<tr><td>ISTVANV</td><td>Varga István</td><td>2016-09-29</td><td>2016-10-01</td><td>3</td><td>NULL</td></tr>",
                            "<tr><td>janos3</td><td>Harangozó János</td><td>2016-06-04</td><td>2016-06-06</td><td>1</td><td>NULL</td></tr>",
                            "<tr><td>janos3</td><td>Harangozó János</td><td>2016-08-24</td><td>2016-08-25</td><td>3</td><td>NULL</td></tr>",
                            "<tr><td>janos3</td><td>Harangozó János</td><td>2016-10-03</td><td>2016-10-08</td><td>3</td><td>NULL</td></tr>",
                            "<tr><td>janos3</td><td>Harangozó János</td><td>2016-10-22</td><td>2016-10-23</td><td>1</td><td>NULL</td></tr>",
                            "<tr><td>janos3</td><td>Harangozó János</td><td>2017-02-12</td><td>2017-02-14</td><td>3</td><td>NULL</td></tr>",
                            "<tr><td>JANOSG</td><td>Giliga János</td><td>2016-05-09</td><td>2016-05-15</td><td>1</td><td>NULL</td></tr>",
                            "<tr><td>JANOSG</td><td>Giliga János</td><td>2016-08-16</td><td>2016-08-23</td><td>3</td><td>NULL</td></tr>",
                            "<tr><td>JANOSG</td><td>Giliga János</td><td>2016-08-30</td><td>2016-09-03</td><td>3</td><td>NULL</td></tr>",
                            "<tr><td>JANOSG</td><td>Giliga János</td><td>2016-11-07</td><td>2016-11-14</td><td>3</td><td>NULL</td></tr>",
                            "<tr><td>JANOSG</td><td>Giliga János</td><td>2016-12-28</td><td>2016-12-30</td><td>2</td><td>NULL</td></tr>",
                            "<tr><td>JANOSG</td><td>Giliga János</td><td>2017-01-10</td><td>2017-01-15</td><td>2</td><td>NULL</td></tr>",
                            "<tr><td>JANOSG</td><td>Giliga János</td><td>2017-01-31</td><td>2017-02-05</td><td>2</td><td>NULL</td></tr>",
                            "<tr><td>JANOSP</td><td>Pálinkás János</td><td>2016-07-04</td><td>2016-07-11</td><td>3</td><td>NULL</td></tr>",
                            "<tr><td>JANOSP</td><td>Pálinkás János</td><td>2016-11-23</td><td>2016-11-28</td><td>2</td><td>NULL</td></tr>",
                            "<tr><td>JANOSP</td><td>Pálinkás János</td><td>2016-11-25</td><td>2016-11-27</td><td>2</td><td>NULL</td></tr>",
                            "<tr><td>JANOSP</td><td>Pálinkás János</td><td>2016-12-18</td><td>2016-12-21</td><td>2</td><td>NULL</td></tr>",
                            "<tr><td>jozsef</td><td>Gergely József</td><td>2016-09-13</td><td>2016-09-19</td><td>2</td><td>NULL</td></tr>",
                            "<tr><td>jozsef</td><td>Gergely József</td><td>2016-10-08</td><td>2016-10-10</td><td>2</td><td>NULL</td></tr>",
                            "<tr><td>jozsef</td><td>Gergely József</td><td>2016-12-06</td><td>2016-12-07</td><td>2</td><td>NULL</td></tr>",
                            "<tr><td>jozsef2</td><td>Vajda József</td><td>2016-07-06</td><td>2016-07-11</td><td>2</td><td>NULL</td></tr>",
                            "<tr><td>jozsef2</td><td>Vajda József</td><td>2016-07-16</td><td>2016-07-20</td><td>3</td><td>NULL</td></tr>",
                            "<tr><td>jozsef2</td><td>Vajda József</td><td>2016-09-09</td><td>2016-09-15</td><td>2</td><td>NULL</td></tr>",
                            "<tr><td>jozsef2</td><td>Vajda József</td><td>2016-11-23</td><td>2016-11-29</td><td>3</td><td>NULL</td></tr>",
                            "<tr><td>jozsef2</td><td>Vajda József</td><td>2016-11-25</td><td>2016-11-29</td><td>3</td><td>NULL</td></tr>",
                            "<tr><td>JOZSEFG</td><td>Gyuris József</td><td>2016-05-02</td><td>2016-05-06</td><td>2</td><td>NULL</td></tr>",
                            "<tr><td>JOZSEFG</td><td>Gyuris József</td><td>2016-05-23</td><td>2016-05-25</td><td>1</td><td>NULL</td></tr>",
                            "<tr><td>JOZSEFG</td><td>Gyuris József</td><td>2016-06-04</td><td>2016-06-09</td><td>4</td><td>NULL</td></tr>",
                            "<tr><td>JOZSEFG</td><td>Gyuris József</td><td>2016-08-24</td><td>2016-08-27</td><td>3</td><td>NULL</td></tr>",
                            "<tr><td>JOZSEFG</td><td>Gyuris József</td><td>2017-01-09</td><td>2017-01-13</td><td>2</td><td>NULL</td></tr>",
                            "<tr><td>JOZSEFG</td><td>Gyuris József</td><td>2017-01-22</td><td>2017-01-26</td><td>1</td><td>NULL</td></tr>",
                            "<tr><td>JOZSEFG</td><td>Gyuris József</td><td>2017-02-24</td><td>2017-03-03</td><td>3</td><td>NULL</td></tr>",
                            "<tr><td>JUDITH</td><td>Hídasi Judit</td><td>2016-06-06</td><td>2016-06-10</td><td>2</td><td>NULL</td></tr>",
                            "<tr><td>JUDITH</td><td>Hídasi Judit</td><td>2016-07-28</td><td>2016-07-30</td><td>2</td><td>NULL</td></tr>",
                            "<tr><td>JUDITH</td><td>Hídasi Judit</td><td>2016-12-19</td><td>2016-12-26</td><td>1</td><td>NULL</td></tr>",
                            "<tr><td>julia</td><td>Tóth Júlia</td><td>2016-04-21</td><td>2016-04-26</td><td>2</td><td>NULL</td></tr>",
                            "<tr><td>julia</td><td>Tóth Júlia</td><td>2016-05-12</td><td>2016-05-17</td><td>1</td><td>NULL</td></tr>",
                            "<tr><td>julia</td><td>Tóth Júlia</td><td>2016-06-07</td><td>2016-06-08</td><td>5</td><td>NULL</td></tr>",
                            "<tr><td>julia</td><td>Tóth Júlia</td><td>2016-07-20</td><td>2016-07-22</td><td>2</td><td>NULL</td></tr>",
                            "<tr><td>julia</td><td>Tóth Júlia</td><td>2017-02-27</td><td>2017-03-06</td><td>3</td><td>NULL</td></tr>",
                            "<tr><td>julia4</td><td>Nagy Júlia</td><td>2016-11-07</td><td>2016-11-12</td><td>1</td><td>NULL</td></tr>",
                            "<tr><td>julia4</td><td>Nagy Júlia</td><td>2017-02-04</td><td>2017-02-11</td><td>4</td><td>NULL</td></tr>",
                            "<tr><td>julianna4</td><td>Szabó Julianna</td><td>2016-07-20</td><td>2016-07-26</td><td>2</td><td>NULL</td></tr>",
                            "<tr><td>julianna4</td><td>Szabó Julianna</td><td>2016-10-29</td><td>2016-10-31</td><td>3</td><td>NULL</td></tr>",
                            "<tr><td>julianna4</td><td>Szabó Julianna</td><td>2016-11-03</td><td>2016-11-04</td><td>2</td><td>NULL</td></tr>",
                            "<tr><td>julianna4</td><td>Szabó Julianna</td><td>2016-11-27</td><td>2016-12-04</td><td>3</td><td>NULL</td></tr>",
                            "<tr><td>kata</td><td>Gondos Katalin</td><td>2016-04-10</td><td>2016-04-11</td><td>2</td><td>NULL</td></tr>",
                            "<tr><td>kata</td><td>Gondos Katalin</td><td>2016-04-25</td><td>2016-05-01</td><td>1</td><td>NULL</td></tr>",
                            "<tr><td>kata</td><td>Gondos Katalin</td><td>2016-05-31</td><td>2016-06-01</td><td>3</td><td>NULL</td></tr>",
                            "<tr><td>kata</td><td>Gondos Katalin</td><td>2016-06-07</td><td>2016-06-12</td><td>2</td><td>NULL</td></tr>",
                            "<tr><td>kata</td><td>Gondos Katalin</td><td>2016-07-01</td><td>2016-07-07</td><td>2</td><td>NULL</td></tr>",
                            "<tr><td>kata</td><td>Gondos Katalin</td><td>2016-07-03</td><td>2016-07-06</td><td>1</td><td>NULL</td></tr>",
                            "<tr><td>kata</td><td>Gondos Katalin</td><td>2016-07-07</td><td>2016-07-09</td><td>3</td><td>NULL</td></tr>",
                            "<tr><td>kata</td><td>Gondos Katalin</td><td>2016-08-24</td><td>2016-08-27</td><td>3</td><td>NULL</td></tr>",
                            "<tr><td>kata</td><td>Gondos Katalin</td><td>2016-09-19</td><td>2016-09-20</td><td>3</td><td>NULL</td></tr>",
                            "<tr><td>kata</td><td>Gondos Katalin</td><td>2017-01-15</td><td>2017-01-21</td><td>3</td><td>NULL</td></tr>",
                            "<tr><td>katalin</td><td>Horváth Katalin</td><td>2016-04-10</td><td>2016-04-17</td><td>2</td><td>NULL</td></tr>",
                            "<tr><td>katalin</td><td>Horváth Katalin</td><td>2016-05-21</td><td>2016-05-26</td><td>1</td><td>NULL</td></tr>",
                            "<tr><td>katalin</td><td>Horváth Katalin</td><td>2016-07-06</td><td>2016-07-11</td><td>1</td><td>NULL</td></tr>",
                            "<tr><td>katalin</td><td>Horváth Katalin</td><td>2016-07-28</td><td>2016-07-29</td><td>1</td><td>NULL</td></tr>",
                            "<tr><td>katalin</td><td>Horváth Katalin</td><td>2016-10-26</td><td>2016-10-30</td><td>2</td><td>NULL</td></tr>",
                            "<tr><td>katalin</td><td>Horváth Katalin</td><td>2016-12-13</td><td>2016-12-19</td><td>2</td><td>NULL</td></tr>",
                            "<tr><td>katalin</td><td>Horváth Katalin</td><td>2016-12-17</td><td>2016-12-24</td><td>1</td><td>NULL</td></tr>",
                            "<tr><td>katalin</td><td>Horváth Katalin</td><td>2016-12-24</td><td>2016-12-27</td><td>2</td><td>NULL</td></tr>",
                            "<tr><td>katalin</td><td>Horváth Katalin</td><td>2017-02-24</td><td>2017-02-27</td><td>3</td><td>NULL</td></tr>",
                            "<tr><td>katalin4</td><td>Kertész Katalin</td><td>2016-07-01</td><td>2016-07-07</td><td>1</td><td>NULL</td></tr>",
                            "<tr><td>katalin4</td><td>Kertész Katalin</td><td>2016-07-03</td><td>2016-07-04</td><td>4</td><td>NULL</td></tr>",
                            "<tr><td>katalin4</td><td>Kertész Katalin</td><td>2016-11-27</td><td>2016-12-04</td><td>3</td><td>NULL</td></tr>",
                            "<tr><td>katalin4</td><td>Kertész Katalin</td><td>2016-12-04</td><td>2016-12-09</td><td>3</td><td>NULL</td></tr>",
                            "<tr><td>katalin4</td><td>Kertész Katalin</td><td>2017-01-18</td><td>2017-01-20</td><td>2</td><td>NULL</td></tr>",
                            "<tr><td>katalin4</td><td>Kertész Katalin</td><td>2017-01-24</td><td>2017-01-31</td><td>2</td><td>NULL</td></tr>",
                            "<tr><td>kati</td><td>Zatykó Katalin</td><td>2016-06-06</td><td>2016-06-10</td><td>2</td><td>NULL</td></tr>",
                            "<tr><td>kati</td><td>Zatykó Katalin</td><td>2016-06-06</td><td>2016-06-11</td><td>3</td><td>2</td></tr>",
                            "<tr><td>kati</td><td>Zatykó Katalin</td><td>2016-07-13</td><td>2016-07-20</td><td>2</td><td>NULL</td></tr>",
                            "<tr><td>kati</td><td>Zatykó Katalin</td><td>2016-07-27</td><td>2016-08-03</td><td>2</td><td>NULL</td></tr>",
                            "<tr><td>kati</td><td>Zatykó Katalin</td><td>2016-08-03</td><td>2016-08-07</td><td>2</td><td>NULL</td></tr>",
                            "<tr><td>kati</td><td>Zatykó Katalin</td><td>2016-10-26</td><td>2016-10-28</td><td>2</td><td>NULL</td></tr>",
                            "<tr><td>kati</td><td>Zatykó Katalin</td><td>2016-10-30</td><td>2016-11-01</td><td>3</td><td>NULL</td></tr>",
                            "<tr><td>katka</td><td>Kovács Katalin</td><td>2016-04-10</td><td>2016-04-12</td><td>2</td><td>NULL</td></tr>",
                            "<tr><td>katka</td><td>Kovács Katalin</td><td>2016-05-09</td><td>2016-05-15</td><td>3</td><td>NULL</td></tr>",
                            "<tr><td>katka</td><td>Kovács Katalin</td><td>2016-06-13</td><td>2016-06-18</td><td>1</td><td>NULL</td></tr>",
                            "<tr><td>katka</td><td>Kovács Katalin</td><td>2016-06-13</td><td>2016-06-19</td><td>4</td><td>1</td></tr>",
                            "<tr><td>katka</td><td>Kovács Katalin</td><td>2016-08-24</td><td>2016-08-26</td><td>2</td><td>NULL</td></tr>",
                            "<tr><td>katka</td><td>Kovács Katalin</td><td>2016-09-05</td><td>2016-09-10</td><td>4</td><td>NULL</td></tr>",
                            "<tr><td>katka</td><td>Kovács Katalin</td><td>2016-11-05</td><td>2016-11-08</td><td>3</td><td>NULL</td></tr>",
                            "<tr><td>katka</td><td>Kovács Katalin</td><td>2017-01-02</td><td>2017-01-05</td><td>3</td><td>NULL</td></tr>",
                            "<tr><td>katka</td><td>Kovács Katalin</td><td>2017-01-19</td><td>2017-01-20</td><td>3</td><td>NULL</td></tr>",
                            "<tr><td>klaudia2</td><td>Bakó Klaudia</td><td>2016-06-06</td><td>2016-06-08</td><td>4</td><td>NULL</td></tr>",
                            "<tr><td>klaudia2</td><td>Bakó Klaudia</td><td>2016-10-01</td><td>2016-10-02</td><td>2</td><td>NULL</td></tr>",
                            "<tr><td>klaudia2</td><td>Bakó Klaudia</td><td>2016-10-02</td><td>2016-10-05</td><td>2</td><td>NULL</td></tr>",
                            "<tr><td>kornel4</td><td>Lukács Kornél</td><td>2016-05-08</td><td>2016-05-14</td><td>3</td><td>NULL</td></tr>",
                            "<tr><td>kornel4</td><td>Lukács Kornél</td><td>2016-06-02</td><td>2016-06-09</td><td>3</td><td>NULL</td></tr>",
                            "<tr><td>kornel4</td><td>Lukács Kornél</td><td>2016-09-23</td><td>2016-09-24</td><td>3</td><td>NULL</td></tr>",
                            "<tr><td>kristof4</td><td>Poprádi Kristóf</td><td>2016-04-08</td><td>2016-04-14</td><td>2</td><td>NULL</td></tr>",
                            "<tr><td>kristof4</td><td>Poprádi Kristóf</td><td>2016-09-30</td><td>2016-10-04</td><td>2</td><td>NULL</td></tr>",
                            "<tr><td>kriszti</td><td>Horváth Krisztina</td><td>2016-05-19</td><td>2016-05-26</td><td>2</td><td>NULL</td></tr>",
                            "<tr><td>kriszti</td><td>Horváth Krisztina</td><td>2016-08-24</td><td>2016-08-25</td><td>3</td><td>NULL</td></tr>",
                            "<tr><td>kriszti</td><td>Horváth Krisztina</td><td>2016-09-30</td><td>2016-10-05</td><td>3</td><td>NULL</td></tr>",
                            "<tr><td>kriszti</td><td>Horváth Krisztina</td><td>2016-10-01</td><td>2016-10-02</td><td>3</td><td>NULL</td></tr>",
                            "<tr><td>kriszti</td><td>Horváth Krisztina</td><td>2017-02-04</td><td>2017-02-11</td><td>3</td><td>NULL</td></tr>",
                            "<tr><td>kriszti</td><td>Horváth Krisztina</td><td>2017-03-03</td><td>2017-03-04</td><td>3</td><td>NULL</td></tr>",
                            "<tr><td>krisztian4</td><td>Czérna Krisztián</td><td>2016-06-03</td><td>2016-06-04</td><td>2</td><td>NULL</td></tr>",
                            "<tr><td>krisztian4</td><td>Czérna Krisztián</td><td>2016-06-07</td><td>2016-06-09</td><td>2</td><td>NULL</td></tr>",
                            "<tr><td>krisztian4</td><td>Czérna Krisztián</td><td>2016-07-28</td><td>2016-08-01</td><td>2</td><td>NULL</td></tr>",
                            "<tr><td>krisztian4</td><td>Czérna Krisztián</td><td>2016-08-01</td><td>2016-08-04</td><td>3</td><td>NULL</td></tr>",
                            "<tr><td>krisztian4</td><td>Czérna Krisztián</td><td>2016-08-16</td><td>2016-08-19</td><td>1</td><td>NULL</td></tr>",
                            "<tr><td>krisztian4</td><td>Czérna Krisztián</td><td>2016-08-29</td><td>2016-09-03</td><td>1</td><td>NULL</td></tr>",
                            "<tr><td>krisztian4</td><td>Czérna Krisztián</td><td>2016-10-17</td><td>2016-10-22</td><td>3</td><td>NULL</td></tr>",
                            "<tr><td>krisztian4</td><td>Czérna Krisztián</td><td>2016-11-02</td><td>2016-11-03</td><td>2</td><td>NULL</td></tr>",
                            "<tr><td>krisztian4</td><td>Czérna Krisztián</td><td>2016-12-11</td><td>2016-12-18</td><td>2</td><td>NULL</td></tr>",
                            "<tr><td>krisztian4</td><td>Czérna Krisztián</td><td>2017-01-06</td><td>2017-01-09</td><td>1</td><td>NULL</td></tr>",
                            "<tr><td>krisztian4</td><td>Czérna Krisztián</td><td>2017-01-16</td><td>2017-01-23</td><td>3</td><td>NULL</td></tr>",
                            "<tr><td>krisztian4</td><td>Czérna Krisztián</td><td>2017-02-23</td><td>2017-03-02</td><td>2</td><td>NULL</td></tr>",
                            "<tr><td>KRISZTIANM</td><td>Mogyródi Krisztián</td><td>2016-04-09</td><td>2016-04-15</td><td>2</td><td>NULL</td></tr>",
                            "<tr><td>KRISZTIANM</td><td>Mogyródi Krisztián</td><td>2016-06-04</td><td>2016-06-08</td><td>2</td><td>NULL</td></tr>",
                            "<tr><td>KRISZTIANM</td><td>Mogyródi Krisztián</td><td>2016-07-09</td><td>2016-07-14</td><td>3</td><td>NULL</td></tr>",
                            "<tr><td>KRISZTIANM</td><td>Mogyródi Krisztián</td><td>2016-08-02</td><td>2016-08-08</td><td>4</td><td>NULL</td></tr>",
                            "<tr><td>KRISZTIANM</td><td>Mogyródi Krisztián</td><td>2016-12-25</td><td>2016-12-31</td><td>2</td><td>NULL</td></tr>",
                            "<tr><td>KRISZTIANM</td><td>Mogyródi Krisztián</td><td>2017-01-16</td><td>2017-01-23</td><td>1</td><td>NULL</td></tr>",
                            "<tr><td>krisztina</td><td>Szedlár Krisztina</td><td>2016-05-21</td><td>2016-05-27</td><td>2</td><td>NULL</td></tr>",
                            "<tr><td>krisztina</td><td>Szedlár Krisztina</td><td>2016-07-05</td><td>2016-07-12</td><td>3</td><td>NULL</td></tr>",
                            "<tr><td>krisztina</td><td>Szedlár Krisztina</td><td>2016-09-13</td><td>2016-09-16</td><td>1</td><td>NULL</td></tr>",
                            "<tr><td>krisztina</td><td>Szedlár Krisztina</td><td>2016-09-19</td><td>2016-09-26</td><td>2</td><td>NULL</td></tr>",
                            "<tr><td>krisztina</td><td>Szedlár Krisztina</td><td>2016-11-08</td><td>2016-11-12</td><td>2</td><td>NULL</td></tr>",
                            "<tr><td>krisztina</td><td>Szedlár Krisztina</td><td>2016-11-22</td><td>2016-11-25</td><td>1</td><td>NULL</td></tr>",
                            "<tr><td>krisztina</td><td>Szedlár Krisztina</td><td>2017-02-05</td><td>2017-02-07</td><td>2</td><td>NULL</td></tr>",
                            "<tr><td>krisztina</td><td>Szedlár Krisztina</td><td>2017-02-16</td><td>2017-02-20</td><td>4</td><td>NULL</td></tr>",
                            "<tr><td>krisztina1</td><td>Bori Krisztina</td><td>2016-04-28</td><td>2016-04-30</td><td>2</td><td>NULL</td></tr>",
                            "<tr><td>krisztina1</td><td>Bori Krisztina</td><td>2016-05-16</td><td>2016-05-20</td><td>1</td><td>NULL</td></tr>",
                            "<tr><td>krisztina1</td><td>Bori Krisztina</td><td>2016-06-16</td><td>2016-06-22</td><td>2</td><td>NULL</td></tr>",
                            "<tr><td>krisztina1</td><td>Bori Krisztina</td><td>2016-09-15</td><td>2016-09-20</td><td>3</td><td>NULL</td></tr>",
                            "<tr><td>krisztina1</td><td>Bori Krisztina</td><td>2016-10-29</td><td>2016-10-30</td><td>4</td><td>NULL</td></tr>",
                            "<tr><td>krisztina1</td><td>Bori Krisztina</td><td>2017-01-21</td><td>2017-01-24</td><td>2</td><td>NULL</td></tr>",
                            "<tr><td>KRISZTINAG</td><td>Gyárfás Krisztina</td><td>2016-04-23</td><td>2016-04-24</td><td>2</td><td>NULL</td></tr>",
                            "<tr><td>KRISZTINAG</td><td>Gyárfás Krisztina</td><td>2016-05-24</td><td>2016-05-31</td><td>1</td><td>NULL</td></tr>",
                            "<tr><td>KRISZTINAG</td><td>Gyárfás Krisztina</td><td>2016-06-08</td><td>2016-06-12</td><td>1</td><td>NULL</td></tr>",
                            "<tr><td>KRISZTINAG</td><td>Gyárfás Krisztina</td><td>2016-08-08</td><td>2016-08-12</td><td>3</td><td>NULL</td></tr>",
                            "<tr><td>KRISZTINAG</td><td>Gyárfás Krisztina</td><td>2017-01-25</td><td>2017-01-30</td><td>2</td><td>NULL</td></tr>",
                            "<tr><td>lajos</td><td>Kiss Lajos</td><td>2016-07-18</td><td>2016-07-21</td><td>2</td><td>NULL</td></tr>",
                            "<tr><td>lajos</td><td>Kiss Lajos</td><td>2016-12-25</td><td>2016-12-28</td><td>4</td><td>NULL</td></tr>",
                            "<tr><td>lajos</td><td>Kiss Lajos</td><td>2017-02-12</td><td>2017-02-13</td><td>1</td><td>NULL</td></tr>",
                            "<tr><td>lala</td><td>Nagymihály Lajos</td><td>2016-06-16</td><td>2016-06-22</td><td>2</td><td>NULL</td></tr>",
                            "<tr><td>lala</td><td>Nagymihály Lajos</td><td>2016-07-20</td><td>2016-07-21</td><td>3</td><td>NULL</td></tr>",
                            "<tr><td>lala</td><td>Nagymihály Lajos</td><td>2016-07-26</td><td>2016-07-27</td><td>3</td><td>NULL</td></tr>",
                            "<tr><td>lala</td><td>Nagymihály Lajos</td><td>2016-10-30</td><td>2016-10-31</td><td>3</td><td>NULL</td></tr>",
                            "<tr><td>lala</td><td>Nagymihály Lajos</td><td>2017-01-08</td><td>2017-01-10</td><td>3</td><td>NULL</td></tr>",
                            "<tr><td>lala</td><td>Nagymihály Lajos</td><td>2017-01-17</td><td>2017-01-19</td><td>2</td><td>NULL</td></tr>",
                            "<tr><td>laszlo1</td><td>Farkas László</td><td>2016-09-23</td><td>2016-09-30</td><td>3</td><td>NULL</td></tr>",
                            "<tr><td>laszlo2</td><td>Móra László</td><td>2016-04-06</td><td>2016-04-10</td><td>2</td><td>NULL</td></tr>",
                            "<tr><td>laszlo2</td><td>Móra László</td><td>2016-04-27</td><td>2016-04-29</td><td>2</td><td>NULL</td></tr>",
                            "<tr><td>laszlo2</td><td>Móra László</td><td>2016-08-14</td><td>2016-08-15</td><td>3</td><td>NULL</td></tr>",
                            "<tr><td>laszlo2</td><td>Móra László</td><td>2016-09-05</td><td>2016-09-10</td><td>3</td><td>NULL</td></tr>",
                            "<tr><td>laszlo2</td><td>Móra László</td><td>2016-11-25</td><td>2016-11-26</td><td>3</td><td>NULL</td></tr>",
                            "<tr><td>LASZLOA</td><td>Antal László</td><td>2016-06-03</td><td>2016-06-09</td><td>2</td><td>NULL</td></tr>",
                            "<tr><td>LASZLOA</td><td>Antal László</td><td>2016-06-07</td><td>2016-06-11</td><td>1</td><td>NULL</td></tr>",
                            "<tr><td>LASZLOA</td><td>Antal László</td><td>2016-06-10</td><td>2016-06-13</td><td>3</td><td>NULL</td></tr>",
                            "<tr><td>LASZLOA</td><td>Antal László</td><td>2017-02-08</td><td>2017-02-14</td><td>2</td><td>NULL</td></tr>",
                            "<tr><td>LASZLON</td><td>Nagy László</td><td>2016-06-03</td><td>2016-06-06</td><td>1</td><td>NULL</td></tr>",
                            "<tr><td>LASZLON</td><td>Nagy László</td><td>2016-06-08</td><td>2016-06-09</td><td>2</td><td>NULL</td></tr>",
                            "<tr><td>LASZLON</td><td>Nagy László</td><td>2016-10-01</td><td>2016-10-04</td><td>3</td><td>NULL</td></tr>",
                            "<tr><td>LASZLON</td><td>Nagy László</td><td>2016-10-09</td><td>2016-10-14</td><td>1</td><td>NULL</td></tr>",
                            "<tr><td>LASZLON</td><td>Nagy László</td><td>2016-11-29</td><td>2016-12-04</td><td>1</td><td>NULL</td></tr>",
                            "<tr><td>LASZLON</td><td>Nagy László</td><td>2017-02-18</td><td>2017-02-25</td><td>3</td><td>NULL</td></tr>",
                            "<tr><td>maria1</td><td>Baráth Mária</td><td>2016-05-13</td><td>2016-05-18</td><td>2</td><td>NULL</td></tr>",
                            "<tr><td>maria1</td><td>Baráth Mária</td><td>2016-05-18</td><td>2016-05-19</td><td>1</td><td>NULL</td></tr>",
                            "<tr><td>maria1</td><td>Baráth Mária</td><td>2016-05-28</td><td>2016-06-03</td><td>2</td><td>NULL</td></tr>",
                            "<tr><td>maria1</td><td>Baráth Mária</td><td>2016-06-23</td><td>2016-06-27</td><td>1</td><td>NULL</td></tr>",
                            "<tr><td>maria1</td><td>Baráth Mária</td><td>2016-08-11</td><td>2016-08-14</td><td>3</td><td>NULL</td></tr>",
                            "<tr><td>maria1</td><td>Baráth Mária</td><td>2016-09-02</td><td>2016-09-05</td><td>1</td><td>NULL</td></tr>",
                            "<tr><td>maria1</td><td>Baráth Mária</td><td>2016-11-08</td><td>2016-11-12</td><td>3</td><td>NULL</td></tr>",
                            "<tr><td>maria1</td><td>Baráth Mária</td><td>2017-02-24</td><td>2017-03-02</td><td>2</td><td>NULL</td></tr>",
                            "<tr><td>mark</td><td>Kispál Márk</td><td>2016-04-19</td><td>2016-04-26</td><td>4</td><td>NULL</td></tr>",
                            "<tr><td>mark</td><td>Kispál Márk</td><td>2016-06-13</td><td>2016-06-18</td><td>3</td><td>NULL</td></tr>",
                            "<tr><td>mark</td><td>Kispál Márk</td><td>2016-08-09</td><td>2016-08-16</td><td>3</td><td>NULL</td></tr>",
                            "<tr><td>mark</td><td>Kispál Márk</td><td>2016-10-20</td><td>2016-10-27</td><td>1</td><td>NULL</td></tr>",
                            "<tr><td>mark</td><td>Kispál Márk</td><td>2016-11-19</td><td>2016-11-22</td><td>2</td><td>NULL</td></tr>",
                            "<tr><td>MARKH</td><td>Horváth Márk</td><td>2016-09-14</td><td>2016-09-17</td><td>3</td><td>NULL</td></tr>",
                            "<tr><td>MARKH</td><td>Horváth Márk</td><td>2016-09-23</td><td>2016-09-30</td><td>2</td><td>NULL</td></tr>",
                            "<tr><td>MARKH</td><td>Horváth Márk</td><td>2016-09-26</td><td>2016-10-01</td><td>4</td><td>NULL</td></tr>",
                            "<tr><td>MARKH</td><td>Horváth Márk</td><td>2017-01-22</td><td>2017-01-29</td><td>4</td><td>NULL</td></tr>",
                            "<tr><td>marton</td><td>Kalacsi Márton</td><td>2016-04-27</td><td>2016-05-04</td><td>3</td><td>NULL</td></tr>",
                            "<tr><td>marton</td><td>Kalacsi Márton</td><td>2016-05-05</td><td>2016-05-10</td><td>1</td><td>NULL</td></tr>",
                            "<tr><td>marton</td><td>Kalacsi Márton</td><td>2016-06-06</td><td>2016-06-08</td><td>3</td><td>NULL</td></tr>",
                            "<tr><td>marton</td><td>Kalacsi Márton</td><td>2016-06-22</td><td>2016-06-29</td><td>2</td><td>NULL</td></tr>",
                            "<tr><td>marton</td><td>Kalacsi Márton</td><td>2016-08-12</td><td>2016-08-17</td><td>2</td><td>NULL</td></tr>",
                            "<tr><td>marton</td><td>Kalacsi Márton</td><td>2016-09-10</td><td>2016-09-12</td><td>2</td><td>NULL</td></tr>",
                            "<tr><td>marton</td><td>Kalacsi Márton</td><td>2017-03-02</td><td>2017-03-03</td><td>2</td><td>NULL</td></tr>",
                            "<tr><td>MATEK</td><td>Koza Máté</td><td>2016-08-17</td><td>2016-08-21</td><td>4</td><td>NULL</td></tr>",
                            "<tr><td>MATEK</td><td>Koza Máté</td><td>2016-10-01</td><td>2016-10-04</td><td>2</td><td>NULL</td></tr>",
                            "<tr><td>MATEK</td><td>Koza Máté</td><td>2017-01-16</td><td>2017-01-22</td><td>2</td><td>NULL</td></tr>",
                            "<tr><td>matyas2</td><td>Botka Mátyás</td><td>2016-07-13</td><td>2016-07-16</td><td>2</td><td>NULL</td></tr>",
                            "<tr><td>matyas2</td><td>Botka Mátyás</td><td>2016-12-09</td><td>2016-12-13</td><td>3</td><td>NULL</td></tr>",
                            "<tr><td>MATYASS</td><td>Szilágyi Mátyás</td><td>2016-05-10</td><td>2016-05-16</td><td>2</td><td>NULL</td></tr>",
                            "<tr><td>MATYASS</td><td>Szilágyi Mátyás</td><td>2016-06-02</td><td>2016-06-08</td><td>1</td><td>NULL</td></tr>",
                            "<tr><td>MATYASS</td><td>Szilágyi Mátyás</td><td>2016-07-23</td><td>2016-07-25</td><td>3</td><td>NULL</td></tr>",
                            "<tr><td>MATYASS</td><td>Szilágyi Mátyás</td><td>2016-10-09</td><td>2016-10-15</td><td>3</td><td>NULL</td></tr>",
                            "<tr><td>MATYASS</td><td>Szilágyi Mátyás</td><td>2016-10-24</td><td>2016-10-31</td><td>1</td><td>NULL</td></tr>",
                            "<tr><td>MATYASS</td><td>Szilágyi Mátyás</td><td>2016-10-30</td><td>2016-11-04</td><td>3</td><td>NULL</td></tr>",
                            "<tr><td>MATYASS</td><td>Szilágyi Mátyás</td><td>2016-12-20</td><td>2016-12-25</td><td>2</td><td>NULL</td></tr>",
                            "<tr><td>MATYASS</td><td>Szilágyi Mátyás</td><td>2017-01-09</td><td>2017-01-13</td><td>2</td><td>NULL</td></tr>",
                            "<tr><td>MIHALYJ</td><td>Juhász Mihály</td><td>2016-05-30</td><td>2016-06-01</td><td>2</td><td>NULL</td></tr>",
                            "<tr><td>MIHALYJ</td><td>Juhász Mihály</td><td>2016-06-27</td><td>2016-07-01</td><td>1</td><td>NULL</td></tr>",
                            "<tr><td>MIHALYJ</td><td>Juhász Mihály</td><td>2016-08-29</td><td>2016-09-03</td><td>1</td><td>NULL</td></tr>",
                            "<tr><td>MIHALYJ</td><td>Juhász Mihály</td><td>2016-11-01</td><td>2016-11-04</td><td>3</td><td>NULL</td></tr>",
                            "<tr><td>MIHALYJ</td><td>Juhász Mihály</td><td>2017-02-06</td><td>2017-02-12</td><td>4</td><td>NULL</td></tr>",
                            "<tr><td>miklos2</td><td>Gondos Miklós</td><td>2016-04-19</td><td>2016-04-21</td><td>3</td><td>NULL</td></tr>",
                            "<tr><td>miklos2</td><td>Gondos Miklós</td><td>2016-10-08</td><td>2016-10-09</td><td>1</td><td>NULL</td></tr>",
                            "<tr><td>miklos2</td><td>Gondos Miklós</td><td>2016-11-16</td><td>2016-11-18</td><td>3</td><td>NULL</td></tr>",
                            "<tr><td>MIKLOSB</td><td>Balla Miklós</td><td>2016-06-26</td><td>2016-06-30</td><td>2</td><td>NULL</td></tr>",
                            "<tr><td>MIKLOSB</td><td>Balla Miklós</td><td>2016-07-18</td><td>2016-07-21</td><td>2</td><td>NULL</td></tr>",
                            "<tr><td>MIKLOSB</td><td>Balla Miklós</td><td>2016-12-05</td><td>2016-12-10</td><td>2</td><td>NULL</td></tr>",
                            "<tr><td>MONIKAM</td><td>Mohos Mónika</td><td>2016-04-29</td><td>2016-05-01</td><td>2</td><td>NULL</td></tr>",
                            "<tr><td>MONIKAM</td><td>Mohos Mónika</td><td>2016-07-23</td><td>2016-07-30</td><td>1</td><td>NULL</td></tr>",
                            "<tr><td>MONIKAM</td><td>Mohos Mónika</td><td>2016-11-09</td><td>2016-11-16</td><td>2</td><td>NULL</td></tr>",
                            "<tr><td>MONIKAM</td><td>Mohos Mónika</td><td>2017-01-17</td><td>2017-01-24</td><td>1</td><td>NULL</td></tr>",
                            "<tr><td>MONIKAM</td><td>Mohos Mónika</td><td>2017-02-06</td><td>2017-02-09</td><td>2</td><td>NULL</td></tr>",
                            "<tr><td>MONIKAM</td><td>Mohos Mónika</td><td>2017-02-23</td><td>2017-02-26</td><td>2</td><td>NULL</td></tr>",
                            "<tr><td>NANDORF</td><td>Fő Nándor</td><td>2016-04-06</td><td>2016-04-10</td><td>3</td><td>NULL</td></tr>",
                            "<tr><td>NANDORF</td><td>Fő Nándor</td><td>2016-11-03</td><td>2016-11-04</td><td>3</td><td>NULL</td></tr>",
                            "<tr><td>NANDORF</td><td>Fő Nándor</td><td>2017-02-05</td><td>2017-02-08</td><td>3</td><td>NULL</td></tr>",
                            "<tr><td>nikolett3</td><td>Horváth Nikolett</td><td>2016-05-24</td><td>2016-05-29</td><td>2</td><td>NULL</td></tr>",
                            "<tr><td>nikolett3</td><td>Horváth Nikolett</td><td>2016-06-03</td><td>2016-06-09</td><td>1</td><td>NULL</td></tr>",
                            "<tr><td>nikolett3</td><td>Horváth Nikolett</td><td>2016-06-22</td><td>2016-06-24</td><td>1</td><td>NULL</td></tr>",
                            "<tr><td>nikolett3</td><td>Horváth Nikolett</td><td>2016-10-22</td><td>2016-10-29</td><td>3</td><td>NULL</td></tr>",
                            "<tr><td>nikoletta4</td><td>Kő Nikoletta</td><td>2016-04-08</td><td>2016-04-10</td><td>2</td><td>NULL</td></tr>",
                            "<tr><td>nikoletta4</td><td>Kő Nikoletta</td><td>2016-05-09</td><td>2016-05-15</td><td>2</td><td>NULL</td></tr>",
                            "<tr><td>nikoletta4</td><td>Kő Nikoletta</td><td>2016-05-30</td><td>2016-06-03</td><td>3</td><td>NULL</td></tr>",
                            "<tr><td>nikoletta4</td><td>Kő Nikoletta</td><td>2016-06-29</td><td>2016-07-06</td><td>2</td><td>NULL</td></tr>",
                            "<tr><td>nikoletta4</td><td>Kő Nikoletta</td><td>2016-08-13</td><td>2016-08-17</td><td>3</td><td>NULL</td></tr>",
                            "<tr><td>nikoletta4</td><td>Kő Nikoletta</td><td>2016-12-08</td><td>2016-12-10</td><td>5</td><td>NULL</td></tr>",
                            "<tr><td>nikoletta4</td><td>Kő Nikoletta</td><td>2017-02-01</td><td>2017-02-04</td><td>2</td><td>NULL</td></tr>",
                            "<tr><td>NIKOLETTAT</td><td>Tatár Nikoletta</td><td>2016-05-22</td><td>2016-05-23</td><td>4</td><td>NULL</td></tr>",
                            "<tr><td>NIKOLETTAT</td><td>Tatár Nikoletta</td><td>2016-06-07</td><td>2016-06-09</td><td>2</td><td>NULL</td></tr>",
                            "<tr><td>NIKOLETTAT</td><td>Tatár Nikoletta</td><td>2016-07-27</td><td>2016-07-29</td><td>4</td><td>NULL</td></tr>",
                            "<tr><td>NIKOLETTAT</td><td>Tatár Nikoletta</td><td>2016-09-21</td><td>2016-09-26</td><td>2</td><td>NULL</td></tr>",
                            "<tr><td>norbert</td><td>Szűcs Norbert</td><td>2016-07-08</td><td>2016-07-13</td><td>1</td><td>NULL</td></tr>",
                            "<tr><td>norbert</td><td>Szűcs Norbert</td><td>2016-11-16</td><td>2016-11-23</td><td>3</td><td>NULL</td></tr>",
                            "<tr><td>norbert</td><td>Szűcs Norbert</td><td>2016-12-15</td><td>2016-12-18</td><td>2</td><td>NULL</td></tr>",
                            "<tr><td>norbert</td><td>Szűcs Norbert</td><td>2017-02-13</td><td>2017-02-15</td><td>3</td><td>NULL</td></tr>",
                            "<tr><td>norbert</td><td>Szűcs Norbert</td><td>2017-02-26</td><td>2017-03-01</td><td>1</td><td>NULL</td></tr>",
                            "<tr><td>norbert2</td><td>Hegedűs Norbert</td><td>2016-04-19</td><td>2016-04-26</td><td>1</td><td>NULL</td></tr>",
                            "<tr><td>norbert2</td><td>Hegedűs Norbert</td><td>2016-05-09</td><td>2016-05-10</td><td>2</td><td>NULL</td></tr>",
                            "<tr><td>norbert2</td><td>Hegedűs Norbert</td><td>2016-07-13</td><td>2016-07-15</td><td>3</td><td>NULL</td></tr>",
                            "<tr><td>norbert2</td><td>Hegedűs Norbert</td><td>2016-07-27</td><td>2016-08-02</td><td>2</td><td>NULL</td></tr>",
                            "<tr><td>norbert2</td><td>Hegedűs Norbert</td><td>2016-08-16</td><td>2016-08-19</td><td>1</td><td>NULL</td></tr>",
                            "<tr><td>norbert2</td><td>Hegedűs Norbert</td><td>2016-10-31</td><td>2016-11-07</td><td>2</td><td>NULL</td></tr>",
                            "<tr><td>norbert2</td><td>Hegedűs Norbert</td><td>2017-01-29</td><td>2017-02-05</td><td>3</td><td>NULL</td></tr>",
                            "<tr><td>norbert4</td><td>Mile Norbert</td><td>2016-04-10</td><td>2016-04-13</td><td>2</td><td>NULL</td></tr>",
                            "<tr><td>norbert4</td><td>Mile Norbert</td><td>2016-05-29</td><td>2016-06-03</td><td>3</td><td>NULL</td></tr>",
                            "<tr><td>norbert4</td><td>Mile Norbert</td><td>2016-06-16</td><td>2016-06-17</td><td>4</td><td>NULL</td></tr>",
                            "<tr><td>norbert4</td><td>Mile Norbert</td><td>2016-06-16</td><td>2016-06-21</td><td>3</td><td>4</td></tr>",
                            "<tr><td>norbert4</td><td>Mile Norbert</td><td>2016-10-05</td><td>2016-10-10</td><td>3</td><td>NULL</td></tr>",
                            "<tr><td>norbert4</td><td>Mile Norbert</td><td>2016-10-28</td><td>2016-10-31</td><td>3</td><td>NULL</td></tr>",
                            "<tr><td>norbert4</td><td>Mile Norbert</td><td>2016-11-30</td><td>2016-12-06</td><td>3</td><td>NULL</td></tr>",
                            "<tr><td>norbert4</td><td>Mile Norbert</td><td>2017-02-16</td><td>2017-02-17</td><td>1</td><td>NULL</td></tr>",
                            "<tr><td>norbert4</td><td>Mile Norbert</td><td>2017-03-03</td><td>2017-03-07</td><td>2</td><td>NULL</td></tr>",
                            "<tr><td>norbert5</td><td>Béres Norbert</td><td>2016-06-24</td><td>2016-06-28</td><td>2</td><td>NULL</td></tr>",
                            "<tr><td>norbert5</td><td>Béres Norbert</td><td>2016-08-10</td><td>2016-08-11</td><td>2</td><td>NULL</td></tr>",
                            "<tr><td>norbert5</td><td>Béres Norbert</td><td>2016-11-05</td><td>2016-11-07</td><td>1</td><td>NULL</td></tr>",
                            "<tr><td>pal</td><td>Barabás Pál</td><td>2016-08-14</td><td>2016-08-18</td><td>3</td><td>NULL</td></tr>",
                            "<tr><td>pal</td><td>Barabás Pál</td><td>2016-09-16</td><td>2016-09-19</td><td>2</td><td>NULL</td></tr>",
                            "<tr><td>pal</td><td>Barabás Pál</td><td>2016-12-17</td><td>2016-12-23</td><td>3</td><td>NULL</td></tr>",
                            "<tr><td>pal</td><td>Barabás Pál</td><td>2017-02-13</td><td>2017-02-19</td><td>3</td><td>NULL</td></tr>",
                            "<tr><td>pal</td><td>Barabás Pál</td><td>2017-02-20</td><td>2017-02-22</td><td>3</td><td>NULL</td></tr>",
                            "<tr><td>peter1</td><td>Kozma Péter</td><td>2016-07-14</td><td>2016-07-18</td><td>3</td><td>NULL</td></tr>",
                            "<tr><td>peter1</td><td>Kozma Péter</td><td>2016-10-26</td><td>2016-11-01</td><td>3</td><td>NULL</td></tr>",
                            "<tr><td>peter1</td><td>Kozma Péter</td><td>2017-02-23</td><td>2017-02-26</td><td>3</td><td>NULL</td></tr>",
                            "<tr><td>peter1</td><td>Kozma Péter</td><td>2017-02-28</td><td>2017-03-05</td><td>3</td><td>NULL</td></tr>",
                            "<tr><td>peter2</td><td>Bozsó Péter</td><td>2016-07-03</td><td>2016-07-08</td><td>2</td><td>NULL</td></tr>",
                            "<tr><td>peter2</td><td>Bozsó Péter</td><td>2016-10-10</td><td>2016-10-16</td><td>2</td><td>NULL</td></tr>",
                            "<tr><td>peter2</td><td>Bozsó Péter</td><td>2016-11-01</td><td>2016-11-02</td><td>2</td><td>NULL</td></tr>",
                            "<tr><td>peter2</td><td>Bozsó Péter</td><td>2016-11-15</td><td>2016-11-21</td><td>3</td><td>NULL</td></tr>",
                            "<tr><td>peter3</td><td>Szalai Péter</td><td>2016-06-30</td><td>2016-07-05</td><td>3</td><td>NULL</td></tr>",
                            "<tr><td>peter3</td><td>Szalai Péter</td><td>2016-07-27</td><td>2016-07-31</td><td>4</td><td>NULL</td></tr>",
                            "<tr><td>peter3</td><td>Szalai Péter</td><td>2016-10-30</td><td>2016-11-06</td><td>2</td><td>NULL</td></tr>",
                            "<tr><td>peter3</td><td>Szalai Péter</td><td>2016-12-25</td><td>2016-12-28</td><td>1</td><td>NULL</td></tr>",
                            "<tr><td>peter3</td><td>Szalai Péter</td><td>2017-01-12</td><td>2017-01-17</td><td>1</td><td>NULL</td></tr>",
                            "<tr><td>peter3</td><td>Szalai Péter</td><td>2017-02-21</td><td>2017-02-24</td><td>2</td><td>NULL</td></tr>",
                            "<tr><td>peter4</td><td>Bíró Péter</td><td>2016-04-12</td><td>2016-04-15</td><td>3</td><td>NULL</td></tr>",
                            "<tr><td>peter4</td><td>Bíró Péter</td><td>2016-08-06</td><td>2016-08-13</td><td>2</td><td>NULL</td></tr>",
                            "<tr><td>peter4</td><td>Bíró Péter</td><td>2016-08-24</td><td>2016-08-25</td><td>3</td><td>NULL</td></tr>",
                            "<tr><td>peter4</td><td>Bíró Péter</td><td>2016-09-11</td><td>2016-09-17</td><td>4</td><td>NULL</td></tr>",
                            "<tr><td>peter4</td><td>Bíró Péter</td><td>2016-09-25</td><td>2016-09-26</td><td>3</td><td>NULL</td></tr>",
                            "<tr><td>peter4</td><td>Bíró Péter</td><td>2016-09-30</td><td>2016-10-06</td><td>3</td><td>NULL</td></tr>",
                            "<tr><td>peter4</td><td>Bíró Péter</td><td>2016-10-09</td><td>2016-10-16</td><td>3</td><td>NULL</td></tr>",
                            "<tr><td>peter4</td><td>Bíró Péter</td><td>2016-10-24</td><td>2016-10-25</td><td>2</td><td>NULL</td></tr>",
                            "<tr><td>peter4</td><td>Bíró Péter</td><td>2016-10-30</td><td>2016-11-01</td><td>3</td><td>NULL</td></tr>",
                            "<tr><td>peter4</td><td>Bíró Péter</td><td>2016-11-10</td><td>2016-11-17</td><td>3</td><td>NULL</td></tr>",
                            "<tr><td>peter4</td><td>Bíró Péter</td><td>2016-11-25</td><td>2016-11-30</td><td>3</td><td>NULL</td></tr>",
                            "<tr><td>peter4</td><td>Bíró Péter</td><td>2017-02-05</td><td>2017-02-09</td><td>3</td><td>NULL</td></tr>",
                            "<tr><td>PETERB</td><td>Berendi Péter</td><td>2016-04-06</td><td>2016-04-10</td><td>1</td><td>NULL</td></tr>",
                            "<tr><td>PETERB</td><td>Berendi Péter</td><td>2016-07-20</td><td>2016-07-24</td><td>2</td><td>NULL</td></tr>",
                            "<tr><td>PETERB</td><td>Berendi Péter</td><td>2016-08-16</td><td>2016-08-23</td><td>1</td><td>NULL</td></tr>",
                            "<tr><td>PETERB</td><td>Berendi Péter</td><td>2016-10-19</td><td>2016-10-20</td><td>4</td><td>NULL</td></tr>",
                            "<tr><td>PETERB</td><td>Berendi Péter</td><td>2016-11-17</td><td>2016-11-20</td><td>2</td><td>NULL</td></tr>",
                            "<tr><td>polla</td><td>Palágyi Polla</td><td>2016-04-17</td><td>2016-04-22</td><td>3</td><td>NULL</td></tr>",
                            "<tr><td>polla</td><td>Palágyi Polla</td><td>2016-05-28</td><td>2016-06-04</td><td>2</td><td>NULL</td></tr>",
                            "<tr><td>polla</td><td>Palágyi Polla</td><td>2016-08-14</td><td>2016-08-17</td><td>2</td><td>NULL</td></tr>",
                            "<tr><td>polla</td><td>Palágyi Polla</td><td>2016-08-16</td><td>2016-08-19</td><td>4</td><td>NULL</td></tr>",
                            "<tr><td>polla</td><td>Palágyi Polla</td><td>2017-01-29</td><td>2017-02-01</td><td>2</td><td>NULL</td></tr>",
                            "<tr><td>polla</td><td>Palágyi Polla</td><td>2017-02-11</td><td>2017-02-16</td><td>2</td><td>NULL</td></tr>",
                            "<tr><td>rajmond4</td><td>Rácz Rajmond</td><td>2016-09-05</td><td>2016-09-07</td><td>3</td><td>NULL</td></tr>",
                            "<tr><td>rajmond4</td><td>Rácz Rajmond</td><td>2016-10-03</td><td>2016-10-04</td><td>3</td><td>NULL</td></tr>",
                            "<tr><td>rajmond4</td><td>Rácz Rajmond</td><td>2016-11-08</td><td>2016-11-09</td><td>4</td><td>NULL</td></tr>",
                            "<tr><td>rajmond4</td><td>Rácz Rajmond</td><td>2016-11-16</td><td>2016-11-20</td><td>2</td><td>NULL</td></tr>",
                            "<tr><td>reka4</td><td>Szikszai Réka</td><td>2016-07-27</td><td>2016-07-31</td><td>2</td><td>NULL</td></tr>",
                            "<tr><td>reka4</td><td>Szikszai Réka</td><td>2016-08-02</td><td>2016-08-04</td><td>4</td><td>NULL</td></tr>",
                            "<tr><td>reka4</td><td>Szikszai Réka</td><td>2016-09-05</td><td>2016-09-07</td><td>3</td><td>NULL</td></tr>",
                            "<tr><td>reka4</td><td>Szikszai Réka</td><td>2016-09-30</td><td>2016-10-06</td><td>2</td><td>NULL</td></tr>",
                            "<tr><td>reka4</td><td>Szikszai Réka</td><td>2017-02-26</td><td>2017-03-04</td><td>2</td><td>NULL</td></tr>",
                            "<tr><td>RENATAK</td><td>Kardos Renáta</td><td>2016-10-27</td><td>2016-10-29</td><td>4</td><td>NULL</td></tr>",
                            "<tr><td>RENATAK</td><td>Kardos Renáta</td><td>2016-10-30</td><td>2016-10-31</td><td>1</td><td>NULL</td></tr>",
                            "<tr><td>RENATAK</td><td>Kardos Renáta</td><td>2016-11-23</td><td>2016-11-26</td><td>1</td><td>NULL</td></tr>",
                            "<tr><td>RENATAK</td><td>Kardos Renáta</td><td>2017-01-23</td><td>2017-01-24</td><td>3</td><td>NULL</td></tr>",
                            "<tr><td>RENATAK</td><td>Kardos Renáta</td><td>2017-02-16</td><td>2017-02-23</td><td>1</td><td>NULL</td></tr>",
                            "<tr><td>RENATAK</td><td>Kardos Renáta</td><td>2017-03-01</td><td>2017-03-06</td><td>1</td><td>NULL</td></tr>",
                            "<tr><td>RENATAS</td><td>Szirmai Renáta</td><td>2016-05-04</td><td>2016-05-11</td><td>2</td><td>NULL</td></tr>",
                            "<tr><td>RENATAS</td><td>Szirmai Renáta</td><td>2016-05-11</td><td>2016-05-16</td><td>2</td><td>NULL</td></tr>",
                            "<tr><td>RENATAS</td><td>Szirmai Renáta</td><td>2016-06-24</td><td>2016-06-30</td><td>5</td><td>NULL</td></tr>",
                            "<tr><td>RENATAS</td><td>Szirmai Renáta</td><td>2017-02-13</td><td>2017-02-17</td><td>1</td><td>NULL</td></tr>",
                            "<tr><td>RENATAS</td><td>Szirmai Renáta</td><td>2017-02-14</td><td>2017-02-17</td><td>2</td><td>NULL</td></tr>",
                            "<tr><td>robert2</td><td>Patay Róbert</td><td>2016-05-15</td><td>2016-05-18</td><td>2</td><td>NULL</td></tr>",
                            "<tr><td>robert2</td><td>Patay Róbert</td><td>2016-08-20</td><td>2016-08-27</td><td>2</td><td>NULL</td></tr>",
                            "<tr><td>robert2</td><td>Patay Róbert</td><td>2016-10-23</td><td>2016-10-28</td><td>3</td><td>NULL</td></tr>",
                            "<tr><td>robert2</td><td>Patay Róbert</td><td>2016-12-17</td><td>2016-12-22</td><td>1</td><td>NULL</td></tr>",
                            "<tr><td>ROBERTI</td><td>Iván Róbert</td><td>2016-07-12</td><td>2016-07-19</td><td>4</td><td>NULL</td></tr>",
                            "<tr><td>ROBERTI</td><td>Iván Róbert</td><td>2016-08-16</td><td>2016-08-21</td><td>2</td><td>NULL</td></tr>",
                            "<tr><td>ROBERTI</td><td>Iván Róbert</td><td>2016-08-23</td><td>2016-08-25</td><td>2</td><td>NULL</td></tr>",
                            "<tr><td>ROBERTI</td><td>Iván Róbert</td><td>2016-10-08</td><td>2016-10-12</td><td>3</td><td>NULL</td></tr>",
                            "<tr><td>ROBERTI</td><td>Iván Róbert</td><td>2016-10-09</td><td>2016-10-10</td><td>2</td><td>NULL</td></tr>",
                            "<tr><td>ROBERTI</td><td>Iván Róbert</td><td>2016-10-23</td><td>2016-10-29</td><td>1</td><td>NULL</td></tr>",
                            "<tr><td>ROBERTI</td><td>Iván Róbert</td><td>2016-10-26</td><td>2016-11-01</td><td>2</td><td>NULL</td></tr>",
                            "<tr><td>ROBERTI</td><td>Iván Róbert</td><td>2017-02-17</td><td>2017-02-20</td><td>2</td><td>NULL</td></tr>",
                            "<tr><td>ROBERTP</td><td>Pásztor Róbert</td><td>2016-07-30</td><td>2016-08-05</td><td>2</td><td>NULL</td></tr>",
                            "<tr><td>ROBERTP</td><td>Pásztor Róbert</td><td>2016-09-08</td><td>2016-09-11</td><td>4</td><td>NULL</td></tr>",
                            "<tr><td>roland</td><td>Tóth Roland</td><td>2016-06-09</td><td>2016-06-13</td><td>3</td><td>NULL</td></tr>",
                            "<tr><td>roland</td><td>Tóth Roland</td><td>2016-06-22</td><td>2016-06-23</td><td>3</td><td>NULL</td></tr>",
                            "<tr><td>roland</td><td>Tóth Roland</td><td>2016-09-04</td><td>2016-09-05</td><td>2</td><td>NULL</td></tr>",
                            "<tr><td>roland</td><td>Tóth Roland</td><td>2016-11-19</td><td>2016-11-24</td><td>2</td><td>NULL</td></tr>",
                            "<tr><td>roland1</td><td>Ferencz Roland</td><td>2016-11-05</td><td>2016-11-07</td><td>3</td><td>NULL</td></tr>",
                            "<tr><td>roland1</td><td>Ferencz Roland</td><td>2016-12-22</td><td>2016-12-29</td><td>1</td><td>NULL</td></tr>",
                            "<tr><td>roland1</td><td>Ferencz Roland</td><td>2017-01-04</td><td>2017-01-08</td><td>3</td><td>NULL</td></tr>",
                            "<tr><td>roland1</td><td>Ferencz Roland</td><td>2017-01-16</td><td>2017-01-22</td><td>2</td><td>NULL</td></tr>",
                            "<tr><td>roza2</td><td>Bucskó Róza</td><td>2016-09-10</td><td>2016-09-13</td><td>2</td><td>NULL</td></tr>",
                            "<tr><td>roza2</td><td>Bucskó Róza</td><td>2017-01-11</td><td>2017-01-17</td><td>3</td><td>NULL</td></tr>",
                            "<tr><td>roza2</td><td>Bucskó Róza</td><td>2017-02-18</td><td>2017-02-21</td><td>3</td><td>NULL</td></tr>",
                            "<tr><td>sandor</td><td>Karasz Sándor</td><td>2016-07-04</td><td>2016-07-06</td><td>2</td><td>NULL</td></tr>",
                            "<tr><td>sandor</td><td>Karasz Sándor</td><td>2016-07-18</td><td>2016-07-24</td><td>2</td><td>NULL</td></tr>",
                            "<tr><td>sandor</td><td>Karasz Sándor</td><td>2016-08-20</td><td>2016-08-25</td><td>2</td><td>NULL</td></tr>",
                            "<tr><td>sandor</td><td>Karasz Sándor</td><td>2016-09-19</td><td>2016-09-26</td><td>4</td><td>NULL</td></tr>",
                            "<tr><td>sandor3</td><td>Farkas Sándor</td><td>2016-05-12</td><td>2016-05-15</td><td>2</td><td>NULL</td></tr>",
                            "<tr><td>sandor3</td><td>Farkas Sándor</td><td>2016-05-25</td><td>2016-05-30</td><td>1</td><td>NULL</td></tr>",
                            "<tr><td>sandor3</td><td>Farkas Sándor</td><td>2016-10-09</td><td>2016-10-14</td><td>2</td><td>NULL</td></tr>",
                            "<tr><td>sandor3</td><td>Farkas Sándor</td><td>2016-10-23</td><td>2016-10-29</td><td>3</td><td>NULL</td></tr>",
                            "<tr><td>sandor3</td><td>Farkas Sándor</td><td>2016-11-10</td><td>2016-11-11</td><td>2</td><td>NULL</td></tr>",
                            "<tr><td>sandor4</td><td>Nagy Sándor</td><td>2016-10-15</td><td>2016-10-18</td><td>1</td><td>NULL</td></tr>",
                            "<tr><td>sandor4</td><td>Nagy Sándor</td><td>2016-11-29</td><td>2016-12-03</td><td>2</td><td>NULL</td></tr>",
                            "<tr><td>sandor4</td><td>Nagy Sándor</td><td>2016-12-03</td><td>2016-12-09</td><td>1</td><td>NULL</td></tr>",
                            "<tr><td>sandor4</td><td>Nagy Sándor</td><td>2017-01-22</td><td>2017-01-26</td><td>2</td><td>NULL</td></tr>",
                            "<tr><td>sara</td><td>Farkas Sára</td><td>2016-05-28</td><td>2016-05-30</td><td>2</td><td>NULL</td></tr>",
                            "<tr><td>sara</td><td>Farkas Sára</td><td>2016-05-30</td><td>2016-05-31</td><td>2</td><td>NULL</td></tr>",
                            "<tr><td>sara</td><td>Farkas Sára</td><td>2016-06-06</td><td>2016-06-08</td><td>2</td><td>NULL</td></tr>",
                            "<tr><td>sara</td><td>Farkas Sára</td><td>2016-07-15</td><td>2016-07-17</td><td>3</td><td>NULL</td></tr>",
                            "<tr><td>sara</td><td>Farkas Sára</td><td>2016-07-24</td><td>2016-07-27</td><td>3</td><td>NULL</td></tr>",
                            "<tr><td>sara</td><td>Farkas Sára</td><td>2016-10-06</td><td>2016-10-12</td><td>3</td><td>NULL</td></tr>",
                            "<tr><td>sara</td><td>Farkas Sára</td><td>2016-10-11</td><td>2016-10-14</td><td>3</td><td>NULL</td></tr>",
                            "<tr><td>sara</td><td>Farkas Sára</td><td>2016-10-28</td><td>2016-11-03</td><td>2</td><td>NULL</td></tr>",
                            "<tr><td>sara</td><td>Farkas Sára</td><td>2016-11-18</td><td>2016-11-21</td><td>3</td><td>NULL</td></tr>",
                            "<tr><td>sara</td><td>Farkas Sára</td><td>2016-11-23</td><td>2016-11-30</td><td>4</td><td>NULL</td></tr>",
                            "<tr><td>sara</td><td>Farkas Sára</td><td>2016-12-06</td><td>2016-12-10</td><td>1</td><td>NULL</td></tr>",
                            "<tr><td>sara</td><td>Farkas Sára</td><td>2016-12-25</td><td>2016-12-30</td><td>2</td><td>NULL</td></tr>",
                            "<tr><td>SEBASTIANF</td><td>Foltényi Sebastián</td><td>2016-04-06</td><td>2016-04-12</td><td>2</td><td>NULL</td></tr>",
                            "<tr><td>SEBASTIANF</td><td>Foltényi Sebastián</td><td>2016-07-17</td><td>2016-07-21</td><td>2</td><td>NULL</td></tr>",
                            "<tr><td>SEBASTIANF</td><td>Foltényi Sebastián</td><td>2016-07-30</td><td>2016-08-06</td><td>4</td><td>NULL</td></tr>",
                            "<tr><td>SEBASTIANF</td><td>Foltényi Sebastián</td><td>2016-09-14</td><td>2016-09-15</td><td>3</td><td>NULL</td></tr>",
                            "<tr><td>SEBASTIANF</td><td>Foltényi Sebastián</td><td>2016-09-17</td><td>2016-09-20</td><td>3</td><td>NULL</td></tr>",
                            "<tr><td>sebestyen</td><td>Rab Sebestyén</td><td>2016-04-07</td><td>2016-04-12</td><td>4</td><td>NULL</td></tr>",
                            "<tr><td>sebestyen</td><td>Rab Sebestyén</td><td>2016-04-26</td><td>2016-05-02</td><td>4</td><td>NULL</td></tr>",
                            "<tr><td>sebestyen</td><td>Rab Sebestyén</td><td>2016-06-09</td><td>2016-06-14</td><td>4</td><td>NULL</td></tr>",
                            "<tr><td>sebestyen</td><td>Rab Sebestyén</td><td>2016-10-26</td><td>2016-11-01</td><td>5</td><td>NULL</td></tr>",
                            "<tr><td>szabolcs</td><td>Bodor Szabolcs</td><td>2016-12-05</td><td>2016-12-07</td><td>2</td><td>NULL</td></tr>",
                            "<tr><td>SZABOLCSM</td><td>Miklós Szabolcs</td><td>2016-06-18</td><td>2016-06-21</td><td>3</td><td>NULL</td></tr>",
                            "<tr><td>SZABOLCSM</td><td>Miklós Szabolcs</td><td>2016-07-28</td><td>2016-08-03</td><td>2</td><td>NULL</td></tr>",
                            "<tr><td>SZABOLCSM</td><td>Miklós Szabolcs</td><td>2016-10-17</td><td>2016-10-19</td><td>2</td><td>NULL</td></tr>",
                            "<tr><td>SZABOLCSM</td><td>Miklós Szabolcs</td><td>2016-10-28</td><td>2016-11-03</td><td>3</td><td>NULL</td></tr>",
                            "<tr><td>SZABOLCSM</td><td>Miklós Szabolcs</td><td>2016-11-12</td><td>2016-11-13</td><td>2</td><td>NULL</td></tr>",
                            "<tr><td>SZABOLCSM</td><td>Miklós Szabolcs</td><td>2017-01-07</td><td>2017-01-08</td><td>2</td><td>NULL</td></tr>",
                            "<tr><td>SZABOLCSM</td><td>Miklós Szabolcs</td><td>2017-02-04</td><td>2017-02-05</td><td>3</td><td>NULL</td></tr>",
                            "<tr><td>SZILARDS</td><td>Szalai Szilárd</td><td>2016-04-23</td><td>2016-04-30</td><td>3</td><td>NULL</td></tr>",
                            "<tr><td>SZILARDS</td><td>Szalai Szilárd</td><td>2016-07-27</td><td>2016-08-03</td><td>5</td><td>NULL</td></tr>",
                            "<tr><td>SZILARDS</td><td>Szalai Szilárd</td><td>2016-08-28</td><td>2016-08-29</td><td>4</td><td>NULL</td></tr>",
                            "<tr><td>SZILARDS</td><td>Szalai Szilárd</td><td>2016-09-20</td><td>2016-09-24</td><td>3</td><td>NULL</td></tr>",
                            "<tr><td>SZILARDS</td><td>Szalai Szilárd</td><td>2016-10-01</td><td>2016-10-08</td><td>3</td><td>NULL</td></tr>",
                            "<tr><td>SZILARDS</td><td>Szalai Szilárd</td><td>2017-01-16</td><td>2017-01-19</td><td>3</td><td>NULL</td></tr>",
                            "<tr><td>SZILARDS</td><td>Szalai Szilárd</td><td>2017-02-08</td><td>2017-02-15</td><td>1</td><td>NULL</td></tr>",
                            "<tr><td>szilvia1</td><td>Tari Szilvia</td><td>2016-05-14</td><td>2016-05-21</td><td>2</td><td>NULL</td></tr>",
                            "<tr><td>szilvia1</td><td>Tari Szilvia</td><td>2016-05-28</td><td>2016-06-03</td><td>2</td><td>NULL</td></tr>",
                            "<tr><td>szilvia1</td><td>Tari Szilvia</td><td>2016-07-25</td><td>2016-07-28</td><td>2</td><td>NULL</td></tr>",
                            "<tr><td>szilvia1</td><td>Tari Szilvia</td><td>2016-10-09</td><td>2016-10-10</td><td>3</td><td>NULL</td></tr>",
                            "<tr><td>szilvia1</td><td>Tari Szilvia</td><td>2016-10-25</td><td>2016-10-31</td><td>3</td><td>NULL</td></tr>",
                            "<tr><td>szilvia1</td><td>Tari Szilvia</td><td>2016-10-27</td><td>2016-10-28</td><td>2</td><td>NULL</td></tr>",
                            "<tr><td>szilvia1</td><td>Tari Szilvia</td><td>2016-12-25</td><td>2016-12-29</td><td>5</td><td>NULL</td></tr>",
                            "<tr><td>szilvia1</td><td>Tari Szilvia</td><td>2016-12-27</td><td>2017-01-02</td><td>2</td><td>NULL</td></tr>",
                            "<tr><td>szilvia1</td><td>Tari Szilvia</td><td>2017-01-28</td><td>2017-02-03</td><td>2</td><td>NULL</td></tr>",
                            "<tr><td>tamara2</td><td>Miklós Tamara</td><td>2016-08-12</td><td>2016-08-15</td><td>3</td><td>NULL</td></tr>",
                            "<tr><td>tamara2</td><td>Miklós Tamara</td><td>2016-11-15</td><td>2016-11-18</td><td>2</td><td>NULL</td></tr>",
                            "<tr><td>tamas</td><td>Antal Tamás</td><td>2016-05-17</td><td>2016-05-22</td><td>2</td><td>NULL</td></tr>",
                            "<tr><td>tamas</td><td>Antal Tamás</td><td>2016-06-14</td><td>2016-06-21</td><td>2</td><td>NULL</td></tr>",
                            "<tr><td>tamas</td><td>Antal Tamás</td><td>2016-08-24</td><td>2016-08-27</td><td>3</td><td>NULL</td></tr>",
                            "<tr><td>tamas</td><td>Antal Tamás</td><td>2017-02-14</td><td>2017-02-19</td><td>3</td><td>NULL</td></tr>",
                            "<tr><td>TAMASF</td><td>Fényes Tamás</td><td>2016-05-03</td><td>2016-05-04</td><td>2</td><td>NULL</td></tr>",
                            "<tr><td>TAMASF</td><td>Fényes Tamás</td><td>2016-06-10</td><td>2016-06-13</td><td>3</td><td>NULL</td></tr>",
                            "<tr><td>TAMASF</td><td>Fényes Tamás</td><td>2016-06-28</td><td>2016-07-05</td><td>3</td><td>NULL</td></tr>",
                            "<tr><td>TAMASF</td><td>Fényes Tamás</td><td>2016-07-04</td><td>2016-07-10</td><td>2</td><td>NULL</td></tr>",
                            "<tr><td>TAMASF</td><td>Fényes Tamás</td><td>2016-09-12</td><td>2016-09-18</td><td>3</td><td>NULL</td></tr>",
                            "<tr><td>TAMASF</td><td>Fényes Tamás</td><td>2016-12-02</td><td>2016-12-04</td><td>1</td><td>NULL</td></tr>",
                            "<tr><td>TAMASF</td><td>Fényes Tamás</td><td>2016-12-10</td><td>2016-12-14</td><td>3</td><td>NULL</td></tr>",
                            "<tr><td>TAMASF</td><td>Fényes Tamás</td><td>2017-02-12</td><td>2017-02-17</td><td>2</td><td>NULL</td></tr>",
                            "<tr><td>TAMASF</td><td>Fényes Tamás</td><td>2017-02-16</td><td>2017-02-19</td><td>4</td><td>NULL</td></tr>",
                            "<tr><td>tibor</td><td>Gombos Tibor</td><td>2016-10-09</td><td>2016-10-13</td><td>2</td><td>NULL</td></tr>",
                            "<tr><td>tibor</td><td>Gombos Tibor</td><td>2016-11-05</td><td>2016-11-09</td><td>1</td><td>NULL</td></tr>",
                            "<tr><td>tibor2</td><td>Dániel Tibor</td><td>2016-10-20</td><td>2016-10-25</td><td>2</td><td>NULL</td></tr>",
                            "<tr><td>tihamer</td><td>Kazy Tihamér</td><td>2016-05-30</td><td>2016-06-05</td><td>1</td><td>NULL</td></tr>",
                            "<tr><td>tihamer</td><td>Kazy Tihamér</td><td>2016-06-03</td><td>2016-06-08</td><td>5</td><td>NULL</td></tr>",
                            "<tr><td>tihamer</td><td>Kazy Tihamér</td><td>2016-07-20</td><td>2016-07-24</td><td>3</td><td>NULL</td></tr>",
                            "<tr><td>tihamer</td><td>Kazy Tihamér</td><td>2016-08-18</td><td>2016-08-22</td><td>3</td><td>NULL</td></tr>",
                            "<tr><td>tihamer</td><td>Kazy Tihamér</td><td>2016-10-19</td><td>2016-10-23</td><td>2</td><td>NULL</td></tr>",
                            "<tr><td>tihamer</td><td>Kazy Tihamér</td><td>2016-12-25</td><td>2016-12-26</td><td>2</td><td>NULL</td></tr>",
                            "<tr><td>timea</td><td>Papós Tímea</td><td>2016-12-26</td><td>2016-12-27</td><td>2</td><td>NULL</td></tr>",
                            "<tr><td>timea2</td><td>Dusha Tímea</td><td>2016-06-06</td><td>2016-06-07</td><td>2</td><td>NULL</td></tr>",
                            "<tr><td>timea2</td><td>Dusha Tímea</td><td>2016-08-07</td><td>2016-08-10</td><td>3</td><td>NULL</td></tr>",
                            "<tr><td>timea2</td><td>Dusha Tímea</td><td>2016-10-26</td><td>2016-10-29</td><td>3</td><td>NULL</td></tr>",
                            "<tr><td>timea2</td><td>Dusha Tímea</td><td>2016-11-27</td><td>2016-12-01</td><td>4</td><td>NULL</td></tr>",
                            "<tr><td>timea2</td><td>Dusha Tímea</td><td>2016-12-14</td><td>2016-12-16</td><td>4</td><td>NULL</td></tr>",
                            "<tr><td>tunde</td><td>Turcsik Tünde</td><td>2016-06-03</td><td>2016-06-07</td><td>3</td><td>NULL</td></tr>",
                            "<tr><td>tunde</td><td>Turcsik Tünde</td><td>2016-06-06</td><td>2016-06-12</td><td>3</td><td>NULL</td></tr>",
                            "<tr><td>tunde</td><td>Turcsik Tünde</td><td>2016-07-14</td><td>2016-07-21</td><td>1</td><td>NULL</td></tr>",
                            "<tr><td>tunde</td><td>Turcsik Tünde</td><td>2016-09-05</td><td>2016-09-12</td><td>2</td><td>NULL</td></tr>",
                            "<tr><td>tunde</td><td>Turcsik Tünde</td><td>2016-10-24</td><td>2016-10-30</td><td>3</td><td>NULL</td></tr>",
                            "<tr><td>tunde</td><td>Turcsik Tünde</td><td>2016-11-19</td><td>2016-11-20</td><td>3</td><td>NULL</td></tr>",
                            "<tr><td>tunde</td><td>Turcsik Tünde</td><td>2016-12-15</td><td>2016-12-20</td><td>3</td><td>NULL</td></tr>",
                            "<tr><td>tunde</td><td>Turcsik Tünde</td><td>2017-01-03</td><td>2017-01-06</td><td>5</td><td>NULL</td></tr>",
                            "<tr><td>valentin</td><td>Feró Valentin</td><td>2016-05-24</td><td>2016-05-30</td><td>4</td><td>NULL</td></tr>",
                            "<tr><td>valentin</td><td>Feró Valentin</td><td>2016-07-24</td><td>2016-07-29</td><td>1</td><td>NULL</td></tr>",
                            "<tr><td>valentin</td><td>Feró Valentin</td><td>2016-10-26</td><td>2016-10-30</td><td>3</td><td>NULL</td></tr>",
                            "<tr><td>valentin</td><td>Feró Valentin</td><td>2016-11-11</td><td>2016-11-17</td><td>3</td><td>NULL</td></tr>",
                            "<tr><td>valentin</td><td>Feró Valentin</td><td>2016-12-01</td><td>2016-12-05</td><td>3</td><td>NULL</td></tr>",
                            "<tr><td>veronika4</td><td>Tankó Veronika</td><td>2016-05-30</td><td>2016-06-04</td><td>2</td><td>NULL</td></tr>",
                            "<tr><td>veronika4</td><td>Tankó Veronika</td><td>2016-07-20</td><td>2016-07-26</td><td>3</td><td>NULL</td></tr>",
                            "<tr><td>veronika4</td><td>Tankó Veronika</td><td>2016-08-16</td><td>2016-08-21</td><td>1</td><td>NULL</td></tr>",
                            "<tr><td>veronika4</td><td>Tankó Veronika</td><td>2016-09-26</td><td>2016-10-03</td><td>2</td><td>NULL</td></tr>",
                            "<tr><td>veronika4</td><td>Tankó Veronika</td><td>2017-01-19</td><td>2017-01-24</td><td>3</td><td>NULL</td></tr>",
                            "<tr><td>veronika4</td><td>Tankó Veronika</td><td>2017-02-03</td><td>2017-02-05</td><td>2</td><td>NULL</td></tr>",
                            "<tr><td>VIKTORIAU</td><td>Urbán Viktoria</td><td>2016-04-30</td><td>2016-05-03</td><td>1</td><td>NULL</td></tr>",
                            "<tr><td>VIKTORIAU</td><td>Urbán Viktoria</td><td>2016-08-03</td><td>2016-08-04</td><td>2</td><td>NULL</td></tr>",
                            "<tr><td>VIKTORIAU</td><td>Urbán Viktoria</td><td>2016-10-14</td><td>2016-10-15</td><td>3</td><td>NULL</td></tr>",
                            "<tr><td>VIKTORIAU</td><td>Urbán Viktoria</td><td>2016-10-26</td><td>2016-11-02</td><td>4</td><td>NULL</td></tr>",
                            "<tr><td>VIKTORK</td><td>Keresztúri Viktor</td><td>2016-05-30</td><td>2016-06-01</td><td>2</td><td>NULL</td></tr>",
                            "<tr><td>VIKTORK</td><td>Keresztúri Viktor</td><td>2016-06-06</td><td>2016-06-07</td><td>4</td><td>NULL</td></tr>",
                            "<tr><td>vivien3</td><td>Boros Vivien</td><td>2016-05-02</td><td>2016-05-05</td><td>3</td><td>NULL</td></tr>",
                            "<tr><td>vivien3</td><td>Boros Vivien</td><td>2016-08-13</td><td>2016-08-18</td><td>2</td><td>NULL</td></tr>",
                            "<tr><td>vivien3</td><td>Boros Vivien</td><td>2016-09-01</td><td>2016-09-05</td><td>2</td><td>NULL</td></tr>",
                            "<tr><td>vivien3</td><td>Boros Vivien</td><td>2016-10-01</td><td>2016-10-04</td><td>1</td><td>NULL</td></tr>",
                            "<tr><td>vivien3</td><td>Boros Vivien</td><td>2016-11-17</td><td>2016-11-20</td><td>2</td><td>NULL</td></tr>",
                            "<tr><td>vivien3</td><td>Boros Vivien</td><td>2016-12-17</td><td>2016-12-21</td><td>2</td><td>NULL</td></tr>",
                            "<tr><td>vivien3</td><td>Boros Vivien</td><td>2016-12-24</td><td>2016-12-26</td><td>3</td><td>NULL</td></tr>",
                            "<tr><td>zoltan</td><td>Fodor Zoltán</td><td>2016-08-24</td><td>2016-08-31</td><td>2</td><td>NULL</td></tr>",
                            "<tr><td>zoltan</td><td>Fodor Zoltán</td><td>2016-09-05</td><td>2016-09-09</td><td>3</td><td>NULL</td></tr>",
                            "<tr><td>zoltan4</td><td>Barna Zoltán</td><td>2016-05-12</td><td>2016-05-16</td><td>3</td><td>NULL</td></tr>",
                            "<tr><td>zoltan4</td><td>Barna Zoltán</td><td>2016-05-13</td><td>2016-05-16</td><td>3</td><td>NULL</td></tr>",
                            "<tr><td>zoltan4</td><td>Barna Zoltán</td><td>2016-06-03</td><td>2016-06-06</td><td>1</td><td>NULL</td></tr>",
                            "<tr><td>zoltan4</td><td>Barna Zoltán</td><td>2016-08-15</td><td>2016-08-21</td><td>1</td><td>NULL</td></tr>",
                            "<tr><td>zoltan4</td><td>Barna Zoltán</td><td>2016-08-16</td><td>2016-08-23</td><td>2</td><td>NULL</td></tr>",
                            "<tr><td>zoltan4</td><td>Barna Zoltán</td><td>2016-09-30</td><td>2016-10-07</td><td>3</td><td>NULL</td></tr>",
                            "<tr><td>zoltan4</td><td>Barna Zoltán</td><td>2016-10-21</td><td>2016-10-24</td><td>5</td><td>NULL</td></tr>",
                            "<tr><td>zoltan4</td><td>Barna Zoltán</td><td>2016-10-26</td><td>2016-10-30</td><td>2</td><td>NULL</td></tr>",
                            "<tr><td>zoltan4</td><td>Barna Zoltán</td><td>2016-10-30</td><td>2016-11-06</td><td>1</td><td>NULL</td></tr>",
                            "<tr><td>zoltan4</td><td>Barna Zoltán</td><td>2016-11-19</td><td>2016-11-21</td><td>2</td><td>NULL</td></tr>",
                            "<tr><td>zoltan4</td><td>Barna Zoltán</td><td>2016-12-29</td><td>2017-01-04</td><td>1</td><td>NULL</td></tr>",
                            "<tr><td>zoltan4</td><td>Barna Zoltán</td><td>2017-01-01</td><td>2017-01-02</td><td>3</td><td>NULL</td></tr>",
                            "<tr><td>ZOLTANP</td><td>Pintér Zoltán</td><td>2016-06-05</td><td>2016-06-08</td><td>2</td><td>NULL</td></tr>",
                            "<tr><td>ZOLTANP</td><td>Pintér Zoltán</td><td>2016-06-06</td><td>2016-06-08</td><td>2</td><td>NULL</td></tr>",
                            "<tr><td>ZOLTANP</td><td>Pintér Zoltán</td><td>2016-07-20</td><td>2016-07-25</td><td>3</td><td>NULL</td></tr>",
                            "<tr><td>ZOLTANP</td><td>Pintér Zoltán</td><td>2016-10-19</td><td>2016-10-25</td><td>2</td><td>NULL</td></tr>",
                            "<tr><td>ZOLTANP</td><td>Pintér Zoltán</td><td>2016-12-07</td><td>2016-12-10</td><td>3</td><td>NULL</td></tr>",
                            "<tr><td>ZOLTANP</td><td>Pintér Zoltán</td><td>2016-12-25</td><td>2016-12-29</td><td>2</td><td>NULL</td></tr>",
                            "<tr><td>ZOLTANT</td><td>Tóth Zoltán</td><td>2016-05-01</td><td>2016-05-04</td><td>3</td><td>NULL</td></tr>",
                            "<tr><td>ZOLTANT</td><td>Tóth Zoltán</td><td>2016-07-14</td><td>2016-07-15</td><td>3</td><td>NULL</td></tr>",
                            "<tr><td>ZOLTANT</td><td>Tóth Zoltán</td><td>2017-01-16</td><td>2017-01-20</td><td>2</td><td>NULL</td></tr>",
                            "<tr><td>zsofi1</td><td>Molnár Zsófi</td><td>2016-06-16</td><td>2016-06-17</td><td>2</td><td>NULL</td></tr>",
                            "<tr><td>zsofi1</td><td>Molnár Zsófi</td><td>2017-02-18</td><td>2017-02-19</td><td>3</td><td>NULL</td></tr>",
                            "<tr><td>zsolt1</td><td>Pulai Zsolt</td><td>2016-04-14</td><td>2016-04-17</td><td>2</td><td>NULL</td></tr>",
                            "<tr><td>zsolt1</td><td>Pulai Zsolt</td><td>2016-06-06</td><td>2016-06-08</td><td>2</td><td>NULL</td></tr>",
                            "<tr><td>zsolt1</td><td>Pulai Zsolt</td><td>2016-06-07</td><td>2016-06-10</td><td>4</td><td>NULL</td></tr>",
                            "<tr><td>zsolt1</td><td>Pulai Zsolt</td><td>2016-07-31</td><td>2016-08-02</td><td>2</td><td>NULL</td></tr>",
                            "<tr><td>ZSOLTJ</td><td>Józsa Zsolt</td><td>2016-04-24</td><td>2016-04-26</td><td>4</td><td>NULL</td></tr>",
                            "<tr><td>ZSOLTJ</td><td>Józsa Zsolt</td><td>2016-05-09</td><td>2016-05-11</td><td>2</td><td>NULL</td></tr>",
                            "<tr><td>ZSOLTJ</td><td>Józsa Zsolt</td><td>2016-05-28</td><td>2016-06-03</td><td>1</td><td>NULL</td></tr>",
                            "<tr><td>ZSOLTJ</td><td>Józsa Zsolt</td><td>2016-06-17</td><td>2016-06-19</td><td>2</td><td>NULL</td></tr>",
                            "<tr><td>ZSOLTJ</td><td>Józsa Zsolt</td><td>2016-07-18</td><td>2016-07-19</td><td>2</td><td>NULL</td></tr>",
                            "<tr><td>ZSOLTJ</td><td>Józsa Zsolt</td><td>2016-10-01</td><td>2016-10-06</td><td>2</td><td>NULL</td></tr>",
                            "<tr><td>zsuzsa</td><td>Pusztai Zsuzsanna</td><td>2016-07-24</td><td>2016-07-25</td><td>3</td><td>NULL</td></tr>",
                            "<tr><td>zsuzsa</td><td>Pusztai Zsuzsanna</td><td>2016-08-28</td><td>2016-08-30</td><td>2</td><td>NULL</td></tr>",
                            "<tr><td>zsuzsa</td><td>Pusztai Zsuzsanna</td><td>2016-11-28</td><td>2016-12-04</td><td>3</td><td>NULL</td></tr>",
                            "<tr><td>zsuzsa3</td><td>Varsányi Zsuzsa</td><td>2016-07-30</td><td>2016-08-02</td><td>2</td><td>NULL</td></tr>",
                            "<tr><td>zsuzsa3</td><td>Varsányi Zsuzsa</td><td>2016-09-09</td><td>2016-09-10</td><td>2</td><td>NULL</td></tr>",
                            "<tr><td>zsuzsa3</td><td>Varsányi Zsuzsa</td><td>2016-09-28</td><td>2016-10-03</td><td>2</td><td>NULL</td></tr>",
                            "<tr><td>zsuzsa3</td><td>Varsányi Zsuzsa</td><td>2016-10-27</td><td>2016-11-03</td><td>4</td><td>NULL</td></tr>",
                            "<tr><td>zsuzsanna</td><td>Barta Zsuzsanna</td><td>2016-05-17</td><td>2016-05-23</td><td>2</td><td>NULL</td></tr>",
                            "<tr><td>zsuzsanna</td><td>Barta Zsuzsanna</td><td>2016-07-12</td><td>2016-07-15</td><td>2</td><td>NULL</td></tr>",
                            "<tr><td>zsuzsanna</td><td>Barta Zsuzsanna</td><td>2017-01-09</td><td>2017-01-16</td><td>1</td><td>NULL</td></tr>",
                            "<tr><td>zsuzsanna</td><td>Barta Zsuzsanna</td><td>2017-01-16</td><td>2017-01-22</td><td>2</td><td>NULL</td></tr>",
                            "<tr><td>ZSUZSAV</td><td>Vajda Zsuzsa</td><td>2016-04-14</td><td>2016-04-16</td><td>2</td><td>NULL</td></tr>",
                            "<tr><td>ZSUZSAV</td><td>Vajda Zsuzsa</td><td>2016-05-28</td><td>2016-06-01</td><td>4</td><td>NULL</td></tr>",
                            "<tr><td>ZSUZSAV</td><td>Vajda Zsuzsa</td><td>2016-06-15</td><td>2016-06-21</td><td>3</td><td>NULL</td></tr>",
                            "<tr><td>ZSUZSAV</td><td>Vajda Zsuzsa</td><td>2016-09-18</td><td>2016-09-20</td><td>2</td><td>NULL</td></tr>",
                            "<tr><td>ZSUZSAV</td><td>Vajda Zsuzsa</td><td>2016-10-26</td><td>2016-10-28</td><td>1</td><td>NULL</td></tr>",
                            "<tr><td>ZSUZSAV</td><td>Vajda Zsuzsa</td><td>2016-11-21</td><td>2016-11-24</td><td>3</td><td>NULL</td></tr>",
                            "</table>"
                        ]
                    }
                }
            ],
            "execution_count": 32
        },
        {
            "cell_type": "code",
            "source": [
                "Alakítsa át a melléklet 1. pontjában lévő lekérdezést úgy, hogy JOIN helyett CROSS APPLY-t alkalmaz!\r\n",
                "a. Válaszként adja meg az átalakított lekérdezés kódját!"
            ],
            "metadata": {
                "language": "sql",
                "azdata_cell_guid": "6b1f92aa-9733-4a82-a5f1-dda781bfa4fe"
            },
            "outputs": [],
            "execution_count": null
        },
        {
            "cell_type": "code",
            "source": [
                "SELECT rt.TERMEKKOD, AVG(rt.EGYSEGAR)\r\n",
                " AS 'átlagos ár' from Rendeles_tetel rt CROSS APPLY (select * from Rendeles r where rt.SORSZAM=r.SORSZAM)r GROUP BY rt.TERMEKKOD"
            ],
            "metadata": {
                "language": "sql",
                "azdata_cell_guid": "7c34d665-d314-4579-870b-050e1bde3362"
            },
            "outputs": [
                {
                    "output_type": "display_data",
                    "data": {
                        "text/html": "Warning: Null value is eliminated by an aggregate or other SET operation."
                    },
                    "metadata": {}
                },
                {
                    "output_type": "display_data",
                    "data": {
                        "text/html": "(548 rows affected)"
                    },
                    "metadata": {}
                },
                {
                    "output_type": "display_data",
                    "data": {
                        "text/html": "Total execution time: 00:00:00.351"
                    },
                    "metadata": {}
                },
                {
                    "output_type": "execute_result",
                    "metadata": {},
                    "execution_count": 33,
                    "data": {
                        "application/vnd.dataresource+json": {
                            "schema": {
                                "fields": [
                                    {
                                        "name": "TERMEKKOD"
                                    },
                                    {
                                        "name": "átlagos ár"
                                    }
                                ]
                            },
                            "data": [
                                {
                                    "TERMEKKOD": "07040169T",
                                    "átlagos ár": "91,5136186770428"
                                },
                                {
                                    "TERMEKKOD": "07040165T",
                                    "átlagos ár": "210,9277566539924"
                                },
                                {
                                    "TERMEKKOD": "06080407T",
                                    "átlagos ár": "239,92578125"
                                },
                                {
                                    "TERMEKKOD": "01030092T",
                                    "átlagos ár": "57,08791208791209"
                                },
                                {
                                    "TERMEKKOD": "04050024T",
                                    "átlagos ár": "139,04803493449782"
                                },
                                {
                                    "TERMEKKOD": "04050171T",
                                    "átlagos ár": "106,868"
                                },
                                {
                                    "TERMEKKOD": "07080152T",
                                    "átlagos ár": "988,7209302325581"
                                },
                                {
                                    "TERMEKKOD": "G064-CI401",
                                    "átlagos ár": "6679,732905982906"
                                },
                                {
                                    "TERMEKKOD": "06040248T",
                                    "átlagos ár": "235,79715302491104"
                                },
                                {
                                    "TERMEKKOD": "06080332T",
                                    "átlagos ár": "71,62608695652175"
                                },
                                {
                                    "TERMEKKOD": "04050358T",
                                    "átlagos ár": "344,2142857142857"
                                },
                                {
                                    "TERMEKKOD": "01100070T",
                                    "átlagos ár": "70,37184115523466"
                                },
                                {
                                    "TERMEKKOD": "02020037T",
                                    "átlagos ár": "139,28205128205127"
                                },
                                {
                                    "TERMEKKOD": "06040323T",
                                    "átlagos ár": "34,52238805970149"
                                },
                                {
                                    "TERMEKKOD": "06080118T",
                                    "átlagos ár": "7,6929460580912865"
                                },
                                {
                                    "TERMEKKOD": "03080011T",
                                    "átlagos ár": "143,87313432835822"
                                },
                                {
                                    "TERMEKKOD": "06010377T",
                                    "átlagos ár": "7,63677130044843"
                                },
                                {
                                    "TERMEKKOD": "07080159T",
                                    "átlagos ár": "60,968503937007874"
                                },
                                {
                                    "TERMEKKOD": "06040247T",
                                    "átlagos ár": "28,970479704797047"
                                },
                                {
                                    "TERMEKKOD": "02020033T",
                                    "átlagos ár": "318,4135338345865"
                                },
                                {
                                    "TERMEKKOD": "02040298T",
                                    "átlagos ár": "42,49612403100775"
                                },
                                {
                                    "TERMEKKOD": "06080190T",
                                    "átlagos ár": "21,988095238095237"
                                },
                                {
                                    "TERMEKKOD": "05010027T",
                                    "átlagos ár": "207,20158102766797"
                                },
                                {
                                    "TERMEKKOD": "08070492T",
                                    "átlagos ár": "711,6109090909091"
                                },
                                {
                                    "TERMEKKOD": "07040129T",
                                    "átlagos ár": "28,937956204379564"
                                },
                                {
                                    "TERMEKKOD": "04110067T",
                                    "átlagos ár": "29,95"
                                },
                                {
                                    "TERMEKKOD": "04110278T",
                                    "átlagos ár": "155,79007633587787"
                                },
                                {
                                    "TERMEKKOD": "06040350T",
                                    "átlagos ár": "247,3230769230769"
                                },
                                {
                                    "TERMEKKOD": "04110280T",
                                    "átlagos ár": "143,04615384615386"
                                },
                                {
                                    "TERMEKKOD": "02080432T",
                                    "átlagos ár": "250,34117647058824"
                                },
                                {
                                    "TERMEKKOD": "07050464T",
                                    "átlagos ár": "135,85887096774192"
                                },
                                {
                                    "TERMEKKOD": "07080156T",
                                    "átlagos ár": "21,970149253731343"
                                },
                                {
                                    "TERMEKKOD": "02040208T",
                                    "átlagos ár": "18,275590551181104"
                                },
                                {
                                    "TERMEKKOD": "01020299T",
                                    "átlagos ár": "46,340080971659916"
                                },
                                {
                                    "TERMEKKOD": "08070481T",
                                    "átlagos ár": "192,04562737642587"
                                },
                                {
                                    "TERMEKKOD": "02040211T",
                                    "átlagos ár": "235,04182509505702"
                                },
                                {
                                    "TERMEKKOD": "06040392T",
                                    "átlagos ár": "699,3219696969697"
                                },
                                {
                                    "TERMEKKOD": "06080337T",
                                    "átlagos ár": "283,23846153846154"
                                },
                                {
                                    "TERMEKKOD": "N001-KB101",
                                    "átlagos ár": "23248,893203883494"
                                },
                                {
                                    "TERMEKKOD": "07080319T",
                                    "átlagos ár": "288,6069868995633"
                                },
                                {
                                    "TERMEKKOD": "06040355T",
                                    "átlagos ár": "150,3941908713693"
                                },
                                {
                                    "TERMEKKOD": "03010342T",
                                    "átlagos ár": "14,281481481481482"
                                },
                                {
                                    "TERMEKKOD": "07040168T",
                                    "átlagos ár": "182,97909407665506"
                                },
                                {
                                    "TERMEKKOD": "06050249T",
                                    "átlagos ár": "70,45991561181435"
                                },
                                {
                                    "TERMEKKOD": "04020445T",
                                    "átlagos ár": "701,5177865612649"
                                },
                                {
                                    "TERMEKKOD": "N035-AL218",
                                    "átlagos ár": "37704,19693654267"
                                },
                                {
                                    "TERMEKKOD": "02050460T",
                                    "átlagos ár": "14,290566037735848"
                                },
                                {
                                    "TERMEKKOD": "07010244T",
                                    "átlagos ár": "71,61363636363636"
                                },
                                {
                                    "TERMEKKOD": "02080449T",
                                    "átlagos ár": "99,80933852140078"
                                },
                                {
                                    "TERMEKKOD": "06080408T",
                                    "átlagos ár": "202,24"
                                },
                                {
                                    "TERMEKKOD": "06080422T",
                                    "átlagos ár": "314,14760147601476"
                                },
                                {
                                    "TERMEKKOD": "05050045T",
                                    "átlagos ár": "44,29596412556054"
                                },
                                {
                                    "TERMEKKOD": "04050320T",
                                    "átlagos ár": "167,57039711191337"
                                },
                                {
                                    "TERMEKKOD": "06040395T",
                                    "átlagos ár": "703,6612244897959"
                                },
                                {
                                    "TERMEKKOD": "01100094T",
                                    "átlagos ár": "817,4391143911439"
                                },
                                {
                                    "TERMEKKOD": "06010113T",
                                    "átlagos ár": "32,59288537549407"
                                },
                                {
                                    "TERMEKKOD": "06040172T",
                                    "átlagos ár": "189,3658536585366"
                                },
                                {
                                    "TERMEKKOD": "03080009T",
                                    "átlagos ár": "143,75451263537906"
                                },
                                {
                                    "TERMEKKOD": "06010115T",
                                    "átlagos ár": "46,18867924528302"
                                },
                                {
                                    "TERMEKKOD": "01100095T",
                                    "átlagos ár": "705,7581967213115"
                                },
                                {
                                    "TERMEKKOD": "02040207T",
                                    "átlagos ár": "18,288537549407113"
                                },
                                {
                                    "TERMEKKOD": "07040128T",
                                    "átlagos ár": "53,142361111111114"
                                },
                                {
                                    "TERMEKKOD": "07040047T",
                                    "átlagos ár": "37,69527896995708"
                                },
                                {
                                    "TERMEKKOD": "06040393T",
                                    "átlagos ár": "741,8363636363637"
                                },
                                {
                                    "TERMEKKOD": "08070488T",
                                    "átlagos ár": "389,7548638132296"
                                },
                                {
                                    "TERMEKKOD": "07010141T",
                                    "átlagos ár": "14,32295719844358"
                                },
                                {
                                    "TERMEKKOD": "06040351T",
                                    "átlagos ár": "196,22426470588235"
                                },
                                {
                                    "TERMEKKOD": "02040406T",
                                    "átlagos ár": "32,63076923076923"
                                },
                                {
                                    "TERMEKKOD": "06080126T",
                                    "átlagos ár": "196,1037037037037"
                                },
                                {
                                    "TERMEKKOD": "03080016T",
                                    "átlagos ár": "106,12403100775194"
                                },
                                {
                                    "TERMEKKOD": "07010371T",
                                    "átlagos ár": "96,21428571428571"
                                },
                                {
                                    "TERMEKKOD": "08070489T",
                                    "átlagos ár": "843,981684981685"
                                },
                                {
                                    "TERMEKKOD": "02040209T",
                                    "átlagos ár": "42,63529411764706"
                                },
                                {
                                    "TERMEKKOD": "L013-NA201",
                                    "átlagos ár": "4812,352570828961"
                                },
                                {
                                    "TERMEKKOD": "06080191T",
                                    "átlagos ár": "28,894117647058824"
                                },
                                {
                                    "TERMEKKOD": "02080435T",
                                    "átlagos ár": "178,04330708661416"
                                },
                                {
                                    "TERMEKKOD": "08070476T",
                                    "átlagos ár": "284,49027237354085"
                                },
                                {
                                    "TERMEKKOD": "06080415T",
                                    "átlagos ár": "28,853658536585368"
                                },
                                {
                                    "TERMEKKOD": "06050303T",
                                    "átlagos ár": "155,87179487179486"
                                },
                                {
                                    "TERMEKKOD": "03050078T",
                                    "átlagos ár": "14,36036036036036"
                                },
                                {
                                    "TERMEKKOD": "06040182T",
                                    "átlagos ár": "178,45982142857142"
                                },
                                {
                                    "TERMEKKOD": "05040310T",
                                    "átlagos ár": "99,7579908675799"
                                },
                                {
                                    "TERMEKKOD": "06080120T",
                                    "átlagos ár": "21,890566037735848"
                                },
                                {
                                    "TERMEKKOD": "06080413T",
                                    "átlagos ár": "29,09881422924901"
                                },
                                {
                                    "TERMEKKOD": "08070493T",
                                    "átlagos ár": "698,076124567474"
                                },
                                {
                                    "TERMEKKOD": "03080010T",
                                    "átlagos ár": "200,47577092511014"
                                },
                                {
                                    "TERMEKKOD": "04030260T",
                                    "átlagos ár": "14,354581673306773"
                                },
                                {
                                    "TERMEKKOD": "08070472T",
                                    "átlagos ár": "1054,2952029520295"
                                },
                                {
                                    "TERMEKKOD": "07030107T",
                                    "átlagos ár": "267,23809523809524"
                                },
                                {
                                    "TERMEKKOD": "08070478T",
                                    "átlagos ár": "759,6308724832214"
                                },
                                {
                                    "TERMEKKOD": "01020300T",
                                    "átlagos ár": "53,22834645669291"
                                },
                                {
                                    "TERMEKKOD": "07040391T",
                                    "átlagos ár": "77,47826086956522"
                                },
                                {
                                    "TERMEKKOD": "01040307T",
                                    "átlagos ár": "14,360655737704919"
                                },
                                {
                                    "TERMEKKOD": "06080417T",
                                    "átlagos ár": "19,286821705426355"
                                },
                                {
                                    "TERMEKKOD": "07080470T",
                                    "átlagos ár": "181,93023255813952"
                                },
                                {
                                    "TERMEKKOD": "08070483T",
                                    "átlagos ár": "311,9012345679012"
                                },
                                {
                                    "TERMEKKOD": "04050224T",
                                    "átlagos ár": "46,285198555956676"
                                },
                                {
                                    "TERMEKKOD": "02040297T",
                                    "átlagos ár": "99,95652173913044"
                                },
                                {
                                    "TERMEKKOD": "06040347T",
                                    "átlagos ár": "26,821428571428573"
                                },
                                {
                                    "TERMEKKOD": "02040194T",
                                    "átlagos ár": "765,086274509804"
                                },
                                {
                                    "TERMEKKOD": "02080456T",
                                    "átlagos ár": "85,91732283464567"
                                },
                                {
                                    "TERMEKKOD": "05050170T",
                                    "átlagos ár": "18,31726907630522"
                                },
                                {
                                    "TERMEKKOD": "07040388T",
                                    "átlagos ár": "8,625"
                                },
                                {
                                    "TERMEKKOD": "07080158T",
                                    "átlagos ár": "748,6782006920415"
                                },
                                {
                                    "TERMEKKOD": "04050223T",
                                    "átlagos ár": "70,63380281690141"
                                },
                                {
                                    "TERMEKKOD": "04110274T",
                                    "átlagos ár": "47,17991631799163"
                                },
                                {
                                    "TERMEKKOD": "06040357T",
                                    "átlagos ár": "85,85818181818182"
                                },
                                {
                                    "TERMEKKOD": "02040198T",
                                    "átlagos ár": "128,98373983739836"
                                },
                                {
                                    "TERMEKKOD": "07080420T",
                                    "átlagos ár": "155,75"
                                },
                                {
                                    "TERMEKKOD": "04050203T",
                                    "átlagos ár": "22,927710843373493"
                                },
                                {
                                    "TERMEKKOD": "02040176T",
                                    "átlagos ár": "17,295019157088124"
                                },
                                {
                                    "TERMEKKOD": "06080123T",
                                    "átlagos ár": "534,7391304347826"
                                },
                                {
                                    "TERMEKKOD": "02020444T",
                                    "átlagos ár": "446,31320754716984"
                                },
                                {
                                    "TERMEKKOD": "07040390T",
                                    "átlagos ár": "10,609375"
                                },
                                {
                                    "TERMEKKOD": "07080316T",
                                    "átlagos ár": "457,0573476702509"
                                },
                                {
                                    "TERMEKKOD": "04050222T",
                                    "átlagos ár": "159,794776119403"
                                },
                                {
                                    "TERMEKKOD": "07080063T",
                                    "átlagos ár": "33,552845528455286"
                                },
                                {
                                    "TERMEKKOD": "06010376T",
                                    "átlagos ár": "10,652509652509652"
                                },
                                {
                                    "TERMEKKOD": "02040308T",
                                    "átlagos ár": "78,12121212121212"
                                },
                                {
                                    "TERMEKKOD": "07040060T",
                                    "átlagos ár": "34,66147859922179"
                                },
                                {
                                    "TERMEKKOD": "06040212T",
                                    "átlagos ár": "27,969162995594715"
                                },
                                {
                                    "TERMEKKOD": "03050458T",
                                    "átlagos ár": "142,90376569037656"
                                },
                                {
                                    "TERMEKKOD": "01100504T",
                                    "átlagos ár": "1442,1138211382113"
                                },
                                {
                                    "TERMEKKOD": "04050250T",
                                    "átlagos ár": "111,744"
                                },
                                {
                                    "TERMEKKOD": "L082-CI419",
                                    "átlagos ár": "7762,027716186253"
                                },
                                {
                                    "TERMEKKOD": "06040394T",
                                    "átlagos ár": "312,4870848708487"
                                },
                                {
                                    "TERMEKKOD": "07040051T",
                                    "átlagos ár": "37,62450592885376"
                                },
                                {
                                    "TERMEKKOD": "06010343T",
                                    "átlagos ár": "413,6618181818182"
                                },
                                {
                                    "TERMEKKOD": "04030287T",
                                    "átlagos ár": "21,876288659793815"
                                },
                                {
                                    "TERMEKKOD": "04080272T",
                                    "átlagos ár": "349,0405904059041"
                                },
                                {
                                    "TERMEKKOD": "02060447T",
                                    "átlagos ár": "1329"
                                },
                                {
                                    "TERMEKKOD": "06080424T",
                                    "átlagos ár": "22,931330472103003"
                                },
                                {
                                    "TERMEKKOD": "02040200T",
                                    "átlagos ár": "268,4367816091954"
                                },
                                {
                                    "TERMEKKOD": "06080409T",
                                    "átlagos ár": "174,1285140562249"
                                },
                                {
                                    "TERMEKKOD": "04110228T",
                                    "átlagos ár": "177,5414847161572"
                                },
                                {
                                    "TERMEKKOD": "02040148T",
                                    "átlagos ár": "61,09411764705882"
                                },
                                {
                                    "TERMEKKOD": "02030043T",
                                    "átlagos ár": "37,63934426229508"
                                },
                                {
                                    "TERMEKKOD": "04050075T",
                                    "átlagos ár": "42,56692913385827"
                                },
                                {
                                    "TERMEKKOD": "02040199T",
                                    "átlagos ár": "276,7916666666667"
                                },
                                {
                                    "TERMEKKOD": "06080430T",
                                    "átlagos ár": "71,97590361445783"
                                },
                                {
                                    "TERMEKKOD": "08070494T",
                                    "átlagos ár": "426"
                                },
                                {
                                    "TERMEKKOD": "07040055T",
                                    "átlagos ár": "56,666666666666664"
                                },
                                {
                                    "TERMEKKOD": "04030235T",
                                    "átlagos ár": "70,64015151515152"
                                },
                                {
                                    "TERMEKKOD": "06080188T",
                                    "átlagos ár": "848,7358490566038"
                                },
                                {
                                    "TERMEKKOD": "02040002T",
                                    "átlagos ár": "2035,5843137254901"
                                },
                                {
                                    "TERMEKKOD": "04110277T",
                                    "átlagos ár": "90,0379746835443"
                                },
                                {
                                    "TERMEKKOD": "05110364T",
                                    "átlagos ár": "155,4318181818182"
                                },
                                {
                                    "TERMEKKOD": "04030285T",
                                    "átlagos ár": "10,656903765690377"
                                },
                                {
                                    "TERMEKKOD": "01010110T",
                                    "átlagos ár": "28,955555555555556"
                                },
                                {
                                    "TERMEKKOD": "07040135T",
                                    "átlagos ár": "662,9153225806451"
                                },
                                {
                                    "TERMEKKOD": "01080093T",
                                    "átlagos ár": "155,6236559139785"
                                },
                                {
                                    "TERMEKKOD": "04080270T",
                                    "átlagos ár": "1712,134328358209"
                                },
                                {
                                    "TERMEKKOD": "06080336T",
                                    "átlagos ár": "78,25523012552301"
                                },
                                {
                                    "TERMEKKOD": "06040330T",
                                    "átlagos ár": "48,034351145038165"
                                },
                                {
                                    "TERMEKKOD": "06080334T",
                                    "átlagos ár": "128,5107913669065"
                                },
                                {
                                    "TERMEKKOD": "08070474T",
                                    "átlagos ár": "1057,5172413793102"
                                },
                                {
                                    "TERMEKKOD": "01090515T",
                                    "átlagos ár": "10,662698412698413"
                                },
                                {
                                    "TERMEKKOD": "07080155T",
                                    "átlagos ár": "30"
                                },
                                {
                                    "TERMEKKOD": "07040131T",
                                    "átlagos ár": "82,46268656716418"
                                },
                                {
                                    "TERMEKKOD": "06040353T",
                                    "átlagos ár": "7,685185185185185"
                                },
                                {
                                    "TERMEKKOD": "02080433T",
                                    "átlagos ár": "53,10699588477366"
                                },
                                {
                                    "TERMEKKOD": "07010137T",
                                    "átlagos ár": "46,12015503875969"
                                },
                                {
                                    "TERMEKKOD": "03080008T",
                                    "átlagos ár": "99,92622950819673"
                                },
                                {
                                    "TERMEKKOD": "04050321T",
                                    "átlagos ár": "155,70982142857142"
                                },
                                {
                                    "TERMEKKOD": "06080333T",
                                    "átlagos ár": "115,30364372469636"
                                },
                                {
                                    "TERMEKKOD": "03050080T",
                                    "átlagos ár": "78,47517730496453"
                                },
                                {
                                    "TERMEKKOD": "04050256T",
                                    "átlagos ár": "124,88571428571429"
                                },
                                {
                                    "TERMEKKOD": "06040378T",
                                    "átlagos ár": "86,01214574898785"
                                },
                                {
                                    "TERMEKKOD": "04110231T",
                                    "átlagos ár": "77,94814814814815"
                                },
                                {
                                    "TERMEKKOD": "07040389T",
                                    "átlagos ár": "346,6565217391304"
                                },
                                {
                                    "TERMEKKOD": "07080150T",
                                    "átlagos ár": "49,333333333333336"
                                },
                                {
                                    "TERMEKKOD": "06080414T",
                                    "átlagos ár": "29,064"
                                },
                                {
                                    "TERMEKKOD": "06010374T",
                                    "átlagos ár": "43,36776859504132"
                                },
                                {
                                    "TERMEKKOD": "07080317T",
                                    "átlagos ár": "57"
                                },
                                {
                                    "TERMEKKOD": "06040179T",
                                    "átlagos ár": "174,35521235521236"
                                },
                                {
                                    "TERMEKKOD": "06050302T",
                                    "átlagos ár": "170,62815884476535"
                                },
                                {
                                    "TERMEKKOD": "06080411T",
                                    "átlagos ár": "55,86046511627907"
                                },
                                {
                                    "TERMEKKOD": "04080271T",
                                    "átlagos ár": "254,625"
                                },
                                {
                                    "TERMEKKOD": "05110359T",
                                    "átlagos ár": "170,62686567164178"
                                },
                                {
                                    "TERMEKKOD": "04040090T",
                                    "átlagos ár": "510,18390804597703"
                                },
                                {
                                    "TERMEKKOD": "07040127T",
                                    "átlagos ár": "28,923387096774192"
                                },
                                {
                                    "TERMEKKOD": "08070485T",
                                    "átlagos ár": "280,37704918032784"
                                },
                                {
                                    "TERMEKKOD": "F013-NA207",
                                    "átlagos ár": "11531,08961748634"
                                },
                                {
                                    "TERMEKKOD": "07080153T",
                                    "átlagos ár": "39,646153846153844"
                                },
                                {
                                    "TERMEKKOD": "03080021T",
                                    "átlagos ár": "21,868852459016395"
                                },
                                {
                                    "TERMEKKOD": "02020245T",
                                    "átlagos ár": "99,7063492063492"
                                },
                                {
                                    "TERMEKKOD": "04110284T",
                                    "átlagos ár": "162,5639097744361"
                                },
                                {
                                    "TERMEKKOD": "07080314T",
                                    "átlagos ár": "128,125"
                                },
                                {
                                    "TERMEKKOD": "07080313T",
                                    "átlagos ár": "56,855421686746986"
                                },
                                {
                                    "TERMEKKOD": "04030240T",
                                    "átlagos ár": "13,291228070175439"
                                },
                                {
                                    "TERMEKKOD": "G013-NA201",
                                    "átlagos ár": "4843,148335015137"
                                },
                                {
                                    "TERMEKKOD": "06040385T",
                                    "átlagos ár": "92,85501858736059"
                                },
                                {
                                    "TERMEKKOD": "02010028T",
                                    "átlagos ár": "101,98484848484848"
                                },
                                {
                                    "TERMEKKOD": "05110363T",
                                    "átlagos ár": "128,40357142857144"
                                },
                                {
                                    "TERMEKKOD": "07040167T",
                                    "átlagos ár": "633,4189723320158"
                                },
                                {
                                    "TERMEKKOD": "06040381T",
                                    "átlagos ár": "99,52173913043478"
                                },
                                {
                                    "TERMEKKOD": "02080109T",
                                    "átlagos ár": "49,045112781954884"
                                },
                                {
                                    "TERMEKKOD": "04030242T",
                                    "átlagos ár": "113,98340248962656"
                                },
                                {
                                    "TERMEKKOD": "07080064T",
                                    "átlagos ár": "38,917647058823526"
                                },
                                {
                                    "TERMEKKOD": "03080006T",
                                    "átlagos ár": "24,97244094488189"
                                },
                                {
                                    "TERMEKKOD": "01090499T",
                                    "átlagos ár": "14,264367816091953"
                                },
                                {
                                    "TERMEKKOD": "06040246T",
                                    "átlagos ár": "155,70238095238096"
                                },
                                {
                                    "TERMEKKOD": "06040352T",
                                    "átlagos ár": "99,95652173913044"
                                },
                                {
                                    "TERMEKKOD": "04050254T",
                                    "átlagos ár": "150,1978417266187"
                                },
                                {
                                    "TERMEKKOD": "04050267T",
                                    "átlagos ár": "124,43661971830986"
                                },
                                {
                                    "TERMEKKOD": "06010036T",
                                    "átlagos ár": "31,968"
                                },
                                {
                                    "TERMEKKOD": "04050221T",
                                    "átlagos ár": "128,28521126760563"
                                },
                                {
                                    "TERMEKKOD": "05010026T",
                                    "átlagos ár": "113,93385214007782"
                                },
                                {
                                    "TERMEKKOD": "07080164T",
                                    "átlagos ár": "224,9891304347826"
                                },
                                {
                                    "TERMEKKOD": "06080125T",
                                    "átlagos ár": "398,23664122137404"
                                },
                                {
                                    "TERMEKKOD": "04030241T",
                                    "átlagos ár": "42,55421686746988"
                                },
                                {
                                    "TERMEKKOD": "06080425T",
                                    "átlagos ár": "7,701492537313433"
                                },
                                {
                                    "TERMEKKOD": "03080019T",
                                    "átlagos ár": "54,28235294117647"
                                },
                                {
                                    "TERMEKKOD": "07080468T",
                                    "átlagos ár": "106,868"
                                },
                                {
                                    "TERMEKKOD": "07030103T",
                                    "átlagos ár": "51,32699619771863"
                                },
                                {
                                    "TERMEKKOD": "03080013T",
                                    "átlagos ár": "61,82835820895522"
                                },
                                {
                                    "TERMEKKOD": "04030261T",
                                    "átlagos ár": "135,07063197026022"
                                },
                                {
                                    "TERMEKKOD": "L019-NA207",
                                    "átlagos ár": "1248,5857923497267"
                                },
                                {
                                    "TERMEKKOD": "04050220T",
                                    "átlagos ár": "63,03238866396761"
                                },
                                {
                                    "TERMEKKOD": "08070487T",
                                    "átlagos ár": "389,81974248927037"
                                },
                                {
                                    "TERMEKKOD": "04110283T",
                                    "átlagos ár": "150,05882352941177"
                                },
                                {
                                    "TERMEKKOD": "06080193T",
                                    "átlagos ár": "173,78358208955223"
                                },
                                {
                                    "TERMEKKOD": "06010082T",
                                    "átlagos ár": "38,96551724137931"
                                },
                                {
                                    "TERMEKKOD": "05050346T",
                                    "átlagos ár": "86,24705882352941"
                                },
                                {
                                    "TERMEKKOD": "04110227T",
                                    "átlagos ár": "31,84870848708487"
                                },
                                {
                                    "TERMEKKOD": "03050457T",
                                    "átlagos ár": "24,831967213114755"
                                },
                                {
                                    "TERMEKKOD": "06080192T",
                                    "átlagos ár": "67,34893617021277"
                                },
                                {
                                    "TERMEKKOD": "07080467T",
                                    "átlagos ár": "265,0258620689655"
                                },
                                {
                                    "TERMEKKOD": "07040059T",
                                    "átlagos ár": "55,892561983471076"
                                },
                                {
                                    "TERMEKKOD": "03080015T",
                                    "átlagos ár": "163,3111111111111"
                                },
                                {
                                    "TERMEKKOD": "02080452T",
                                    "átlagos ár": "424,93548387096774"
                                },
                                {
                                    "TERMEKKOD": "02080450T",
                                    "átlagos ár": "42,495726495726494"
                                },
                                {
                                    "TERMEKKOD": "08070475T",
                                    "átlagos ár": "425,6"
                                },
                                {
                                    "TERMEKKOD": "L048-PO218",
                                    "átlagos ár": "3771,4255543822596"
                                },
                                {
                                    "TERMEKKOD": "07010138T",
                                    "átlagos ár": "31,95"
                                },
                                {
                                    "TERMEKKOD": "07080469T",
                                    "átlagos ár": "352,99636363636364"
                                },
                                {
                                    "TERMEKKOD": "06010201T",
                                    "átlagos ár": "34,57575757575758"
                                },
                                {
                                    "TERMEKKOD": "06040185T",
                                    "átlagos ár": "562,603305785124"
                                },
                                {
                                    "TERMEKKOD": "02040195T",
                                    "átlagos ár": "179,02197802197801"
                                },
                                {
                                    "TERMEKKOD": "03080031T",
                                    "átlagos ár": "102,57692307692308"
                                },
                                {
                                    "TERMEKKOD": "07030105T",
                                    "átlagos ár": "110,14285714285714"
                                },
                                {
                                    "TERMEKKOD": "04110275T",
                                    "átlagos ár": "47,49802371541502"
                                },
                                {
                                    "TERMEKKOD": "05080341T",
                                    "átlagos ár": "139,28148148148148"
                                },
                                {
                                    "TERMEKKOD": "01090516T",
                                    "átlagos ár": "23,804780876494025"
                                },
                                {
                                    "TERMEKKOD": "06040174T",
                                    "átlagos ár": "142,47210300429185"
                                },
                                {
                                    "TERMEKKOD": "L064-CI401",
                                    "átlagos ár": "6678,573544973545"
                                },
                                {
                                    "TERMEKKOD": "L073-CI410",
                                    "átlagos ár": "7659,825026511135"
                                },
                                {
                                    "TERMEKKOD": "07040132T",
                                    "átlagos ár": "53,02281368821293"
                                },
                                {
                                    "TERMEKKOD": "07080419T",
                                    "átlagos ár": "63,96992481203007"
                                },
                                {
                                    "TERMEKKOD": "05110360T",
                                    "átlagos ár": "113,94296577946768"
                                },
                                {
                                    "TERMEKKOD": "07040097T",
                                    "átlagos ár": "24,95703125"
                                },
                                {
                                    "TERMEKKOD": "04030243T",
                                    "átlagos ár": "188,1891891891892"
                                },
                                {
                                    "TERMEKKOD": "01100503T",
                                    "átlagos ár": "9,676767676767676"
                                },
                                {
                                    "TERMEKKOD": "06010366T",
                                    "átlagos ár": "489,52982456140353"
                                },
                                {
                                    "TERMEKKOD": "03050459T",
                                    "átlagos ár": "38,42028985507246"
                                },
                                {
                                    "TERMEKKOD": "07040134T",
                                    "átlagos ár": "42,75806451612903"
                                },
                                {
                                    "TERMEKKOD": "02080226T",
                                    "átlagos ár": "102,26373626373626"
                                },
                                {
                                    "TERMEKKOD": "06080427T",
                                    "átlagos ár": "155,11320754716982"
                                },
                                {
                                    "TERMEKKOD": "02040404T",
                                    "átlagos ár": "391,3070866141732"
                                },
                                {
                                    "TERMEKKOD": "06010085T",
                                    "átlagos ár": "62,73144876325088"
                                },
                                {
                                    "TERMEKKOD": "04110276T",
                                    "átlagos ár": "105,52173913043478"
                                },
                                {
                                    "TERMEKKOD": "02040177T",
                                    "átlagos ár": "28,95703125"
                                },
                                {
                                    "TERMEKKOD": "06080441T",
                                    "átlagos ár": "117,91011235955057"
                                },
                                {
                                    "TERMEKKOD": "01090501T",
                                    "átlagos ár": "3,6863636363636365"
                                },
                                {
                                    "TERMEKKOD": "06080117T",
                                    "átlagos ár": "9,670370370370371"
                                },
                                {
                                    "TERMEKKOD": "05050465T",
                                    "átlagos ár": "38,34782608695652"
                                },
                                {
                                    "TERMEKKOD": "06040180T",
                                    "átlagos ár": "220,0080971659919"
                                },
                                {
                                    "TERMEKKOD": "G001-KB101",
                                    "átlagos ár": "8562,41695303551"
                                },
                                {
                                    "TERMEKKOD": "02080511T",
                                    "átlagos ár": "13767,888"
                                },
                                {
                                    "TERMEKKOD": "02040196T",
                                    "átlagos ár": "264,25"
                                },
                                {
                                    "TERMEKKOD": "03080020T",
                                    "átlagos ár": "42,645161290322584"
                                },
                                {
                                    "TERMEKKOD": "06080122T",
                                    "átlagos ár": "18,271966527196653"
                                },
                                {
                                    "TERMEKKOD": "05040349T",
                                    "átlagos ár": "60,6986301369863"
                                },
                                {
                                    "TERMEKKOD": "06080412T",
                                    "átlagos ár": "29,078740157480315"
                                },
                                {
                                    "TERMEKKOD": "07010142T",
                                    "átlagos ár": "219,9609375"
                                },
                                {
                                    "TERMEKKOD": "06040186T",
                                    "átlagos ár": "677,4269662921348"
                                },
                                {
                                    "TERMEKKOD": "06040184T",
                                    "átlagos ár": "212,13654618473896"
                                },
                                {
                                    "TERMEKKOD": "06010368T",
                                    "átlagos ár": "58,94795539033457"
                                },
                                {
                                    "TERMEKKOD": "07040048T",
                                    "átlagos ár": "53,58"
                                },
                                {
                                    "TERMEKKOD": "04110362T",
                                    "átlagos ár": "176,88537549407116"
                                },
                                {
                                    "TERMEKKOD": "07050462T",
                                    "átlagos ár": "476,8142292490119"
                                },
                                {
                                    "TERMEKKOD": "06010084T",
                                    "átlagos ár": "57,54863813229572"
                                },
                                {
                                    "TERMEKKOD": "06010365T",
                                    "átlagos ár": "34,61654135338346"
                                },
                                {
                                    "TERMEKKOD": "02030041T",
                                    "átlagos ár": "5,64367816091954"
                                },
                                {
                                    "TERMEKKOD": "06040213T",
                                    "átlagos ár": "32,61666666666667"
                                },
                                {
                                    "TERMEKKOD": "04110230T",
                                    "átlagos ár": "53,16326530612245"
                                },
                                {
                                    "TERMEKKOD": "02060038T",
                                    "átlagos ár": "756,0481927710844"
                                },
                                {
                                    "TERMEKKOD": "04110232T",
                                    "átlagos ár": "49,09055118110236"
                                },
                                {
                                    "TERMEKKOD": "04050255T",
                                    "átlagos ár": "34,661596958174904"
                                },
                                {
                                    "TERMEKKOD": "G082-CI419",
                                    "átlagos ár": "7721,7667020148465"
                                },
                                {
                                    "TERMEKKOD": "06010083T",
                                    "átlagos ár": "32,014134275618375"
                                },
                                {
                                    "TERMEKKOD": "04030236T",
                                    "átlagos ár": "14,290076335877863"
                                },
                                {
                                    "TERMEKKOD": "04040387T",
                                    "átlagos ár": "78,0909090909091"
                                },
                                {
                                    "TERMEKKOD": "01080513T",
                                    "átlagos ár": "36,44368600682594"
                                },
                                {
                                    "TERMEKKOD": "05010370T",
                                    "átlagos ár": "85,90322580645162"
                                },
                                {
                                    "TERMEKKOD": "07040217T",
                                    "átlagos ár": "57,037593984962406"
                                },
                                {
                                    "TERMEKKOD": "04110233T",
                                    "átlagos ár": "85,91519434628975"
                                },
                                {
                                    "TERMEKKOD": "01100505T",
                                    "átlagos ár": "660,65234375"
                                },
                                {
                                    "TERMEKKOD": "01100497T",
                                    "átlagos ár": "13,298507462686567"
                                },
                                {
                                    "TERMEKKOD": "06010114T",
                                    "átlagos ár": "28,842323651452283"
                                },
                                {
                                    "TERMEKKOD": "07040049T",
                                    "átlagos ár": "38,516666666666666"
                                },
                                {
                                    "TERMEKKOD": "03080005T",
                                    "átlagos ár": "280,76"
                                },
                                {
                                    "TERMEKKOD": "06040354T",
                                    "átlagos ár": "200,2377049180328"
                                },
                                {
                                    "TERMEKKOD": "04110281T",
                                    "átlagos ár": "170,14074074074074"
                                },
                                {
                                    "TERMEKKOD": "07080065T",
                                    "átlagos ár": "10,647272727272727"
                                },
                                {
                                    "TERMEKKOD": "06040175T",
                                    "átlagos ár": "184,03225806451613"
                                },
                                {
                                    "TERMEKKOD": "F001-KB101",
                                    "átlagos ár": "21315,175097276264"
                                },
                                {
                                    "TERMEKKOD": "03080030T",
                                    "átlagos ár": "213,12252964426878"
                                },
                                {
                                    "TERMEKKOD": "06010111T",
                                    "átlagos ár": "66,00380228136882"
                                },
                                {
                                    "TERMEKKOD": "08070480T",
                                    "átlagos ár": "298,48854961832063"
                                },
                                {
                                    "TERMEKKOD": "07080162T",
                                    "átlagos ár": "97,4"
                                },
                                {
                                    "TERMEKKOD": "06040089T",
                                    "átlagos ár": "4,639004149377594"
                                },
                                {
                                    "TERMEKKOD": "05080340T",
                                    "átlagos ár": "138,8953068592058"
                                },
                                {
                                    "TERMEKKOD": "03010345T",
                                    "átlagos ár": "160,06949806949808"
                                },
                                {
                                    "TERMEKKOD": "02080069T",
                                    "átlagos ár": "28,906976744186046"
                                },
                                {
                                    "TERMEKKOD": "02040296T",
                                    "átlagos ár": "53,92727272727273"
                                },
                                {
                                    "TERMEKKOD": "06040324T",
                                    "átlagos ár": "86,57"
                                },
                                {
                                    "TERMEKKOD": "03080437T",
                                    "átlagos ár": "178,80756013745705"
                                },
                                {
                                    "TERMEKKOD": "06010305T",
                                    "átlagos ár": "8,689922480620154"
                                },
                                {
                                    "TERMEKKOD": "02040197T",
                                    "átlagos ár": "78,29692832764505"
                                },
                                {
                                    "TERMEKKOD": "02030042T",
                                    "átlagos ár": "2,6979591836734693"
                                },
                                {
                                    "TERMEKKOD": "01100496T",
                                    "átlagos ár": "1451,2648221343873"
                                },
                                {
                                    "TERMEKKOD": "L041-AL211",
                                    "átlagos ár": "16302,381420765027"
                                },
                                {
                                    "TERMEKKOD": "04050023T",
                                    "átlagos ár": "138,97826086956522"
                                },
                                {
                                    "TERMEKKOD": "07040053T",
                                    "átlagos ár": "22,03914590747331"
                                },
                                {
                                    "TERMEKKOD": "06040087T",
                                    "átlagos ár": "76,04417670682732"
                                },
                                {
                                    "TERMEKKOD": "02060039T",
                                    "átlagos ár": "632,8571428571429"
                                },
                                {
                                    "TERMEKKOD": "06010375T",
                                    "átlagos ár": "23"
                                },
                                {
                                    "TERMEKKOD": "01040502T",
                                    "átlagos ár": "23,910112359550563"
                                },
                                {
                                    "TERMEKKOD": "04030265T",
                                    "átlagos ár": "100,38970588235294"
                                },
                                {
                                    "TERMEKKOD": "02040294T",
                                    "átlagos ár": "99,34408602150538"
                                },
                                {
                                    "TERMEKKOD": "06040327T",
                                    "átlagos ár": "34,44015444015444"
                                },
                                {
                                    "TERMEKKOD": "02040145T",
                                    "átlagos ár": "28,84790874524715"
                                },
                                {
                                    "TERMEKKOD": "06080440T",
                                    "átlagos ár": "155,0983606557377"
                                },
                                {
                                    "TERMEKKOD": "06040328T",
                                    "átlagos ár": "42,58657243816254"
                                },
                                {
                                    "TERMEKKOD": "05110361T",
                                    "átlagos ár": "169,14084507042253"
                                },
                                {
                                    "TERMEKKOD": "06010373T",
                                    "átlagos ár": "41,568093385214006"
                                },
                                {
                                    "TERMEKKOD": "04110273T",
                                    "átlagos ár": "53,194945848375454"
                                },
                                {
                                    "TERMEKKOD": "07040100T",
                                    "átlagos ár": "378,40909090909093"
                                },
                                {
                                    "TERMEKKOD": "04110068T",
                                    "átlagos ár": "19,32"
                                },
                                {
                                    "TERMEKKOD": "04030289T",
                                    "átlagos ár": "14,349794238683128"
                                },
                                {
                                    "TERMEKKOD": "06040386T",
                                    "átlagos ár": "46,24701195219124"
                                },
                                {
                                    "TERMEKKOD": "07080418T",
                                    "átlagos ár": "91,97540983606558"
                                },
                                {
                                    "TERMEKKOD": "08070490T",
                                    "átlagos ár": "671,3806228373702"
                                },
                                {
                                    "TERMEKKOD": "06040326T",
                                    "átlagos ár": "18,304659498207887"
                                },
                                {
                                    "TERMEKKOD": "04110229T",
                                    "átlagos ár": "31,932806324110672"
                                },
                                {
                                    "TERMEKKOD": "06080339T",
                                    "átlagos ár": "85,7673469387755"
                                },
                                {
                                    "TERMEKKOD": "04030286T",
                                    "átlagos ár": "42,628158844765345"
                                },
                                {
                                    "TERMEKKOD": "07040102T",
                                    "átlagos ár": "44,470790378006875"
                                },
                                {
                                    "TERMEKKOD": "L033-FE311",
                                    "átlagos ár": "960,3351177730193"
                                },
                                {
                                    "TERMEKKOD": "07040057T",
                                    "átlagos ár": "102,33962264150944"
                                },
                                {
                                    "TERMEKKOD": "02080454T",
                                    "átlagos ár": "737,1161825726141"
                                },
                                {
                                    "TERMEKKOD": "L029-FE307",
                                    "átlagos ár": "232,1922268907563"
                                },
                                {
                                    "TERMEKKOD": "01090517T",
                                    "átlagos ár": "3,623481781376518"
                                },
                                {
                                    "TERMEKKOD": "04050269T",
                                    "átlagos ár": "10,644194756554308"
                                },
                                {
                                    "TERMEKKOD": "05010306T",
                                    "átlagos ár": "19,338078291814945"
                                },
                                {
                                    "TERMEKKOD": "06040183T",
                                    "átlagos ár": "92"
                                },
                                {
                                    "TERMEKKOD": "04080442T",
                                    "átlagos ár": "305,30980392156863"
                                },
                                {
                                    "TERMEKKOD": "07080161T",
                                    "átlagos ár": "42,5239852398524"
                                },
                                {
                                    "TERMEKKOD": "06010367T",
                                    "átlagos ár": "33,69803921568627"
                                },
                                {
                                    "TERMEKKOD": "03010344T",
                                    "átlagos ár": "60,657992565055764"
                                },
                                {
                                    "TERMEKKOD": "06080338T",
                                    "átlagos ár": "97,48148148148148"
                                },
                                {
                                    "TERMEKKOD": "04050252T",
                                    "átlagos ár": "119,98529411764706"
                                },
                                {
                                    "TERMEKKOD": "04050251T",
                                    "átlagos ár": "142,93726937269372"
                                },
                                {
                                    "TERMEKKOD": "06040396T",
                                    "átlagos ár": "397,0143884892086"
                                },
                                {
                                    "TERMEKKOD": "05050046T",
                                    "átlagos ár": "70,66666666666667"
                                },
                                {
                                    "TERMEKKOD": "04080443T",
                                    "átlagos ár": "434,5568181818182"
                                },
                                {
                                    "TERMEKKOD": "06040331T",
                                    "átlagos ár": "47,125"
                                },
                                {
                                    "TERMEKKOD": "06010202T",
                                    "átlagos ár": "21,895306859205775"
                                },
                                {
                                    "TERMEKKOD": "02040507T",
                                    "átlagos ár": "38,752851711026615"
                                },
                                {
                                    "TERMEKKOD": "04050204T",
                                    "átlagos ár": "163,1576763485477"
                                },
                                {
                                    "TERMEKKOD": "04050187T",
                                    "átlagos ár": "64,29230769230769"
                                },
                                {
                                    "TERMEKKOD": "02040146T",
                                    "átlagos ár": "46,21011673151751"
                                },
                                {
                                    "TERMEKKOD": "02040147T",
                                    "átlagos ár": "7,670634920634921"
                                },
                                {
                                    "TERMEKKOD": "07080318T",
                                    "átlagos ár": "227,00749063670412"
                                },
                                {
                                    "TERMEKKOD": "06040384T",
                                    "átlagos ár": "55,724137931034484"
                                },
                                {
                                    "TERMEKKOD": "06040379T",
                                    "átlagos ár": "90,24242424242425"
                                },
                                {
                                    "TERMEKKOD": "02040403T",
                                    "átlagos ár": "1312,860465116279"
                                },
                                {
                                    "TERMEKKOD": "02040295T",
                                    "átlagos ár": "85,484375"
                                },
                                {
                                    "TERMEKKOD": "03080007T",
                                    "átlagos ár": "199,95454545454547"
                                },
                                {
                                    "TERMEKKOD": "01100072T",
                                    "átlagos ár": "8,683018867924527"
                                },
                                {
                                    "TERMEKKOD": "03080438T",
                                    "átlagos ár": "205,699604743083"
                                },
                                {
                                    "TERMEKKOD": "03080439T",
                                    "átlagos ár": "109,6468085106383"
                                },
                                {
                                    "TERMEKKOD": "01100509T",
                                    "átlagos ár": "38,646153846153844"
                                },
                                {
                                    "TERMEKKOD": "08070482T",
                                    "átlagos ár": "183,71428571428572"
                                },
                                {
                                    "TERMEKKOD": "07080151T",
                                    "átlagos ár": "377,56626506024094"
                                },
                                {
                                    "TERMEKKOD": "06040400T",
                                    "átlagos ár": "495,0866141732283"
                                },
                                {
                                    "TERMEKKOD": "07080160T",
                                    "átlagos ár": "230,62277580071174"
                                },
                                {
                                    "TERMEKKOD": "N039-AL222",
                                    "átlagos ár": "44523,24332648871"
                                },
                                {
                                    "TERMEKKOD": "U001-KI501",
                                    "átlagos ár": "1923,7253599114065"
                                },
                                {
                                    "TERMEKKOD": "02040206T",
                                    "átlagos ár": "77,97777777777777"
                                },
                                {
                                    "TERMEKKOD": "06010112T",
                                    "átlagos ár": "74,96551724137932"
                                },
                                {
                                    "TERMEKKOD": "04030263T",
                                    "átlagos ár": "85,17408906882591"
                                },
                                {
                                    "TERMEKKOD": "07010143T",
                                    "átlagos ár": "75,08108108108108"
                                },
                                {
                                    "TERMEKKOD": "06040383T",
                                    "átlagos ár": "18,224489795918366"
                                },
                                {
                                    "TERMEKKOD": "07080062T",
                                    "átlagos ár": "141,25714285714287"
                                },
                                {
                                    "TERMEKKOD": "02080436T",
                                    "átlagos ár": "63,62307692307692"
                                },
                                {
                                    "TERMEKKOD": "07040130T",
                                    "átlagos ár": "77,4943396226415"
                                },
                                {
                                    "TERMEKKOD": "08070484T",
                                    "átlagos ár": "334,9076923076923"
                                },
                                {
                                    "TERMEKKOD": "04050322T",
                                    "átlagos ár": "303,798418972332"
                                },
                                {
                                    "TERMEKKOD": "03080012T",
                                    "átlagos ár": "120,86516853932584"
                                },
                                {
                                    "TERMEKKOD": "03080004T",
                                    "átlagos ár": "18,35408560311284"
                                },
                                {
                                    "TERMEKKOD": "04050253T",
                                    "átlagos ár": "99,76579925650557"
                                },
                                {
                                    "TERMEKKOD": "06080189T",
                                    "átlagos ár": "28,888030888030887"
                                },
                                {
                                    "TERMEKKOD": "02040508T",
                                    "átlagos ár": "42,56066945606695"
                                },
                                {
                                    "TERMEKKOD": "06040380T",
                                    "átlagos ár": "74,70769230769231"
                                },
                                {
                                    "TERMEKKOD": "G019-NA207",
                                    "átlagos ár": "1249,7958515283842"
                                },
                                {
                                    "TERMEKKOD": "01010001T",
                                    "átlagos ár": "331,93939393939394"
                                },
                                {
                                    "TERMEKKOD": "08070495T",
                                    "átlagos ár": "425,7039711191336"
                                },
                                {
                                    "TERMEKKOD": "06080121T",
                                    "átlagos ár": "189,80632411067194"
                                },
                                {
                                    "TERMEKKOD": "06040382T",
                                    "átlagos ár": "613,28"
                                },
                                {
                                    "TERMEKKOD": "02080451T",
                                    "átlagos ár": "99,67953667953668"
                                },
                                {
                                    "TERMEKKOD": "03080014T",
                                    "átlagos ár": "78,44"
                                },
                                {
                                    "TERMEKKOD": "05040348T",
                                    "átlagos ár": "102,59003831417624"
                                },
                                {
                                    "TERMEKKOD": "03050077T",
                                    "átlagos ár": "42,64638783269962"
                                },
                                {
                                    "TERMEKKOD": "N019-FE301",
                                    "átlagos ár": "669,1304347826087"
                                },
                                {
                                    "TERMEKKOD": "07010140T",
                                    "átlagos ár": "21,88888888888889"
                                },
                                {
                                    "TERMEKKOD": "03050076T",
                                    "átlagos ár": "24,903614457831324"
                                },
                                {
                                    "TERMEKKOD": "02040178T",
                                    "átlagos ár": "33,8433734939759"
                                },
                                {
                                    "TERMEKKOD": "07080163T",
                                    "átlagos ár": "222,76666666666668"
                                },
                                {
                                    "TERMEKKOD": "04030266T",
                                    "átlagos ár": "162,8988326848249"
                                },
                                {
                                    "TERMEKKOD": "06040398T",
                                    "átlagos ár": "397,8191881918819"
                                },
                                {
                                    "TERMEKKOD": "07040061T",
                                    "átlagos ár": "42,65769230769231"
                                },
                                {
                                    "TERMEKKOD": "02030044T",
                                    "átlagos ár": "14,261044176706827"
                                },
                                {
                                    "TERMEKKOD": "01090500T",
                                    "átlagos ár": "13,324786324786325"
                                },
                                {
                                    "TERMEKKOD": "03080017T",
                                    "átlagos ár": "143,10917030567686"
                                },
                                {
                                    "TERMEKKOD": "02060034T",
                                    "átlagos ár": "287,00787401574803"
                                },
                                {
                                    "TERMEKKOD": "07080154T",
                                    "átlagos ár": "387,73306772908364"
                                },
                                {
                                    "TERMEKKOD": "01100510T",
                                    "átlagos ár": "12,184549356223176"
                                },
                                {
                                    "TERMEKKOD": "07080312T",
                                    "átlagos ár": "120,51181102362204"
                                },
                                {
                                    "TERMEKKOD": "07010144T",
                                    "átlagos ár": "85,64285714285714"
                                },
                                {
                                    "TERMEKKOD": "04030264T",
                                    "átlagos ár": "71,29674796747967"
                                },
                                {
                                    "TERMEKKOD": "G023-FE301",
                                    "átlagos ár": "377,6430084745763"
                                },
                                {
                                    "TERMEKKOD": "07080421T",
                                    "átlagos ár": "220,19762845849803"
                                },
                                {
                                    "TERMEKKOD": "06080426T",
                                    "átlagos ár": "156,18867924528303"
                                },
                                {
                                    "TERMEKKOD": "02040293T",
                                    "átlagos ár": "299,64285714285717"
                                },
                                {
                                    "TERMEKKOD": "02080514T",
                                    "átlagos ár": "43,273092369477915"
                                },
                                {
                                    "TERMEKKOD": "04050268T",
                                    "átlagos ár": "14,237735849056603"
                                },
                                {
                                    "TERMEKKOD": "02040291T",
                                    "átlagos ár": "14,354581673306773"
                                },
                                {
                                    "TERMEKKOD": "06040173T",
                                    "átlagos ár": "203,66409266409266"
                                },
                                {
                                    "TERMEKKOD": "01080512T",
                                    "átlagos ár": "4443,7148288973385"
                                },
                                {
                                    "TERMEKKOD": "07040219T",
                                    "átlagos ár": "75,2116182572614"
                                },
                                {
                                    "TERMEKKOD": "01030091T",
                                    "átlagos ár": "24,841911764705884"
                                },
                                {
                                    "TERMEKKOD": "01090498T",
                                    "átlagos ár": "2,676470588235294"
                                },
                                {
                                    "TERMEKKOD": "07040056T",
                                    "átlagos ár": "38,74716981132075"
                                },
                                {
                                    "TERMEKKOD": "02030040T",
                                    "átlagos ár": "5,633962264150943"
                                },
                                {
                                    "TERMEKKOD": "07040058T",
                                    "átlagos ár": "10,627737226277372"
                                },
                                {
                                    "TERMEKKOD": "07040099T",
                                    "átlagos ár": "420,03921568627453"
                                },
                                {
                                    "TERMEKKOD": "08070479T",
                                    "átlagos ár": "653,8792452830189"
                                },
                                {
                                    "TERMEKKOD": "G041-AL211",
                                    "átlagos ár": "16349,633187772926"
                                },
                                {
                                    "TERMEKKOD": "06040181T",
                                    "átlagos ár": "7,676691729323308"
                                },
                                {
                                    "TERMEKKOD": "07030104T",
                                    "átlagos ár": "73,99180327868852"
                                },
                                {
                                    "TERMEKKOD": "06040088T",
                                    "átlagos ár": "49,29044117647059"
                                },
                                {
                                    "TERMEKKOD": "03050079T",
                                    "átlagos ár": "14,305439330543933"
                                },
                                {
                                    "TERMEKKOD": "02020032T",
                                    "átlagos ár": "128,55755395683454"
                                },
                                {
                                    "TERMEKKOD": "06080428T",
                                    "átlagos ár": "173,71320754716982"
                                },
                                {
                                    "TERMEKKOD": "04050022T",
                                    "átlagos ár": "85,74615384615385"
                                },
                                {
                                    "TERMEKKOD": "07040052T",
                                    "átlagos ár": "51,38056680161943"
                                },
                                {
                                    "TERMEKKOD": "06040325T",
                                    "átlagos ár": "38,721311475409834"
                                },
                                {
                                    "TERMEKKOD": "02040402T",
                                    "átlagos ár": "277,4032258064516"
                                },
                                {
                                    "TERMEKKOD": "07080157T",
                                    "átlagos ár": "90,11498257839722"
                                },
                                {
                                    "TERMEKKOD": "04110258T",
                                    "átlagos ár": "70,44705882352942"
                                },
                                {
                                    "TERMEKKOD": "06080116T",
                                    "átlagos ár": "32,55555555555556"
                                },
                                {
                                    "TERMEKKOD": "N008-NA201",
                                    "átlagos ár": "8013,2893081761"
                                },
                                {
                                    "TERMEKKOD": "02080455T",
                                    "átlagos ár": "607,496062992126"
                                },
                                {
                                    "TERMEKKOD": "06080335T",
                                    "átlagos ár": "106,0342205323194"
                                },
                                {
                                    "TERMEKKOD": "08070486T",
                                    "átlagos ár": "389,24778761061947"
                                },
                                {
                                    "TERMEKKOD": "06080423T",
                                    "átlagos ár": "220,83132530120483"
                                },
                                {
                                    "TERMEKKOD": "F021-IN215",
                                    "átlagos ár": "6287,779107725789"
                                },
                                {
                                    "TERMEKKOD": "04030237T",
                                    "átlagos ár": "34,69964664310954"
                                },
                                {
                                    "TERMEKKOD": "02040214T",
                                    "átlagos ár": "57,0817843866171"
                                },
                                {
                                    "TERMEKKOD": "04030238T",
                                    "átlagos ár": "57,01556420233463"
                                },
                                {
                                    "TERMEKKOD": "06040329T",
                                    "átlagos ár": "42,763636363636365"
                                },
                                {
                                    "TERMEKKOD": "02040290T",
                                    "átlagos ár": "86,02158273381295"
                                },
                                {
                                    "TERMEKKOD": "07080466T",
                                    "átlagos ár": "78,56133828996282"
                                },
                                {
                                    "TERMEKKOD": "01100071T",
                                    "átlagos ár": "86,14634146341463"
                                },
                                {
                                    "TERMEKKOD": "07030106T",
                                    "átlagos ár": "99,25954198473282"
                                },
                                {
                                    "TERMEKKOD": "02040025T",
                                    "átlagos ár": "128,42045454545453"
                                },
                                {
                                    "TERMEKKOD": "07040257T",
                                    "átlagos ár": "419,44117647058823"
                                },
                                {
                                    "TERMEKKOD": "04030239T",
                                    "átlagos ár": "46,148148148148145"
                                },
                                {
                                    "TERMEKKOD": "02040506T",
                                    "átlagos ár": "42,46875"
                                },
                                {
                                    "TERMEKKOD": "08070477T",
                                    "átlagos ár": "343,4154411764706"
                                },
                                {
                                    "TERMEKKOD": "02040309T",
                                    "átlagos ár": "89,5"
                                },
                                {
                                    "TERMEKKOD": "01100096T",
                                    "átlagos ár": "703,9181494661922"
                                },
                                {
                                    "TERMEKKOD": "03080018T",
                                    "átlagos ár": "117,24904214559388"
                                },
                                {
                                    "TERMEKKOD": "07040216T",
                                    "átlagos ár": "34,53815261044177"
                                },
                                {
                                    "TERMEKKOD": "04110282T",
                                    "átlagos ár": "53,93103448275862"
                                },
                                {
                                    "TERMEKKOD": "08070473T",
                                    "átlagos ár": "1053,9375"
                                },
                                {
                                    "TERMEKKOD": "02040210T",
                                    "átlagos ár": "86"
                                },
                                {
                                    "TERMEKKOD": "G073-CI410",
                                    "átlagos ár": "7645,82626680455"
                                },
                                {
                                    "TERMEKKOD": "04050073T",
                                    "átlagos ár": "58,888888888888886"
                                },
                                {
                                    "TERMEKKOD": "06080410T",
                                    "átlagos ár": "171,0207468879668"
                                },
                                {
                                    "TERMEKKOD": "06040446T",
                                    "átlagos ár": "1136,63671875"
                                },
                                {
                                    "TERMEKKOD": "02050461T",
                                    "átlagos ár": "17,21285140562249"
                                },
                                {
                                    "TERMEKKOD": "F007-NA201",
                                    "átlagos ár": "7629,643979057591"
                                },
                                {
                                    "TERMEKKOD": "07040054T",
                                    "átlagos ár": "53,232142857142854"
                                },
                                {
                                    "TERMEKKOD": "07040050T",
                                    "átlagos ár": "28,914396887159533"
                                },
                                {
                                    "TERMEKKOD": "G048-PO218",
                                    "átlagos ár": "3765,350052246604"
                                },
                                {
                                    "TERMEKKOD": "L001-KB101",
                                    "átlagos ár": "8603,08510638298"
                                },
                                {
                                    "TERMEKKOD": "G029-FE307",
                                    "átlagos ár": "231,96954314720813"
                                },
                                {
                                    "TERMEKKOD": "02040149T",
                                    "átlagos ár": "106,36"
                                },
                                {
                                    "TERMEKKOD": "07040098T",
                                    "átlagos ár": "269,8810408921933"
                                },
                                {
                                    "TERMEKKOD": "02040292T",
                                    "átlagos ár": "75,344"
                                },
                                {
                                    "TERMEKKOD": "07010372T",
                                    "átlagos ár": "156,26970954356847"
                                },
                                {
                                    "TERMEKKOD": "01010304T",
                                    "átlagos ár": "57,23673469387755"
                                },
                                {
                                    "TERMEKKOD": "04030234T",
                                    "átlagos ár": "28,870722433460077"
                                },
                                {
                                    "TERMEKKOD": "08070491T",
                                    "átlagos ár": "206,93286219081273"
                                },
                                {
                                    "TERMEKKOD": "07080471T",
                                    "átlagos ár": "284,3898305084746"
                                },
                                {
                                    "TERMEKKOD": "02080081T",
                                    "átlagos ár": "128,22545454545454"
                                },
                                {
                                    "TERMEKKOD": "07080311T",
                                    "átlagos ár": "267,13178294573646"
                                },
                                {
                                    "TERMEKKOD": "04050074T",
                                    "átlagos ár": "63,93675889328063"
                                },
                                {
                                    "TERMEKKOD": "04050225T",
                                    "átlagos ár": "126,92277992277992"
                                },
                                {
                                    "TERMEKKOD": "06080259T",
                                    "átlagos ár": "156,22448979591837"
                                },
                                {
                                    "TERMEKKOD": "07040133T",
                                    "átlagos ár": "37,6865671641791"
                                },
                                {
                                    "TERMEKKOD": "07010139T",
                                    "átlagos ár": "87,74538745387454"
                                },
                                {
                                    "TERMEKKOD": "L023-FE301",
                                    "átlagos ár": "376,96177062374244"
                                },
                                {
                                    "TERMEKKOD": "06010086T",
                                    "átlagos ár": "34,59504132231405"
                                },
                                {
                                    "TERMEKKOD": "04110279T",
                                    "átlagos ár": "163,2301886792453"
                                },
                                {
                                    "TERMEKKOD": "07040166T",
                                    "átlagos ár": "438,8072289156627"
                                },
                                {
                                    "TERMEKKOD": "07040215T",
                                    "átlagos ár": "71,54581673306772"
                                },
                                {
                                    "TERMEKKOD": "07080315T",
                                    "átlagos ár": "91,28235294117647"
                                },
                                {
                                    "TERMEKKOD": "02040401T",
                                    "átlagos ár": "327,75954198473283"
                                },
                                {
                                    "TERMEKKOD": "N029-AL212",
                                    "átlagos ár": "30919,03209109731"
                                },
                                {
                                    "TERMEKKOD": "05010369T",
                                    "átlagos ár": "124,84962406015038"
                                },
                                {
                                    "TERMEKKOD": "06080416T",
                                    "átlagos ár": "32,05555555555556"
                                },
                                {
                                    "TERMEKKOD": "07030108T",
                                    "átlagos ár": "13,326359832635983"
                                },
                                {
                                    "TERMEKKOD": "07050463T",
                                    "átlagos ár": "34,70866141732284"
                                },
                                {
                                    "TERMEKKOD": "02040405T",
                                    "átlagos ár": "42,48401826484018"
                                },
                                {
                                    "TERMEKKOD": "04030262T",
                                    "átlagos ár": "54,09411764705882"
                                },
                                {
                                    "TERMEKKOD": "04050035T",
                                    "átlagos ár": "23,033333333333335"
                                },
                                {
                                    "TERMEKKOD": "02080431T",
                                    "átlagos ár": "207,04347826086956"
                                },
                                {
                                    "TERMEKKOD": "07010136T",
                                    "átlagos ár": "118,88321167883211"
                                },
                                {
                                    "TERMEKKOD": "06040356T",
                                    "átlagos ár": "138,7832699619772"
                                },
                                {
                                    "TERMEKKOD": "06080124T",
                                    "átlagos ár": "491,6292134831461"
                                },
                                {
                                    "TERMEKKOD": "06040399T",
                                    "átlagos ár": "120,74358974358974"
                                },
                                {
                                    "TERMEKKOD": "02060448T",
                                    "átlagos ár": "1111,7233201581028"
                                },
                                {
                                    "TERMEKKOD": "04030288T",
                                    "átlagos ár": "2,6278195488721803"
                                },
                                {
                                    "TERMEKKOD": "G038-FE316",
                                    "átlagos ár": "958,6645768025078"
                                },
                                {
                                    "TERMEKKOD": "02080434T",
                                    "átlagos ár": "202,79661016949152"
                                },
                                {
                                    "TERMEKKOD": "03080003T",
                                    "átlagos ár": "179"
                                },
                                {
                                    "TERMEKKOD": "07040101T",
                                    "átlagos ár": "136,15416666666667"
                                },
                                {
                                    "TERMEKKOD": "06040397T",
                                    "átlagos ár": "633,978102189781"
                                },
                                {
                                    "TERMEKKOD": "07040218T",
                                    "átlagos ár": "22,065573770491802"
                                },
                                {
                                    "TERMEKKOD": "04110066T",
                                    "átlagos ár": "25,053333333333335"
                                },
                                {
                                    "TERMEKKOD": "02080453T",
                                    "átlagos ár": "511,5483870967742"
                                },
                                {
                                    "TERMEKKOD": "06080429T",
                                    "átlagos ár": "60,87022900763359"
                                },
                                {
                                    "TERMEKKOD": "02020029T",
                                    "átlagos ár": "111,55984555984556"
                                },
                                {
                                    "TERMEKKOD": "06050301T",
                                    "átlagos ár": "128,27681660899654"
                                }
                            ]
                        },
                        "text/html": [
                            "<table>",
                            "<tr><th>TERMEKKOD</th><th>átlagos ár</th></tr>",
                            "<tr><td>07040169T</td><td>91,5136186770428</td></tr>",
                            "<tr><td>07040165T</td><td>210,9277566539924</td></tr>",
                            "<tr><td>06080407T</td><td>239,92578125</td></tr>",
                            "<tr><td>01030092T</td><td>57,08791208791209</td></tr>",
                            "<tr><td>04050024T</td><td>139,04803493449782</td></tr>",
                            "<tr><td>04050171T</td><td>106,868</td></tr>",
                            "<tr><td>07080152T</td><td>988,7209302325581</td></tr>",
                            "<tr><td>G064-CI401</td><td>6679,732905982906</td></tr>",
                            "<tr><td>06040248T</td><td>235,79715302491104</td></tr>",
                            "<tr><td>06080332T</td><td>71,62608695652175</td></tr>",
                            "<tr><td>04050358T</td><td>344,2142857142857</td></tr>",
                            "<tr><td>01100070T</td><td>70,37184115523466</td></tr>",
                            "<tr><td>02020037T</td><td>139,28205128205127</td></tr>",
                            "<tr><td>06040323T</td><td>34,52238805970149</td></tr>",
                            "<tr><td>06080118T</td><td>7,6929460580912865</td></tr>",
                            "<tr><td>03080011T</td><td>143,87313432835822</td></tr>",
                            "<tr><td>06010377T</td><td>7,63677130044843</td></tr>",
                            "<tr><td>07080159T</td><td>60,968503937007874</td></tr>",
                            "<tr><td>06040247T</td><td>28,970479704797047</td></tr>",
                            "<tr><td>02020033T</td><td>318,4135338345865</td></tr>",
                            "<tr><td>02040298T</td><td>42,49612403100775</td></tr>",
                            "<tr><td>06080190T</td><td>21,988095238095237</td></tr>",
                            "<tr><td>05010027T</td><td>207,20158102766797</td></tr>",
                            "<tr><td>08070492T</td><td>711,6109090909091</td></tr>",
                            "<tr><td>07040129T</td><td>28,937956204379564</td></tr>",
                            "<tr><td>04110067T</td><td>29,95</td></tr>",
                            "<tr><td>04110278T</td><td>155,79007633587787</td></tr>",
                            "<tr><td>06040350T</td><td>247,3230769230769</td></tr>",
                            "<tr><td>04110280T</td><td>143,04615384615386</td></tr>",
                            "<tr><td>02080432T</td><td>250,34117647058824</td></tr>",
                            "<tr><td>07050464T</td><td>135,85887096774192</td></tr>",
                            "<tr><td>07080156T</td><td>21,970149253731343</td></tr>",
                            "<tr><td>02040208T</td><td>18,275590551181104</td></tr>",
                            "<tr><td>01020299T</td><td>46,340080971659916</td></tr>",
                            "<tr><td>08070481T</td><td>192,04562737642587</td></tr>",
                            "<tr><td>02040211T</td><td>235,04182509505702</td></tr>",
                            "<tr><td>06040392T</td><td>699,3219696969697</td></tr>",
                            "<tr><td>06080337T</td><td>283,23846153846154</td></tr>",
                            "<tr><td>N001-KB101</td><td>23248,893203883494</td></tr>",
                            "<tr><td>07080319T</td><td>288,6069868995633</td></tr>",
                            "<tr><td>06040355T</td><td>150,3941908713693</td></tr>",
                            "<tr><td>03010342T</td><td>14,281481481481482</td></tr>",
                            "<tr><td>07040168T</td><td>182,97909407665506</td></tr>",
                            "<tr><td>06050249T</td><td>70,45991561181435</td></tr>",
                            "<tr><td>04020445T</td><td>701,5177865612649</td></tr>",
                            "<tr><td>N035-AL218</td><td>37704,19693654267</td></tr>",
                            "<tr><td>02050460T</td><td>14,290566037735848</td></tr>",
                            "<tr><td>07010244T</td><td>71,61363636363636</td></tr>",
                            "<tr><td>02080449T</td><td>99,80933852140078</td></tr>",
                            "<tr><td>06080408T</td><td>202,24</td></tr>",
                            "<tr><td>06080422T</td><td>314,14760147601476</td></tr>",
                            "<tr><td>05050045T</td><td>44,29596412556054</td></tr>",
                            "<tr><td>04050320T</td><td>167,57039711191337</td></tr>",
                            "<tr><td>06040395T</td><td>703,6612244897959</td></tr>",
                            "<tr><td>01100094T</td><td>817,4391143911439</td></tr>",
                            "<tr><td>06010113T</td><td>32,59288537549407</td></tr>",
                            "<tr><td>06040172T</td><td>189,3658536585366</td></tr>",
                            "<tr><td>03080009T</td><td>143,75451263537906</td></tr>",
                            "<tr><td>06010115T</td><td>46,18867924528302</td></tr>",
                            "<tr><td>01100095T</td><td>705,7581967213115</td></tr>",
                            "<tr><td>02040207T</td><td>18,288537549407113</td></tr>",
                            "<tr><td>07040128T</td><td>53,142361111111114</td></tr>",
                            "<tr><td>07040047T</td><td>37,69527896995708</td></tr>",
                            "<tr><td>06040393T</td><td>741,8363636363637</td></tr>",
                            "<tr><td>08070488T</td><td>389,7548638132296</td></tr>",
                            "<tr><td>07010141T</td><td>14,32295719844358</td></tr>",
                            "<tr><td>06040351T</td><td>196,22426470588235</td></tr>",
                            "<tr><td>02040406T</td><td>32,63076923076923</td></tr>",
                            "<tr><td>06080126T</td><td>196,1037037037037</td></tr>",
                            "<tr><td>03080016T</td><td>106,12403100775194</td></tr>",
                            "<tr><td>07010371T</td><td>96,21428571428571</td></tr>",
                            "<tr><td>08070489T</td><td>843,981684981685</td></tr>",
                            "<tr><td>02040209T</td><td>42,63529411764706</td></tr>",
                            "<tr><td>L013-NA201</td><td>4812,352570828961</td></tr>",
                            "<tr><td>06080191T</td><td>28,894117647058824</td></tr>",
                            "<tr><td>02080435T</td><td>178,04330708661416</td></tr>",
                            "<tr><td>08070476T</td><td>284,49027237354085</td></tr>",
                            "<tr><td>06080415T</td><td>28,853658536585368</td></tr>",
                            "<tr><td>06050303T</td><td>155,87179487179486</td></tr>",
                            "<tr><td>03050078T</td><td>14,36036036036036</td></tr>",
                            "<tr><td>06040182T</td><td>178,45982142857142</td></tr>",
                            "<tr><td>05040310T</td><td>99,7579908675799</td></tr>",
                            "<tr><td>06080120T</td><td>21,890566037735848</td></tr>",
                            "<tr><td>06080413T</td><td>29,09881422924901</td></tr>",
                            "<tr><td>08070493T</td><td>698,076124567474</td></tr>",
                            "<tr><td>03080010T</td><td>200,47577092511014</td></tr>",
                            "<tr><td>04030260T</td><td>14,354581673306773</td></tr>",
                            "<tr><td>08070472T</td><td>1054,2952029520295</td></tr>",
                            "<tr><td>07030107T</td><td>267,23809523809524</td></tr>",
                            "<tr><td>08070478T</td><td>759,6308724832214</td></tr>",
                            "<tr><td>01020300T</td><td>53,22834645669291</td></tr>",
                            "<tr><td>07040391T</td><td>77,47826086956522</td></tr>",
                            "<tr><td>01040307T</td><td>14,360655737704919</td></tr>",
                            "<tr><td>06080417T</td><td>19,286821705426355</td></tr>",
                            "<tr><td>07080470T</td><td>181,93023255813952</td></tr>",
                            "<tr><td>08070483T</td><td>311,9012345679012</td></tr>",
                            "<tr><td>04050224T</td><td>46,285198555956676</td></tr>",
                            "<tr><td>02040297T</td><td>99,95652173913044</td></tr>",
                            "<tr><td>06040347T</td><td>26,821428571428573</td></tr>",
                            "<tr><td>02040194T</td><td>765,086274509804</td></tr>",
                            "<tr><td>02080456T</td><td>85,91732283464567</td></tr>",
                            "<tr><td>05050170T</td><td>18,31726907630522</td></tr>",
                            "<tr><td>07040388T</td><td>8,625</td></tr>",
                            "<tr><td>07080158T</td><td>748,6782006920415</td></tr>",
                            "<tr><td>04050223T</td><td>70,63380281690141</td></tr>",
                            "<tr><td>04110274T</td><td>47,17991631799163</td></tr>",
                            "<tr><td>06040357T</td><td>85,85818181818182</td></tr>",
                            "<tr><td>02040198T</td><td>128,98373983739836</td></tr>",
                            "<tr><td>07080420T</td><td>155,75</td></tr>",
                            "<tr><td>04050203T</td><td>22,927710843373493</td></tr>",
                            "<tr><td>02040176T</td><td>17,295019157088124</td></tr>",
                            "<tr><td>06080123T</td><td>534,7391304347826</td></tr>",
                            "<tr><td>02020444T</td><td>446,31320754716984</td></tr>",
                            "<tr><td>07040390T</td><td>10,609375</td></tr>",
                            "<tr><td>07080316T</td><td>457,0573476702509</td></tr>",
                            "<tr><td>04050222T</td><td>159,794776119403</td></tr>",
                            "<tr><td>07080063T</td><td>33,552845528455286</td></tr>",
                            "<tr><td>06010376T</td><td>10,652509652509652</td></tr>",
                            "<tr><td>02040308T</td><td>78,12121212121212</td></tr>",
                            "<tr><td>07040060T</td><td>34,66147859922179</td></tr>",
                            "<tr><td>06040212T</td><td>27,969162995594715</td></tr>",
                            "<tr><td>03050458T</td><td>142,90376569037656</td></tr>",
                            "<tr><td>01100504T</td><td>1442,1138211382113</td></tr>",
                            "<tr><td>04050250T</td><td>111,744</td></tr>",
                            "<tr><td>L082-CI419</td><td>7762,027716186253</td></tr>",
                            "<tr><td>06040394T</td><td>312,4870848708487</td></tr>",
                            "<tr><td>07040051T</td><td>37,62450592885376</td></tr>",
                            "<tr><td>06010343T</td><td>413,6618181818182</td></tr>",
                            "<tr><td>04030287T</td><td>21,876288659793815</td></tr>",
                            "<tr><td>04080272T</td><td>349,0405904059041</td></tr>",
                            "<tr><td>02060447T</td><td>1329</td></tr>",
                            "<tr><td>06080424T</td><td>22,931330472103003</td></tr>",
                            "<tr><td>02040200T</td><td>268,4367816091954</td></tr>",
                            "<tr><td>06080409T</td><td>174,1285140562249</td></tr>",
                            "<tr><td>04110228T</td><td>177,5414847161572</td></tr>",
                            "<tr><td>02040148T</td><td>61,09411764705882</td></tr>",
                            "<tr><td>02030043T</td><td>37,63934426229508</td></tr>",
                            "<tr><td>04050075T</td><td>42,56692913385827</td></tr>",
                            "<tr><td>02040199T</td><td>276,7916666666667</td></tr>",
                            "<tr><td>06080430T</td><td>71,97590361445783</td></tr>",
                            "<tr><td>08070494T</td><td>426</td></tr>",
                            "<tr><td>07040055T</td><td>56,666666666666664</td></tr>",
                            "<tr><td>04030235T</td><td>70,64015151515152</td></tr>",
                            "<tr><td>06080188T</td><td>848,7358490566038</td></tr>",
                            "<tr><td>02040002T</td><td>2035,5843137254901</td></tr>",
                            "<tr><td>04110277T</td><td>90,0379746835443</td></tr>",
                            "<tr><td>05110364T</td><td>155,4318181818182</td></tr>",
                            "<tr><td>04030285T</td><td>10,656903765690377</td></tr>",
                            "<tr><td>01010110T</td><td>28,955555555555556</td></tr>",
                            "<tr><td>07040135T</td><td>662,9153225806451</td></tr>",
                            "<tr><td>01080093T</td><td>155,6236559139785</td></tr>",
                            "<tr><td>04080270T</td><td>1712,134328358209</td></tr>",
                            "<tr><td>06080336T</td><td>78,25523012552301</td></tr>",
                            "<tr><td>06040330T</td><td>48,034351145038165</td></tr>",
                            "<tr><td>06080334T</td><td>128,5107913669065</td></tr>",
                            "<tr><td>08070474T</td><td>1057,5172413793102</td></tr>",
                            "<tr><td>01090515T</td><td>10,662698412698413</td></tr>",
                            "<tr><td>07080155T</td><td>30</td></tr>",
                            "<tr><td>07040131T</td><td>82,46268656716418</td></tr>",
                            "<tr><td>06040353T</td><td>7,685185185185185</td></tr>",
                            "<tr><td>02080433T</td><td>53,10699588477366</td></tr>",
                            "<tr><td>07010137T</td><td>46,12015503875969</td></tr>",
                            "<tr><td>03080008T</td><td>99,92622950819673</td></tr>",
                            "<tr><td>04050321T</td><td>155,70982142857142</td></tr>",
                            "<tr><td>06080333T</td><td>115,30364372469636</td></tr>",
                            "<tr><td>03050080T</td><td>78,47517730496453</td></tr>",
                            "<tr><td>04050256T</td><td>124,88571428571429</td></tr>",
                            "<tr><td>06040378T</td><td>86,01214574898785</td></tr>",
                            "<tr><td>04110231T</td><td>77,94814814814815</td></tr>",
                            "<tr><td>07040389T</td><td>346,6565217391304</td></tr>",
                            "<tr><td>07080150T</td><td>49,333333333333336</td></tr>",
                            "<tr><td>06080414T</td><td>29,064</td></tr>",
                            "<tr><td>06010374T</td><td>43,36776859504132</td></tr>",
                            "<tr><td>07080317T</td><td>57</td></tr>",
                            "<tr><td>06040179T</td><td>174,35521235521236</td></tr>",
                            "<tr><td>06050302T</td><td>170,62815884476535</td></tr>",
                            "<tr><td>06080411T</td><td>55,86046511627907</td></tr>",
                            "<tr><td>04080271T</td><td>254,625</td></tr>",
                            "<tr><td>05110359T</td><td>170,62686567164178</td></tr>",
                            "<tr><td>04040090T</td><td>510,18390804597703</td></tr>",
                            "<tr><td>07040127T</td><td>28,923387096774192</td></tr>",
                            "<tr><td>08070485T</td><td>280,37704918032784</td></tr>",
                            "<tr><td>F013-NA207</td><td>11531,08961748634</td></tr>",
                            "<tr><td>07080153T</td><td>39,646153846153844</td></tr>",
                            "<tr><td>03080021T</td><td>21,868852459016395</td></tr>",
                            "<tr><td>02020245T</td><td>99,7063492063492</td></tr>",
                            "<tr><td>04110284T</td><td>162,5639097744361</td></tr>",
                            "<tr><td>07080314T</td><td>128,125</td></tr>",
                            "<tr><td>07080313T</td><td>56,855421686746986</td></tr>",
                            "<tr><td>04030240T</td><td>13,291228070175439</td></tr>",
                            "<tr><td>G013-NA201</td><td>4843,148335015137</td></tr>",
                            "<tr><td>06040385T</td><td>92,85501858736059</td></tr>",
                            "<tr><td>02010028T</td><td>101,98484848484848</td></tr>",
                            "<tr><td>05110363T</td><td>128,40357142857144</td></tr>",
                            "<tr><td>07040167T</td><td>633,4189723320158</td></tr>",
                            "<tr><td>06040381T</td><td>99,52173913043478</td></tr>",
                            "<tr><td>02080109T</td><td>49,045112781954884</td></tr>",
                            "<tr><td>04030242T</td><td>113,98340248962656</td></tr>",
                            "<tr><td>07080064T</td><td>38,917647058823526</td></tr>",
                            "<tr><td>03080006T</td><td>24,97244094488189</td></tr>",
                            "<tr><td>01090499T</td><td>14,264367816091953</td></tr>",
                            "<tr><td>06040246T</td><td>155,70238095238096</td></tr>",
                            "<tr><td>06040352T</td><td>99,95652173913044</td></tr>",
                            "<tr><td>04050254T</td><td>150,1978417266187</td></tr>",
                            "<tr><td>04050267T</td><td>124,43661971830986</td></tr>",
                            "<tr><td>06010036T</td><td>31,968</td></tr>",
                            "<tr><td>04050221T</td><td>128,28521126760563</td></tr>",
                            "<tr><td>05010026T</td><td>113,93385214007782</td></tr>",
                            "<tr><td>07080164T</td><td>224,9891304347826</td></tr>",
                            "<tr><td>06080125T</td><td>398,23664122137404</td></tr>",
                            "<tr><td>04030241T</td><td>42,55421686746988</td></tr>",
                            "<tr><td>06080425T</td><td>7,701492537313433</td></tr>",
                            "<tr><td>03080019T</td><td>54,28235294117647</td></tr>",
                            "<tr><td>07080468T</td><td>106,868</td></tr>",
                            "<tr><td>07030103T</td><td>51,32699619771863</td></tr>",
                            "<tr><td>03080013T</td><td>61,82835820895522</td></tr>",
                            "<tr><td>04030261T</td><td>135,07063197026022</td></tr>",
                            "<tr><td>L019-NA207</td><td>1248,5857923497267</td></tr>",
                            "<tr><td>04050220T</td><td>63,03238866396761</td></tr>",
                            "<tr><td>08070487T</td><td>389,81974248927037</td></tr>",
                            "<tr><td>04110283T</td><td>150,05882352941177</td></tr>",
                            "<tr><td>06080193T</td><td>173,78358208955223</td></tr>",
                            "<tr><td>06010082T</td><td>38,96551724137931</td></tr>",
                            "<tr><td>05050346T</td><td>86,24705882352941</td></tr>",
                            "<tr><td>04110227T</td><td>31,84870848708487</td></tr>",
                            "<tr><td>03050457T</td><td>24,831967213114755</td></tr>",
                            "<tr><td>06080192T</td><td>67,34893617021277</td></tr>",
                            "<tr><td>07080467T</td><td>265,0258620689655</td></tr>",
                            "<tr><td>07040059T</td><td>55,892561983471076</td></tr>",
                            "<tr><td>03080015T</td><td>163,3111111111111</td></tr>",
                            "<tr><td>02080452T</td><td>424,93548387096774</td></tr>",
                            "<tr><td>02080450T</td><td>42,495726495726494</td></tr>",
                            "<tr><td>08070475T</td><td>425,6</td></tr>",
                            "<tr><td>L048-PO218</td><td>3771,4255543822596</td></tr>",
                            "<tr><td>07010138T</td><td>31,95</td></tr>",
                            "<tr><td>07080469T</td><td>352,99636363636364</td></tr>",
                            "<tr><td>06010201T</td><td>34,57575757575758</td></tr>",
                            "<tr><td>06040185T</td><td>562,603305785124</td></tr>",
                            "<tr><td>02040195T</td><td>179,02197802197801</td></tr>",
                            "<tr><td>03080031T</td><td>102,57692307692308</td></tr>",
                            "<tr><td>07030105T</td><td>110,14285714285714</td></tr>",
                            "<tr><td>04110275T</td><td>47,49802371541502</td></tr>",
                            "<tr><td>05080341T</td><td>139,28148148148148</td></tr>",
                            "<tr><td>01090516T</td><td>23,804780876494025</td></tr>",
                            "<tr><td>06040174T</td><td>142,47210300429185</td></tr>",
                            "<tr><td>L064-CI401</td><td>6678,573544973545</td></tr>",
                            "<tr><td>L073-CI410</td><td>7659,825026511135</td></tr>",
                            "<tr><td>07040132T</td><td>53,02281368821293</td></tr>",
                            "<tr><td>07080419T</td><td>63,96992481203007</td></tr>",
                            "<tr><td>05110360T</td><td>113,94296577946768</td></tr>",
                            "<tr><td>07040097T</td><td>24,95703125</td></tr>",
                            "<tr><td>04030243T</td><td>188,1891891891892</td></tr>",
                            "<tr><td>01100503T</td><td>9,676767676767676</td></tr>",
                            "<tr><td>06010366T</td><td>489,52982456140353</td></tr>",
                            "<tr><td>03050459T</td><td>38,42028985507246</td></tr>",
                            "<tr><td>07040134T</td><td>42,75806451612903</td></tr>",
                            "<tr><td>02080226T</td><td>102,26373626373626</td></tr>",
                            "<tr><td>06080427T</td><td>155,11320754716982</td></tr>",
                            "<tr><td>02040404T</td><td>391,3070866141732</td></tr>",
                            "<tr><td>06010085T</td><td>62,73144876325088</td></tr>",
                            "<tr><td>04110276T</td><td>105,52173913043478</td></tr>",
                            "<tr><td>02040177T</td><td>28,95703125</td></tr>",
                            "<tr><td>06080441T</td><td>117,91011235955057</td></tr>",
                            "<tr><td>01090501T</td><td>3,6863636363636365</td></tr>",
                            "<tr><td>06080117T</td><td>9,670370370370371</td></tr>",
                            "<tr><td>05050465T</td><td>38,34782608695652</td></tr>",
                            "<tr><td>06040180T</td><td>220,0080971659919</td></tr>",
                            "<tr><td>G001-KB101</td><td>8562,41695303551</td></tr>",
                            "<tr><td>02080511T</td><td>13767,888</td></tr>",
                            "<tr><td>02040196T</td><td>264,25</td></tr>",
                            "<tr><td>03080020T</td><td>42,645161290322584</td></tr>",
                            "<tr><td>06080122T</td><td>18,271966527196653</td></tr>",
                            "<tr><td>05040349T</td><td>60,6986301369863</td></tr>",
                            "<tr><td>06080412T</td><td>29,078740157480315</td></tr>",
                            "<tr><td>07010142T</td><td>219,9609375</td></tr>",
                            "<tr><td>06040186T</td><td>677,4269662921348</td></tr>",
                            "<tr><td>06040184T</td><td>212,13654618473896</td></tr>",
                            "<tr><td>06010368T</td><td>58,94795539033457</td></tr>",
                            "<tr><td>07040048T</td><td>53,58</td></tr>",
                            "<tr><td>04110362T</td><td>176,88537549407116</td></tr>",
                            "<tr><td>07050462T</td><td>476,8142292490119</td></tr>",
                            "<tr><td>06010084T</td><td>57,54863813229572</td></tr>",
                            "<tr><td>06010365T</td><td>34,61654135338346</td></tr>",
                            "<tr><td>02030041T</td><td>5,64367816091954</td></tr>",
                            "<tr><td>06040213T</td><td>32,61666666666667</td></tr>",
                            "<tr><td>04110230T</td><td>53,16326530612245</td></tr>",
                            "<tr><td>02060038T</td><td>756,0481927710844</td></tr>",
                            "<tr><td>04110232T</td><td>49,09055118110236</td></tr>",
                            "<tr><td>04050255T</td><td>34,661596958174904</td></tr>",
                            "<tr><td>G082-CI419</td><td>7721,7667020148465</td></tr>",
                            "<tr><td>06010083T</td><td>32,014134275618375</td></tr>",
                            "<tr><td>04030236T</td><td>14,290076335877863</td></tr>",
                            "<tr><td>04040387T</td><td>78,0909090909091</td></tr>",
                            "<tr><td>01080513T</td><td>36,44368600682594</td></tr>",
                            "<tr><td>05010370T</td><td>85,90322580645162</td></tr>",
                            "<tr><td>07040217T</td><td>57,037593984962406</td></tr>",
                            "<tr><td>04110233T</td><td>85,91519434628975</td></tr>",
                            "<tr><td>01100505T</td><td>660,65234375</td></tr>",
                            "<tr><td>01100497T</td><td>13,298507462686567</td></tr>",
                            "<tr><td>06010114T</td><td>28,842323651452283</td></tr>",
                            "<tr><td>07040049T</td><td>38,516666666666666</td></tr>",
                            "<tr><td>03080005T</td><td>280,76</td></tr>",
                            "<tr><td>06040354T</td><td>200,2377049180328</td></tr>",
                            "<tr><td>04110281T</td><td>170,14074074074074</td></tr>",
                            "<tr><td>07080065T</td><td>10,647272727272727</td></tr>",
                            "<tr><td>06040175T</td><td>184,03225806451613</td></tr>",
                            "<tr><td>F001-KB101</td><td>21315,175097276264</td></tr>",
                            "<tr><td>03080030T</td><td>213,12252964426878</td></tr>",
                            "<tr><td>06010111T</td><td>66,00380228136882</td></tr>",
                            "<tr><td>08070480T</td><td>298,48854961832063</td></tr>",
                            "<tr><td>07080162T</td><td>97,4</td></tr>",
                            "<tr><td>06040089T</td><td>4,639004149377594</td></tr>",
                            "<tr><td>05080340T</td><td>138,8953068592058</td></tr>",
                            "<tr><td>03010345T</td><td>160,06949806949808</td></tr>",
                            "<tr><td>02080069T</td><td>28,906976744186046</td></tr>",
                            "<tr><td>02040296T</td><td>53,92727272727273</td></tr>",
                            "<tr><td>06040324T</td><td>86,57</td></tr>",
                            "<tr><td>03080437T</td><td>178,80756013745705</td></tr>",
                            "<tr><td>06010305T</td><td>8,689922480620154</td></tr>",
                            "<tr><td>02040197T</td><td>78,29692832764505</td></tr>",
                            "<tr><td>02030042T</td><td>2,6979591836734693</td></tr>",
                            "<tr><td>01100496T</td><td>1451,2648221343873</td></tr>",
                            "<tr><td>L041-AL211</td><td>16302,381420765027</td></tr>",
                            "<tr><td>04050023T</td><td>138,97826086956522</td></tr>",
                            "<tr><td>07040053T</td><td>22,03914590747331</td></tr>",
                            "<tr><td>06040087T</td><td>76,04417670682732</td></tr>",
                            "<tr><td>02060039T</td><td>632,8571428571429</td></tr>",
                            "<tr><td>06010375T</td><td>23</td></tr>",
                            "<tr><td>01040502T</td><td>23,910112359550563</td></tr>",
                            "<tr><td>04030265T</td><td>100,38970588235294</td></tr>",
                            "<tr><td>02040294T</td><td>99,34408602150538</td></tr>",
                            "<tr><td>06040327T</td><td>34,44015444015444</td></tr>",
                            "<tr><td>02040145T</td><td>28,84790874524715</td></tr>",
                            "<tr><td>06080440T</td><td>155,0983606557377</td></tr>",
                            "<tr><td>06040328T</td><td>42,58657243816254</td></tr>",
                            "<tr><td>05110361T</td><td>169,14084507042253</td></tr>",
                            "<tr><td>06010373T</td><td>41,568093385214006</td></tr>",
                            "<tr><td>04110273T</td><td>53,194945848375454</td></tr>",
                            "<tr><td>07040100T</td><td>378,40909090909093</td></tr>",
                            "<tr><td>04110068T</td><td>19,32</td></tr>",
                            "<tr><td>04030289T</td><td>14,349794238683128</td></tr>",
                            "<tr><td>06040386T</td><td>46,24701195219124</td></tr>",
                            "<tr><td>07080418T</td><td>91,97540983606558</td></tr>",
                            "<tr><td>08070490T</td><td>671,3806228373702</td></tr>",
                            "<tr><td>06040326T</td><td>18,304659498207887</td></tr>",
                            "<tr><td>04110229T</td><td>31,932806324110672</td></tr>",
                            "<tr><td>06080339T</td><td>85,7673469387755</td></tr>",
                            "<tr><td>04030286T</td><td>42,628158844765345</td></tr>",
                            "<tr><td>07040102T</td><td>44,470790378006875</td></tr>",
                            "<tr><td>L033-FE311</td><td>960,3351177730193</td></tr>",
                            "<tr><td>07040057T</td><td>102,33962264150944</td></tr>",
                            "<tr><td>02080454T</td><td>737,1161825726141</td></tr>",
                            "<tr><td>L029-FE307</td><td>232,1922268907563</td></tr>",
                            "<tr><td>01090517T</td><td>3,623481781376518</td></tr>",
                            "<tr><td>04050269T</td><td>10,644194756554308</td></tr>",
                            "<tr><td>05010306T</td><td>19,338078291814945</td></tr>",
                            "<tr><td>06040183T</td><td>92</td></tr>",
                            "<tr><td>04080442T</td><td>305,30980392156863</td></tr>",
                            "<tr><td>07080161T</td><td>42,5239852398524</td></tr>",
                            "<tr><td>06010367T</td><td>33,69803921568627</td></tr>",
                            "<tr><td>03010344T</td><td>60,657992565055764</td></tr>",
                            "<tr><td>06080338T</td><td>97,48148148148148</td></tr>",
                            "<tr><td>04050252T</td><td>119,98529411764706</td></tr>",
                            "<tr><td>04050251T</td><td>142,93726937269372</td></tr>",
                            "<tr><td>06040396T</td><td>397,0143884892086</td></tr>",
                            "<tr><td>05050046T</td><td>70,66666666666667</td></tr>",
                            "<tr><td>04080443T</td><td>434,5568181818182</td></tr>",
                            "<tr><td>06040331T</td><td>47,125</td></tr>",
                            "<tr><td>06010202T</td><td>21,895306859205775</td></tr>",
                            "<tr><td>02040507T</td><td>38,752851711026615</td></tr>",
                            "<tr><td>04050204T</td><td>163,1576763485477</td></tr>",
                            "<tr><td>04050187T</td><td>64,29230769230769</td></tr>",
                            "<tr><td>02040146T</td><td>46,21011673151751</td></tr>",
                            "<tr><td>02040147T</td><td>7,670634920634921</td></tr>",
                            "<tr><td>07080318T</td><td>227,00749063670412</td></tr>",
                            "<tr><td>06040384T</td><td>55,724137931034484</td></tr>",
                            "<tr><td>06040379T</td><td>90,24242424242425</td></tr>",
                            "<tr><td>02040403T</td><td>1312,860465116279</td></tr>",
                            "<tr><td>02040295T</td><td>85,484375</td></tr>",
                            "<tr><td>03080007T</td><td>199,95454545454547</td></tr>",
                            "<tr><td>01100072T</td><td>8,683018867924527</td></tr>",
                            "<tr><td>03080438T</td><td>205,699604743083</td></tr>",
                            "<tr><td>03080439T</td><td>109,6468085106383</td></tr>",
                            "<tr><td>01100509T</td><td>38,646153846153844</td></tr>",
                            "<tr><td>08070482T</td><td>183,71428571428572</td></tr>",
                            "<tr><td>07080151T</td><td>377,56626506024094</td></tr>",
                            "<tr><td>06040400T</td><td>495,0866141732283</td></tr>",
                            "<tr><td>07080160T</td><td>230,62277580071174</td></tr>",
                            "<tr><td>N039-AL222</td><td>44523,24332648871</td></tr>",
                            "<tr><td>U001-KI501</td><td>1923,7253599114065</td></tr>",
                            "<tr><td>02040206T</td><td>77,97777777777777</td></tr>",
                            "<tr><td>06010112T</td><td>74,96551724137932</td></tr>",
                            "<tr><td>04030263T</td><td>85,17408906882591</td></tr>",
                            "<tr><td>07010143T</td><td>75,08108108108108</td></tr>",
                            "<tr><td>06040383T</td><td>18,224489795918366</td></tr>",
                            "<tr><td>07080062T</td><td>141,25714285714287</td></tr>",
                            "<tr><td>02080436T</td><td>63,62307692307692</td></tr>",
                            "<tr><td>07040130T</td><td>77,4943396226415</td></tr>",
                            "<tr><td>08070484T</td><td>334,9076923076923</td></tr>",
                            "<tr><td>04050322T</td><td>303,798418972332</td></tr>",
                            "<tr><td>03080012T</td><td>120,86516853932584</td></tr>",
                            "<tr><td>03080004T</td><td>18,35408560311284</td></tr>",
                            "<tr><td>04050253T</td><td>99,76579925650557</td></tr>",
                            "<tr><td>06080189T</td><td>28,888030888030887</td></tr>",
                            "<tr><td>02040508T</td><td>42,56066945606695</td></tr>",
                            "<tr><td>06040380T</td><td>74,70769230769231</td></tr>",
                            "<tr><td>G019-NA207</td><td>1249,7958515283842</td></tr>",
                            "<tr><td>01010001T</td><td>331,93939393939394</td></tr>",
                            "<tr><td>08070495T</td><td>425,7039711191336</td></tr>",
                            "<tr><td>06080121T</td><td>189,80632411067194</td></tr>",
                            "<tr><td>06040382T</td><td>613,28</td></tr>",
                            "<tr><td>02080451T</td><td>99,67953667953668</td></tr>",
                            "<tr><td>03080014T</td><td>78,44</td></tr>",
                            "<tr><td>05040348T</td><td>102,59003831417624</td></tr>",
                            "<tr><td>03050077T</td><td>42,64638783269962</td></tr>",
                            "<tr><td>N019-FE301</td><td>669,1304347826087</td></tr>",
                            "<tr><td>07010140T</td><td>21,88888888888889</td></tr>",
                            "<tr><td>03050076T</td><td>24,903614457831324</td></tr>",
                            "<tr><td>02040178T</td><td>33,8433734939759</td></tr>",
                            "<tr><td>07080163T</td><td>222,76666666666668</td></tr>",
                            "<tr><td>04030266T</td><td>162,8988326848249</td></tr>",
                            "<tr><td>06040398T</td><td>397,8191881918819</td></tr>",
                            "<tr><td>07040061T</td><td>42,65769230769231</td></tr>",
                            "<tr><td>02030044T</td><td>14,261044176706827</td></tr>",
                            "<tr><td>01090500T</td><td>13,324786324786325</td></tr>",
                            "<tr><td>03080017T</td><td>143,10917030567686</td></tr>",
                            "<tr><td>02060034T</td><td>287,00787401574803</td></tr>",
                            "<tr><td>07080154T</td><td>387,73306772908364</td></tr>",
                            "<tr><td>01100510T</td><td>12,184549356223176</td></tr>",
                            "<tr><td>07080312T</td><td>120,51181102362204</td></tr>",
                            "<tr><td>07010144T</td><td>85,64285714285714</td></tr>",
                            "<tr><td>04030264T</td><td>71,29674796747967</td></tr>",
                            "<tr><td>G023-FE301</td><td>377,6430084745763</td></tr>",
                            "<tr><td>07080421T</td><td>220,19762845849803</td></tr>",
                            "<tr><td>06080426T</td><td>156,18867924528303</td></tr>",
                            "<tr><td>02040293T</td><td>299,64285714285717</td></tr>",
                            "<tr><td>02080514T</td><td>43,273092369477915</td></tr>",
                            "<tr><td>04050268T</td><td>14,237735849056603</td></tr>",
                            "<tr><td>02040291T</td><td>14,354581673306773</td></tr>",
                            "<tr><td>06040173T</td><td>203,66409266409266</td></tr>",
                            "<tr><td>01080512T</td><td>4443,7148288973385</td></tr>",
                            "<tr><td>07040219T</td><td>75,2116182572614</td></tr>",
                            "<tr><td>01030091T</td><td>24,841911764705884</td></tr>",
                            "<tr><td>01090498T</td><td>2,676470588235294</td></tr>",
                            "<tr><td>07040056T</td><td>38,74716981132075</td></tr>",
                            "<tr><td>02030040T</td><td>5,633962264150943</td></tr>",
                            "<tr><td>07040058T</td><td>10,627737226277372</td></tr>",
                            "<tr><td>07040099T</td><td>420,03921568627453</td></tr>",
                            "<tr><td>08070479T</td><td>653,8792452830189</td></tr>",
                            "<tr><td>G041-AL211</td><td>16349,633187772926</td></tr>",
                            "<tr><td>06040181T</td><td>7,676691729323308</td></tr>",
                            "<tr><td>07030104T</td><td>73,99180327868852</td></tr>",
                            "<tr><td>06040088T</td><td>49,29044117647059</td></tr>",
                            "<tr><td>03050079T</td><td>14,305439330543933</td></tr>",
                            "<tr><td>02020032T</td><td>128,55755395683454</td></tr>",
                            "<tr><td>06080428T</td><td>173,71320754716982</td></tr>",
                            "<tr><td>04050022T</td><td>85,74615384615385</td></tr>",
                            "<tr><td>07040052T</td><td>51,38056680161943</td></tr>",
                            "<tr><td>06040325T</td><td>38,721311475409834</td></tr>",
                            "<tr><td>02040402T</td><td>277,4032258064516</td></tr>",
                            "<tr><td>07080157T</td><td>90,11498257839722</td></tr>",
                            "<tr><td>04110258T</td><td>70,44705882352942</td></tr>",
                            "<tr><td>06080116T</td><td>32,55555555555556</td></tr>",
                            "<tr><td>N008-NA201</td><td>8013,2893081761</td></tr>",
                            "<tr><td>02080455T</td><td>607,496062992126</td></tr>",
                            "<tr><td>06080335T</td><td>106,0342205323194</td></tr>",
                            "<tr><td>08070486T</td><td>389,24778761061947</td></tr>",
                            "<tr><td>06080423T</td><td>220,83132530120483</td></tr>",
                            "<tr><td>F021-IN215</td><td>6287,779107725789</td></tr>",
                            "<tr><td>04030237T</td><td>34,69964664310954</td></tr>",
                            "<tr><td>02040214T</td><td>57,0817843866171</td></tr>",
                            "<tr><td>04030238T</td><td>57,01556420233463</td></tr>",
                            "<tr><td>06040329T</td><td>42,763636363636365</td></tr>",
                            "<tr><td>02040290T</td><td>86,02158273381295</td></tr>",
                            "<tr><td>07080466T</td><td>78,56133828996282</td></tr>",
                            "<tr><td>01100071T</td><td>86,14634146341463</td></tr>",
                            "<tr><td>07030106T</td><td>99,25954198473282</td></tr>",
                            "<tr><td>02040025T</td><td>128,42045454545453</td></tr>",
                            "<tr><td>07040257T</td><td>419,44117647058823</td></tr>",
                            "<tr><td>04030239T</td><td>46,148148148148145</td></tr>",
                            "<tr><td>02040506T</td><td>42,46875</td></tr>",
                            "<tr><td>08070477T</td><td>343,4154411764706</td></tr>",
                            "<tr><td>02040309T</td><td>89,5</td></tr>",
                            "<tr><td>01100096T</td><td>703,9181494661922</td></tr>",
                            "<tr><td>03080018T</td><td>117,24904214559388</td></tr>",
                            "<tr><td>07040216T</td><td>34,53815261044177</td></tr>",
                            "<tr><td>04110282T</td><td>53,93103448275862</td></tr>",
                            "<tr><td>08070473T</td><td>1053,9375</td></tr>",
                            "<tr><td>02040210T</td><td>86</td></tr>",
                            "<tr><td>G073-CI410</td><td>7645,82626680455</td></tr>",
                            "<tr><td>04050073T</td><td>58,888888888888886</td></tr>",
                            "<tr><td>06080410T</td><td>171,0207468879668</td></tr>",
                            "<tr><td>06040446T</td><td>1136,63671875</td></tr>",
                            "<tr><td>02050461T</td><td>17,21285140562249</td></tr>",
                            "<tr><td>F007-NA201</td><td>7629,643979057591</td></tr>",
                            "<tr><td>07040054T</td><td>53,232142857142854</td></tr>",
                            "<tr><td>07040050T</td><td>28,914396887159533</td></tr>",
                            "<tr><td>G048-PO218</td><td>3765,350052246604</td></tr>",
                            "<tr><td>L001-KB101</td><td>8603,08510638298</td></tr>",
                            "<tr><td>G029-FE307</td><td>231,96954314720813</td></tr>",
                            "<tr><td>02040149T</td><td>106,36</td></tr>",
                            "<tr><td>07040098T</td><td>269,8810408921933</td></tr>",
                            "<tr><td>02040292T</td><td>75,344</td></tr>",
                            "<tr><td>07010372T</td><td>156,26970954356847</td></tr>",
                            "<tr><td>01010304T</td><td>57,23673469387755</td></tr>",
                            "<tr><td>04030234T</td><td>28,870722433460077</td></tr>",
                            "<tr><td>08070491T</td><td>206,93286219081273</td></tr>",
                            "<tr><td>07080471T</td><td>284,3898305084746</td></tr>",
                            "<tr><td>02080081T</td><td>128,22545454545454</td></tr>",
                            "<tr><td>07080311T</td><td>267,13178294573646</td></tr>",
                            "<tr><td>04050074T</td><td>63,93675889328063</td></tr>",
                            "<tr><td>04050225T</td><td>126,92277992277992</td></tr>",
                            "<tr><td>06080259T</td><td>156,22448979591837</td></tr>",
                            "<tr><td>07040133T</td><td>37,6865671641791</td></tr>",
                            "<tr><td>07010139T</td><td>87,74538745387454</td></tr>",
                            "<tr><td>L023-FE301</td><td>376,96177062374244</td></tr>",
                            "<tr><td>06010086T</td><td>34,59504132231405</td></tr>",
                            "<tr><td>04110279T</td><td>163,2301886792453</td></tr>",
                            "<tr><td>07040166T</td><td>438,8072289156627</td></tr>",
                            "<tr><td>07040215T</td><td>71,54581673306772</td></tr>",
                            "<tr><td>07080315T</td><td>91,28235294117647</td></tr>",
                            "<tr><td>02040401T</td><td>327,75954198473283</td></tr>",
                            "<tr><td>N029-AL212</td><td>30919,03209109731</td></tr>",
                            "<tr><td>05010369T</td><td>124,84962406015038</td></tr>",
                            "<tr><td>06080416T</td><td>32,05555555555556</td></tr>",
                            "<tr><td>07030108T</td><td>13,326359832635983</td></tr>",
                            "<tr><td>07050463T</td><td>34,70866141732284</td></tr>",
                            "<tr><td>02040405T</td><td>42,48401826484018</td></tr>",
                            "<tr><td>04030262T</td><td>54,09411764705882</td></tr>",
                            "<tr><td>04050035T</td><td>23,033333333333335</td></tr>",
                            "<tr><td>02080431T</td><td>207,04347826086956</td></tr>",
                            "<tr><td>07010136T</td><td>118,88321167883211</td></tr>",
                            "<tr><td>06040356T</td><td>138,7832699619772</td></tr>",
                            "<tr><td>06080124T</td><td>491,6292134831461</td></tr>",
                            "<tr><td>06040399T</td><td>120,74358974358974</td></tr>",
                            "<tr><td>02060448T</td><td>1111,7233201581028</td></tr>",
                            "<tr><td>04030288T</td><td>2,6278195488721803</td></tr>",
                            "<tr><td>G038-FE316</td><td>958,6645768025078</td></tr>",
                            "<tr><td>02080434T</td><td>202,79661016949152</td></tr>",
                            "<tr><td>03080003T</td><td>179</td></tr>",
                            "<tr><td>07040101T</td><td>136,15416666666667</td></tr>",
                            "<tr><td>06040397T</td><td>633,978102189781</td></tr>",
                            "<tr><td>07040218T</td><td>22,065573770491802</td></tr>",
                            "<tr><td>04110066T</td><td>25,053333333333335</td></tr>",
                            "<tr><td>02080453T</td><td>511,5483870967742</td></tr>",
                            "<tr><td>06080429T</td><td>60,87022900763359</td></tr>",
                            "<tr><td>02020029T</td><td>111,55984555984556</td></tr>",
                            "<tr><td>06050301T</td><td>128,27681660899654</td></tr>",
                            "</table>"
                        ]
                    }
                }
            ],
            "execution_count": 33
        },
        {
            "cell_type": "code",
            "source": [
                "Alakítsa át a melléklet 2. pontjában lévő lekérdezést úgy, hogy mindkét (INNER) JOIN részbe sorra beilleszti a tanult JOIN HINT-eket (először mindkét helyre MERGE, majd HASH, utána LOOP, végül REMOTE).\r\n",
                "a. Melyik hint használata adja a legjobb megoldást?\r\n",
                "b. Mi lesz ezt a hint-et tartalmazó lekérdezés kódja?"
            ],
            "metadata": {
                "language": "sql",
                "azdata_cell_guid": "10a9ca41-eb15-4a51-a1e7-6fc7648d6afe"
            },
            "outputs": [],
            "execution_count": null
        },
        {
            "cell_type": "code",
            "source": [
                "select rt.*, u.nev, SUM(rt.mennyiseg*rt.EGYSEGAR) over(Partiotion by r.LOGIN order by rt.SORSZAM, TERMEKKOD range between unbounded preceding and current row) as \"Eddigi rendelési tátelek összértéke\" from Rendeles_tetel rt INNER MERGE JOIN Rendeles r on rt.SORSZAM=r.SORSZAM GROUP by rt.SORSZAM\r\n",
                "--hibas nem tudtam befejezni"
            ],
            "metadata": {
                "language": "sql",
                "azdata_cell_guid": "8fa04400-0bf6-4d88-bb4b-bd5cf6c9658c"
            },
            "outputs": [
                {
                    "output_type": "error",
                    "evalue": "Msg 102, Level 15, State 1, Line 1\r\nIncorrect syntax near 'Partiotion'.",
                    "ename": "",
                    "traceback": []
                },
                {
                    "output_type": "display_data",
                    "data": {
                        "text/html": "Total execution time: 00:00:00.154"
                    },
                    "metadata": {}
                }
            ],
            "execution_count": 34
        },
        {
            "cell_type": "code",
            "source": [
                ""
            ],
            "metadata": {
                "language": "sql",
                "azdata_cell_guid": "a6578e31-bc77-47cf-bea2-9e8563f33341"
            },
            "outputs": [],
            "execution_count": null
        }
    ]
}